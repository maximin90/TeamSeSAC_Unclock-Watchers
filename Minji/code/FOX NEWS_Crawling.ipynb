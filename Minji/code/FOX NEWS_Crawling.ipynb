{
  "cells": [
    {
      "cell_type": "markdown",
      "metadata": {
        "id": "fKv381Y2pEHw"
      },
      "source": [
        "### 기사"
      ]
    },
    {
      "cell_type": "markdown",
      "metadata": {
        "id": "Mr6d8NKTDSUB"
      },
      "source": [
        "#### 기사 태그 확인"
      ]
    },
    {
      "cell_type": "code",
      "execution_count": null,
      "metadata": {
        "colab": {
          "base_uri": "https://localhost:8080/"
        },
        "id": "iHWS3AX9oqRC",
        "outputId": "cda125d2-522f-4f73-efb6-4a1c718e0fea"
      },
      "outputs": [
        {
          "name": "stdout",
          "output_type": "stream",
          "text": [
            "// API callback\n",
            "__jp0({\n",
            "  \"kind\": \"customsearch#search\",\n",
            "  \"url\": {\n",
            "    \"type\": \"application/json\",\n",
            "    \"template\": \"https://www.googleapis.com/customsearch/v1?q={searchTerms}&num={count?}&start={startIndex?}&lr={language?}&safe={safe?}&cx={cx?}&sort={sort?}&filter={filter?}&gl={gl?}&cr={cr?}&googlehost={googleHost?}&c2coff={disableCnTwTranslation?}&hq={hq?}&hl={hl?}&siteSearch={siteSearch?}&siteSearchFilter={siteSearchFilter?}&exactTerms={exactTerms?}&excludeTerms={excludeTerms?}&linkSite={linkSite?}&orTerms={orTerms?}&relatedSite={relatedSite?}&dateRestrict={dateRestrict?}&lowRange={lowRange?}&highRange={highRange?}&searchType={searchType}&fileType={fileType?}&rights={rights?}&imgSize={imgSize?}&imgType={imgType?}&imgColorType={imgColorType?}&imgDominantColor={imgDominantColor?}&alt=json\"\n",
            "  },\n",
            "  \"queries\": {\n",
            "    \"request\": [\n",
            "      {\n",
            "        \"title\": \"Google Custom Search - interest rate -filetype:amp -filetype:xml more:pagemap:metatags-prism.section\",\n",
            "        \"totalResults\": \"11900\",\n",
            "        \"searchTerms\": \"interest rate -filetype:amp -filetype:xml more:pagemap:metatags-prism.section\",\n",
            "        \"count\": 10,\n",
            "        \"startIndex\": 1,\n",
            "        \"inputEncoding\": \"utf8\",\n",
            "        \"outputEncoding\": \"utf8\",\n",
            "        \"safe\": \"off\",\n",
            "        \"cx\": \"003769057092213018946:z6kystxbbpd\",\n",
            "        \"siteSearch\": \"foxnews.com\",\n",
            "        \"siteSearchFilter\": \"i\"\n",
            "      }\n",
            "    ],\n",
            "    \"nextPage\": [\n",
            "      {\n",
            "        \"title\": \"Google Custom Search - interest rate -filetype:amp -filetype:xml more:pagemap:metatags-prism.section\",\n",
            "        \"totalResults\": \"11900\",\n",
            "        \"searchTerms\": \"interest rate -filetype:amp -filetype:xml more:pagemap:metatags-prism.section\",\n",
            "        \"count\": 10,\n",
            "        \"startIndex\": 11,\n",
            "        \"inputEncoding\": \"utf8\",\n",
            "        \"outputEncoding\": \"utf8\",\n",
            "        \"safe\": \"off\",\n",
            "        \"cx\": \"003769057092213018946:z6kystxbbpd\",\n",
            "        \"siteSearch\": \"foxnews.com\",\n",
            "        \"siteSearchFilter\": \"i\"\n",
            "      }\n",
            "    ]\n",
            "  },\n",
            "  \"context\": {\n",
            "    \"title\": \"Fox News Digital\"\n",
            "  },\n",
            "  \"searchInformation\": {\n",
            "    \"searchTime\": 0.134996,\n",
            "    \"formattedSearchTime\": \"0.13\",\n",
            "    \"totalResults\": \"11900\",\n",
            "    \"formattedTotalResults\": \"11,900\"\n",
            "  },\n",
            "  \"items\": [\n",
            "    {\n",
            "      \"kind\": \"customsearch#result\",\n",
            "      \"title\": \"GOP blasts Warren's call to pause Fed rate hikes: 'Inflation is not an ...\",\n",
            "      \"htmlTitle\": \"GOP blasts Warren&#39;s call to pause Fed \\u003cb\\u003erate\\u003c/b\\u003e hikes: &#39;Inflation is not an ...\",\n",
            "      \"link\": \"https://www.foxnews.com/politics/gop-blasts-warrens-call-pause-fed-rate-hikes-inflation-not-act-god\",\n",
            "      \"displayLink\": \"www.foxnews.com\",\n",
            "      \"snippet\": \"May 2, 2023 ... Sen. Elizabeth Warren led Democrats in a letter Monday to Federal Reserve Chair Jerome Powell, warning him against hiking interest rates ...\",\n",
            "      \"htmlSnippet\": \"May 2, 2023 \\u003cb\\u003e...\\u003c/b\\u003e Sen. Elizabeth Warren led Democrats in a letter Monday to Federal Reserve Chair Jerome Powell, warning him against hiking \\u003cb\\u003einterest rates\\u003c/b\\u003e&nbsp;...\",\n",
            "      \"cacheId\": \"sls2w1E05j0J\",\n",
            "      \"formattedUrl\": \"https://www.foxnews.com/.../gop-blasts-warrens-call-pause-fed-rate-hikes-i...\",\n",
            "      \"htmlFormattedUrl\": \"https://www.foxnews.com/.../gop-blasts-warrens-call-pause-fed-\\u003cb\\u003erate\\u003c/b\\u003e-hikes-i...\",\n",
            "      \"pagemap\": {\n",
            "        \"cse_thumbnail\": [\n",
            "          {\n",
            "            \"src\": \"https://encrypted-tbn0.gstatic.com/images?q=tbn:ANd9GcRIW58g5LWuiPxIrfqJibUPloH4l0uzX9lnzchMypWKLiKUk4brgJzacy9k\",\n",
            "            \"width\": \"300\",\n",
            "            \"height\": \"168\"\n",
            "          }\n",
            "        ],\n",
            "        \"metatags\": [\n",
            "          {\n",
            "            \"pagetype\": \"article\",\n",
            "            \"dc.publisher\": \"Fox News\",\n",
            "            \"og:image\": \"https://static.foxnews.com/foxnews.com/content/uploads/2022/12/elizabeth-warren-senate-banking-committee-ftx-collapse-hearing.jpg\",\n",
            "            \"msapplication-square70x70logo\": \"//static.foxnews.com/static/orion/styles/img/fox-news/favicons/mstile-70x70.png\",\n",
            "            \"twitter:card\": \"summary_large_image\",\n",
            "            \"og:site_name\": \"Fox News\",\n",
            "            \"twitter:url\": \"https://www.foxnews.com/politics/gop-blasts-warrens-call-pause-fed-rate-hikes-inflation-not-act-god\",\n",
            "            \"prism.channel\": \"fnc\",\n",
            "            \"dc.format\": \"text/html\",\n",
            "            \"msapplication-wide310x150logo\": \"//static.foxnews.com/static/orion/styles/img/fox-news/favicons/mstile-310x150.png\",\n",
            "            \"og:description\": \"Sen. Elizabeth Warren led Democrats in a letter Monday to Federal Reserve Chair Jerome Powell, warning him against hiking interest rates again Wednesday.\",\n",
            "            \"twitter:image\": \"https://a57.foxnews.com/static.foxnews.com/foxnews.com/content/uploads/2022/12/1024/512/elizabeth-warren-senate-banking-committee-ftx-collapse-hearing.jpg?ve=1&tl=1\",\n",
            "            \"prism.aggregationtype\": \"subsection\",\n",
            "            \"twitter:site\": \"@foxnews\",\n",
            "            \"dc.type\": \"Text.Article\",\n",
            "            \"dc.source\": \"Fox News\",\n",
            "            \"dcterms.modified\": \"2023-05-02T19:08:21-04:00\",\n",
            "            \"msapplication-square310x310logo\": \"//static.foxnews.com/static/orion/styles/img/fox-news/favicons/mstile-310x310.png\",\n",
            "            \"dc.creator\": \"Elizabeth Elkind\",\n",
            "            \"dc.description\": \"Sen. Elizabeth Warren led Democrats in a letter Monday to Federal Reserve Chair Jerome Powell, warning him against hiking interest rates again Wednesday.\",\n",
            "            \"og:type\": \"article\",\n",
            "            \"twitter:title\": \"GOP blasts Warren's call to pause Fed rate hikes: 'Inflation is not an act of God'\",\n",
            "            \"content-creator\": \"tiger\",\n",
            "            \"og:title\": \"GOP blasts Warren's call to pause Fed rate hikes: 'Inflation is not an act of God'\",\n",
            "            \"classification-isa\": \"republicans,politics,elizabeth-warren,inflation,reserve\",\n",
            "            \"classification-tags\": \"republicans,elizabeth-warren,inflation,politics,reserve\",\n",
            "            \"dc.date\": \"2023-05-02\",\n",
            "            \"dcterms.created\": \"2023-05-02T17:28:20-04:00\",\n",
            "            \"classification\": \"/FOX NEWS/POLITICS/SENATE/Republicans,/FOX NEWS/POLITICS,/FOX NEWS/PERSON/Elizabeth Warren,/FOX NEWS/US/ECONOMY/Inflation,/FOX NEWS/NEWSEDGE/Politics,/FOX NEWS/POLITICS/FINANCE/Federal Reserve\",\n",
            "            \"msapplication-square150x150logo\": \"//static.foxnews.com/static/orion/styles/img/fox-news/favicons/mstile-150x150.png\",\n",
            "            \"fb:app_id\": \"113186182048399\",\n",
            "            \"viewport\": \"width=device-width, minimum-scale=1.0, initial-scale=1.0\",\n",
            "            \"twitter:description\": \"Sen. Elizabeth Warren led Democrats in a letter Monday to Federal Reserve Chair Jerome Powell, warning him against hiking interest rates again Wednesday.\",\n",
            "            \"dc.title\": \"GOP blasts Warren's call to pause Fed rate hikes: 'Inflation is not an act of God'\",\n",
            "            \"prism.section\": \"politics\",\n",
            "            \"dc.identifier\": \"urn:uri:base64:1fdc62ca-1117-581a-b965-69a3421addc7\",\n",
            "            \"dc.language\": \"en-US\",\n",
            "            \"og:url\": \"https://www.foxnews.com/politics/gop-blasts-warrens-call-pause-fed-rate-hikes-inflation-not-act-god\",\n",
            "            \"dcterms.abstract\": \"Sen. Elizabeth Warren led Democrats in a letter Monday to Federal Reserve Chair Jerome Powell, warning him against hiking interest rates again Wednesday.\",\n",
            "            \"article:opinion\": \"false\"\n",
            "          }\n",
            "        ],\n",
            "        \"cse_image\": [\n",
            "          {\n",
            "            \"src\": \"https://static.foxnews.com/foxnews.com/content/uploads/2022/12/elizabeth-warren-senate-banking-committee-ftx-collapse-hearing.jpg\"\n",
            "          }\n",
            "        ]\n",
            "      }\n",
            "    },\n",
            "    {\n",
            "      \"kind\": \"customsearch#result\",\n",
            "      \"title\": \"Biden rule will redistribute high-risk loan costs to homeowners with ...\",\n",
            "      \"htmlTitle\": \"Biden rule will redistribute high-risk loan costs to homeowners with ...\",\n",
            "      \"link\": \"https://www.foxnews.com/us/biden-rule-redistribute-high-risk-loan-costs-homeowners-good-credit\",\n",
            "      \"displayLink\": \"www.foxnews.com\",\n",
            "      \"snippet\": \"Interest rates for mortgages have roughly doubled over the past year. By Michael Lee Fox News. Published April 19, 2023 5:11pm EDT.\",\n",
            "      \"htmlSnippet\": \"\\u003cb\\u003eInterest rates\\u003c/b\\u003e for mortgages have roughly doubled over the past year. By Michael Lee Fox News. Published April 19, 2023 5:11pm EDT.\",\n",
            "      \"cacheId\": \"xTRzB2niuqYJ\",\n",
            "      \"formattedUrl\": \"https://www.foxnews.com/.../biden-rule-redistribute-high-risk-loan-costs-ho...\",\n",
            "      \"htmlFormattedUrl\": \"https://www.foxnews.com/.../biden-rule-redistribute-high-risk-loan-costs-ho...\",\n",
            "      \"pagemap\": {\n",
            "        \"cse_thumbnail\": [\n",
            "          {\n",
            "            \"src\": \"https://encrypted-tbn0.gstatic.com/images?q=tbn:ANd9GcRd0IfYqHCBTPe5HW_oOBnz-fmH_IjuIWIRSRnPO_Jv1DNgJYd7tva6jv4\",\n",
            "            \"width\": \"300\",\n",
            "            \"height\": \"168\"\n",
            "          }\n",
            "        ],\n",
            "        \"metatags\": [\n",
            "          {\n",
            "            \"pagetype\": \"article\",\n",
            "            \"dc.publisher\": \"Fox News\",\n",
            "            \"og:image\": \"https://static.foxnews.com/foxnews.com/content/uploads/2023/04/GettyImages-1479809548.jpg\",\n",
            "            \"msapplication-square70x70logo\": \"//static.foxnews.com/static/orion/styles/img/fox-news/favicons/mstile-70x70.png\",\n",
            "            \"twitter:card\": \"summary_large_image\",\n",
            "            \"og:site_name\": \"Fox News\",\n",
            "            \"twitter:url\": \"https://www.foxnews.com/us/biden-rule-redistribute-high-risk-loan-costs-homeowners-good-credit\",\n",
            "            \"prism.channel\": \"fnc\",\n",
            "            \"dc.format\": \"text/html\",\n",
            "            \"msapplication-wide310x150logo\": \"//static.foxnews.com/static/orion/styles/img/fox-news/favicons/mstile-310x150.png\",\n",
            "            \"og:description\": \"A new federal rule will make borrowing for a home more expensive for those with high credit scores to subsidize loans to higher-risk borrowers.\",\n",
            "            \"twitter:image\": \"https://a57.foxnews.com/static.foxnews.com/foxnews.com/content/uploads/2023/04/1024/512/GettyImages-1479809548.jpg?ve=1&tl=1\",\n",
            "            \"prism.aggregationtype\": \"subsection\",\n",
            "            \"twitter:site\": \"@foxnews\",\n",
            "            \"dc.type\": \"Text.Article\",\n",
            "            \"dc.source\": \"Fox News\",\n",
            "            \"dcterms.modified\": \"2023-04-19T20:06:47-04:00\",\n",
            "            \"msapplication-square310x310logo\": \"//static.foxnews.com/static/orion/styles/img/fox-news/favicons/mstile-310x310.png\",\n",
            "            \"dc.creator\": \"Michael Lee\",\n",
            "            \"dc.description\": \"A new federal rule will make borrowing for a home more expensive for those with high credit scores to subsidize loans to higher-risk borrowers.\",\n",
            "            \"og:type\": \"article\",\n",
            "            \"twitter:title\": \"Biden rule will redistribute high-risk loan costs to homeowners with good credit\",\n",
            "            \"content-creator\": \"tiger\",\n",
            "            \"og:title\": \"Biden rule will redistribute high-risk loan costs to homeowners with good credit\",\n",
            "            \"classification-isa\": \"joe-biden,us,housing,realestate,reserve\",\n",
            "            \"classification-tags\": \"joe-biden,housing,realestate,reserve\",\n",
            "            \"dc.date\": \"2023-04-19\",\n",
            "            \"dcterms.created\": \"2023-04-19T15:34:11-04:00\",\n",
            "            \"classification\": \"/FOX NEWS/PERSON/Joe Biden,/FOX NEWS/US,/FOX NEWS/US/ECONOMY/Housing,/FOX NEWS/Real Estate,/FOX NEWS/POLITICS/FINANCE/Federal Reserve\",\n",
            "            \"msapplication-square150x150logo\": \"//static.foxnews.com/static/orion/styles/img/fox-news/favicons/mstile-150x150.png\",\n",
            "            \"fb:app_id\": \"113186182048399\",\n",
            "            \"viewport\": \"width=device-width, minimum-scale=1.0, initial-scale=1.0\",\n",
            "            \"twitter:description\": \"A new federal rule will make borrowing for a home more expensive for those with high credit scores to subsidize loans to higher-risk borrowers.\",\n",
            "            \"dc.title\": \"Biden rule will redistribute high-risk loan costs to homeowners with good credit\",\n",
            "            \"prism.section\": \"us\",\n",
            "            \"dc.identifier\": \"urn:uri:base64:56bb88e2-60ac-5ac3-b4b1-5c40db4138af\",\n",
            "            \"dc.language\": \"en-US\",\n",
            "            \"og:url\": \"https://www.foxnews.com/us/biden-rule-redistribute-high-risk-loan-costs-homeowners-good-credit\",\n",
            "            \"dcterms.abstract\": \"A new federal rule will make borrowing for a home more expensive for those with high credit scores to subsidize loans to higher-risk borrowers.\",\n",
            "            \"article:opinion\": \"false\"\n",
            "          }\n",
            "        ],\n",
            "        \"cse_image\": [\n",
            "          {\n",
            "            \"src\": \"https://static.foxnews.com/foxnews.com/content/uploads/2023/04/GettyImages-1479809548.jpg\"\n",
            "          }\n",
            "        ]\n",
            "      }\n",
            "    },\n",
            "    {\n",
            "      \"kind\": \"customsearch#result\",\n",
            "      \"title\": \"Trump offers unique solution to bank crises, in slam at 'interest-rate ...\",\n",
            "      \"htmlTitle\": \"Trump offers unique solution to bank crises, in slam at &#39;\\u003cb\\u003einterest\\u003c/b\\u003e-\\u003cb\\u003erate\\u003c/b\\u003e ...\",\n",
            "      \"link\": \"https://www.foxnews.com/media/trump-offers-unique-solution-bank-crises-slam-interest-rate-happy-fed-chair\",\n",
            "      \"displayLink\": \"www.foxnews.com\",\n",
            "      \"snippet\": \"Mar 27, 2023 ... Trump blasts Biden after bank failures, pitches unique solution. Former President Donald Trump sounds off on Biden, 'interest-rate-happy' Fed ...\",\n",
            "      \"htmlSnippet\": \"Mar 27, 2023 \\u003cb\\u003e...\\u003c/b\\u003e Trump blasts Biden after bank failures, pitches unique solution. Former President Donald Trump sounds off on Biden, &#39;\\u003cb\\u003einterest\\u003c/b\\u003e-\\u003cb\\u003erate\\u003c/b\\u003e-happy&#39; Fed&nbsp;...\",\n",
            "      \"cacheId\": \"I-JDK-6YFI0J\",\n",
            "      \"formattedUrl\": \"https://www.foxnews.com/.../trump-offers-unique-solution-bank-crises-sla...\",\n",
            "      \"htmlFormattedUrl\": \"https://www.foxnews.com/.../trump-offers-unique-solution-bank-crises-sla...\",\n",
            "      \"pagemap\": {\n",
            "        \"cse_thumbnail\": [\n",
            "          {\n",
            "            \"src\": \"https://encrypted-tbn1.gstatic.com/images?q=tbn:ANd9GcTfBbNCACu6srdDboaaAVyHr_AeEywfTxauGAutNHIFsrD9U2Ou5niMkvA5\",\n",
            "            \"width\": \"300\",\n",
            "            \"height\": \"168\"\n",
            "          }\n",
            "        ],\n",
            "        \"metatags\": [\n",
            "          {\n",
            "            \"pagetype\": \"article\",\n",
            "            \"dc.publisher\": \"Fox News\",\n",
            "            \"og:image\": \"https://static.foxnews.com/foxnews.com/content/uploads/2022/11/Trump-1.jpg\",\n",
            "            \"msapplication-square70x70logo\": \"//static.foxnews.com/static/orion/styles/img/fox-news/favicons/mstile-70x70.png\",\n",
            "            \"twitter:card\": \"summary_large_image\",\n",
            "            \"og:site_name\": \"Fox News\",\n",
            "            \"twitter:url\": \"https://www.foxnews.com/media/trump-offers-unique-solution-bank-crises-slam-interest-rate-happy-fed-chair\",\n",
            "            \"prism.channel\": \"fnc\",\n",
            "            \"dc.format\": \"text/html\",\n",
            "            \"msapplication-wide310x150logo\": \"//static.foxnews.com/static/orion/styles/img/fox-news/favicons/mstile-310x150.png\",\n",
            "            \"og:description\": \"Former President Donald Trump appeared on 'Hannity' to sound off on the banking collapses and state of the economy, along with other topics on Monday.\",\n",
            "            \"twitter:image\": \"https://a57.foxnews.com/static.foxnews.com/foxnews.com/content/uploads/2022/11/1024/512/Trump-1.jpg?ve=1&tl=1\",\n",
            "            \"prism.aggregationtype\": \"subsection\",\n",
            "            \"twitter:site\": \"@foxnews\",\n",
            "            \"dc.type\": \"Text.Article\",\n",
            "            \"dc.source\": \"Fox News\",\n",
            "            \"dcterms.modified\": \"2023-03-27T22:53:07-04:00\",\n",
            "            \"msapplication-square310x310logo\": \"//static.foxnews.com/static/orion/styles/img/fox-news/favicons/mstile-310x310.png\",\n",
            "            \"dc.creator\": \"Charles Creitz\",\n",
            "            \"dc.description\": \"Former President Donald Trump appeared on 'Hannity' to sound off on the banking collapses and state of the economy, along with other topics on Monday.\",\n",
            "            \"og:type\": \"article\",\n",
            "            \"twitter:title\": \"Trump offers unique solution to bank crises, in slam at 'interest-rate-happy' Fed chair\",\n",
            "            \"content-creator\": \"tiger\",\n",
            "            \"og:title\": \"Trump offers unique solution to bank crises, in slam at 'interest-rate-happy' Fed chair\",\n",
            "            \"classification-isa\": \"fn-flash,media,hannity,donald-trump,banking,economy,joe-biden\",\n",
            "            \"classification-tags\": \"fn-flash,hannity,donald-trump,banking,economy,joe-biden\",\n",
            "            \"dc.date\": \"2023-03-27\",\n",
            "            \"dcterms.created\": \"2023-03-27T22:21:29-04:00\",\n",
            "            \"classification\": \"/FOX NEWS/MEDIA/Fox News Flash,/FOX NEWS/MEDIA,/FOX NEWS/SHOWS/Hannity,/FOX NEWS/PERSON/Donald Trump,/FOX NEWS/POLITICS/FINANCE/Banking,/FOX NEWS/US/Economy,/FOX NEWS/PERSON/Joe Biden\",\n",
            "            \"msapplication-square150x150logo\": \"//static.foxnews.com/static/orion/styles/img/fox-news/favicons/mstile-150x150.png\",\n",
            "            \"fb:app_id\": \"113186182048399\",\n",
            "            \"viewport\": \"width=device-width, minimum-scale=1.0, initial-scale=1.0\",\n",
            "            \"twitter:description\": \"Former President Donald Trump appeared on 'Hannity' to sound off on the banking collapses and state of the economy, along with other topics on Monday.\",\n",
            "            \"dc.title\": \"Trump offers unique solution to bank crises, in slam at 'interest-rate-happy' Fed chair\",\n",
            "            \"prism.section\": \"media\",\n",
            "            \"dc.identifier\": \"urn:uri:base64:0570bee5-5a8f-5ba3-9d1f-e895fefa5bec\",\n",
            "            \"dc.language\": \"en-US\",\n",
            "            \"og:url\": \"https://www.foxnews.com/media/trump-offers-unique-solution-bank-crises-slam-interest-rate-happy-fed-chair\",\n",
            "            \"dcterms.abstract\": \"Former President Donald Trump appeared on 'Hannity' to sound off on the banking collapses and state of the economy, along with other topics on Monday.\",\n",
            "            \"article:opinion\": \"false\"\n",
            "          }\n",
            "        ],\n",
            "        \"cse_image\": [\n",
            "          {\n",
            "            \"src\": \"https://static.foxnews.com/foxnews.com/content/uploads/2022/11/Trump-1.jpg\"\n",
            "          }\n",
            "        ]\n",
            "      }\n",
            "    },\n",
            "    {\n",
            "      \"kind\": \"customsearch#result\",\n",
            "      \"title\": \"Polish national bank slashes interest rates as inflation slows | Fox ...\",\n",
            "      \"htmlTitle\": \"Polish national bank slashes \\u003cb\\u003einterest rates\\u003c/b\\u003e as inflation slows | Fox ...\",\n",
            "      \"link\": \"https://www.foxnews.com/world/polish-national-bank-slashes-interest-rates-inflation-slows\",\n",
            "      \"displayLink\": \"www.foxnews.com\",\n",
            "      \"snippet\": \"Oct 4, 2023 ... Poland's national bank on Wednesday lowered its key interest rate, citing a continued inflation rate decline.\",\n",
            "      \"htmlSnippet\": \"Oct 4, 2023 \\u003cb\\u003e...\\u003c/b\\u003e Poland&#39;s national bank on Wednesday lowered its key \\u003cb\\u003einterest rate\\u003c/b\\u003e, citing a continued inflation rate decline.\",\n",
            "      \"cacheId\": \"pTtF3o-_ewUJ\",\n",
            "      \"formattedUrl\": \"https://www.foxnews.com/.../polish-national-bank-slashes-interest-rates-infl...\",\n",
            "      \"htmlFormattedUrl\": \"https://www.foxnews.com/.../polish-national-bank-slashes-\\u003cb\\u003einterest\\u003c/b\\u003e-\\u003cb\\u003erate\\u003c/b\\u003es-infl...\",\n",
            "      \"pagemap\": {\n",
            "        \"cse_thumbnail\": [\n",
            "          {\n",
            "            \"src\": \"https://encrypted-tbn0.gstatic.com/images?q=tbn:ANd9GcSoCuEuiVLIt84gR9eUPUaLygZS3qhZRg6TTgSf4Yhs-A1PB97ZHy2VcF-1\",\n",
            "            \"width\": \"300\",\n",
            "            \"height\": \"168\"\n",
            "          }\n",
            "        ],\n",
            "        \"metatags\": [\n",
            "          {\n",
            "            \"pagetype\": \"article\",\n",
            "            \"dc.publisher\": \"Fox News\",\n",
            "            \"og:image\": \"https://static.foxnews.com/foxnews.com/content/uploads/2023/10/polish_flag.jpg\",\n",
            "            \"msapplication-square70x70logo\": \"//static.foxnews.com/static/orion/styles/img/fox-news/favicons/mstile-70x70.png\",\n",
            "            \"twitter:card\": \"summary_large_image\",\n",
            "            \"og:site_name\": \"Fox News\",\n",
            "            \"twitter:url\": \"https://www.foxnews.com/world/polish-national-bank-slashes-interest-rates-inflation-slows\",\n",
            "            \"prism.channel\": \"fnc\",\n",
            "            \"dc.format\": \"text/html\",\n",
            "            \"msapplication-wide310x150logo\": \"//static.foxnews.com/static/orion/styles/img/fox-news/favicons/mstile-310x150.png\",\n",
            "            \"og:description\": \"Poland's national bank on Wednesday lowered its key interest rate, citing a continued inflation rate decline. While still high, it has dropped from the 18% rate seen earlier this year.\",\n",
            "            \"twitter:image\": \"https://a57.foxnews.com/static.foxnews.com/foxnews.com/content/uploads/2023/10/1024/512/polish_flag.jpg?ve=1&tl=1\",\n",
            "            \"prism.aggregationtype\": \"subsection\",\n",
            "            \"twitter:site\": \"@foxnews\",\n",
            "            \"dc.type\": \"Text.Article\",\n",
            "            \"dc.source\": \"Associated Press\",\n",
            "            \"dcterms.modified\": \"2023-10-04T15:31:49-04:00\",\n",
            "            \"msapplication-square310x310logo\": \"//static.foxnews.com/static/orion/styles/img/fox-news/favicons/mstile-310x310.png\",\n",
            "            \"foxid.gated\": \"false\",\n",
            "            \"dc.description\": \"Poland's national bank on Wednesday lowered its key interest rate, citing a continued inflation rate decline. While still high, it has dropped from the 18% rate seen earlier this year.\",\n",
            "            \"og:type\": \"article\",\n",
            "            \"twitter:title\": \"Polish national bank slashes interest rates as inflation slows\",\n",
            "            \"content-creator\": \"tiger\",\n",
            "            \"og:title\": \"Polish national bank slashes interest rates as inflation slows\",\n",
            "            \"classification-isa\": \"europe,world,associated-press,gloeconomy,inflation\",\n",
            "            \"classification-tags\": \"europe,associated-press,gloeconomy,inflation\",\n",
            "            \"dc.date\": \"2023-10-04\",\n",
            "            \"dcterms.created\": \"2023-10-04T14:25:06-04:00\",\n",
            "            \"classification\": \"/FOX NEWS/WORLD/WORLD REGIONS/Europe,/FOX NEWS/WORLD,/FOX NEWS/TOPIC/Associated Press,/FOX NEWS/WORLD/Global Economy,/FOX NEWS/US/ECONOMY/Inflation\",\n",
            "            \"msapplication-square150x150logo\": \"//static.foxnews.com/static/orion/styles/img/fox-news/favicons/mstile-150x150.png\",\n",
            "            \"fb:app_id\": \"113186182048399\",\n",
            "            \"viewport\": \"width=device-width, minimum-scale=1.0, initial-scale=1.0\",\n",
            "            \"twitter:description\": \"Poland's national bank on Wednesday lowered its key interest rate, citing a continued inflation rate decline. While still high, it has dropped from the 18% rate seen earlier this year.\",\n",
            "            \"dc.title\": \"Polish national bank slashes interest rates as inflation slows\",\n",
            "            \"prism.section\": \"world\",\n",
            "            \"dc.identifier\": \"urn:uri:base64:55aafdff-f6bb-51c4-a698-2eec28025318\",\n",
            "            \"dc.language\": \"en-US\",\n",
            "            \"og:url\": \"https://www.foxnews.com/world/polish-national-bank-slashes-interest-rates-inflation-slows\",\n",
            "            \"dcterms.abstract\": \"Poland's national bank on Wednesday lowered its key interest rate, citing a continued inflation rate decline. While still high, it has dropped from the 18% rate seen earlier this year.\",\n",
            "            \"article:opinion\": \"false\"\n",
            "          }\n",
            "        ],\n",
            "        \"cse_image\": [\n",
            "          {\n",
            "            \"src\": \"https://static.foxnews.com/foxnews.com/content/uploads/2023/10/polish_flag.jpg\"\n",
            "          }\n",
            "        ]\n",
            "      }\n",
            "    },\n",
            "    {\n",
            "      \"kind\": \"customsearch#result\",\n",
            "      \"title\": \"Russia raises interest rates for fourth time in half-year as inflation ...\",\n",
            "      \"htmlTitle\": \"Russia raises \\u003cb\\u003einterest rates\\u003c/b\\u003e for fourth time in half-year as inflation ...\",\n",
            "      \"link\": \"https://www.foxnews.com/world/russia-raises-interest-rates-fourth-time-half-year-inflation-struggles-persist\",\n",
            "      \"displayLink\": \"www.foxnews.com\",\n",
            "      \"snippet\": \"Oct 27, 2023 ... Russia's Central Bank has raised its key lending rate for the fourth time in half a year, doubling to 15% from 7.5% since the first half of ...\",\n",
            "      \"htmlSnippet\": \"Oct 27, 2023 \\u003cb\\u003e...\\u003c/b\\u003e Russia&#39;s Central Bank has raised its key lending \\u003cb\\u003erate\\u003c/b\\u003e for the fourth time in half a year, doubling to 15% from 7.5% since the first half of&nbsp;...\",\n",
            "      \"cacheId\": \"VfffDy2diSEJ\",\n",
            "      \"formattedUrl\": \"https://www.foxnews.com/.../russia-raises-interest-rates-fourth-time-half-yea...\",\n",
            "      \"htmlFormattedUrl\": \"https://www.foxnews.com/.../russia-raises-\\u003cb\\u003einterest\\u003c/b\\u003e-\\u003cb\\u003erate\\u003c/b\\u003es-fourth-time-half-yea...\",\n",
            "      \"pagemap\": {\n",
            "        \"cse_thumbnail\": [\n",
            "          {\n",
            "            \"src\": \"https://encrypted-tbn1.gstatic.com/images?q=tbn:ANd9GcRkOP5cx6PBbPi2XJYBqIS9rYazizaqLQgRdk2aw983WfAgit6TXwIm_myg\",\n",
            "            \"width\": \"300\",\n",
            "            \"height\": \"168\"\n",
            "          }\n",
            "        ],\n",
            "        \"metatags\": [\n",
            "          {\n",
            "            \"pagetype\": \"article\",\n",
            "            \"dc.publisher\": \"Fox News\",\n",
            "            \"og:image\": \"https://static.foxnews.com/foxnews.com/content/uploads/2022/06/Russian-President-Vladimir-Putin-Hands-to-Face.jpg\",\n",
            "            \"msapplication-square70x70logo\": \"//static.foxnews.com/static/orion/styles/img/fox-news/favicons/mstile-70x70.png\",\n",
            "            \"twitter:card\": \"summary_large_image\",\n",
            "            \"og:site_name\": \"Fox News\",\n",
            "            \"twitter:url\": \"https://www.foxnews.com/world/russia-raises-interest-rates-fourth-time-half-year-inflation-struggles-persist\",\n",
            "            \"prism.channel\": \"fnc\",\n",
            "            \"dc.format\": \"text/html\",\n",
            "            \"msapplication-wide310x150logo\": \"//static.foxnews.com/static/orion/styles/img/fox-news/favicons/mstile-310x150.png\",\n",
            "            \"og:description\": \"Russia's Central Bank has raised its key lending rate for the fourth time in half a year, doubling to 15% from 7.5% since the first half of 2023.\",\n",
            "            \"twitter:image\": \"https://a57.foxnews.com/static.foxnews.com/foxnews.com/content/uploads/2022/06/1024/512/Russian-President-Vladimir-Putin-Hands-to-Face.jpg?ve=1&tl=1\",\n",
            "            \"prism.aggregationtype\": \"subsection\",\n",
            "            \"twitter:site\": \"@foxnews\",\n",
            "            \"dc.type\": \"Text.Article\",\n",
            "            \"dc.source\": \"Associated Press\",\n",
            "            \"dcterms.modified\": \"2023-10-27T15:06:57-04:00\",\n",
            "            \"msapplication-square310x310logo\": \"//static.foxnews.com/static/orion/styles/img/fox-news/favicons/mstile-310x310.png\",\n",
            "            \"foxid.gated\": \"false\",\n",
            "            \"dc.description\": \"Russia's Central Bank has raised its key lending rate for the fourth time in half a year, doubling to 15% from 7.5% since the first half of 2023.\",\n",
            "            \"og:type\": \"article\",\n",
            "            \"twitter:title\": \"Russia raises interest rates for fourth time in half-year as inflation struggles persist\",\n",
            "            \"content-creator\": \"tiger\",\n",
            "            \"og:title\": \"Russia raises interest rates for fourth time in half-year as inflation struggles persist\",\n",
            "            \"classification-isa\": \"russia,world,associated-press,europe,asia,gloeconomy,inflation\",\n",
            "            \"classification-tags\": \"russia,associated-press,europe,asia,gloeconomy,inflation\",\n",
            "            \"dc.date\": \"2023-10-27\",\n",
            "            \"dcterms.created\": \"2023-10-27T15:03:00-04:00\",\n",
            "            \"classification\": \"/FOX NEWS/WORLD/WORLD REGIONS/Russia,/FOX NEWS/WORLD,/FOX NEWS/TOPIC/Associated Press,/FOX NEWS/WORLD/WORLD REGIONS/Europe,/FOX NEWS/WORLD/WORLD REGIONS/Asia,/FOX NEWS/WORLD/Global Economy,/FOX NEWS/US/ECONOMY/Inflation\",\n",
            "            \"msapplication-square150x150logo\": \"//static.foxnews.com/static/orion/styles/img/fox-news/favicons/mstile-150x150.png\",\n",
            "            \"fb:app_id\": \"113186182048399\",\n",
            "            \"viewport\": \"width=device-width, minimum-scale=1.0, initial-scale=1.0\",\n",
            "            \"twitter:description\": \"Russia's Central Bank has raised its key lending rate for the fourth time in half a year, doubling to 15% from 7.5% since the first half of 2023.\",\n",
            "            \"dc.title\": \"Russia raises interest rates for fourth time in half-year as inflation struggles persist\",\n",
            "            \"prism.section\": \"world\",\n",
            "            \"dc.identifier\": \"urn:uri:base64:9dfe9b71-3428-5d79-9b58-df76fe1ed057\",\n",
            "            \"dc.language\": \"en-US\",\n",
            "            \"og:url\": \"https://www.foxnews.com/world/russia-raises-interest-rates-fourth-time-half-year-inflation-struggles-persist\",\n",
            "            \"dcterms.abstract\": \"Russia's Central Bank has raised its key lending rate for the fourth time in half a year, doubling to 15% from 7.5% since the first half of 2023.\",\n",
            "            \"article:opinion\": \"false\"\n",
            "          }\n",
            "        ],\n",
            "        \"cse_image\": [\n",
            "          {\n",
            "            \"src\": \"https://static.foxnews.com/foxnews.com/content/uploads/2022/06/Russian-President-Vladimir-Putin-Hands-to-Face.jpg\"\n",
            "          }\n",
            "        ]\n",
            "      }\n",
            "    },\n",
            "    {\n",
            "      \"kind\": \"customsearch#result\",\n",
            "      \"title\": \"Fed's Powell gets an earful about inflation and interest rates from ...\",\n",
            "      \"htmlTitle\": \"Fed&#39;s Powell gets an earful about inflation and \\u003cb\\u003einterest rates\\u003c/b\\u003e from ...\",\n",
            "      \"link\": \"https://www.foxnews.com/politics/feds-powell-gets-earful-about-inflation-interest-rates-small-businesses\",\n",
            "      \"displayLink\": \"www.foxnews.com\",\n",
            "      \"snippet\": \"Oct 2, 2023 ... On a visit Monday to York, Pennsylvania, Chair Jerome Powell got an earful from a group with a decidedly different perspective: Small-business ...\",\n",
            "      \"htmlSnippet\": \"Oct 2, 2023 \\u003cb\\u003e...\\u003c/b\\u003e On a visit Monday to York, Pennsylvania, Chair Jerome Powell got an earful from a group with a decidedly different perspective: Small-business&nbsp;...\",\n",
            "      \"cacheId\": \"GcQUxU9VOrAJ\",\n",
            "      \"formattedUrl\": \"https://www.foxnews.com/.../feds-powell-gets-earful-about-inflation-interes...\",\n",
            "      \"htmlFormattedUrl\": \"https://www.foxnews.com/.../feds-powell-gets-earful-about-inflation-\\u003cb\\u003einteres\\u003c/b\\u003e...\",\n",
            "      \"pagemap\": {\n",
            "        \"cse_thumbnail\": [\n",
            "          {\n",
            "            \"src\": \"https://encrypted-tbn1.gstatic.com/images?q=tbn:ANd9GcSgqoIT6UR7SW_NbMys4W3dFrtDiFR2aaK05fZs2cxh0sz6FJMHRvKwTNhU\",\n",
            "            \"width\": \"300\",\n",
            "            \"height\": \"168\"\n",
            "          }\n",
            "        ],\n",
            "        \"metatags\": [\n",
            "          {\n",
            "            \"pagetype\": \"article\",\n",
            "            \"dc.publisher\": \"Fox News\",\n",
            "            \"og:image\": \"https://static.foxnews.com/foxnews.com/content/uploads/2023/08/Federal-reserve.jpg\",\n",
            "            \"msapplication-square70x70logo\": \"//static.foxnews.com/static/orion/styles/img/fox-news/favicons/mstile-70x70.png\",\n",
            "            \"twitter:card\": \"summary_large_image\",\n",
            "            \"og:site_name\": \"Fox News\",\n",
            "            \"twitter:url\": \"https://www.foxnews.com/politics/feds-powell-gets-earful-about-inflation-interest-rates-small-businesses\",\n",
            "            \"prism.channel\": \"fnc\",\n",
            "            \"dc.format\": \"text/html\",\n",
            "            \"msapplication-wide310x150logo\": \"//static.foxnews.com/static/orion/styles/img/fox-news/favicons/mstile-310x150.png\",\n",
            "            \"og:description\": \"Inflation, labor shortages, and high interest rates have all posed dramatic challenges for small business owners in the contemporary US economy.\",\n",
            "            \"twitter:image\": \"https://a57.foxnews.com/static.foxnews.com/foxnews.com/content/uploads/2023/08/1024/512/Federal-reserve.jpg?ve=1&tl=1\",\n",
            "            \"prism.aggregationtype\": \"subsection\",\n",
            "            \"twitter:site\": \"@foxnews\",\n",
            "            \"dc.type\": \"Text.Article\",\n",
            "            \"dc.source\": \"Associated Press\",\n",
            "            \"dcterms.modified\": \"2023-10-02T19:33:12-04:00\",\n",
            "            \"msapplication-square310x310logo\": \"//static.foxnews.com/static/orion/styles/img/fox-news/favicons/mstile-310x310.png\",\n",
            "            \"foxid.gated\": \"false\",\n",
            "            \"dc.description\": \"Inflation, labor shortages, and high interest rates have all posed dramatic challenges for small business owners in the contemporary US economy.\",\n",
            "            \"og:type\": \"article\",\n",
            "            \"twitter:title\": \"Fed's Powell gets an earful about inflation and interest rates from small businesses\",\n",
            "            \"content-creator\": \"tiger\",\n",
            "            \"og:title\": \"Fed's Powell gets an earful about inflation and interest rates from small businesses\",\n",
            "            \"classification-isa\": \"pennsylvania,politics,associated-press,economy\",\n",
            "            \"classification-tags\": \"pennsylvania,associated-press,economy\",\n",
            "            \"dc.date\": \"2023-10-02\",\n",
            "            \"dcterms.created\": \"2023-10-02T19:31:33-04:00\",\n",
            "            \"classification\": \"/FOX NEWS/US/US REGIONS/NORTHEAST/Pennsylvania,/FOX NEWS/POLITICS,/FOX NEWS/TOPIC/Associated Press,/FOX NEWS/US/Economy\",\n",
            "            \"msapplication-square150x150logo\": \"//static.foxnews.com/static/orion/styles/img/fox-news/favicons/mstile-150x150.png\",\n",
            "            \"fb:app_id\": \"113186182048399\",\n",
            "            \"viewport\": \"width=device-width, minimum-scale=1.0, initial-scale=1.0\",\n",
            "            \"twitter:description\": \"Inflation, labor shortages, and high interest rates have all posed dramatic challenges for small business owners in the contemporary US economy.\",\n",
            "            \"dc.title\": \"Fed’s Powell gets an earful about inflation and interest rates from small businesses\",\n",
            "            \"prism.section\": \"politics\",\n",
            "            \"dc.identifier\": \"urn:uri:base64:8de09248-d536-502c-bec9-3f5c973f7b59\",\n",
            "            \"dc.language\": \"en-US\",\n",
            "            \"og:url\": \"https://www.foxnews.com/politics/feds-powell-gets-earful-about-inflation-interest-rates-small-businesses\",\n",
            "            \"dcterms.abstract\": \"Inflation, labor shortages, and high interest rates have all posed dramatic challenges for small business owners in the contemporary US economy.\",\n",
            "            \"article:opinion\": \"false\"\n",
            "          }\n",
            "        ],\n",
            "        \"cse_image\": [\n",
            "          {\n",
            "            \"src\": \"https://static.foxnews.com/foxnews.com/content/uploads/2023/08/Federal-reserve.jpg\"\n",
            "          }\n",
            "        ]\n",
            "      }\n",
            "    },\n",
            "    {\n",
            "      \"kind\": \"customsearch#result\",\n",
            "      \"title\": \"In Mexico, inflation triggers interest rate hike | Fox News\",\n",
            "      \"htmlTitle\": \"In Mexico, inflation triggers \\u003cb\\u003einterest rate\\u003c/b\\u003e hike | Fox News\",\n",
            "      \"link\": \"https://www.foxnews.com/world/mexico-inflation-triggers-interest-rate-hike\",\n",
            "      \"displayLink\": \"www.foxnews.com\",\n",
            "      \"snippet\": \"Feb 9, 2023 ... Mexico's reported January inflation rate of 7.91% led the Central American nation's central bank to raise its principle interest rate to ...\",\n",
            "      \"htmlSnippet\": \"Feb 9, 2023 \\u003cb\\u003e...\\u003c/b\\u003e Mexico&#39;s reported January inflation rate of 7.91% led the Central American nation&#39;s central bank to raise its principle \\u003cb\\u003einterest rate\\u003c/b\\u003e to&nbsp;...\",\n",
            "      \"cacheId\": \"dnV7WtktLhMJ\",\n",
            "      \"formattedUrl\": \"https://www.foxnews.com/world/mexico-inflation-triggers-interest-rate-hike\",\n",
            "      \"htmlFormattedUrl\": \"https://www.foxnews.com/world/mexico-inflation-triggers-\\u003cb\\u003einterest\\u003c/b\\u003e-\\u003cb\\u003erate\\u003c/b\\u003e-hike\",\n",
            "      \"pagemap\": {\n",
            "        \"cse_thumbnail\": [\n",
            "          {\n",
            "            \"src\": \"https://encrypted-tbn0.gstatic.com/images?q=tbn:ANd9GcST8SovMJLykxC963jEj3O8t1ozMQr4tQCM-Izd-A9NcznAbnoXksZE200\",\n",
            "            \"width\": \"300\",\n",
            "            \"height\": \"168\"\n",
            "          }\n",
            "        ],\n",
            "        \"metatags\": [\n",
            "          {\n",
            "            \"pagetype\": \"article\",\n",
            "            \"dc.publisher\": \"Fox News\",\n",
            "            \"og:image\": \"https://static.foxnews.com/foxnews.com/content/uploads/2023/02/mexico_inflation.jpg\",\n",
            "            \"msapplication-square70x70logo\": \"//static.foxnews.com/static/orion/styles/img/fox-news/favicons/mstile-70x70.png\",\n",
            "            \"twitter:card\": \"summary_large_image\",\n",
            "            \"og:site_name\": \"Fox News\",\n",
            "            \"twitter:url\": \"https://www.foxnews.com/world/mexico-inflation-triggers-interest-rate-hike\",\n",
            "            \"prism.channel\": \"fnc\",\n",
            "            \"dc.format\": \"text/html\",\n",
            "            \"msapplication-wide310x150logo\": \"//static.foxnews.com/static/orion/styles/img/fox-news/favicons/mstile-310x150.png\",\n",
            "            \"og:description\": \"Mexico's reported January inflation rate of 7.91% led the Central American nation's central bank to raise its principle interest rate to 11%.\",\n",
            "            \"twitter:image\": \"https://a57.foxnews.com/static.foxnews.com/foxnews.com/content/uploads/2023/02/1024/512/mexico_inflation.jpg?ve=1&tl=1\",\n",
            "            \"prism.aggregationtype\": \"subsection\",\n",
            "            \"twitter:site\": \"@foxnews\",\n",
            "            \"dc.type\": \"Text.Article\",\n",
            "            \"dc.source\": \"Associated Press\",\n",
            "            \"dcterms.modified\": \"2023-02-09T18:30:41-05:00\",\n",
            "            \"msapplication-square310x310logo\": \"//static.foxnews.com/static/orion/styles/img/fox-news/favicons/mstile-310x310.png\",\n",
            "            \"dc.description\": \"Mexico's reported January inflation rate of 7.91% led the Central American nation's central bank to raise its principle interest rate to 11%.\",\n",
            "            \"og:type\": \"article\",\n",
            "            \"twitter:title\": \"In Mexico, inflation triggers interest rate hike\",\n",
            "            \"content-creator\": \"tiger\",\n",
            "            \"og:title\": \"In Mexico, inflation triggers interest rate hike\",\n",
            "            \"classification-isa\": \"location-mexico,world,associated-press,latin-america,inflation,gloeconomy\",\n",
            "            \"classification-tags\": \"location-mexico,associated-press,latin-america,inflation,gloeconomy\",\n",
            "            \"dc.date\": \"2023-02-09\",\n",
            "            \"dcterms.created\": \"2023-02-09T18:27:22-05:00\",\n",
            "            \"classification\": \"/FOX NEWS/WORLD/WORLD REGIONS/Location Mexico,/FOX NEWS/WORLD,/FOX NEWS/TOPIC/Associated Press,/FOX NEWS/WORLD/WORLD REGIONS/Latin America,/FOX NEWS/US/ECONOMY/Inflation,/FOX NEWS/WORLD/Global Economy\",\n",
            "            \"msapplication-square150x150logo\": \"//static.foxnews.com/static/orion/styles/img/fox-news/favicons/mstile-150x150.png\",\n",
            "            \"fb:app_id\": \"113186182048399\",\n",
            "            \"viewport\": \"width=device-width, minimum-scale=1.0, initial-scale=1.0\",\n",
            "            \"twitter:description\": \"Mexico's reported January inflation rate of 7.91% led the Central American nation's central bank to raise its principle interest rate to 11%.\",\n",
            "            \"dc.title\": \"In Mexico, inflation triggers interest rate hike\",\n",
            "            \"prism.section\": \"world\",\n",
            "            \"dc.identifier\": \"urn:uri:base64:b5f694cf-307f-5a48-b34a-60bd9d1dc773\",\n",
            "            \"dc.language\": \"en-US\",\n",
            "            \"og:url\": \"https://www.foxnews.com/world/mexico-inflation-triggers-interest-rate-hike\",\n",
            "            \"dcterms.abstract\": \"Mexico's reported January inflation rate of 7.91% led the Central American nation's central bank to raise its principle interest rate to 11%.\",\n",
            "            \"article:opinion\": \"false\"\n",
            "          }\n",
            "        ],\n",
            "        \"cse_image\": [\n",
            "          {\n",
            "            \"src\": \"https://static.foxnews.com/foxnews.com/content/uploads/2023/02/mexico_inflation.jpg\"\n",
            "          }\n",
            "        ]\n",
            "      }\n",
            "    },\n",
            "    {\n",
            "      \"kind\": \"customsearch#result\",\n",
            "      \"title\": \"Janet Yellen and 'negative interest rates': America, this is the last ...\",\n",
            "      \"htmlTitle\": \"Janet Yellen and &#39;negative \\u003cb\\u003einterest rates\\u003c/b\\u003e&#39;: America, this is the last ...\",\n",
            "      \"link\": \"https://www.foxnews.com/opinion/janet-yellen-and-negative-interest-rates-america-this-is-the-last-nail-in-a-savers-coffin\",\n",
            "      \"displayLink\": \"www.foxnews.com\",\n",
            "      \"snippet\": \"Feb 11, 2016 ... Imagine having to pay your bank to take your money! It sounds crazy, but that's what Fed Chief Janet Yellen says could happen here. It's called ...\",\n",
            "      \"htmlSnippet\": \"Feb 11, 2016 \\u003cb\\u003e...\\u003c/b\\u003e Imagine having to pay your bank to take your money! It sounds crazy, but that&#39;s what Fed Chief Janet Yellen says could happen here. It&#39;s called&nbsp;...\",\n",
            "      \"cacheId\": \"slLfY-Qs3QQJ\",\n",
            "      \"formattedUrl\": \"https://www.foxnews.com/.../janet-yellen-and-negative-interest-rates-americ...\",\n",
            "      \"htmlFormattedUrl\": \"https://www.foxnews.com/.../janet-yellen-and-negative-\\u003cb\\u003einterest\\u003c/b\\u003e-\\u003cb\\u003erate\\u003c/b\\u003es-americ...\",\n",
            "      \"pagemap\": {\n",
            "        \"cse_thumbnail\": [\n",
            "          {\n",
            "            \"src\": \"https://encrypted-tbn2.gstatic.com/images?q=tbn:ANd9GcSlM2lzTOM0p7Tnqb9azYO_cJx5C2Qu-LLM0AGuKO_fGqYtlZBxw8U6ec3n\",\n",
            "            \"width\": \"271\",\n",
            "            \"height\": \"186\"\n",
            "          }\n",
            "        ],\n",
            "        \"metatags\": [\n",
            "          {\n",
            "            \"pagetype\": \"article\",\n",
            "            \"dc.publisher\": \"Fox News\",\n",
            "            \"og:image\": \"https://static.foxnews.com/foxnews.com/content/uploads/2018/09/janet-yellen_0.jpg\",\n",
            "            \"msapplication-square70x70logo\": \"//static.foxnews.com/static/orion/styles/img/fox-news/favicons/mstile-70x70.png\",\n",
            "            \"twitter:card\": \"summary_large_image\",\n",
            "            \"og:site_name\": \"Fox News\",\n",
            "            \"twitter:url\": \"https://www.foxnews.com/opinion/janet-yellen-and-negative-interest-rates-america-this-is-the-last-nail-in-a-savers-coffin\",\n",
            "            \"prism.channel\": \"fnc\",\n",
            "            \"dc.format\": \"text/html\",\n",
            "            \"msapplication-wide310x150logo\": \"//static.foxnews.com/static/orion/styles/img/fox-news/favicons/mstile-310x150.png\",\n",
            "            \"og:description\": \"Most Americans have some money in a bank account.\",\n",
            "            \"twitter:image\": \"https://a57.foxnews.com/static.foxnews.com/foxnews.com/content/uploads/2018/09/1024/512/janet-yellen_0.jpg?ve=1&tl=1\",\n",
            "            \"prism.aggregationtype\": \"subsection\",\n",
            "            \"twitter:site\": \"@foxnews\",\n",
            "            \"dc.type\": \"Text.Article\",\n",
            "            \"dc.source\": \"Fox News\",\n",
            "            \"dcterms.modified\": \"2016-02-11T16:08:20-05:00\",\n",
            "            \"msapplication-square310x310logo\": \"//static.foxnews.com/static/orion/styles/img/fox-news/favicons/mstile-310x310.png\",\n",
            "            \"dc.creator\": \"David Asman\",\n",
            "            \"dc.description\": \"Most Americans have some money in a bank account.\",\n",
            "            \"og:type\": \"article\",\n",
            "            \"twitter:title\": \"Janet Yellen and 'negative interest rates': America, this is the last nail in a saver's coffin\",\n",
            "            \"content-creator\": \"tiger\",\n",
            "            \"og:title\": \"Janet Yellen and 'negative interest rates': America, this is the last nail in a saver's coffin\",\n",
            "            \"classification-isa\": \"economy,opinion\",\n",
            "            \"classification-tags\": \"economy\",\n",
            "            \"dc.date\": \"2016-02-11\",\n",
            "            \"dcterms.created\": \"2016-02-11T16:03:36-05:00\",\n",
            "            \"classification\": \"/FOX NEWS/US/Economy,/FOX NEWS/OPINION\",\n",
            "            \"msapplication-square150x150logo\": \"//static.foxnews.com/static/orion/styles/img/fox-news/favicons/mstile-150x150.png\",\n",
            "            \"fb:app_id\": \"113186182048399\",\n",
            "            \"viewport\": \"width=device-width, minimum-scale=1.0, initial-scale=1.0\",\n",
            "            \"twitter:description\": \"Most Americans have some money in a bank account.\",\n",
            "            \"dc.title\": \"Janet Yellen and 'negative interest rates': America, this is the last nail in a saver's coffin\",\n",
            "            \"prism.section\": \"opinion\",\n",
            "            \"dc.identifier\": \"urn:uri:base64:80b86d66-3534-58fe-b1e1-ddf28e958817\",\n",
            "            \"dc.language\": \"en-US\",\n",
            "            \"og:url\": \"https://www.foxnews.com/opinion/janet-yellen-and-negative-interest-rates-america-this-is-the-last-nail-in-a-savers-coffin\",\n",
            "            \"dcterms.abstract\": \"Most Americans have some money in a bank account.\",\n",
            "            \"article:opinion\": \"false\"\n",
            "          }\n",
            "        ],\n",
            "        \"cse_image\": [\n",
            "          {\n",
            "            \"src\": \"https://static.foxnews.com/foxnews.com/content/uploads/2018/09/janet-yellen_0.jpg\"\n",
            "          }\n",
            "        ]\n",
            "      }\n",
            "    },\n",
            "    {\n",
            "      \"kind\": \"customsearch#result\",\n",
            "      \"title\": \"Fed expected to approve another interest rate hike amid banking ...\",\n",
            "      \"htmlTitle\": \"Fed expected to approve another \\u003cb\\u003einterest rate\\u003c/b\\u003e hike amid banking ...\",\n",
            "      \"link\": \"https://www.foxnews.com/video/6322919899112\",\n",
            "      \"displayLink\": \"www.foxnews.com\",\n",
            "      \"snippet\": \"Mar 19, 2023 ... Heritage Foundation economics fellow Steve Moore says there is 'no need' for a 'bank run' because depositor's money is federally insured and ...\",\n",
            "      \"htmlSnippet\": \"Mar 19, 2023 \\u003cb\\u003e...\\u003c/b\\u003e Heritage Foundation economics fellow Steve Moore says there is &#39;no need&#39; for a &#39;bank run&#39; because depositor&#39;s money is federally insured and&nbsp;...\",\n",
            "      \"cacheId\": \"1FPPTrfGW9YJ\",\n",
            "      \"formattedUrl\": \"https://www.foxnews.com/video/6322919899112\",\n",
            "      \"htmlFormattedUrl\": \"https://www.foxnews.com/video/6322919899112\",\n",
            "      \"pagemap\": {\n",
            "        \"cse_thumbnail\": [\n",
            "          {\n",
            "            \"src\": \"https://encrypted-tbn2.gstatic.com/images?q=tbn:ANd9GcTPyh1go6sUdvy7hPcuebWulQoLYC60jhHPha5VsxY3C_KZnI1I3v865H4\",\n",
            "            \"width\": \"318\",\n",
            "            \"height\": \"159\"\n",
            "          }\n",
            "        ],\n",
            "        \"metatags\": [\n",
            "          {\n",
            "            \"pagetype\": \"video\",\n",
            "            \"dc.publisher\": \"Fox News\",\n",
            "            \"og:image\": \"https://a57.foxnews.com/cf-images.us-east-1.prod.boltdns.net/v1/static/694940094001/f86b42d7-104c-4ad4-927b-4deba589ab85/49c3fcda-521e-40f4-8779-ce700bae4e6b/1280x720/match/1024/512/image.jpg?ve=1&tl=1\",\n",
            "            \"msapplication-square70x70logo\": \"//static.foxnews.com/static/orion/styles/img/fox-news/favicons/mstile-70x70.png\",\n",
            "            \"og:site_name\": \"Fox News\",\n",
            "            \"twitter:url\": \"https://www.foxnews.com/video/6322919899112\",\n",
            "            \"prism.channel\": \"fnc\",\n",
            "            \"dc.format\": \"text/html\",\n",
            "            \"msapplication-wide310x150logo\": \"//static.foxnews.com/static/orion/styles/img/fox-news/favicons/mstile-310x150.png\",\n",
            "            \"prism.genre\": \"homePage\",\n",
            "            \"og:description\": \"Heritage Foundation economics fellow Steve Moore says there is ‘no need’ for a ‘bank run’ because depositor’s money is federally insured and ‘safe.’ \",\n",
            "            \"twitter:image\": \"https://a57.foxnews.com/cf-images.us-east-1.prod.boltdns.net/v1/static/694940094001/f86b42d7-104c-4ad4-927b-4deba589ab85/49c3fcda-521e-40f4-8779-ce700bae4e6b/1280x720/match/1024/512/image.jpg?ve=1&tl=1\",\n",
            "            \"prism.aggregationtype\": \"video\",\n",
            "            \"twitter:site\": \"@foxnews\",\n",
            "            \"dc.type\": \"MovingImage\",\n",
            "            \"dc.source\": \"Fox News\",\n",
            "            \"dcterms.modified\": \"2023-03-19T17:54:03Z\",\n",
            "            \"msapplication-square310x310logo\": \"//static.foxnews.com/static/orion/styles/img/fox-news/favicons/mstile-310x310.png\",\n",
            "            \"dc.description\": \"Heritage Foundation economics fellow Steve Moore says there is ‘no need’ for a ‘bank run’ because depositor’s money is federally insured and ‘safe.’ \",\n",
            "            \"og:type\": \"video\",\n",
            "            \"twitter:title\": \"Fed expected to approve another interest rate hike amid banking crisis | Fox News Video\",\n",
            "            \"prism.subsection1\": \"on-demand\",\n",
            "            \"og:title\": \"Fed expected to approve another interest rate hike amid banking crisis | Fox News Video\",\n",
            "            \"dc.date\": \"2023-03-19\",\n",
            "            \"dcterms.created\": \"2023-03-19T17:54:03Z\",\n",
            "            \"msapplication-square150x150logo\": \"//static.foxnews.com/static/orion/styles/img/fox-news/favicons/mstile-150x150.png\",\n",
            "            \"viewport\": \"width=device-width, minimum-scale=1.0, initial-scale=1.0\",\n",
            "            \"twitter:description\": \"Heritage Foundation economics fellow Steve Moore says there is ‘no need’ for a ‘bank run’ because depositor’s money is federally insured and ‘safe.’ \",\n",
            "            \"dc.title\": \"Fed expected to approve another interest rate hike amid banking crisis | Fox News Video\",\n",
            "            \"prism.section\": \"fox-news.video\",\n",
            "            \"dc.identifier\": \"urn:uri:base64:dHJhbnNjcmlwdDI0Mw==\",\n",
            "            \"dc.language\": \"en-US\",\n",
            "            \"og:url\": \"https://www.foxnews.com/video/6322919899112\",\n",
            "            \"dcterms.abstract\": \"Heritage Foundation economics fellow Steve Moore says there is ‘no need’ for a ‘bank run’ because depositor’s money is federally insured and ‘safe.’ \"\n",
            "          }\n",
            "        ],\n",
            "        \"cse_image\": [\n",
            "          {\n",
            "            \"src\": \"https://a57.foxnews.com/cf-images.us-east-1.prod.boltdns.net/v1/static/694940094001/f86b42d7-104c-4ad4-927b-4deba589ab85/49c3fcda-521e-40f4-8779-ce700bae4e6b/1280x720/match/1024/512/image.jpg?ve=1&tl=1\"\n",
            "          }\n",
            "        ]\n",
            "      }\n",
            "    },\n",
            "    {\n",
            "      \"kind\": \"customsearch#result\",\n",
            "      \"title\": \"What does the Fed pausing interest rate hikes this month mean for ...\",\n",
            "      \"htmlTitle\": \"What does the Fed pausing \\u003cb\\u003einterest rate\\u003c/b\\u003e hikes this month mean for ...\",\n",
            "      \"link\": \"https://www.foxnews.com/video/6329447404112\",\n",
            "      \"displayLink\": \"www.foxnews.com\",\n",
            "      \"snippet\": \"Jun 14, 2023 ... SlateStone Wealth chief market strategist Kenny Polcari reacts to the Federal Reserve pausing interest rate hikes this month on 'Your World ...\",\n",
            "      \"htmlSnippet\": \"Jun 14, 2023 \\u003cb\\u003e...\\u003c/b\\u003e SlateStone Wealth chief market strategist Kenny Polcari reacts to the Federal Reserve pausing \\u003cb\\u003einterest rate\\u003c/b\\u003e hikes this month on &#39;Your World&nbsp;...\",\n",
            "      \"cacheId\": \"RGwE0747cn0J\",\n",
            "      \"formattedUrl\": \"https://www.foxnews.com/video/6329447404112\",\n",
            "      \"htmlFormattedUrl\": \"https://www.foxnews.com/video/6329447404112\",\n",
            "      \"pagemap\": {\n",
            "        \"cse_thumbnail\": [\n",
            "          {\n",
            "            \"src\": \"https://encrypted-tbn0.gstatic.com/images?q=tbn:ANd9GcRVc9-DXKGiwAIHbZgLYd3o2olNza8a_JgEQAVRCg5ysdNmQ1KiLXZf3GKG\",\n",
            "            \"width\": \"318\",\n",
            "            \"height\": \"159\"\n",
            "          }\n",
            "        ],\n",
            "        \"metatags\": [\n",
            "          {\n",
            "            \"pagetype\": \"video\",\n",
            "            \"dc.publisher\": \"Fox News\",\n",
            "            \"og:image\": \"https://a57.foxnews.com/cf-images.us-east-1.prod.boltdns.net/v1/static/694940094001/28299667-3037-4d8a-ad8a-e3aa1a661be6/8503015b-026e-48d0-837f-a7f0e9e2f019/1280x720/match/1024/512/image.jpg?ve=1&tl=1\",\n",
            "            \"msapplication-square70x70logo\": \"//static.foxnews.com/static/orion/styles/img/fox-news/favicons/mstile-70x70.png\",\n",
            "            \"og:site_name\": \"Fox News\",\n",
            "            \"twitter:url\": \"https://www.foxnews.com/video/6329447404112\",\n",
            "            \"prism.channel\": \"fnc\",\n",
            "            \"dc.format\": \"text/html\",\n",
            "            \"msapplication-wide310x150logo\": \"//static.foxnews.com/static/orion/styles/img/fox-news/favicons/mstile-310x150.png\",\n",
            "            \"prism.genre\": \"homePage\",\n",
            "            \"og:description\": \"SlateStone Wealth chief market strategist Kenny Polcari reacts to the Federal Reserve pausing interest rate hikes this month on 'Your World with Neil Cavuto.'\",\n",
            "            \"twitter:image\": \"https://a57.foxnews.com/cf-images.us-east-1.prod.boltdns.net/v1/static/694940094001/28299667-3037-4d8a-ad8a-e3aa1a661be6/8503015b-026e-48d0-837f-a7f0e9e2f019/1280x720/match/1024/512/image.jpg?ve=1&tl=1\",\n",
            "            \"prism.aggregationtype\": \"video\",\n",
            "            \"twitter:site\": \"@foxnews\",\n",
            "            \"dc.type\": \"MovingImage\",\n",
            "            \"dc.source\": \"Fox News\",\n",
            "            \"dcterms.modified\": \"2023-06-15T00:26:37Z\",\n",
            "            \"msapplication-square310x310logo\": \"//static.foxnews.com/static/orion/styles/img/fox-news/favicons/mstile-310x310.png\",\n",
            "            \"dc.description\": \"SlateStone Wealth chief market strategist Kenny Polcari reacts to the Federal Reserve pausing interest rate hikes this month on 'Your World with Neil Cavuto.'\",\n",
            "            \"og:type\": \"video\",\n",
            "            \"twitter:title\": \"What does the Fed pausing interest rate hikes this month mean for Americans? | Fox News Video\",\n",
            "            \"prism.subsection1\": \"on-demand\",\n",
            "            \"og:title\": \"What does the Fed pausing interest rate hikes this month mean for Americans? | Fox News Video\",\n",
            "            \"dc.date\": \"2023-06-15\",\n",
            "            \"dcterms.created\": \"2023-06-15T00:26:37Z\",\n",
            "            \"msapplication-square150x150logo\": \"//static.foxnews.com/static/orion/styles/img/fox-news/favicons/mstile-150x150.png\",\n",
            "            \"viewport\": \"width=device-width, minimum-scale=1.0, initial-scale=1.0\",\n",
            "            \"twitter:description\": \"SlateStone Wealth chief market strategist Kenny Polcari reacts to the Federal Reserve pausing interest rate hikes this month on 'Your World with Neil Cavuto.'\",\n",
            "            \"dc.title\": \"What does the Fed pausing interest rate hikes this month mean for Americans? | Fox News Video\",\n",
            "            \"prism.section\": \"fox-news.video\",\n",
            "            \"dc.identifier\": \"urn:uri:base64:dHJhbnNjcmlwdDI0Mw==\",\n",
            "            \"dc.language\": \"en-US\",\n",
            "            \"og:url\": \"https://www.foxnews.com/video/6329447404112\",\n",
            "            \"dcterms.abstract\": \"SlateStone Wealth chief market strategist Kenny Polcari reacts to the Federal Reserve pausing interest rate hikes this month on 'Your World with Neil Cavuto.'\"\n",
            "          }\n",
            "        ],\n",
            "        \"cse_image\": [\n",
            "          {\n",
            "            \"src\": \"https://a57.foxnews.com/cf-images.us-east-1.prod.boltdns.net/v1/static/694940094001/28299667-3037-4d8a-ad8a-e3aa1a661be6/8503015b-026e-48d0-837f-a7f0e9e2f019/1280x720/match/1024/512/image.jpg?ve=1&tl=1\"\n",
            "          }\n",
            "        ]\n",
            "      }\n",
            "    }\n",
            "  ]\n",
            "}\n",
            ");\n"
          ]
        }
      ],
      "source": [
        "import requests\n",
        "import json\n",
        "\n",
        "response = requests.get('https://api.foxnews.com/search/web?q=interest%20rate+-filetype:amp+-filetype:xml+more:pagemap:metatags-prism.section&siteSearch=foxnews.com&siteSearchFilter=i&callback=__jp0')\n",
        "print(response.text)"
      ]
    },
    {
      "cell_type": "markdown",
      "metadata": {
        "id": "Qq8jAYiIDY8S"
      },
      "source": [
        "#### 기사 리스트에서 하나 출력 (날짜 지정X, 키워드: interest rate)"
      ]
    },
    {
      "cell_type": "code",
      "execution_count": 14,
      "metadata": {
        "colab": {
          "base_uri": "https://localhost:8080/"
        },
        "id": "0RpyONzJvKSl",
        "outputId": "fade18bf-7c6b-483b-9443-771e95e5d0fb"
      },
      "outputs": [
        {
          "name": "stdout",
          "output_type": "stream",
          "text": [
            "제목: GOP blasts Warren's call to pause Fed rate hikes: 'Inflation is not an ...\n",
            "날짜: 2023-05-02\n",
            "내용: Sen. Elizabeth Warren led Democrats in a letter Monday to Federal Reserve Chair Jerome Powell, warning him against hiking interest rates again Wednesday.\n"
          ]
        }
      ],
      "source": [
        "import requests\n",
        "from datetime import datetime\n",
        "import json\n",
        "\n",
        "url = 'https://api.foxnews.com/search/web?q=interest%20rate+-filetype:amp+-filetype:xml+more:pagemap:metatags-prism.section&siteSearch=foxnews.com&siteSearchFilter=i'\n",
        "\n",
        "response = requests.get(url)\n",
        "\n",
        "if response.status_code == 200:\n",
        "    data = response.json()  # 응답 내용을 JSON으로 파싱\n",
        "    items = data.get('items', [])  # 'items' 키를 통해 결과를 가져옴\n",
        "\n",
        "    if items:\n",
        "        result = items[0]  # 첫 번째 결과를 가져옴\n",
        "        title = result.get(\"title\", \"N/A\")\n",
        "        date_str = result.get('snippet', \"N/A\")\n",
        "        # 'May 2, 2023' 형식의 문자열에서 실제 날짜 부분 추출\n",
        "        date_str = date_str.split('...')[0].strip()\n",
        "        # 추출된 날짜 문자열을 파싱하여 '2023-05-02' 형식으로 변환\n",
        "        date_parsed = datetime.strptime(date_str, '%b %d, %Y')\n",
        "        formatted_date = date_parsed.strftime('%Y-%m-%d')\n",
        "        description = result[\"pagemap\"][\"metatags\"][0].get(\"og:description\", \"N/A\")\n",
        "\n",
        "        # 추출한 정보 출력 또는 사용\n",
        "        print(\"제목:\", title)\n",
        "        print(\"날짜:\", formatted_date)\n",
        "        print(\"내용:\", description)\n",
        "    else:\n",
        "        print(\"응답에서 아무 결과도 찾을 수 없습니다.\")\n",
        "else:\n",
        "    print(f\"에러: {response.status_code}\")\n"
      ]
    },
    {
      "cell_type": "markdown",
      "metadata": {
        "id": "a2FinsZlDhho"
      },
      "source": [
        "#### 기사 목록 - 한페이지에 나오는 거 뽑아내기 (날짜 지정X, 키워드: interest rate)\n",
        "\n"
      ]
    },
    {
      "cell_type": "code",
      "execution_count": null,
      "metadata": {
        "colab": {
          "base_uri": "https://localhost:8080/"
        },
        "id": "h4I_vvA6wfbs",
        "outputId": "4b84387a-70e5-4343-e5f0-2e457b71999b"
      },
      "outputs": [
        {
          "name": "stdout",
          "output_type": "stream",
          "text": [
            "제목: GOP blasts Warren's call to pause Fed rate hikes: 'Inflation is not an ...\n",
            "날짜: 2023-05-02\n",
            "설명: Sen. Elizabeth Warren led Democrats in a letter Monday to Federal Reserve Chair Jerome Powell, warning him against hiking interest rates again Wednesday.\n",
            "\n",
            "--------------------\n",
            "\n",
            "제목: Biden rule will redistribute high-risk loan costs to homeowners with ...\n",
            "날짜: 2023-04-19\n",
            "설명: A new federal rule will make borrowing for a home more expensive for those with high credit scores to subsidize loans to higher-risk borrowers.\n",
            "\n",
            "--------------------\n",
            "\n",
            "제목: Trump offers unique solution to bank crises, in slam at 'interest-rate ...\n",
            "날짜: 2023-03-27\n",
            "설명: Former President Donald Trump appeared on 'Hannity' to sound off on the banking collapses and state of the economy, along with other topics on Monday.\n",
            "\n",
            "--------------------\n",
            "\n",
            "제목: Polish national bank slashes interest rates as inflation slows | Fox ...\n",
            "날짜: 2023-10-04\n",
            "설명: Poland's national bank on Wednesday lowered its key interest rate, citing a continued inflation rate decline. While still high, it has dropped from the 18% rate seen earlier this year.\n",
            "\n",
            "--------------------\n",
            "\n",
            "제목: Russia raises interest rates for fourth time in half-year as inflation ...\n",
            "날짜: 2023-10-27\n",
            "설명: Russia's Central Bank has raised its key lending rate for the fourth time in half a year, doubling to 15% from 7.5% since the first half of 2023.\n",
            "\n",
            "--------------------\n",
            "\n",
            "제목: Fed's Powell gets an earful about inflation and interest rates from ...\n",
            "날짜: 2023-10-02\n",
            "설명: Inflation, labor shortages, and high interest rates have all posed dramatic challenges for small business owners in the contemporary US economy.\n",
            "\n",
            "--------------------\n",
            "\n",
            "제목: In Mexico, inflation triggers interest rate hike | Fox News\n",
            "날짜: 2023-02-09\n",
            "설명: Mexico's reported January inflation rate of 7.91% led the Central American nation's central bank to raise its principle interest rate to 11%.\n",
            "\n",
            "--------------------\n",
            "\n",
            "제목: Janet Yellen and 'negative interest rates': America, this is the last ...\n",
            "날짜: 2016-02-11\n",
            "설명: Most Americans have some money in a bank account.\n",
            "\n",
            "--------------------\n",
            "\n",
            "제목: Fed expected to approve another interest rate hike amid banking ...\n",
            "날짜: 2023-03-19\n",
            "설명: Heritage Foundation economics fellow Steve Moore says there is ‘no need’ for a ‘bank run’ because depositor’s money is federally insured and ‘safe.’ \n",
            "\n",
            "--------------------\n",
            "\n",
            "제목: What does the Fed pausing interest rate hikes this month mean for ...\n",
            "날짜: 2023-06-15\n",
            "설명: SlateStone Wealth chief market strategist Kenny Polcari reacts to the Federal Reserve pausing interest rate hikes this month on 'Your World with Neil Cavuto.'\n",
            "\n",
            "--------------------\n",
            "\n"
          ]
        }
      ],
      "source": [
        "import requests\n",
        "import json\n",
        "\n",
        "url = 'https://api.foxnews.com/search/web?q=interest%20rate+-filetype:amp+-filetype:xml+more:pagemap:metatags-prism.section&siteSearch=foxnews.com&siteSearchFilter=i&start=1'\n",
        "\n",
        "response = requests.get(url)\n",
        "\n",
        "if response.status_code == 200:\n",
        "    data = response.json()  # 응답 내용을 JSON으로 파싱\n",
        "    items = data.get('items', [])  # 'items' 키를 통해 결과를 가져옴\n",
        "\n",
        "    for result in items:\n",
        "        title = result.get(\"title\", \"N/A\")\n",
        "        date = result[\"pagemap\"][\"metatags\"][0].get(\"dc.date\", \"N/A\")\n",
        "        description = result[\"pagemap\"][\"metatags\"][0].get(\"og:description\", \"N/A\")\n",
        "\n",
        "        # 추출한 정보 출력 또는 사용\n",
        "        print(\"제목:\", title)\n",
        "        print(\"날짜:\", date)\n",
        "        print(\"설명:\", description)\n",
        "        print(\"\\n\" + \"-\"*20 + \"\\n\")  # 결과 사이에 구분선 추가\n",
        "else:\n",
        "    print(f\"에러: {response.status_code}\")\n"
      ]
    },
    {
      "cell_type": "markdown",
      "metadata": {
        "id": "rLbqUrPoDuOB"
      },
      "source": [
        "#### 날짜 지정해서 기사 여러 페이지(키워드: interest rate)"
      ]
    },
    {
      "cell_type": "code",
      "execution_count": null,
      "metadata": {
        "colab": {
          "base_uri": "https://localhost:8080/"
        },
        "id": "004YAzlCzw9E",
        "outputId": "86323549-3c46-4f2f-a4ae-bddd00d59b52"
      },
      "outputs": [
        {
          "name": "stdout",
          "output_type": "stream",
          "text": [
            "제목: GOP blasts Warren's call to pause Fed rate hikes: 'Inflation is not an ...\n",
            "날짜: 2023-05-02\n",
            "설명: Sen. Elizabeth Warren led Democrats in a letter Monday to Federal Reserve Chair Jerome Powell, warning him against hiking interest rates again Wednesday.\n",
            "\n",
            "--------------------\n",
            "\n",
            "제목: Biden rule will redistribute high-risk loan costs to homeowners with ...\n",
            "날짜: 2023-04-19\n",
            "설명: A new federal rule will make borrowing for a home more expensive for those with high credit scores to subsidize loans to higher-risk borrowers.\n",
            "\n",
            "--------------------\n",
            "\n",
            "제목: Trump offers unique solution to bank crises, in slam at 'interest-rate ...\n",
            "날짜: 2023-03-27\n",
            "설명: Former President Donald Trump appeared on 'Hannity' to sound off on the banking collapses and state of the economy, along with other topics on Monday.\n",
            "\n",
            "--------------------\n",
            "\n",
            "제목: Polish national bank slashes interest rates as inflation slows | Fox ...\n",
            "날짜: 2023-10-04\n",
            "설명: Poland's national bank on Wednesday lowered its key interest rate, citing a continued inflation rate decline. While still high, it has dropped from the 18% rate seen earlier this year.\n",
            "\n",
            "--------------------\n",
            "\n",
            "제목: Russia raises interest rates for fourth time in half-year as inflation ...\n",
            "날짜: 2023-10-27\n",
            "설명: Russia's Central Bank has raised its key lending rate for the fourth time in half a year, doubling to 15% from 7.5% since the first half of 2023.\n",
            "\n",
            "--------------------\n",
            "\n",
            "제목: Fed's Powell gets an earful about inflation and interest rates from ...\n",
            "날짜: 2023-10-02\n",
            "설명: Inflation, labor shortages, and high interest rates have all posed dramatic challenges for small business owners in the contemporary US economy.\n",
            "\n",
            "--------------------\n",
            "\n",
            "제목: In Mexico, inflation triggers interest rate hike | Fox News\n",
            "날짜: 2023-02-09\n",
            "설명: Mexico's reported January inflation rate of 7.91% led the Central American nation's central bank to raise its principle interest rate to 11%.\n",
            "\n",
            "--------------------\n",
            "\n",
            "제목: Fed expected to approve another interest rate hike amid banking ...\n",
            "날짜: 2023-03-19\n",
            "설명: Heritage Foundation economics fellow Steve Moore says there is ‘no need’ for a ‘bank run’ because depositor’s money is federally insured and ‘safe.’ \n",
            "\n",
            "--------------------\n",
            "\n",
            "제목: What does the Fed pausing interest rate hikes this month mean for ...\n",
            "날짜: 2023-06-15\n",
            "설명: SlateStone Wealth chief market strategist Kenny Polcari reacts to the Federal Reserve pausing interest rate hikes this month on 'Your World with Neil Cavuto.'\n",
            "\n",
            "--------------------\n",
            "\n",
            "제목: Economist predicts another interest rate hike in May | Fox News Video\n",
            "날짜: 2023-04-10\n",
            "설명: Allianz Chief Economic Adviser Mohamed El-Erian joins 'America Reports' ahead of the March inflation report's release and discusses President Biden's expected push for electric vehicles\n",
            "\n",
            "--------------------\n",
            "\n",
            "제목: United Kingdom wages rising at record rated amid high inflation ...\n",
            "날짜: 2023-07-11\n",
            "설명: Official figures have shown that wages in the U.K. are rising at historic rates amid high inflation. Many people in the country expect interest rates will once again rise soon.\n",
            "\n",
            "--------------------\n",
            "\n",
            "제목: Investor enthusiasm for AI EFTs cools amid concerns over rising ...\n",
            "날짜: 2023-10-02\n",
            "설명: Investor interest in AI-focused exchange-traded funds (ETFs) has cooled down in recent months due to concerns about persistently high U.S. interest rates affecting company valuations.\n",
            "\n",
            "--------------------\n",
            "\n",
            "제목: Biden's mortgage redistribution plan may burden one minority group ...\n",
            "날짜: 2023-04-26\n",
            "설명: New Biden administration mortgage rules that will see borrowers with good credit forced to pay increased fees could disproportionately impact Asian American applicants.\n",
            "\n",
            "--------------------\n",
            "\n",
            "제목: GOP bill would repeal Biden policy forcing people with good credit ...\n",
            "날짜: 2023-04-26\n",
            "설명: Rep. Stephanie Bice, R-Okla., unveiled the Free Market Mortgage Act of 2023 on Wednesday to stop a new Biden administration regulation that, if implemented, would force lower-risk mortgage borrowers to help subsidize lower rates for high-risk borrowers.\n",
            "\n",
            "--------------------\n",
            "\n",
            "제목: DeSantis team hammers Biden's 'recession sidekick' Jerome Powell ...\n",
            "날짜: 2023-05-04\n",
            "설명: Florida Gov. Ron DeSantis’ rapid response team released a video Thursday slamming Federal Reserve Chair Jerome Powell as President Biden’s \"recession sidekick.\"\n",
            "\n",
            "--------------------\n",
            "\n",
            "제목: The most dangerous part of the Silicon Valley Bank bailout | Fox News\n",
            "날짜: 2023-03-21\n",
            "설명: We've heard the spin from the White House that taxpayers won't have to pay for Silicon Valley Bank's collapse. Don't believe it. And, guess what? There's more you should know.\n",
            "\n",
            "--------------------\n",
            "\n",
            "제목: Biden has presided over three of four worst bank failures in US ...\n",
            "날짜: 2023-05-04\n",
            "설명: The Biden administration has been forced to respond amid a significant banking crisis in which three of the four largest bank failures in U.S. history have occurred.\n",
            "\n",
            "--------------------\n",
            "\n",
            "제목: Central bank efforts to curb inflation could impact long-term ...\n",
            "날짜: 2023-08-25\n",
            "설명: Efforts by central banks to counter inflation by raising interest rates and tempering consumer demand for goods and services might hinder investments in transformative technologies.\n",
            "\n",
            "--------------------\n",
            "\n",
            "제목: Senate GOP slams 'perverse' Biden rule forcing people with good ...\n",
            "날짜: 2023-04-25\n",
            "설명: Senate Republicans on Wednesday said the Biden administration is putting individual homebuyers and the entire housing market in danger by forcing people with good credit to subsidize high-risk mortgages.\n",
            "\n",
            "--------------------\n",
            "\n",
            "제목: Britain's Treasury chief is prepared for UK economy to slip into ...\n",
            "날짜: 2023-05-26\n",
            "설명: Jeremy Hunt, the Treasury chief of Britain, is prepared to see the U.K. economy slip into a recession if it means bringing down inflation.\n",
            "\n",
            "--------------------\n",
            "\n",
            "제목: Egypt announces 2% rate hike as inflation worsens | Fox News\n",
            "날짜: 2023-03-30\n",
            "설명: Egypt's Central Bank announced that it raised the overnight deposit rate from 16.25% to 18.25%, with nationwide inflation seeing a 6.4% spike in a single month.\n",
            "\n",
            "--------------------\n",
            "\n",
            "제목: SVB collapse only 'the tip of the iceberg' under Biden spending ...\n",
            "날짜: 2023-03-13\n",
            "설명: FreedomWorks chief economist Steve Moore said high inflation and interest rates caused financial problems for banks like SVB.\n",
            "\n",
            "--------------------\n",
            "\n",
            "제목: Chinese lending rate cut generates 3% oil price hike | Fox News\n",
            "날짜: 2023-06-13\n",
            "설명: Global oil prices rose by over 3% Tuesday as China's central bank lowered a short-term lending rate for the first time in nearly a year.\n",
            "\n",
            "--------------------\n",
            "\n",
            "제목: Biden keeps crushing the American dream of owning a home | Fox ...\n",
            "날짜: 2023-09-05\n",
            "설명: President Joe Biden claims that his 'Bidenomics' plan is restoring the American Dream. Say what? His reckless policies are keeping first-time home buyers out of the market.\n",
            "\n",
            "--------------------\n",
            "\n",
            "제목: As Biden touts US economy, Americans struggling to make car ...\n",
            "날짜: 2023-01-23\n",
            "설명: A growing number of Americans with auto loans are struggling to make their monthly payments, despite President Biden touting the state of the U.S. economy under his stewardship.\n",
            "\n",
            "--------------------\n",
            "\n",
            "제목: This $6 trillion problem threatens to push inflation even higher | Fox ...\n",
            "날짜: 2023-04-07\n",
            "설명: The Fed pays over $750 million in interest every day to banks, hedge funds and other institutions that have parked $5.7 trillion in its vaults. A year ago, that daily payment was $18 million.\n",
            "\n",
            "--------------------\n",
            "\n",
            "제목: Sen. Kennedy warns about 'pernicious' inflation under Biden: 'A ...\n",
            "날짜: 2023-03-08\n",
            "설명: Sen. John Kennedy, R-La., dissected Federal Reserve Chair Jerome Powell's response to questioning during a Senate committee hearing on \"The Faulkner Focus.\"\n",
            "\n",
            "--------------------\n",
            "\n",
            "제목: Ice cream prices double in 1 month as Argentina battles massive ...\n",
            "날짜: 2023-08-18\n",
            "설명: An Argentine store owner was surprised by an updated price list from the supplier, revealing prices of snacks, condiments, sodas, and ice creams, surging up to 60% since late July.\n",
            "\n",
            "--------------------\n",
            "\n",
            "제목: Despite falling unemployment claims, housing market still tight | Fox ...\n",
            "날짜: 2023-01-19\n",
            "설명: Unemployment rates are declining, evidenced by an unexpected dip in new jobless claims, according to the Federal Reserve, although homebuilding and manufacturing outlooks remain bleak.\n",
            "\n",
            "--------------------\n",
            "\n",
            "제목: NY manufacturing down significantly in January, Federal Reserve ...\n",
            "날짜: 2023-01-17\n",
            "설명: A study by the New York Federal Reserve showed that the state's manufacturing sector has shrunken significantly in the past month, with short-term prospects appearing bleak.\n",
            "\n",
            "--------------------\n",
            "\n",
            "제목: Sen. Tim Scott warns Biden's new mortgage rule will block families ...\n",
            "날짜: 2023-05-08\n",
            "설명: Sen. Tim Scott warns that the Biden administration's new mortgage rule will create additional risk and prevent more American families from owning homes.\n",
            "\n",
            "--------------------\n",
            "\n",
            "제목: This terrifying reason Silicon Valley Bank collapsed is a threat to ...\n",
            "날짜: 2023-04-07\n",
            "설명: This terrifying reason Silicon Valley Bank collapsed is a threat to thousands of other businesses. SVB executives embraced ESG policies and ‘woke capitalism.’\n",
            "\n",
            "--------------------\n",
            "\n",
            "제목: Japanese financial regulator to monitor BOJ amid shifting central ...\n",
            "날짜: 2023-08-29\n",
            "설명: Japan's financial regulator will maintain a close watch on the impact of central bank policies on regional banks as the nation moves towards normalizing its monetary strategies.\n",
            "\n",
            "--------------------\n",
            "\n",
            "제목: Recession 'appears inevitable' and may have already begun ...\n",
            "날짜: 2023-04-13\n",
            "설명: Financial experts recently told the New York Times that various data points show that a recession of the U.S. economy is highly likely this year.\n",
            "\n",
            "--------------------\n",
            "\n",
            "제목: What To Do About SVB? | Fox News\n",
            "날짜: 2023-03-16\n",
            "설명: The collapse of Silicon Valley Bank have lawmakers and policy figures grasping for answers. There’s little consensus as to what lawmakers may do in response – if anything.\n",
            "\n",
            "--------------------\n",
            "\n",
            "제목: Americans are deep in credit card debt, but Bidenomics threatens to ...\n",
            "날짜: 2023-10-02\n",
            "설명: Unfortunately, while Republicans are universally attacking Bidenomics with their rhetoric, some are actually emulating Bidenomics with their policies.\n",
            "\n",
            "--------------------\n",
            "\n",
            "제목: US dollar slides in value after rate hikes, while Japanese yen rises ...\n",
            "날짜: 2023-01-19\n",
            "설명: The value of the U.S. dollar slipped Thursday as traders saw data showing the economy to be slowing. Meanwhile, the Japanese yen appreciated in value.\n",
            "\n",
            "--------------------\n",
            "\n",
            "제목: Americans in these northeast states are choosing not to buy houses ...\n",
            "날짜: 2023-03-10\n",
            "설명: Residents in the cities of Newark, New Jersey, New York, Connecticut, and Massachusetts have a high ratio of renters to buyers. People are renting due to debt, interest rates, and money.\n",
            "\n",
            "--------------------\n",
            "\n",
            "제목: Steve Forbes warns 'storm clouds' ahead for economy, rips Biden's ...\n",
            "날짜: 2023-04-12\n",
            "설명: Steve Forbes says two \"storm clouds\" are spelling trouble for the U.S. economy - the Federal Reserve's monetary policy and the Biden administration's green energy agenda.\n",
            "\n",
            "--------------------\n",
            "\n",
            "제목: TUCKER CARLSON: The Biden administration sees bank crisis as a ...\n",
            "날짜: 2023-03-13\n",
            "설명: Fox News host Tucker Carlson analyzes the impact of the Silicon Valley Bank collapse and calls out President Biden's handling of the situation on \"Tucker Carlson Tonight.\"\n",
            "\n",
            "--------------------\n",
            "\n",
            "제목: Erdogan appoints former US banking executive to head central bank ...\n",
            "날짜: 2023-06-09\n",
            "설명: Turkish President Recep Tayyip Erdogan on Friday named Hafize Gaye Erkan, the U.S.-based former First Republic Bank executive, as the next director of Turkey's central bank.\n",
            "\n",
            "--------------------\n",
            "\n",
            "제목: Kevin O'Leary warns chaos is about to begin for US economy: 'Wake ...\n",
            "날짜: 2023-08-31\n",
            "설명: O'Leary Ventures chairman Kevin O'Leary joined \"Fox & Friends\" to discuss the dire situation facing small businesses due to high interest rates.\n",
            "\n",
            "--------------------\n",
            "\n",
            "제목: Used Ford Maverick pickups still cost more than new ones | Fox News\n",
            "날짜: 2023-04-07\n",
            "설명: The Ford Maverick pickup is one of 14 lightly used models that are still selling for more than new ones, according to a study of 8.9 million sales.\n",
            "\n",
            "--------------------\n",
            "\n",
            "제목: GOP senators press Federal Reserve on climate agenda amid ...\n",
            "날짜: 2023-05-16\n",
            "설명: Senate Republicans are calling on Federal Reserve Chairman Jerome Powell to order central bank officials to stop pursuing climate change policies and instead focus on inflation.\n",
            "\n",
            "--------------------\n",
            "\n",
            "제목: Dollar strengthens as oil prices stabilize | Fox News\n",
            "날짜: 2023-02-02\n",
            "설명: Oil prices settled at lower rates Thursday as the U.S. dollar also strengthened, making crude oil more expensive for buyers outside the country.\n",
            "\n",
            "--------------------\n",
            "\n",
            "제목: Germany projects underwhelming economic growth through 2024 ...\n",
            "날짜: 2023-11-08\n",
            "설명: Germany's economy will grow by an underwhelming 0.7% next year, down from March's 1.3% projection, according to Berlin's panel of independent economic advisers.\n",
            "\n",
            "--------------------\n",
            "\n",
            "제목: Italy cuts GDP growth forecast, stymied by inflation, Ukraine | Fox ...\n",
            "날짜: 2023-04-11\n",
            "설명: Italy cut its economic growth forecast for next year, noting rising interest rates, localized banking crises and the war in Ukraine as the new projection's contributing factors.\n",
            "\n",
            "--------------------\n",
            "\n",
            "제목: Spending shocker: CBO's latest debt projection should stun even ...\n",
            "날짜: 2023-02-26\n",
            "설명: The current debt the U.S. owes is $31.4 trillion. But the CBO estimates the federal government will accumulate an eye-popping $19 trillion in debt over the next decade.\n",
            "\n",
            "--------------------\n",
            "\n",
            "제목: Brazil's central bank takes backseat in government's consumer debt ...\n",
            "날짜: 2023-06-06\n",
            "설명: Brazil's central bank has revealed that it did not actively participate in the development of the government's newly unveiled comprehensive consumer debt renegotiation program.\n",
            "\n",
            "--------------------\n",
            "\n",
            "제목: End of cheap insurance looms in South Africa after country ...\n",
            "날짜: 2023-03-30\n",
            "설명: South Africa insurers are grappling with unprecedented claims from catastrophic events such as a power grid collapse, prompting an end to cheap insurance in the country.\n",
            "\n",
            "--------------------\n",
            "\n",
            "제목: Texas voters overwhelmingly approve measure greenlighting more ...\n",
            "날짜: 2023-11-08\n",
            "설명: Texans voted overwhelmingly in favor of a ballot measure greenlighting a billion-dollar program to ensure the state develops more fossil fuel power generation.\n",
            "\n",
            "--------------------\n",
            "\n",
            "제목: Hunter Biden to enter guilty plea in federal court, Mayorkas grilled ...\n",
            "날짜: 2023-07-26\n",
            "설명: Hunter Biden set to enter guilty plea in federal court following yearslong probe into his tax affairs.\n",
            "\n",
            "--------------------\n",
            "\n",
            "제목: As India inches closer as world's most populous nation, interest in ...\n",
            "날짜: 2023-04-12\n",
            "설명: Residents in India are showing little interest in birth control as the country continues to inch closer to becoming the world’s most populous nation.\n",
            "\n",
            "--------------------\n",
            "\n",
            "제목: College students struggle as US credit card debt hits a record high ...\n",
            "날짜: 2023-09-23\n",
            "설명: U.S. credit card debt is at an all time high at $1 trillion and college students are getting hit hard due to more interest and higher APRs\n",
            "\n",
            "--------------------\n",
            "\n",
            "제목: Biden in a 'lot of trouble' as economic trends turn 'frightening,' warns ...\n",
            "날짜: 2023-09-08\n",
            "설명: FOX Business Network host Charles Payne tells 'Hannity' that economic indicators show that the situation is about to get 'a whole lot worse' before the 2024 election.\n",
            "\n",
            "--------------------\n",
            "\n",
            "제목: Economists mock 'Bidenomics' push from White House: 'they spend ...\n",
            "날짜: 2023-06-28\n",
            "설명: President Biden delivered a speech Wednesday in Chicago on \"Bidenomics\" — a term economists said represents an ineffective, unpopular, and expensive set of policies.\n",
            "\n",
            "--------------------\n",
            "\n",
            "제목: Kamala Harris slip-up reveals how Bidenomics hurting American ...\n",
            "날짜: 2023-08-26\n",
            "설명: A recent Morning Consult survey found that in the third quarter of this year only 46% of Americans could cover a $400 unexpected expense without going into debt.\n",
            "\n",
            "--------------------\n",
            "\n",
            "제목: TUCKER CARLSON: Silicon Valley Bank has gone completely ...\n",
            "날짜: 2023-03-10\n",
            "설명: Fox News host Tucker Carlson explains the devastating impact following the collapse of Silicon Valley Bank on Friday's \"Tucker Carlson Tonight.\"\n",
            "\n",
            "--------------------\n",
            "\n",
            "제목: Rising political stars on the right and left: 12 people to watch in 2023 ...\n",
            "날짜: 2022-12-27\n",
            "설명: Heading into the new year, these rising political figures are expected to play a major role in shaping the future of American politics.\n",
            "\n",
            "--------------------\n",
            "\n",
            "제목: 'SHUT DOWN': Far-left climate protesters arrested after 'storming ...\n",
            "날짜: 2023-04-28\n",
            "설명: Multiple climate protesters \"shut down entry\" to BlackRock's New York City headquarters Friday after they stormed the barricades outside the building.\n",
            "\n",
            "--------------------\n",
            "\n",
            "제목: OK Gov. Kevin Stitt's top priority expected to be tax cuts in State of ...\n",
            "날짜: 2023-02-06\n",
            "설명: Oklahoma Gov. Kevin Stitt will give his State of the State address at noon on Monday. Tax cuts are expected to be a priority during the address.\n",
            "\n",
            "--------------------\n",
            "\n",
            "제목: Like paying for sky-high gas, groceries? Wish Biden's Inflation ...\n",
            "날짜: 2023-08-15\n",
            "설명: The Inflation Reduction Act was passed by Congress one year ago this month. President Biden and others promised Americans the law would attack inflation. They were wrong.\n",
            "\n",
            "--------------------\n",
            "\n",
            "제목: Biden wants to blame debt crisis on this group but can't avoid his ...\n",
            "날짜: 2023-05-22\n",
            "설명: Biden wants to blame debt crisis on this group but can't avoid his own economic incompetence. Battle scares left because of fears president will take blame.\n",
            "\n",
            "--------------------\n",
            "\n",
            "제목: States tackle America's crippling medical debt with relief programs ...\n",
            "날짜: 2023-04-13\n",
            "설명: Lawmakers in a dozen states have proposed a flurry of relief bills to tackle the country’s medical debt that has placed millions of people in bankruptcy.\n",
            "\n",
            "--------------------\n",
            "\n",
            "제목: Crime is surging and here's a way to help stop it | Fox News\n",
            "날짜: 2023-05-31\n",
            "설명: Crime is surging and here’s a way to help stop it. Worst inflation in more than 40 years is tied directly to spike in crime – even the New York Times admits it.\n",
            "\n",
            "--------------------\n",
            "\n",
            "제목: Top conservative group exposes how both parties contributed eye ...\n",
            "날짜: 2023-09-20\n",
            "설명: The Heritage Foundation has published the first comprehensive report of the historic amount of recent government spending and concluding that much of it was 'unnecessary.'\n",
            "\n",
            "--------------------\n",
            "\n",
            "제목: Biden must resist Republican debt ceiling demands. Here's what he ...\n",
            "날짜: 2023-05-23\n",
            "설명: Wealth inequality, corporate profits show US economy out of touch with needs of Americans. Biden must resist GOP debt plan that would make problems worse.\n",
            "\n",
            "--------------------\n",
            "\n",
            "제목: Trump weighs in on possible nomination for House speaker after ...\n",
            "날짜: 2023-10-04\n",
            "설명: Former President Donald Trump weighed in on calls for him to fill the vacant speaker of the House role after Rep. Kevin McCarthy was ousted from the position.\n",
            "\n",
            "--------------------\n",
            "\n",
            "제목: The Ron DeSantis blueprint can save Europe, too | Fox News\n",
            "날짜: 2023-03-08\n",
            "설명: Governor Ron DeSantis's reputation has reached European shores.\n",
            "\n",
            "--------------------\n",
            "\n",
            "제목: Bank of Canada deliberates delaying rate hike amid inflation ...\n",
            "날짜: 2023-07-26\n",
            "설명: The Bank of Canada implemented a 25 basis point increase, bringing rates to a 22-year high of 5.0%. Alongside the hike, the bank adjusted its 2023 growth forecast\n",
            "\n",
            "--------------------\n",
            "\n",
            "제목: Why US consumers may crush Biden's reelection hopes | Fox News\n",
            "날짜: 2023-09-03\n",
            "설명: September has arrived and the 2024 presidential campaign is starting to heat up. President Biden and his team are focused on the success of Bidenomics. But the glow may be short lived.\n",
            "\n",
            "--------------------\n",
            "\n",
            "제목: Bidenomics is a disaster, but president is still trying to run on it | Fox ...\n",
            "날짜: 2023-07-05\n",
            "설명: Biden is basing his re-election campaign on Bidenomics. But the reality isn't good for Americans. Falling wages, high inflation and higher gas prices show it is a disaster.\n",
            "\n",
            "--------------------\n",
            "\n",
            "제목: Developer axes 2 major offshore wind projects in blow to Biden's ...\n",
            "날짜: 2023-11-01\n",
            "설명: A major global energy developer axed two offshore wind projects that the Biden administration recently approved and boasted would create thousands of jobs.\n",
            "\n",
            "--------------------\n",
            "\n",
            "제목: Argentina faces accelerated monthly inflation at 7.1% in July, posing ...\n",
            "날짜: 2023-08-11\n",
            "설명: Argentina's monthly inflation rate is predicted to accelerate to 7.1% in July. This potential surge in the Consumer Price Index could disrupt the trend of declining monthly inflation.\n",
            "\n",
            "--------------------\n",
            "\n",
            "제목: National economist survey finds more businesses expecting job ...\n",
            "날짜: 2023-01-23\n",
            "설명: With Recession fears looming, businesses are expecting job reductions in 2023. The Fed has been aggressively raising the interest rate to combat inflation which has slowed the economy.\n",
            "\n",
            "--------------------\n",
            "\n",
            "제목: Fox News Poll: 72% dissatisfied with direction of country | Fox News\n",
            "날짜: 2023-10-12\n",
            "설명: Fox News Polling reveals where a majority of Americans stand on the direction the nation is headed.\n",
            "\n",
            "--------------------\n",
            "\n",
            "제목: 'It's hurt us bad': Americans grade President Biden's handling of the ...\n",
            "날짜: 2023-09-05\n",
            "설명: Americans walking in the nation's capital graded President Biden's handling of the economy as the chief executive has touted his \"Bidenomics\" successes.\n",
            "\n",
            "--------------------\n",
            "\n",
            "제목: A new twist to Biden's student loan handout plan could cost ...\n",
            "날짜: 2023-02-07\n",
            "설명: Biden administration's newly proposed rule on student loans proposes massive changes to the 'income-driven repayment' program.\n",
            "\n",
            "--------------------\n",
            "\n",
            "제목: Politics & Regulation Videos and Video Clips | Fox News Video\n",
            "날짜: 2023-11-12\n",
            "설명: Discover all the trending Politics  & Regulation videos on Fox News. Watch the latest and current news for Politics  & Regulation today. View full episodes from your favorite anchors, extra features & more online with Fox!\n",
            "\n",
            "--------------------\n",
            "\n",
            "제목: Yellen and rest of Bidenomics team ignore middle-class misery their ...\n",
            "날짜: 2023-10-07\n",
            "설명: as Federal Reserve chair and now as secretary of the Treasury, Janet Yellen has been woefully disconnected from everyday Americans and their current financial plight.\n",
            "\n",
            "--------------------\n",
            "\n",
            "제목: We can still save the American Dream. Here's the first step | Fox News\n",
            "날짜: 2023-10-24\n",
            "설명: If we are going to pass on the American Dream, we must go back to the formula that has always made America prosper: respect for freedom and devotion to the public good.\n",
            "\n",
            "--------------------\n",
            "\n",
            "제목: Biden called out for 'factual error' in 'Bidenomics' tweet, after ...\n",
            "날짜: 2023-07-17\n",
            "설명: President Biden's attempt to praise the impact of his economic policies, which he calls 'Bidenomics,' backfired as he was swiftly fact-checked.\n",
            "\n",
            "--------------------\n",
            "\n",
            "제목: 'Fox News Sunday' on May 7, 2023 | Fox News\n",
            "날짜: 2023-05-07\n",
            "설명: This week on 'Fox News Sunday,' host Shannon Bream welcomes Texas Gov. Greg Abbott, Rep. Henry Cuellar, and more to discuss this week's top headlines.\n",
            "\n",
            "--------------------\n",
            "\n",
            "제목: LAURA INGRAHAM: Our first order of business under a new ...\n",
            "날짜: 2023-03-16\n",
            "설명: Laura Ingraham spells out what the 2024 GOP blueprint for the presidency should be and why the party should focus on \"America First–style populism\" on \"The Ingraham Angle.\"\n",
            "\n",
            "--------------------\n",
            "\n",
            "제목: Student loan repayments are back. Will colleges continue to get a ...\n",
            "날짜: 2023-10-05\n",
            "설명: Student loan repayments are back. Will colleges continue to get a free pass for this mess? And will anyone point fingers at the government for its role in the fiasco?\n",
            "\n",
            "--------------------\n",
            "\n",
            "제목: NYC police union boss faces leadership challenge amid city's crime ...\n",
            "날짜: 2023-02-06\n",
            "설명: Corey Grable, who joined the NYPD 27 years ago, launched a campaign against PBA President Pat Lynch, who has been in the job since 1999, promising to secure a police contract.\n",
            "\n",
            "--------------------\n",
            "\n",
            "제목: Biden must drop 'absolutist' position in debt ceiling talks with ...\n",
            "날짜: 2023-05-08\n",
            "설명: The president has invited the top four Congressional leaders to the White House on Tuesday to discuss the U.S. debt ceiling, but President Biden is refusing to negotiate spending cuts in those talks.\n",
            "\n",
            "--------------------\n",
            "\n",
            "제목: Debt ceiling vote could save America if House Republicans are ...\n",
            "날짜: 2023-01-12\n",
            "설명: Debt ceiling vote could save America if House Republicans will stand up to Democrats, especially after US government took in nearly $5 trillion in 2022.\n",
            "\n",
            "--------------------\n",
            "\n",
            "제목: Economy is in the tank, banks are reeling, inflation is sky-high and ...\n",
            "날짜: 2023-03-20\n",
            "설명: America's economy is slowing, there's a crisis of confidence in our banking system, inflation is white hot, real incomes are falling. SVB's collapse is Exhibit A for Biden's failures.\n",
            "\n",
            "--------------------\n",
            "\n",
            "제목: Kevin O'Leary issues warning on downgraded US credit rating ...\n",
            "날짜: 2023-08-06\n",
            "설명: O'Leary Ventures Chairman Kevin O'Leary sounded the alarm on the decision by Fitch Ratings to downgrade the U.S. credit rating and detailed how Americans could be impacted.\n",
            "\n",
            "--------------------\n",
            "\n",
            "제목: Biden budget would lead to 'record' national debt, watchdog warns ...\n",
            "날짜: 2023-03-09\n",
            "설명: The Committee for a Responsible Federal Budget released an analysis of President Joe Biden's budget proposal for the 2024 fiscal year, claiming it does not do enough to reduce spending.\n",
            "\n",
            "--------------------\n",
            "\n",
            "제목: GOP presidential candidates react to Silicon Valley Bank collapse ...\n",
            "날짜: 2023-03-12\n",
            "설명: Former President Trump blamed the Biden administration’s \"anti-America policies\" for contributing to the shocking collapse of Silicon Valley Bank.\n",
            "\n",
            "--------------------\n",
            "\n",
            "제목: Us. Economy. & Consumerism Videos and Video Clips | Fox News ...\n",
            "날짜: 2023-11-07\n",
            "설명: Discover all the trending Us. Economy. & Consumerism videos on Fox News. Watch the latest and current news for Us. Economy. & Consumerism today. View full episodes from your favorite anchors, extra features & more online with Fox!\n",
            "\n",
            "--------------------\n",
            "\n",
            "제목: Sen. Kennedy says SVB bailout could have been avoided: 'Bone ...\n",
            "날짜: 2023-03-15\n",
            "설명: Sen. John Kennedy said Wednesday that the bailout of SVB in California could have been avoided if the bank were paying attention and regulators acted.\n",
            "\n",
            "--------------------\n",
            "\n",
            "제목: Former Dems including Clinton donor, Obama official dominated ...\n",
            "날짜: 2023-03-14\n",
            "설명: The board of Silicon Valley Bank, which imploded over the weekend, was stacked with former Clinton donors, Obama appointees and Democratic activists.\n",
            "\n",
            "--------------------\n",
            "\n",
            "제목: Former Detroit Police Chief James Craig to launch Senate campaign ...\n",
            "날짜: 2023-10-03\n",
            "설명: Former Detroit Police Chief James Craig confirmed to Fox News Digital that he will launch his campaign for the U.S. Senate in Michigan on Wednesday.\n",
            "\n",
            "--------------------\n",
            "\n",
            "제목: Trump insists he was transparent with FBI about classified docs ...\n",
            "날짜: 2023-03-28\n",
            "설명: Former President Donald Trump says he was transparent with the FBI about his handling of classified documents and accused President Biden of having boxes \"stored in Chinatown.\"\n",
            "\n",
            "--------------------\n",
            "\n",
            "제목: SEAN HANNITY: Another massive crisis for the reckless ...\n",
            "날짜: 2023-03-13\n",
            "설명: Fox News host Sean Hannity reacts to the collapse of Silicon Valley Bank and how President Biden's economic policies likely played a role on 'Hannity.'\n",
            "\n",
            "--------------------\n",
            "\n",
            "제목: 'Fox News Sunday' on September 3, 2023 | Fox News\n",
            "날짜: 2023-09-03\n",
            "설명: This week on 'Fox News Sunday,' Shannon Bream talks with former Vice President Mike Pence, former State Department spokesperson Marie Harf, and more.\n",
            "\n",
            "--------------------\n",
            "\n",
            "제목: Eliminating child support for Black fathers in CA will make more ...\n",
            "날짜: 2023-07-10\n",
            "설명: Larry Elder says cutting child support debt owed by Black fathers in California will break down the family and harm single mothers and their kids.\n",
            "\n",
            "--------------------\n",
            "\n",
            "에러: 400\n",
            "에러 메시지: {\n",
            "  \"error\": {\n",
            "    \"code\": 400,\n",
            "    \"message\": \"Request contains an invalid argument.\",\n",
            "    \"errors\": [\n",
            "      {\n",
            "        \"message\": \"Request contains an invalid argument.\",\n",
            "        \"domain\": \"global\",\n",
            "        \"reason\": \"badRequest\"\n",
            "      }\n",
            "    ],\n",
            "    \"status\": \"INVALID_ARGUMENT\"\n",
            "  }\n",
            "}\n",
            "\n"
          ]
        }
      ],
      "source": [
        "import requests\n",
        "import json\n",
        "\n",
        "url_template = 'https://api.foxnews.com/search/web?q=interest%20rate+-filetype:amp+-filetype:xml+more:pagemap:metatags-prism.section&siteSearch=foxnews.com&siteSearchFilter=i&sort=date:r:20230101:20231231&start={}'\n",
        "\n",
        "start = 1\n",
        "while True:\n",
        "    url = url_template.format(start)\n",
        "\n",
        "    response = requests.get(url)\n",
        "\n",
        "    if response.status_code == 200:\n",
        "        data = response.json()\n",
        "        items = data.get('items', [])\n",
        "\n",
        "        if not items:\n",
        "            print(\"페이지 끝까지 도달했습니다.\")\n",
        "            break\n",
        "\n",
        "        for result in items:\n",
        "            title = result.get(\"title\", \"N/A\")\n",
        "            date = result[\"pagemap\"][\"metatags\"][0].get(\"dc.date\", \"N/A\")\n",
        "            description = result[\"pagemap\"][\"metatags\"][0].get(\"og:description\", \"N/A\")\n",
        "\n",
        "            # 추출한 정보 출력 또는 사용\n",
        "            print(\"제목:\", title)\n",
        "            print(\"날짜:\", date)\n",
        "            print(\"설명:\", description)\n",
        "            print(\"\\n\" + \"-\"*20 + \"\\n\")\n",
        "\n",
        "        start += 10  # 다음 페이지를 위해 start 값을 10 증가\n",
        "    else:\n",
        "        print(f\"에러: {response.status_code}\")\n",
        "        print(f\"에러 메시지: {response.text}\")\n",
        "\n",
        "        break"
      ]
    },
    {
      "cell_type": "code",
      "execution_count": null,
      "metadata": {
        "colab": {
          "base_uri": "https://localhost:8080/"
        },
        "id": "2ULWaEGv8BDa",
        "outputId": "19088ed6-f85e-46c7-9fbe-311eb7e95d03"
      },
      "outputs": [
        {
          "name": "stdout",
          "output_type": "stream",
          "text": [
            "제목: As Biden touts US economy, Americans struggling to make car ...\n",
            "날짜: 2023-01-23\n",
            "설명: A growing number of Americans with auto loans are struggling to make their monthly payments, despite President Biden touting the state of the U.S. economy under his stewardship.\n",
            "\n",
            "--------------------\n",
            "\n",
            "제목: Despite falling unemployment claims, housing market still tight | Fox ...\n",
            "날짜: 2023-01-19\n",
            "설명: Unemployment rates are declining, evidenced by an unexpected dip in new jobless claims, according to the Federal Reserve, although homebuilding and manufacturing outlooks remain bleak.\n",
            "\n",
            "--------------------\n",
            "\n",
            "제목: NY manufacturing down significantly in January, Federal Reserve ...\n",
            "날짜: 2023-01-17\n",
            "설명: A study by the New York Federal Reserve showed that the state's manufacturing sector has shrunken significantly in the past month, with short-term prospects appearing bleak.\n",
            "\n",
            "--------------------\n",
            "\n",
            "제목: US dollar slides in value after rate hikes, while Japanese yen rises ...\n",
            "날짜: 2023-01-19\n",
            "설명: The value of the U.S. dollar slipped Thursday as traders saw data showing the economy to be slowing. Meanwhile, the Japanese yen appreciated in value.\n",
            "\n",
            "--------------------\n",
            "\n",
            "제목: Rising political stars on the right and left: 12 people to watch in 2023 ...\n",
            "날짜: 2022-12-27\n",
            "설명: Heading into the new year, these rising political figures are expected to play a major role in shaping the future of American politics.\n",
            "\n",
            "--------------------\n",
            "\n",
            "제목: National economist survey finds more businesses expecting job ...\n",
            "날짜: 2023-01-23\n",
            "설명: With Recession fears looming, businesses are expecting job reductions in 2023. The Fed has been aggressively raising the interest rate to combat inflation which has slowed the economy.\n",
            "\n",
            "--------------------\n",
            "\n",
            "제목: Debt ceiling vote could save America if House Republicans are ...\n",
            "날짜: 2023-01-12\n",
            "설명: Debt ceiling vote could save America if House Republicans will stand up to Democrats, especially after US government took in nearly $5 trillion in 2022.\n",
            "\n",
            "--------------------\n",
            "\n",
            "제목: How to get out of the credit card debt 'trap' | Fox News Video\n",
            "날짜: 2023-01-13\n",
            "설명: Personal finance expert Dan Roccato weighs in as credit card interest rates hit a record high as Americans rack up debt covering expenses.\n",
            "\n",
            "--------------------\n",
            "\n",
            "제목: Sending signals: Arkansas' Asa Hutchinson says Iowa trips show ...\n",
            "날짜: 2023-01-13\n",
            "설명: Former Arkansas Gov. Asa Hutchinson makes two trips this week to Iowa – which he acknowledges is a sign that he’s seriously considering a Republican White House run.\n",
            "\n",
            "--------------------\n",
            "\n",
            "페이지 끝까지 도달했습니다.\n"
          ]
        }
      ],
      "source": [
        "import requests\n",
        "import json\n",
        "\n",
        "start_date = \"20230101\"\n",
        "end_date = \"20230131\"\n",
        "\n",
        "url_template = 'https://api.foxnews.com/search/web?q=interest%20rate+-filetype:amp+-filetype:xml+more:pagemap:metatags-prism.section&siteSearch=foxnews.com&siteSearchFilter=i&sort=date:r:{}:{}&start={}'\n",
        "\n",
        "start = 1\n",
        "while True:\n",
        "    url = url_template.format(start_date, end_date, start)\n",
        "\n",
        "    response = requests.get(url)\n",
        "\n",
        "    if response.status_code == 200:\n",
        "        data = response.json()\n",
        "        items = data.get('items', [])\n",
        "\n",
        "        if not items:\n",
        "            print(\"페이지 끝까지 도달했습니다.\")\n",
        "            break\n",
        "\n",
        "        for result in items:\n",
        "            title = result.get(\"title\", \"N/A\")\n",
        "            date = result[\"pagemap\"][\"metatags\"][0].get(\"dc.date\", \"N/A\")\n",
        "            description = result[\"pagemap\"][\"metatags\"][0].get(\"og:description\", \"N/A\")\n",
        "\n",
        "            # 추출한 정보 출력 또는 사용\n",
        "            print(\"제목:\", title)\n",
        "            print(\"날짜:\", date)\n",
        "            print(\"설명:\", description)\n",
        "            print(\"\\n\" + \"-\"*20 + \"\\n\")\n",
        "\n",
        "        start += 10  # 다음 페이지를 위해 start 값을 10 증가\n",
        "    else:\n",
        "        print(start)\n",
        "        print(f\"에러: {response.status_code}\")\n",
        "        print(f\"에러 메시지: {response.text}\")\n",
        "\n",
        "        break\n"
      ]
    },
    {
      "cell_type": "markdown",
      "metadata": {
        "id": "KjsdhlaCB4PR"
      },
      "source": [
        "#### 기사 리스트(날짜 지정, 키워드: interest rate, article만 뽑아내기)"
      ]
    },
    {
      "cell_type": "code",
      "execution_count": null,
      "metadata": {
        "colab": {
          "base_uri": "https://localhost:8080/"
        },
        "id": "tRSncCGoB3nX",
        "outputId": "de5d0e2f-8273-452b-e425-d4f927f91681"
      },
      "outputs": [
        {
          "name": "stdout",
          "output_type": "stream",
          "text": [
            "페이지 끝까지 도달했습니다.\n",
            "{'Title': 'Chinese lending rate cut generates 3% oil price hike | Fox News', 'Date': '2023-06-13', 'Description': \"Global oil prices rose by over 3% Tuesday as China's central bank lowered a short-term lending rate for the first time in nearly a year.\", 'URL': 'https://www.foxnews.com/opinion/crime-surging-heres-way-help-stop'}\n",
            "{'Title': 'Erdogan appoints former US banking executive to head central bank ...', 'Date': '2023-06-09', 'Description': \"Turkish President Recep Tayyip Erdogan on Friday named Hafize Gaye Erkan, the U.S.-based former First Republic Bank executive, as the next director of Turkey's central bank.\", 'URL': 'https://www.foxnews.com/opinion/crime-surging-heres-way-help-stop'}\n",
            "{'Title': \"Brazil's central bank takes backseat in government's consumer debt ...\", 'Date': '2023-06-06', 'Description': \"Brazil's central bank has revealed that it did not actively participate in the development of the government's newly unveiled comprehensive consumer debt renegotiation program.\", 'URL': 'https://www.foxnews.com/opinion/crime-surging-heres-way-help-stop'}\n",
            "{'Title': \"Economists mock 'Bidenomics' push from White House: 'they spend ...\", 'Date': '2023-06-28', 'Description': 'President Biden delivered a speech Wednesday in Chicago on \"Bidenomics\" — a term economists said represents an ineffective, unpopular, and expensive set of policies.', 'URL': 'https://www.foxnews.com/opinion/crime-surging-heres-way-help-stop'}\n",
            "{'Title': \"Crime is surging and here's a way to help stop it | Fox News\", 'Date': '2023-05-31', 'Description': 'Crime is surging and here’s a way to help stop it. Worst inflation in more than 40 years is tied directly to spike in crime – even the New York Times admits it.', 'URL': 'https://www.foxnews.com/opinion/crime-surging-heres-way-help-stop'}\n",
            "{'Title': 'Joe Rogan, Elon Musk challenge scientist to debate Robert ...', 'Date': '2023-06-19', 'Description': \"Elon Musk and Joe Rogan's public pressure campaign on a vaccine scientist to debate Robert F. Kennedy, Jr., touched off a firestorm over the weekend.\", 'URL': 'https://www.foxnews.com/opinion/crime-surging-heres-way-help-stop'}\n",
            "6\n"
          ]
        }
      ],
      "source": [
        "import requests\n",
        "import json\n",
        "\n",
        "start_date = \"20230601\"\n",
        "end_date = \"20230631\"\n",
        "\n",
        "url_template = 'https://api.foxnews.com/search/web?q=interest%20rate+-filetype:amp+-filetype:xml+more:pagemap:metatags-prism.section+more:pagemap:metatags-pagetype:article+more:pagemap:metatags-dc.type:Text.Article&siteSearch=foxnews.com&siteSearchFilter=i&sort=date:r:{}:{}&start={}'\n",
        "\n",
        "start = 1\n",
        "result_list = []  # 결과를 저장할 리스트\n",
        "\n",
        "while True:\n",
        "    url = url_template.format(start_date, end_date, start)\n",
        "\n",
        "    response = requests.get(url)\n",
        "\n",
        "    if response.status_code == 200:\n",
        "        data = response.json()\n",
        "        items = data.get('items', [])\n",
        "\n",
        "        if not items:\n",
        "            print(\"페이지 끝까지 도달했습니다.\")\n",
        "            break\n",
        "\n",
        "        for result in items:\n",
        "            title = result.get(\"title\", \"N/A\")\n",
        "            date = result[\"pagemap\"][\"metatags\"][0].get(\"dc.date\", \"N/A\")\n",
        "            description = result[\"pagemap\"][\"metatags\"][0].get(\"og:description\", \"N/A\")\n",
        "\n",
        "            # 추출한 정보를 딕셔너리로 저장하여 리스트에 추가\n",
        "            result_dict = {\n",
        "                \"Title\": title,\n",
        "                \"Date\": date,\n",
        "                \"Description\": description,\n",
        "                \"URL\": link\n",
        "            }\n",
        "            result_list.append(result_dict)\n",
        "\n",
        "        start += 10  # 다음 페이지를 위해 start 값을 10 증가\n",
        "    else:\n",
        "        print(f\"에러: {response.status_code}\")\n",
        "        print(f\"에러 메시지: {response.text}\")\n",
        "        break\n",
        "\n",
        "# 결과 리스트 출력\n",
        "for result in result_list:\n",
        "    print(result)\n",
        "\n",
        "print(len(result_list))"
      ]
    },
    {
      "cell_type": "markdown",
      "metadata": {
        "id": "DzW4HoTx7ODA"
      },
      "source": [
        "### 기사 내용 다 뽑기"
      ]
    },
    {
      "cell_type": "markdown",
      "metadata": {
        "id": "GVGERexli2K8"
      },
      "source": [
        "#### 기사 여러 개 리스트 - 그 중 하나 내용 출력"
      ]
    },
    {
      "cell_type": "code",
      "execution_count": null,
      "metadata": {
        "colab": {
          "base_uri": "https://localhost:8080/"
        },
        "id": "zU3x0YiArjE0",
        "outputId": "bcd2b277-cc23-4290-8b82-1231c1673102"
      },
      "outputs": [
        {
          "name": "stdout",
          "output_type": "stream",
          "text": [
            "페이지 끝까지 도달했습니다.\n",
            "{'Title': 'Chinese lending rate cut generates 3% oil price hike | Fox News', 'Date': '2023-06-13', 'Description': \"Global oil prices rose by over 3% Tuesday as China's central bank lowered a short-term lending rate for the first time in nearly a year.\", 'URL': 'https://www.foxnews.com/world/chinese-lending-rate-cut-generates-3-oil-price-hike'}\n",
            "{'Title': 'Erdogan appoints former US banking executive to head central bank ...', 'Date': '2023-06-09', 'Description': \"Turkish President Recep Tayyip Erdogan on Friday named Hafize Gaye Erkan, the U.S.-based former First Republic Bank executive, as the next director of Turkey's central bank.\", 'URL': 'https://www.foxnews.com/world/erdogan-appoints-former-us-banking-executive-head-central-bank'}\n",
            "{'Title': \"Brazil's central bank takes backseat in government's consumer debt ...\", 'Date': '2023-06-06', 'Description': \"Brazil's central bank has revealed that it did not actively participate in the development of the government's newly unveiled comprehensive consumer debt renegotiation program.\", 'URL': 'https://www.foxnews.com/world/brazils-central-bank-takes-backseat-governments-consumer-debt-renegotiation-program'}\n",
            "{'Title': \"Economists mock 'Bidenomics' push from White House: 'they spend ...\", 'Date': '2023-06-28', 'Description': 'President Biden delivered a speech Wednesday in Chicago on \"Bidenomics\" — a term economists said represents an ineffective, unpopular, and expensive set of policies.', 'URL': 'https://www.foxnews.com/politics/economists-mock-bidenomics-push-white-house-they-spend-like-drunken-sailors'}\n",
            "{'Title': \"Crime is surging and here's a way to help stop it | Fox News\", 'Date': '2023-05-31', 'Description': 'Crime is surging and here’s a way to help stop it. Worst inflation in more than 40 years is tied directly to spike in crime – even the New York Times admits it.', 'URL': 'https://www.foxnews.com/opinion/crime-surging-heres-way-help-stop'}\n",
            "{'Title': 'Joe Rogan, Elon Musk challenge scientist to debate Robert ...', 'Date': '2023-06-19', 'Description': \"Elon Musk and Joe Rogan's public pressure campaign on a vaccine scientist to debate Robert F. Kennedy, Jr., touched off a firestorm over the weekend.\", 'URL': 'https://www.foxnews.com/media/joe-rogan-elon-musk-challenge-scientist-debate-robert-kennedy-jr-vaccines-sets-off-firestorm'}\n",
            "Title: Chinese lending rate cut generates 3% oil price hike\n",
            "Date: 2023-06-13\n",
            "Contents:\n",
            "Fox News Flash top headlines are here. Check out what's clicking on Foxnews.com.\n",
            "Oil prices climbed over 3% on Tuesday on hopes for growing fuel demand after China's central bank lowered a short-term lending rate for the first time in 10 months, boosting crude prices after steep losses the previous session.\n",
            "The rate cut is aimed at adding momentum to a hesitant post-pandemic recovery in the world's second-largest economy and biggest crude importer.\n",
            "Brent crude futures settled up $2.45, or 3.4%, to $74.29 a barrel. U.S. West Texas Intermediate (WTI) crude gained $2.30, or 3.4%, at $69.42 a barrel.\n",
            "DOLLAR STRENGTHENS AS OIL PRICES STABILIZE\n",
            "On Monday, crude prices fell by about 4%, in part because of concerns about the Chinese economy after disappointing economic data last week.\n",
            "\"The market is showing a rebound from yesterday,\" Phil Flynn, an analyst at Price Futures group, said. \"It was overdone with doom and gloom on Monday.\"\n",
            "Equities, which often trade in tandem with oil, also rose on Tuesday.\n",
            "Brent's six-month backwardation, a market structure whereby shorter-dated futures trade above longer-dated ones, fell to its lowest since March at around $1.10, indicating faltering confidence that demand will exceed supply over the year.\n",
            "\"For market participants to start building up long positions again, they likely need to see larger inventory declines,\" said UBS strategist Giovanni Staunovo, adding he expected this to happen within weeks.\n",
            "A lending rate cut by China has allowed for a significant spike in global oil prices. (REUTERS/Alexander Manzyuk)\n",
            "A rise in global supplies is weighing on the market, along with concerns about demand growth, ahead of a U.S. Federal Reserve policy meeting concluding on Wednesday.\n",
            "Most market participants expect the Fed to leave interest rates unchanged, especially after data showed U.S. consumer prices barely rose in May.\n",
            "The Fed's rate hikes have strengthened the dollar, making oil more expensive for holders of other currencies.\n",
            "The European Central Bank is expected to hike interest rates on Thursday.\n",
            "Worries about demand have unravelled the temporary boost in oil prices from Saudi Arabia's pledge announced early this month to cut more production in July.\n",
            "BIDEN DOUBLES DOWN ON GREEN ENERGY AS OPEC CUTS PRODUCTION, PRICES SOAR\n",
            "The Organization of Petroleum Exporting Countries (OPEC) kept its forecast for 2023 global oil demand growth steady for a fourth month on Tuesday, slightly increasing expectations of Chinese demand growth.\n",
            "Another monthly report by the International Energy Agency (IEA) due on Wednesday will provide further trading cues.\n",
            "U.S. crude oil rose by about 1 million barrels in the week ended June 9, according to market sources citing American Petroleum Institute figures on Tuesday, contrary to the average estimate for a 1.3 million barrel decline according to five analysts polled by Reuters.\n",
            "CLICK HERE TO GET THE FOX NEWS APP\n",
            "Government data on stockpiles is due on Wednesday.\n"
          ]
        },
        {
          "name": "stderr",
          "output_type": "stream",
          "text": [
            "/usr/local/lib/python3.10/dist-packages/dateutil/parser/_parser.py:1207: UnknownTimezoneWarning: tzname EDT identified but not understood.  Pass `tzinfos` argument in order to correctly return a timezone-aware datetime.  In a future version, this will raise an exception.\n",
            "  warnings.warn(\"tzname {tzname} identified but not understood.  \"\n"
          ]
        }
      ],
      "source": [
        "import requests\n",
        "from bs4 import BeautifulSoup\n",
        "from dateutil import parser  # dateutil 라이브러리 추가\n",
        "\n",
        "start_date = \"20230601\"\n",
        "end_date = \"20230631\"\n",
        "\n",
        "url_template = 'https://api.foxnews.com/search/web?q=interest%20rate+-filetype:amp+-filetype:xml+more:pagemap:metatags-prism.section+more:pagemap:metatags-pagetype:article+more:pagemap:metatags-dc.type:Text.Article&siteSearch=foxnews.com&siteSearchFilter=i&sort=date:r:{}:{}&start={}'\n",
        "\n",
        "start = 1\n",
        "result_list = []  # 결과를 저장할 리스트\n",
        "\n",
        "while True:\n",
        "    url = url_template.format(start_date, end_date, start)\n",
        "\n",
        "    response = requests.get(url)\n",
        "\n",
        "    if response.status_code == 200:\n",
        "        data = response.json()\n",
        "        items = data.get('items', [])\n",
        "\n",
        "        if not items:\n",
        "            print(\"페이지 끝까지 도달했습니다.\")\n",
        "            break\n",
        "\n",
        "        for result in items:\n",
        "            title = result.get(\"title\", \"N/A\")\n",
        "            date = result[\"pagemap\"][\"metatags\"][0].get(\"dc.date\", \"N/A\")\n",
        "            description = result[\"pagemap\"][\"metatags\"][0].get(\"og:description\", \"N/A\")\n",
        "            link = result.get(\"link\", \"N/A\")\n",
        "\n",
        "            # 추출한 정보를 딕셔너리로 저장하여 리스트에 추가\n",
        "            result_dict = {\n",
        "                \"Title\": title,\n",
        "                \"Date\": date,\n",
        "                \"Description\": description,\n",
        "                \"URL\": link\n",
        "            }\n",
        "            result_list.append(result_dict)\n",
        "\n",
        "        start += 10  # 다음 페이지를 위해 start 값을 10 증가\n",
        "    else:\n",
        "        print(f\"에러: {response.status_code}\")\n",
        "        print(f\"에러 메시지: {response.text}\")\n",
        "        break\n",
        "\n",
        "# 결과 리스트 출력\n",
        "for result in result_list:\n",
        "    print(result)\n",
        "\n",
        "# 첫 번째 기사의 URL을 사용하여 상세 정보 출력\n",
        "if result_list:\n",
        "    first_article_url = result_list[0].get(\"URL\")\n",
        "    if first_article_url:\n",
        "        article_response = requests.get(first_article_url)\n",
        "        if article_response.status_code == 200:\n",
        "            html = article_response.text\n",
        "            soup = BeautifulSoup(html, 'html.parser')\n",
        "\n",
        "            # 비디오인지, 기사인지,\n",
        "            # 기사 제목 추출\n",
        "            title = soup.find('h1', class_='headline')\n",
        "            if title:\n",
        "                title_text = title.text.strip()\n",
        "                print(\"Title:\", title_text)\n",
        "\n",
        "            # 기사 날짜 추출\n",
        "            date_span = soup.find('span', class_='article-date')\n",
        "            if date_span:\n",
        "                # Find the time tag within the date span\n",
        "                time_tag = date_span.find('time')\n",
        "\n",
        "                if time_tag:\n",
        "                    # Extract the text from the time tag\n",
        "                    time_text = time_tag.text.strip()\n",
        "                    published_datetime = parser.parse(time_text)\n",
        "                    formatted_date = published_datetime.strftime('%Y-%m-%d')\n",
        "                    print(\"Date:\", formatted_date)\n",
        "\n",
        "            # 기사 내용 추출\n",
        "            article_content = soup.find('div', class_='article-body')\n",
        "            if article_content:\n",
        "                paragraphs = article_content.find_all('p')\n",
        "                article_text = \"\\n\".join(paragraph.get_text() for paragraph in paragraphs)\n",
        "                print(\"Contents:\")\n",
        "                print(article_text)\n",
        "        else:\n",
        "            print(\"기사 내용을 찾을 수 없습니다.\")\n",
        "    else:\n",
        "        print(f\"기사를 가져오는 중 에러: {article_response.status_code}\")\n",
        "else:\n",
        "    print(\"결과 리스트가 비어 있습니다.\")\n"
      ]
    },
    {
      "cell_type": "markdown",
      "metadata": {
        "id": "eX5WiTIjpIFw"
      },
      "source": [
        "#### 기사 하나"
      ]
    },
    {
      "cell_type": "code",
      "execution_count": null,
      "metadata": {
        "colab": {
          "base_uri": "https://localhost:8080/"
        },
        "id": "JbSsZf6vpJq0",
        "outputId": "12ceec7a-e8f3-4988-934d-41b94476ab5b"
      },
      "outputs": [
        {
          "name": "stdout",
          "output_type": "stream",
          "text": [
            "URL: https://www.foxnews.com/us/biden-rule-redistribute-high-risk-loan-costs-homeowners-good-credit\n",
            "Category: us\n",
            "Title: Biden rule will redistribute high-risk loan costs to homeowners with good credit\n",
            "Description: A new federal rule will make borrowing for a home more expensive for those with high credit scores to subsidize loans to higher-risk borrowers.\n",
            "\n"
          ]
        }
      ],
      "source": [
        "import requests\n",
        "from bs4 import BeautifulSoup\n",
        "from urllib.parse import urlparse\n",
        "\n",
        "data = {\n",
        "    \"customer\": \"foxnews\",\n",
        "    \"items\": [\n",
        "        {\n",
        "            \"url\": \"https://www.foxnews.com/us/biden-rule-redistribute-high-risk-loan-costs-homeowners-good-credit\",\n",
        "            \"type\": \"page\",\n",
        "            \"by_spark\": None,\n",
        "            \"size\": \"0x0\",\n",
        "            \"nat_size\": \"156x88\",\n",
        "            \"poster\": \"https://a57.foxnews.com/static.foxnews.com/foxnews.com/content/uploads/2023/04/156/88/GettyImages-1479809548.jpg?ve=1&tl=1\",\n",
        "            \"description\": \"A new federal rule will make borrowing for a home more expensive for those with high credit scores to subsidize loans to higher-risk borrowers.\"\n",
        "        },\n",
        "        # ... (add other articles similarly)\n",
        "    ],\n",
        "    \"page_info\": {\n",
        "        \"poster\": None,\n",
        "        \"title\": \"Fox News\",\n",
        "        \"url\": \"https://www.foxnews.com/search-results/search?q=interest%20rate\",\n",
        "        \"was_sent\": False\n",
        "    }\n",
        "}\n",
        "\n",
        "# Function to extract category and title from URL\n",
        "def extract_category_and_title(url):\n",
        "    parsed_url = urlparse(url)\n",
        "    path_segments = parsed_url.path.split('/')\n",
        "    # The category is the second last segment, and the title is the last segment\n",
        "    category = path_segments[-2] if len(path_segments) >= 2 else \"\"\n",
        "    title = path_segments[-1] if path_segments else \"\"\n",
        "    return category, title\n",
        "\n",
        "# Extract category and title from each article URL\n",
        "for item in data[\"items\"]:\n",
        "    if \"url\" in item and \"description\" in item:\n",
        "        response = requests.get(item[\"url\"])\n",
        "        if response.status_code == 200:\n",
        "            soup = BeautifulSoup(response.text, 'html.parser')\n",
        "            title_element = soup.find('h1')  # Modify this based on the actual HTML structure\n",
        "            if title_element:\n",
        "                title = title_element.text.strip()\n",
        "                category, _ = extract_category_and_title(item['url'])\n",
        "                print(f\"URL: {item['url']}\")\n",
        "                print(f\"Category: {category}\")\n",
        "                print(f\"Title: {title}\")\n",
        "                print(f\"Description: {item['description']}\\n\")\n",
        "            else:\n",
        "                print(f\"Title not found for URL: {item['url']}\")\n",
        "        else:\n",
        "            print(f\"Error fetching URL: {item['url']} (Status Code: {response.status_code})\")"
      ]
    },
    {
      "cell_type": "code",
      "execution_count": null,
      "metadata": {
        "colab": {
          "base_uri": "https://localhost:8080/"
        },
        "id": "RfltvIbhpkzU",
        "outputId": "dcbc3713-987e-4b2a-d2ca-3ece4b511885"
      },
      "outputs": [
        {
          "name": "stdout",
          "output_type": "stream",
          "text": [
            "Title: Biden rule will redistribute high-risk loan costs to homeowners with good credit\n",
            "Date: 2023-04-19\n",
            "Contents:\n",
            "Economic experts Jason Furman and Kevin Hassett weigh in on responding to record-high inflation on 'Special Report.'\n",
            "A Biden administration rule is set to take effect that will force good-credit home buyers to pay more for their mortgages to subsidize loans to higher-risk borrowers.\n",
            "Experts believe that borrowers with a credit score of about 680 would pay around $40 more per month on a $400,000 mortgage under rules from the Federal Housing Finance Agency that go into effect May 1, costs that will help subsidize people with lower credit ratings also looking for a mortgage, according to a Washington Times report Tuesday.\n",
            "\"The changes do not make sense. Penalizing borrowers with larger down payments and credit scores will not go over well,\" Ian Wright, a senior loan officer at Bay Equity Home Loans, told the Times. \"It overcomplicates things for consumers during a process that can already feel overwhelming with the amount of paperwork, jargon, etc. Confusing the borrower is never a good thing.\"\n",
            "US REAL ESTATE MARKET IN ‘BIG TROUBLE,' EXPERT WARNS\n",
            "A new Biden administration rule will make borrowing for a home more expensive for those with good credit scores to subsidize loans to higher-risk borrowers. (Kevin Dietsch/Getty Images)\n",
            "The Federal Housing Finance Agency, which oversees federally backed home mortgage companies Fannie Mae and Freddie Mac, has long sought to give consumers more affordable housing options. But those who work in the industry believe the new rules will only serve to frustrate and confuse people.\n",
            "\"This confusing approach won’t work and more importantly couldn’t come at a worse time for an industry struggling to get back on its feet after these past 12 months,\" David Stevens, a former commissioner of the Federal Housing Administration during the Obama administration, wrote in a social media post responding to the new rules. \"To do this at the onset of the spring market is almost offensive to the market, consumers, and lenders.\"\n",
            "The rules come as the housing market has struggled in the wake of multiple interest rate increases by the Federal Reserve.\n",
            "Under the new rules, consumers with lower credit ratings and less money for a down payment would qualify for better mortgage rates than they otherwise would have.\n",
            "The rules come as the housing market has struggled in the wake of multiple interest rate increases by the Federal Reserve. (iStock)\n",
            "FED RAISES INTEREST RATES A QUARTER POINT DESPITE RECENT BANKING TURMOIL\n",
            "Federal Housing Finance Agency Director Sandra Thompson said the new rules are designed to \"increase pricing support for purchase borrowers limited by income or by wealth\" and comes with \"minimal\" fee changes.\n",
            "While Stevens agreed there was a gap in opportunity for low-income — especially minority — borrowers to qualify for affordable homes, he argued that attempting to manipulate prices was not the solution.\n",
            "The Federal Reserve building. (Chip Somodevilla/Getty Images)\n",
            "CLICK HERE TO GET THE FOX NEWS APP\n",
            "\"Why was this done? The answer is simple, it was to try to narrow the gap in access to credit, especially for minority home buyers who often have lower down payments and lower credit scores,\" Stevens said. \n",
            "\"The gap in homeownership opportunity is real. America is facing a severe shortage of affordable homes for sales combined with excessive demand causing an imbalance. But convoluting pricing and credit is not the way to solve this problem.\"\n"
          ]
        },
        {
          "name": "stderr",
          "output_type": "stream",
          "text": [
            "/usr/local/lib/python3.10/dist-packages/dateutil/parser/_parser.py:1207: UnknownTimezoneWarning: tzname EDT identified but not understood.  Pass `tzinfos` argument in order to correctly return a timezone-aware datetime.  In a future version, this will raise an exception.\n",
            "  warnings.warn(\"tzname {tzname} identified but not understood.  \"\n"
          ]
        }
      ],
      "source": [
        "import requests\n",
        "from bs4 import BeautifulSoup\n",
        "from dateutil import parser\n",
        "\n",
        "# interest rate 단어로 검색해서 나온 기사\n",
        "\n",
        "url = \"https://www.foxnews.com/us/biden-rule-redistribute-high-risk-loan-costs-homeowners-good-credit\"\n",
        "response = requests.get(url)\n",
        "html = response.text\n",
        "soup = BeautifulSoup(html, 'html.parser')\n",
        "\n",
        "if response.status_code == 200:\n",
        "    html = response.text\n",
        "    soup = BeautifulSoup(html, 'html.parser')\n",
        "    # 기사 제목 추출\n",
        "    title = soup.find('h1', class_='headline')\n",
        "    if title:\n",
        "        title_text = title.text.strip()\n",
        "        print(\"Title:\", title_text)\n",
        "\n",
        "    # 기사 날짜 추출\n",
        "    date_span = soup.find('span', class_='article-date')\n",
        "    if date_span:\n",
        "      # Find the time tag within the date span\n",
        "      time_tag = date_span.find('time')\n",
        "\n",
        "      if time_tag:\n",
        "          # Extract the text from the time tag\n",
        "          time_text = time_tag.text.strip()\n",
        "          published_datetime = parser.parse(time_text)\n",
        "          foformatted_date = published_datetime.strftime('%Y-%m-%d')\n",
        "          print(\"Date:\", foformatted_date)\n",
        "\n",
        "    # 기사 내용 추출\n",
        "    article_content = soup.find('div', class_='article-body')\n",
        "    if article_content:\n",
        "        paragraphs = article_content.find_all('p')\n",
        "        article_text = \"\\n\".join(paragraph.get_text() for paragraph in paragraphs)\n",
        "        print(\"Contents:\")\n",
        "        print(article_text)\n",
        "else:\n",
        "    print(\"HTTP 요청에 실패했습니다. 상태 코드:\", response.status_code)"
      ]
    },
    {
      "cell_type": "markdown",
      "metadata": {
        "id": "3NGXSHIci5-4"
      },
      "source": [
        "#### 기사 안의 내용_여러 개"
      ]
    },
    {
      "cell_type": "code",
      "execution_count": null,
      "metadata": {
        "colab": {
          "base_uri": "https://localhost:8080/"
        },
        "id": "kfqzC_OK9Zqu",
        "outputId": "111becc5-9d19-40c1-a8bc-3646dca4f28b"
      },
      "outputs": [
        {
          "name": "stdout",
          "output_type": "stream",
          "text": [
            "페이지 끝까지 도달했습니다.\n",
            "{'Title': 'Chinese lending rate cut generates 3% oil price hike | Fox News', 'Date': '2023-06-13', 'Description': \"Global oil prices rose by over 3% Tuesday as China's central bank lowered a short-term lending rate for the first time in nearly a year.\", 'URL': 'https://www.foxnews.com/world/chinese-lending-rate-cut-generates-3-oil-price-hike'}\n",
            "{'Title': 'Erdogan appoints former US banking executive to head central bank ...', 'Date': '2023-06-09', 'Description': \"Turkish President Recep Tayyip Erdogan on Friday named Hafize Gaye Erkan, the U.S.-based former First Republic Bank executive, as the next director of Turkey's central bank.\", 'URL': 'https://www.foxnews.com/world/erdogan-appoints-former-us-banking-executive-head-central-bank'}\n",
            "{'Title': \"Brazil's central bank takes backseat in government's consumer debt ...\", 'Date': '2023-06-06', 'Description': \"Brazil's central bank has revealed that it did not actively participate in the development of the government's newly unveiled comprehensive consumer debt renegotiation program.\", 'URL': 'https://www.foxnews.com/world/brazils-central-bank-takes-backseat-governments-consumer-debt-renegotiation-program'}\n",
            "{'Title': \"Economists mock 'Bidenomics' push from White House: 'they spend ...\", 'Date': '2023-06-28', 'Description': 'President Biden delivered a speech Wednesday in Chicago on \"Bidenomics\" — a term economists said represents an ineffective, unpopular, and expensive set of policies.', 'URL': 'https://www.foxnews.com/politics/economists-mock-bidenomics-push-white-house-they-spend-like-drunken-sailors'}\n",
            "{'Title': \"Crime is surging and here's a way to help stop it | Fox News\", 'Date': '2023-05-31', 'Description': 'Crime is surging and here’s a way to help stop it. Worst inflation in more than 40 years is tied directly to spike in crime – even the New York Times admits it.', 'URL': 'https://www.foxnews.com/opinion/crime-surging-heres-way-help-stop'}\n",
            "5\n",
            "\n",
            "[Article 1]\n",
            "Title: Chinese lending rate cut generates 3% oil price hike\n",
            "Date: 2023-06-13\n",
            "Contents:\n",
            "Fox News Flash top headlines are here. Check out what's clicking on Foxnews.com.\n",
            "Oil prices climbed over 3% on Tuesday on hopes for growing fuel demand after China's central bank lowered a short-term lending rate for the first time in 10 months, boosting crude prices after steep losses the previous session.\n",
            "The rate cut is aimed at adding momentum to a hesitant post-pandemic recovery in the world's second-largest economy and biggest crude importer.\n",
            "Brent crude futures settled up $2.45, or 3.4%, to $74.29 a barrel. U.S. West Texas Intermediate (WTI) crude gained $2.30, or 3.4%, at $69.42 a barrel.\n",
            "DOLLAR STRENGTHENS AS OIL PRICES STABILIZE\n",
            "On Monday, crude prices fell by about 4%, in part because of concerns about the Chinese economy after disappointing economic data last week.\n",
            "\"The market is showing a rebound from yesterday,\" Phil Flynn, an analyst at Price Futures group, said. \"It was overdone with doom and gloom on Monday.\"\n",
            "Equities, which often trade in tandem with oil, also rose on Tuesday.\n",
            "Brent's six-month backwardation, a market structure whereby shorter-dated futures trade above longer-dated ones, fell to its lowest since March at around $1.10, indicating faltering confidence that demand will exceed supply over the year.\n",
            "\"For market participants to start building up long positions again, they likely need to see larger inventory declines,\" said UBS strategist Giovanni Staunovo, adding he expected this to happen within weeks.\n",
            "A lending rate cut by China has allowed for a significant spike in global oil prices. (REUTERS/Alexander Manzyuk)\n",
            "A rise in global supplies is weighing on the market, along with concerns about demand growth, ahead of a U.S. Federal Reserve policy meeting concluding on Wednesday.\n",
            "Most market participants expect the Fed to leave interest rates unchanged, especially after data showed U.S. consumer prices barely rose in May.\n",
            "The Fed's rate hikes have strengthened the dollar, making oil more expensive for holders of other currencies.\n",
            "The European Central Bank is expected to hike interest rates on Thursday.\n",
            "Worries about demand have unravelled the temporary boost in oil prices from Saudi Arabia's pledge announced early this month to cut more production in July.\n",
            "BIDEN DOUBLES DOWN ON GREEN ENERGY AS OPEC CUTS PRODUCTION, PRICES SOAR\n",
            "The Organization of Petroleum Exporting Countries (OPEC) kept its forecast for 2023 global oil demand growth steady for a fourth month on Tuesday, slightly increasing expectations of Chinese demand growth.\n",
            "Another monthly report by the International Energy Agency (IEA) due on Wednesday will provide further trading cues.\n",
            "U.S. crude oil rose by about 1 million barrels in the week ended June 9, according to market sources citing American Petroleum Institute figures on Tuesday, contrary to the average estimate for a 1.3 million barrel decline according to five analysts polled by Reuters.\n",
            "CLICK HERE TO GET THE FOX NEWS APP\n",
            "Government data on stockpiles is due on Wednesday.\n",
            "\n",
            "[Article 2]\n"
          ]
        },
        {
          "name": "stderr",
          "output_type": "stream",
          "text": [
            "/usr/local/lib/python3.10/dist-packages/dateutil/parser/_parser.py:1207: UnknownTimezoneWarning: tzname EDT identified but not understood.  Pass `tzinfos` argument in order to correctly return a timezone-aware datetime.  In a future version, this will raise an exception.\n",
            "  warnings.warn(\"tzname {tzname} identified but not understood.  \"\n"
          ]
        },
        {
          "name": "stdout",
          "output_type": "stream",
          "text": [
            "Title: Erdogan appoints former US banking executive to head central bank\n",
            "Date: 2023-06-09\n",
            "Contents:\n",
            "Fox News Flash top headlines are here. Check out what's clicking on Foxnews.com.\n",
            "Turkish President Recep Tayyip Erdogan appointed a former U.S.-based bank executive to head the central bank Friday, sending the strongest signal yet that the newly reelected leader might pivot from his unusual economic policies that many blame for worsening a cost-of-living crisis.\n",
            "Hafize Gaye Erkan, 41, is Princeton-educated and will become the first woman to lead the Turkish central bank. She briefly served in 2021 as co-chief executive of First Republic Bank, which last month became the second-largest U.S. bank to fail as its wealthy clients pulled their money during wider turmoil in the sector.\n",
            "Her nomination follows last week's appointment of Mehmet Simsek, an internationally respected former banker, as treasury and finance minister. He was a former finance and deputy prime minister under Erdogan and returned after a five-year break from politics.\n",
            "TURKEY’S ERDOGAN DECLARES VICTORY IN PRESIDENTIAL ELECTION AFTER CONTENTIOUS CAMPAIGN\n",
            "The choices for two key financial roles have raised hopes that Erdogan, reelected last month to a third term, will move away from his insistence that lower interest rates will fight Turkey's staggering inflation. The rate peaked at 85% in October, and people are struggling to afford food, housing and other necessities.\n",
            "Critics blame the cost-of-living crisis on Erdogan's unorthodox approach, which runs contrary to conventional economic thinking — that raising rates will combat inflation. Central banks from the U.S. Federal Reserve, European Central Bank and others worldwide are hiking borrowing costs to bring down spikes in consumer prices.\n",
            "Erkan's appointment \"is an important step toward more credible economic policies and provides encouragement that President Erdogan will loosen his grip on the central bank,\" said Liam Peach, senior emerging markets economist at Capital Economics.\n",
            "\"Recent policy appointments will now need to turn into policy action for investors to be confident that this shift towards orthodoxy is the real deal,\" he said.\n",
            "Turkish President Recep Tayyip Erdogan on Friday named Hafize Gaye Erkan as the next head of the struggling Eurasian nation's central bank. (AP Photo/Ali Unal, File)\n",
            "The next steps are critical as the economy struggles with a crashing currency and inflation at a still-high 39.5%. The central bank will meet later this month to decide on interest rates — a key indicator of the course Turkey’s economy will take.\n",
            "In recent years, Erdogan has fired three central bank governors for failing to fall in line with his rate-cutting policies.\n",
            "\"Erkan needs to be given the freedom to raise interest rates sharply,\" Peach said. \"A large interest rate hike from 8.5% to 20% or so would send a very strong signal that this is a credible policy shift.\"\n",
            "She also will have to show that it's important to keep rates high to ease inflation. While higher borrowing costs are designed to fight inflation, they can slow economic growth as loans become more expensive.\n",
            "It could be another pain point for households and businesses that have seen food and energy costs soar following Russia's invasion of Ukraine and their currency hit record lows against the U.S. dollar.\n",
            "NATO RAMPS UP PRESSURE ON TURKEY TO DROP OBJECTIONS, ALLOW SWEDEN TO JOIN THE MILITARY ORGANIZATION\n",
            "Erkan was a managing director at the Goldman Sachs investment banking company and worked at San Francisco-based First Republic Bank, holding the post of co-CEO for six months in 2021. JPMorgan Chase took over the failed bank after U.S. regulators seized it in May.\n",
            "She replaces Sahap Kavcioglu who oversaw a series of rate cuts since 2021. Kavcioglu now becomes head of Turkey’s banking watchdog, called BBDK.\n",
            "\"Appointing Kavcioglu — a cheerleader of Erdogan’s ‘new economic model’ — as head of the banking regulator is a powerful reminder that Erdonomics can bite back anytime,\" said Wolfango Piccoli, co-president of the London-based risk consultancy Teneo.\n",
            "Erkan will have to rebuild the central bank \"after years of mismanagement, purges, and demotions,\" Piccoli wrote in a note.\n",
            "CLICK HERE TO GET THE FOX NEWS APP\n",
            "\"Like most other key institutions, the (central bank) has lost its independence and has been hollowed out by Erdogan’s drive to centralize power, with key jobs given to loyalists and cronies,\" he said.\n",
            "\n",
            "[Article 3]\n",
            "Title: Brazil's central bank takes backseat in government's consumer debt renegotiation program\n",
            "Date: 2023-06-06\n",
            "Contents:\n",
            "Fox News Flash top headlines are here. Check out what's clicking on Foxnews.com.\n",
            "Brazil's central bank abstained from involvement in developing the government's comprehensive consumer debt renegotiation program unveiled on Monday, two central bank directors said on Tuesday.\n",
            "Speaking at a news conference, Renato Gomes, the director of the financial system organization, said that policymakers solely furnished information without actively contributing to the program's design.\n",
            "Diogo Guillen, the economic policy director, also announced that updated assessments regarding the initiative's potential effects on default rates and credit volume would be disclosed through the bank's customary publications.\n",
            "In line with a campaign promise, the administration of President Luiz Inacio Lula da Silva has unveiled a program designed to renegotiate consumer debt for individuals earning up to two minimum wages and with a total debt of up to $1,015. The program is scheduled to begin in July.\n",
            "Following the central bank's earlier emphasis in its 2022 Banking Economy Report on the outflows from savings accounts in Brazil, while most funding instruments exhibited positive performances, Guillen stated that the bank continues to study potential changes in savings remuneration, considering the overall impacts involved.\n",
            "WORLD’S LARGEST CHICKEN SUPPLIER, BRAZIL, UNLIKELY TO IMPOSE NATIONWIDE BAN ON EXPORTS OVER BIRD FLU\n",
            "People walk in front the Central Bank headquarters building in Brasilia, Brazil, on March 22, 2022. (REUTERS/Adriano Machado)\n",
            "CLICK HERE TO GET THE FOX NEWS APP\n",
            "He added that any such adjustments would be implemented in a \"very gradual\" manner, considering the interests of creditors and debtors engaged in the process.\n",
            "Higher interest rates make savings rates less competitive compared to other fixed-income investments in the country, helping to motivate outflows, which have continued throughout 2023.\n",
            "The central bank has maintained its benchmark interest rate steady at a cycle-high of 13.75% since September to combat inflation.\n",
            "During the press conference, Gomes also mentioned that the central bank was part of a joint study group with the Finance Ministry, exploring structural measures to encourage credit cards to offer lower rates in the country. However, he indicated that this project would take \"at least months\" to materialize.\n",
            "\n",
            "[Article 4]\n",
            "Title: Economists mock 'Bidenomics' push from White House: 'they spend like drunken sailors'\n",
            "Date: 2023-06-28\n",
            "Contents:\n",
            "Fox News contributor Marie Harf and GOPAC Chairman David Avella joined 'The Faulkner Focus' to discuss the White House advocating Biden's economic agenda and Pete Buttigieg reportedly prioritizing the far-left green agenda.\n",
            "President Biden delivered a speech Wednesday in Chicago with a condemnation of \"trickle-down economics\" and promotion of \"Bidenomics\" — a term economist critics equated to excessive spending and inflation.\n",
            "\"The economy that grows the economy from the middle out and the bottom up, instead of just the top down — when that happens, everyone does well,\" Biden said in a nearly 40 minute address. \"This vision is a fundamental break from the economic theory that has failed the middle class for decades now. It’s called trickle-down economics.\"\n",
            "This idea that \"Bideonomics\" benefits all Americans, three economists told Fox News Digital, is easily disputed by historically high levels of inflation. \n",
            "\"Bidenomics has been defined by 40-year-high inflation, record drops in labor productivity, anemic economic growth, growing credit card debt, rising interest rates, insipid labor force participation, onerous regulation, falling real incomes, and runaway government spending, borrowing, and printing of money,\" EJ Antoni, a research fellow for the Heritage Foundation’s Grover M. Hermann Center for the Federal Budget, told Fox News Digital. \"Distilled down to a single word, Bidenomics means ‘failure.’\"\n",
            "WHITE HOUSE RIDICULED FOR DEFENDING BIDEN'S ECONOMIC RECORD AS 'INCREDIBLY POPULAR:' 'WITH WHO?'\n",
            "President Biden is set to deliver a speech Wednesday in Chicago on \"Bidenomics\" — a term critics equated to excessive spending and inflation.  (AP Photo/Evan Vucci)\n",
            "Biden’s speech comes amid a week of travel from Maryland, to Illinois, to New York, for a series of speeches and campaign receptions. His economic message Wednesday is expected to set the tone for his reelection campaign. A White House memo this week touted Biden’s economic agenda and accomplishments, which includes job growth, low unemployment, and a historic infrastructure plan.\n",
            "\"Bidenomics is rooted in the simple idea that we need to grow the economy from the middle out and the bottom up—not the top down,\" the White House memo stated.\n",
            "Biden tweeted Tuesday that he created more jobs in two years than previous administrations did in the entirety of their first terms — a point dismissed by critics as misleading due to lost jobs amid the coronavirus pandemic.\n",
            "BIDEN REPEATS MISLEADING JOBS CLAIM IN STATE OF THE UNION ADDRESS\n",
            "Biden's economic message Wednesday is expected to set the tone for his reelection campaign (Drew Angerer/Getty Images)\n",
            "Desmond Lachman, a senior fellow at the American Enterprise Institute, said the massive spending from the Biden administration helped boost employment, but inevitably led to inflation.\n",
            "\"They spend like drunken sailors — that is what’s causing problems,\" Lachman told Fox News Digital. \"It’s easy to get unemployment down for a short period of time, but it’s difficult for a long period of time. The way they got it down so much is by overstimulating the economy, but now they have inflation.\"\n",
            "Biden took office in January 2021 with an inflation rate of a little over 1%, which hiked to 9% by June 2022, and has since fallen to 4%. A Fox News poll from May found 83% of respondents said the nation has a negative economic condition. The poll found Biden’s approval rating on the economy at 32%.\n",
            "BIDEN SLAMMED OVER 'PREPOSTEROUS' CLAIM HE CREATED MORE JOBS IN 2 YEARS THAN ANY PRESIDENT IN 4\n",
            "Biden took office in January 2021 with an inflation rate of a little over 1%, which hiked to 9% by June 2022, and has since fallen to 4%.  (Kevin Dietsch/Getty Images)\n",
            "Biden’s American Rescue Plan passed by Congress in 2021 as a pandemic emergency package may cost up to $3.5 trillion. His Inflation Reduction Act passed in 2022 cost an estimated $740 billion.\n",
            "Chris Edwards, an economic scholar at the Cato Institute, noted these two plans as an obvious cause of inflation. One more subtly harmful aspect of Biden’s economic plan, he said, is the \"corporate welfare\" of federal government \"handouts\" to companies they deem beneficial, such as energy and computer chip manufacturers.\n",
            "CLICK HERE TO GET THE FOX NEWS APP \n",
            "\"Vast corporate subsidies under Bidenomics will lead to increased political corruption as companies jockey for federal handouts,\" Edwards told Fox News Digital. \"Leading up to the 2024 election, there will likely be a wave of news reports on Biden’s failed corporate subsidies, which will undermine the Bidenomics narrative, just like the crash of the subsidized and corrupt Solyndra was a stain on the Obama administration.\"\n",
            "Patrick Hauf is a politics writer for Fox News Digital.\n",
            "\n",
            "[Article 5]\n",
            "Title: Crime is surging and here’s a way to help stop it\n",
            "Date: 2023-06-02\n",
            "Contents:\n",
            "Fox News senior national correspondent William La Jeunesse reports on ‘America’s Newsroom’ the rising demand for pricey protection dogs.\n",
            "With the 2024 election season already begun, a renewed debate is emerging over the future direction of the Federal Reserve. The Fed’s gargantuan money creation, and its up-and-down interest rates, have resulted in a dollar whose shifts in value have been behind the major crises of the past 20 years — including the worst inflation in more than four decades.  \n",
            "In a widely read Wall Street Journal opinion piece, Republican presidential contender Vivek Ramaswamy made a powerful case for a return to Federal Reserve policies of the 1980s-1990s, which were based on maintaining a stable currency. \n",
            "Sound money with a value that doesn’t dramatically fluctuate will calm a volatile economy, encourage trade and investment and put the country back on a path to prosperity. \n",
            "SHOPPERS STILL FACE HIGH GROCERY BILLS\n",
            "But there is another reason that we need a sound dollar — to help end the crime wave gripping American cities.  \n",
            "There are many reasons for our rise in crime rates, but the impact of inflation is often overlooked. (iStock)\n",
            "This epidemic of criminality has been attributed to pro-criminal legal ‘reforms,’ the movement to defund the police and widespread drug addiction, among other causes.   \n",
            "All are very real issues that must be addressed. Largely overlooked, however, is the role played by Fed-enabled inflation, which, at slightly under five percent, is around twice the rate it was before COVID-19. The pandemic spike is in addition to a slow-motion inflation that has transpired over the past 20 years. That was produced by Federal Reserve weak-dollar policies, including unprecedented money creation used to ‘stimulate’ the economy after such downturns as the financial meltdown of 2008.  \n",
            "All of this has resulted in a precipitous decline in the value of the dollar. Its purchasing power has dropped by more than 40 percent since the year 2000. \n",
            "Central bank policymakers have forgotten the famous warning of economist John Maynard Keynes: \"There is no subtler, no surer means of overturning the existing basis of society than to debauch the currency.\" One result can be a spike in crime. \n",
            "The link between inflation and crime has been demonstrated repeatedly in studies of many countries. High-crime nations like Brazil and Venezuela, for example, are also high-inflation countries. The New York City crime wave taking place right now is often compared to the \"bad old days\" of the 1970s and early ’80s, the era known as The Great Inflation. \n",
            "Even the New York Times has acknowledged the connection of inflation to crime. This is not just a vague correlation. Criminal justice expert Howard Henderson has observed that, as prices rise, crime does too. He’s noted that, \"after decades of steady declines,\" violent crime started to rise in the mid-2010s, around the time inflation began to increase. \n",
            "Inflation’s greatest effect, however, appears to be on property crime. An analysis of U.S. data from 1950 to 2010, revealed a strong relationship between rising prices and property crime — which might help explain the surge in shoplifting seen in New York and other major cities. A surefire way to bring down rising prices, after all, is by stealing. \n",
            "Inflation may have a greater impact on crime rates than even joblessness. You’d think losing a job would drive people to steal. However, Richard Rosenfeld, a noted criminologist on the faculty of the University of Missouri-St. Louis, found that crime did not increase in the immediate aftermath of the 2008 financial crisis, despite an economic contraction and soaring unemployment. Rosenfeld said this was because, during the post-2008 downturn, the U.S. briefly experienced deflation — falling prices. \n",
            "Central bank policymakers have forgotten the famous warning of economist John Maynard Keynes: \"There is no subtler, no surer means of overturning the existing basis of society than to debauch the currency.\" One result can be a spike in crime. \n",
            "CLICK HERE TO GET THE OPINION NEWSLETTER\n",
            "Adam Fergusson, author of \"When Money Dies,\" the classic history of the infamous hyperinflation in post-World War I Weimar Germany, described how that trauma \"brought out the worst in everybody,\" encouraging \"the subversion of law and order.\" Citizens whose wealth was devastated by soaring prices resorted to desperate measures to hold on to what they had. \n",
            "The political class often associates money with \"greed.\" In fact, it is vital to social trust. Money provides an agreed-upon unit of value that allows total strangers to trade and cooperate in the marketplace. When currency suddenly loses value on account of inflation, this trust is destroyed.   \n",
            "Not only does this damage commerce. People who can no longer pay their bills see others with investments and businesses benefiting from Fed-created dollars and appearing to get rich. The link between effort and reward is severed. Resentments flare that can stoke criminal behavior. \n",
            "CLICK HERE TO GET THE FOX NEWS APP\n",
            "The Fed’s answer to the inflation dysfunction has been to hike interest rates. And, indeed, inflation has dropped since its 9% peak in June of last year. But history has shown that, sooner or later, inflation and its ill effects — including crime — will come roaring back unless steps are taken to stabilize a currency.   \n",
            "None of this mitigates the need for solutions to the crime crisis — like increased law enforcement. Our point is that the Washington political class tends to discuss the subject of \"monetary policy\" in the driest possible terms, without fully grasping the human toll taken by today’s unstable dollar. \n",
            "Elizabeth Ames is co-author with Steve Forbes and Nathan Lewis of Inflation: What It Is, Why It's Bad, and How to Fix It.\n"
          ]
        }
      ],
      "source": [
        "import requests\n",
        "from bs4 import BeautifulSoup\n",
        "from dateutil import parser  # dateutil 라이브러리 추가\n",
        "\n",
        "start_date = \"20230601\"\n",
        "end_date = \"20230631\"\n",
        "\n",
        "url_template = 'https://api.foxnews.com/search/web?q=interest%20rate+-filetype:amp+-filetype:xml+more:pagemap:metatags-prism.section+more:pagemap:metatags-pagetype:article+more:pagemap:metatags-dc.type:Text.Article&siteSearch=foxnews.com&siteSearchFilter=i&sort=date:r:{}:{}&start={}'\n",
        "\n",
        "start = 1\n",
        "result_list = []  # 결과를 저장할 리스트\n",
        "\n",
        "while True:\n",
        "    url = url_template.format(start_date, end_date, start)\n",
        "\n",
        "    response = requests.get(url)\n",
        "\n",
        "    if response.status_code == 200:\n",
        "        data = response.json()\n",
        "        items = data.get('items', [])\n",
        "\n",
        "        if not items:\n",
        "            print(\"페이지 끝까지 도달했습니다.\")\n",
        "            break\n",
        "\n",
        "        for result in items:\n",
        "            title = result.get(\"title\", \"N/A\")\n",
        "            date = result[\"pagemap\"][\"metatags\"][0].get(\"dc.date\", \"N/A\")\n",
        "            description = result[\"pagemap\"][\"metatags\"][0].get(\"og:description\", \"N/A\")\n",
        "            link = result.get(\"link\", \"N/A\")\n",
        "\n",
        "            # 추출한 정보를 딕셔너리로 저장하여 리스트에 추가\n",
        "            result_dict = {\n",
        "                \"Title\": title,\n",
        "                \"Date\": date,\n",
        "                \"Description\": description,\n",
        "                \"URL\": link\n",
        "            }\n",
        "            result_list.append(result_dict)\n",
        "\n",
        "        start += 10  # 다음 페이지를 위해 start 값을 10 증가\n",
        "    else:\n",
        "        print(f\"에러: {response.status_code}\")\n",
        "        print(f\"에러 메시지: {response.text}\")\n",
        "        break\n",
        "\n",
        "# 결과 리스트 출력\n",
        "for result in result_list:\n",
        "    print(result)\n",
        "\n",
        "print(len(result_list))\n",
        "\n",
        "# 모든 기사의 내용 출력\n",
        "for idx, article in enumerate(result_list):\n",
        "    print(f\"\\n[Article {idx + 1}]\")\n",
        "    article_url = article.get(\"URL\")\n",
        "    if article_url:\n",
        "        article_response = requests.get(article_url)\n",
        "        if article_response.status_code == 200:\n",
        "            html = article_response.text\n",
        "            soup = BeautifulSoup(html, 'html.parser')\n",
        "\n",
        "            # 기사 제목 추출\n",
        "            title = soup.find('h1', class_='headline')\n",
        "            if title:\n",
        "                title_text = title.text.strip()\n",
        "                print(\"Title:\", title_text)\n",
        "\n",
        "            # 기사 날짜 추출\n",
        "            date_span = soup.find('span', class_='article-date')\n",
        "            if date_span:\n",
        "                # Find the time tag within the date span\n",
        "                time_tag = date_span.find('time')\n",
        "\n",
        "                if time_tag:\n",
        "                    # Extract the text from the time tag\n",
        "                    time_text = time_tag.text.strip()\n",
        "                    published_datetime = parser.parse(time_text)\n",
        "                    formatted_date = published_datetime.strftime('%Y-%m-%d')\n",
        "                    print(\"Date:\", formatted_date)\n",
        "\n",
        "            # 기사 내용 추출\n",
        "            article_content = soup.find('div', class_='article-body')\n",
        "            if article_content:\n",
        "                paragraphs = article_content.find_all('p')\n",
        "                article_text = \"\\n\".join(paragraph.get_text() for paragraph in paragraphs)\n",
        "                print(\"Contents:\")\n",
        "                print(article_text)\n",
        "        else:\n",
        "            print(f\"기사를 가져오는 중 에러: {article_response.status_code}\")\n",
        "    else:\n",
        "        print(\"기사 URL이 없습니다.\")\n"
      ]
    },
    {
      "cell_type": "markdown",
      "metadata": {
        "id": "xZkG5zFzjAf-"
      },
      "source": [
        "#### 데이터프레임"
      ]
    },
    {
      "cell_type": "code",
      "execution_count": null,
      "metadata": {
        "colab": {
          "base_uri": "https://localhost:8080/",
          "height": 224
        },
        "id": "zZYKWp6_a5cJ",
        "outputId": "a693ff8c-f38d-407a-acb0-80c89901728a"
      },
      "outputs": [
        {
          "name": "stdout",
          "output_type": "stream",
          "text": [
            "페이지 끝까지 도달했습니다.\n"
          ]
        },
        {
          "data": {
            "text/html": [
              "\n",
              "  <div id=\"df-54ec6dd3-287f-405b-82dc-fecd3befcb96\" class=\"colab-df-container\">\n",
              "    <div>\n",
              "<style scoped>\n",
              "    .dataframe tbody tr th:only-of-type {\n",
              "        vertical-align: middle;\n",
              "    }\n",
              "\n",
              "    .dataframe tbody tr th {\n",
              "        vertical-align: top;\n",
              "    }\n",
              "\n",
              "    .dataframe thead th {\n",
              "        text-align: right;\n",
              "    }\n",
              "</style>\n",
              "<table border=\"1\" class=\"dataframe\">\n",
              "  <thead>\n",
              "    <tr style=\"text-align: right;\">\n",
              "      <th></th>\n",
              "      <th>Title</th>\n",
              "      <th>Date</th>\n",
              "      <th>Description</th>\n",
              "      <th>URL</th>\n",
              "    </tr>\n",
              "  </thead>\n",
              "  <tbody>\n",
              "    <tr>\n",
              "      <th>0</th>\n",
              "      <td>Chinese lending rate cut generates 3% oil pric...</td>\n",
              "      <td>2023-06-13</td>\n",
              "      <td>Global oil prices rose by over 3% Tuesday as C...</td>\n",
              "      <td>https://www.foxnews.com/world/chinese-lending-...</td>\n",
              "    </tr>\n",
              "    <tr>\n",
              "      <th>1</th>\n",
              "      <td>Erdogan appoints former US banking executive t...</td>\n",
              "      <td>2023-06-09</td>\n",
              "      <td>Turkish President Recep Tayyip Erdogan on Frid...</td>\n",
              "      <td>https://www.foxnews.com/world/erdogan-appoints...</td>\n",
              "    </tr>\n",
              "    <tr>\n",
              "      <th>2</th>\n",
              "      <td>Brazil's central bank takes backseat in govern...</td>\n",
              "      <td>2023-06-06</td>\n",
              "      <td>Brazil's central bank has revealed that it did...</td>\n",
              "      <td>https://www.foxnews.com/world/brazils-central-...</td>\n",
              "    </tr>\n",
              "    <tr>\n",
              "      <th>3</th>\n",
              "      <td>Economists mock 'Bidenomics' push from White H...</td>\n",
              "      <td>2023-06-28</td>\n",
              "      <td>President Biden delivered a speech Wednesday i...</td>\n",
              "      <td>https://www.foxnews.com/politics/economists-mo...</td>\n",
              "    </tr>\n",
              "    <tr>\n",
              "      <th>4</th>\n",
              "      <td>Crime is surging and here's a way to help stop...</td>\n",
              "      <td>2023-05-31</td>\n",
              "      <td>Crime is surging and here’s a way to help stop...</td>\n",
              "      <td>https://www.foxnews.com/opinion/crime-surging-...</td>\n",
              "    </tr>\n",
              "  </tbody>\n",
              "</table>\n",
              "</div>\n",
              "    <div class=\"colab-df-buttons\">\n",
              "\n",
              "  <div class=\"colab-df-container\">\n",
              "    <button class=\"colab-df-convert\" onclick=\"convertToInteractive('df-54ec6dd3-287f-405b-82dc-fecd3befcb96')\"\n",
              "            title=\"Convert this dataframe to an interactive table.\"\n",
              "            style=\"display:none;\">\n",
              "\n",
              "  <svg xmlns=\"http://www.w3.org/2000/svg\" height=\"24px\" viewBox=\"0 -960 960 960\">\n",
              "    <path d=\"M120-120v-720h720v720H120Zm60-500h600v-160H180v160Zm220 220h160v-160H400v160Zm0 220h160v-160H400v160ZM180-400h160v-160H180v160Zm440 0h160v-160H620v160ZM180-180h160v-160H180v160Zm440 0h160v-160H620v160Z\"/>\n",
              "  </svg>\n",
              "    </button>\n",
              "\n",
              "  <style>\n",
              "    .colab-df-container {\n",
              "      display:flex;\n",
              "      gap: 12px;\n",
              "    }\n",
              "\n",
              "    .colab-df-convert {\n",
              "      background-color: #E8F0FE;\n",
              "      border: none;\n",
              "      border-radius: 50%;\n",
              "      cursor: pointer;\n",
              "      display: none;\n",
              "      fill: #1967D2;\n",
              "      height: 32px;\n",
              "      padding: 0 0 0 0;\n",
              "      width: 32px;\n",
              "    }\n",
              "\n",
              "    .colab-df-convert:hover {\n",
              "      background-color: #E2EBFA;\n",
              "      box-shadow: 0px 1px 2px rgba(60, 64, 67, 0.3), 0px 1px 3px 1px rgba(60, 64, 67, 0.15);\n",
              "      fill: #174EA6;\n",
              "    }\n",
              "\n",
              "    .colab-df-buttons div {\n",
              "      margin-bottom: 4px;\n",
              "    }\n",
              "\n",
              "    [theme=dark] .colab-df-convert {\n",
              "      background-color: #3B4455;\n",
              "      fill: #D2E3FC;\n",
              "    }\n",
              "\n",
              "    [theme=dark] .colab-df-convert:hover {\n",
              "      background-color: #434B5C;\n",
              "      box-shadow: 0px 1px 3px 1px rgba(0, 0, 0, 0.15);\n",
              "      filter: drop-shadow(0px 1px 2px rgba(0, 0, 0, 0.3));\n",
              "      fill: #FFFFFF;\n",
              "    }\n",
              "  </style>\n",
              "\n",
              "    <script>\n",
              "      const buttonEl =\n",
              "        document.querySelector('#df-54ec6dd3-287f-405b-82dc-fecd3befcb96 button.colab-df-convert');\n",
              "      buttonEl.style.display =\n",
              "        google.colab.kernel.accessAllowed ? 'block' : 'none';\n",
              "\n",
              "      async function convertToInteractive(key) {\n",
              "        const element = document.querySelector('#df-54ec6dd3-287f-405b-82dc-fecd3befcb96');\n",
              "        const dataTable =\n",
              "          await google.colab.kernel.invokeFunction('convertToInteractive',\n",
              "                                                    [key], {});\n",
              "        if (!dataTable) return;\n",
              "\n",
              "        const docLinkHtml = 'Like what you see? Visit the ' +\n",
              "          '<a target=\"_blank\" href=https://colab.research.google.com/notebooks/data_table.ipynb>data table notebook</a>'\n",
              "          + ' to learn more about interactive tables.';\n",
              "        element.innerHTML = '';\n",
              "        dataTable['output_type'] = 'display_data';\n",
              "        await google.colab.output.renderOutput(dataTable, element);\n",
              "        const docLink = document.createElement('div');\n",
              "        docLink.innerHTML = docLinkHtml;\n",
              "        element.appendChild(docLink);\n",
              "      }\n",
              "    </script>\n",
              "  </div>\n",
              "\n",
              "\n",
              "<div id=\"df-89299bbf-4808-43d4-9ce5-8fbe6eb3c0b2\">\n",
              "  <button class=\"colab-df-quickchart\" onclick=\"quickchart('df-89299bbf-4808-43d4-9ce5-8fbe6eb3c0b2')\"\n",
              "            title=\"Suggest charts\"\n",
              "            style=\"display:none;\">\n",
              "\n",
              "<svg xmlns=\"http://www.w3.org/2000/svg\" height=\"24px\"viewBox=\"0 0 24 24\"\n",
              "     width=\"24px\">\n",
              "    <g>\n",
              "        <path d=\"M19 3H5c-1.1 0-2 .9-2 2v14c0 1.1.9 2 2 2h14c1.1 0 2-.9 2-2V5c0-1.1-.9-2-2-2zM9 17H7v-7h2v7zm4 0h-2V7h2v10zm4 0h-2v-4h2v4z\"/>\n",
              "    </g>\n",
              "</svg>\n",
              "  </button>\n",
              "\n",
              "<style>\n",
              "  .colab-df-quickchart {\n",
              "      --bg-color: #E8F0FE;\n",
              "      --fill-color: #1967D2;\n",
              "      --hover-bg-color: #E2EBFA;\n",
              "      --hover-fill-color: #174EA6;\n",
              "      --disabled-fill-color: #AAA;\n",
              "      --disabled-bg-color: #DDD;\n",
              "  }\n",
              "\n",
              "  [theme=dark] .colab-df-quickchart {\n",
              "      --bg-color: #3B4455;\n",
              "      --fill-color: #D2E3FC;\n",
              "      --hover-bg-color: #434B5C;\n",
              "      --hover-fill-color: #FFFFFF;\n",
              "      --disabled-bg-color: #3B4455;\n",
              "      --disabled-fill-color: #666;\n",
              "  }\n",
              "\n",
              "  .colab-df-quickchart {\n",
              "    background-color: var(--bg-color);\n",
              "    border: none;\n",
              "    border-radius: 50%;\n",
              "    cursor: pointer;\n",
              "    display: none;\n",
              "    fill: var(--fill-color);\n",
              "    height: 32px;\n",
              "    padding: 0;\n",
              "    width: 32px;\n",
              "  }\n",
              "\n",
              "  .colab-df-quickchart:hover {\n",
              "    background-color: var(--hover-bg-color);\n",
              "    box-shadow: 0 1px 2px rgba(60, 64, 67, 0.3), 0 1px 3px 1px rgba(60, 64, 67, 0.15);\n",
              "    fill: var(--button-hover-fill-color);\n",
              "  }\n",
              "\n",
              "  .colab-df-quickchart-complete:disabled,\n",
              "  .colab-df-quickchart-complete:disabled:hover {\n",
              "    background-color: var(--disabled-bg-color);\n",
              "    fill: var(--disabled-fill-color);\n",
              "    box-shadow: none;\n",
              "  }\n",
              "\n",
              "  .colab-df-spinner {\n",
              "    border: 2px solid var(--fill-color);\n",
              "    border-color: transparent;\n",
              "    border-bottom-color: var(--fill-color);\n",
              "    animation:\n",
              "      spin 1s steps(1) infinite;\n",
              "  }\n",
              "\n",
              "  @keyframes spin {\n",
              "    0% {\n",
              "      border-color: transparent;\n",
              "      border-bottom-color: var(--fill-color);\n",
              "      border-left-color: var(--fill-color);\n",
              "    }\n",
              "    20% {\n",
              "      border-color: transparent;\n",
              "      border-left-color: var(--fill-color);\n",
              "      border-top-color: var(--fill-color);\n",
              "    }\n",
              "    30% {\n",
              "      border-color: transparent;\n",
              "      border-left-color: var(--fill-color);\n",
              "      border-top-color: var(--fill-color);\n",
              "      border-right-color: var(--fill-color);\n",
              "    }\n",
              "    40% {\n",
              "      border-color: transparent;\n",
              "      border-right-color: var(--fill-color);\n",
              "      border-top-color: var(--fill-color);\n",
              "    }\n",
              "    60% {\n",
              "      border-color: transparent;\n",
              "      border-right-color: var(--fill-color);\n",
              "    }\n",
              "    80% {\n",
              "      border-color: transparent;\n",
              "      border-right-color: var(--fill-color);\n",
              "      border-bottom-color: var(--fill-color);\n",
              "    }\n",
              "    90% {\n",
              "      border-color: transparent;\n",
              "      border-bottom-color: var(--fill-color);\n",
              "    }\n",
              "  }\n",
              "</style>\n",
              "\n",
              "  <script>\n",
              "    async function quickchart(key) {\n",
              "      const quickchartButtonEl =\n",
              "        document.querySelector('#' + key + ' button');\n",
              "      quickchartButtonEl.disabled = true;  // To prevent multiple clicks.\n",
              "      quickchartButtonEl.classList.add('colab-df-spinner');\n",
              "      try {\n",
              "        const charts = await google.colab.kernel.invokeFunction(\n",
              "            'suggestCharts', [key], {});\n",
              "      } catch (error) {\n",
              "        console.error('Error during call to suggestCharts:', error);\n",
              "      }\n",
              "      quickchartButtonEl.classList.remove('colab-df-spinner');\n",
              "      quickchartButtonEl.classList.add('colab-df-quickchart-complete');\n",
              "    }\n",
              "    (() => {\n",
              "      let quickchartButtonEl =\n",
              "        document.querySelector('#df-89299bbf-4808-43d4-9ce5-8fbe6eb3c0b2 button');\n",
              "      quickchartButtonEl.style.display =\n",
              "        google.colab.kernel.accessAllowed ? 'block' : 'none';\n",
              "    })();\n",
              "  </script>\n",
              "</div>\n",
              "    </div>\n",
              "  </div>\n"
            ],
            "text/plain": [
              "                                               Title        Date  \\\n",
              "0  Chinese lending rate cut generates 3% oil pric...  2023-06-13   \n",
              "1  Erdogan appoints former US banking executive t...  2023-06-09   \n",
              "2  Brazil's central bank takes backseat in govern...  2023-06-06   \n",
              "3  Economists mock 'Bidenomics' push from White H...  2023-06-28   \n",
              "4  Crime is surging and here's a way to help stop...  2023-05-31   \n",
              "\n",
              "                                         Description  \\\n",
              "0  Global oil prices rose by over 3% Tuesday as C...   \n",
              "1  Turkish President Recep Tayyip Erdogan on Frid...   \n",
              "2  Brazil's central bank has revealed that it did...   \n",
              "3  President Biden delivered a speech Wednesday i...   \n",
              "4  Crime is surging and here’s a way to help stop...   \n",
              "\n",
              "                                                 URL  \n",
              "0  https://www.foxnews.com/world/chinese-lending-...  \n",
              "1  https://www.foxnews.com/world/erdogan-appoints...  \n",
              "2  https://www.foxnews.com/world/brazils-central-...  \n",
              "3  https://www.foxnews.com/politics/economists-mo...  \n",
              "4  https://www.foxnews.com/opinion/crime-surging-...  "
            ]
          },
          "execution_count": 12,
          "metadata": {},
          "output_type": "execute_result"
        }
      ],
      "source": [
        "import pandas as pd\n",
        "\n",
        "def create_dataframe(result_list):\n",
        "    # 데이터프레임 생성\n",
        "    df = pd.DataFrame(result_list)\n",
        "\n",
        "    return df\n",
        "\n",
        "# 함수 호출\n",
        "result_list = get_foxnews_data(\"20230601\", \"20230631\", \"interest rate\")\n",
        "\n",
        "# 데이터프레임 생성\n",
        "df = create_dataframe(result_list)\n",
        "\n",
        "df"
      ]
    },
    {
      "cell_type": "markdown",
      "metadata": {
        "id": "TheAbzRMjCib"
      },
      "source": [
        "#### 해당하는 월의 기사의 내용을 다 데이터프레임으로 -> 완성 코드!"
      ]
    },
    {
      "cell_type": "code",
      "execution_count": 17,
      "metadata": {
        "colab": {
          "base_uri": "https://localhost:8080/"
        },
        "id": "dMNox1xPijUC",
        "outputId": "7fdce5d2-2120-436c-b085-fa1419c6c24a"
      },
      "outputs": [
        {
          "name": "stderr",
          "output_type": "stream",
          "text": [
            "/usr/local/lib/python3.10/dist-packages/dateutil/parser/_parser.py:1207: UnknownTimezoneWarning: tzname EST identified but not understood.  Pass `tzinfos` argument in order to correctly return a timezone-aware datetime.  In a future version, this will raise an exception.\n",
            "  warnings.warn(\"tzname {tzname} identified but not understood.  \"\n"
          ]
        }
      ],
      "source": [
        "import requests\n",
        "from bs4 import BeautifulSoup\n",
        "import pandas as pd\n",
        "from dateutil import parser  # 날짜 라이브러리\n",
        "from datetime import datetime\n",
        "\n",
        "# 원하는 날짜&키워드 검색 후 기사 목록을 불러오는 함수\n",
        "def get_foxnews_data(start_date, end_date, keyword):\n",
        "    url_template = 'https://api.foxnews.com/search/web?q={}+-filetype:amp+-filetype:xml+more:pagemap:metatags-prism.section+more:pagemap:metatags-pagetype:article+more:pagemap:metatags-dc.type:Text.Article&siteSearch=foxnews.com&siteSearchFilter=i&sort=date:r:{}:{}&start={}'\n",
        "\n",
        "    start = 1\n",
        "    result_list = []\n",
        "\n",
        "    while True:\n",
        "        url = url_template.format(keyword, start_date, end_date, start)\n",
        "\n",
        "        response = requests.get(url)\n",
        "\n",
        "        if response.status_code == 200:\n",
        "            data = response.json()\n",
        "            items = data.get('items', [])\n",
        "\n",
        "            if not items:\n",
        "                # print(\"페이지 끝까지 도달했습니다.\")\n",
        "                break\n",
        "\n",
        "            for result in items:\n",
        "                title = result.get(\"title\", \"N/A\")\n",
        "                date_str = result.get('snippet', \"N/A\")\n",
        "                # 'May 2, 2023' 형식의 문자열에서 실제 날짜 부분 추출\n",
        "                date_str = date_str.split('...')[0].strip()\n",
        "                # 추출된 날짜 문자열을 파싱하여 '2023-05-02' 형식으로 변환\n",
        "                date_parsed = datetime.strptime(date_str, '%b %d, %Y')\n",
        "                formatted_date = date_parsed.strftime('%Y-%m-%d')\n",
        "                description = result[\"pagemap\"][\"metatags\"][0].get(\"og:description\", \"N/A\")\n",
        "                link = result.get(\"link\", \"N/A\")\n",
        "\n",
        "                # 추출한 정보를 딕셔너리로 저장하여 리스트에 추가\n",
        "                result_dict = {\n",
        "                    \"Title\": title,\n",
        "                    \"Date\": formatted_date,\n",
        "                    \"Description\": description,\n",
        "                    \"URL\": link\n",
        "                }\n",
        "                result_list.append(result_dict)\n",
        "\n",
        "            start += 10  # 다음 페이지를 위해 start 값을 10 증가\n",
        "        else:\n",
        "            print(f\"에러: {response.status_code}\")\n",
        "            print(f\"에러 메시지: {response.text}\")\n",
        "            break\n",
        "\n",
        "    return result_list\n",
        "\n",
        "# 불러진 기사들의 url로 들어가서 타이틀, 날짜, 내용을 출력하는 함수\n",
        "def get_article_content(article_url):\n",
        "    response = requests.get(article_url)\n",
        "\n",
        "    if response.status_code == 200:\n",
        "        html = response.text\n",
        "        soup = BeautifulSoup(html, 'html.parser')\n",
        "\n",
        "        # 기사 제목 추출\n",
        "        title = soup.find('h1', class_='headline')\n",
        "        if title:\n",
        "            title_text = title.text.strip()\n",
        "\n",
        "        # 기사 날짜 추출\n",
        "        date_span = soup.find('span', class_='article-date')\n",
        "        if date_span:\n",
        "            # Find the time tag within the date span\n",
        "            time_tag = date_span.find('time')\n",
        "\n",
        "            if time_tag:\n",
        "                # Extract the text from the time tag\n",
        "                time_text = time_tag.text.strip()\n",
        "                published_datetime = parser.parse(time_text)\n",
        "                formatted_date = published_datetime.strftime('%Y-%m-%d')\n",
        "\n",
        "        # 기사 내용 추출\n",
        "        article_content = soup.find('div', class_='article-body')\n",
        "        if article_content:\n",
        "            paragraphs = article_content.find_all('p')\n",
        "            article_text = \"\\n\".join(paragraph.get_text() for paragraph in paragraphs)\n",
        "        else:\n",
        "            article_text = \"기사 내용을 찾을 수 없습니다.\"\n",
        "\n",
        "        # Return a dictionary containing the information\n",
        "        return {\n",
        "            \"Title\": title_text if title_text else \"N/A\",\n",
        "            \"Date\": formatted_date if formatted_date else \"N/A\",\n",
        "            \"Contents\": article_text\n",
        "        }\n",
        "    else:\n",
        "        print(f\"기사를 가져오는 중 에러: {response.status_code}\")\n",
        "        # Return an empty dictionary if an error occurs\n",
        "        return {}\n",
        "\n",
        "# 함수 호출\n",
        "result_list = get_foxnews_data(\"20180101\", \"20180131\", \"interest rate\")\n",
        "\n",
        "# 리스트 생성\n",
        "article_content_list = []\n",
        "\n",
        "# 모든 기사의 내용 출력\n",
        "for idx, article in enumerate(result_list):\n",
        "    # print(f\"\\n[Article {idx + 1}]\")\n",
        "    article_url = article.get(\"URL\")\n",
        "    if article_url:\n",
        "        # Get article content and append to the list\n",
        "        article_content_list.append(get_article_content(article_url))\n",
        "    else:\n",
        "        print(\"기사 URL이 없습니다.\")\n",
        "\n",
        "# 데이터프레임 생성\n",
        "df = pd.DataFrame(article_content_list)\n",
        "\n",
        "# 결과 출력\n",
        "df\n",
        "\n",
        "# 데이터프레임을 CSV 파일로 저장\n",
        "df.to_csv('/content/drive/MyDrive/Colab Notebooks/unclock-watchers/data/months/1801.csv', index=False, encoding='utf-8-sig')\n"
      ]
    },
    {
      "cell_type": "markdown",
      "metadata": {
        "id": "izuk8NT_oJZz"
      },
      "source": [
        "#### 크롤링 데이터 합치기"
      ]
    },
    {
      "cell_type": "code",
      "execution_count": null,
      "metadata": {
        "colab": {
          "base_uri": "https://localhost:8080/"
        },
        "id": "ghvWe3KvEdKo",
        "outputId": "e082fc8d-ec71-4011-9794-4615090cc1a8"
      },
      "outputs": [
        {
          "name": "stderr",
          "output_type": "stream",
          "text": [
            "<ipython-input-135-9300aa828339>:26: FutureWarning: The frame.append method is deprecated and will be removed from pandas in a future version. Use pandas.concat instead.\n",
            "  merged_df = merged_df.append(df)\n",
            "<ipython-input-135-9300aa828339>:26: FutureWarning: The frame.append method is deprecated and will be removed from pandas in a future version. Use pandas.concat instead.\n",
            "  merged_df = merged_df.append(df)\n",
            "<ipython-input-135-9300aa828339>:26: FutureWarning: The frame.append method is deprecated and will be removed from pandas in a future version. Use pandas.concat instead.\n",
            "  merged_df = merged_df.append(df)\n",
            "<ipython-input-135-9300aa828339>:26: FutureWarning: The frame.append method is deprecated and will be removed from pandas in a future version. Use pandas.concat instead.\n",
            "  merged_df = merged_df.append(df)\n",
            "<ipython-input-135-9300aa828339>:26: FutureWarning: The frame.append method is deprecated and will be removed from pandas in a future version. Use pandas.concat instead.\n",
            "  merged_df = merged_df.append(df)\n",
            "<ipython-input-135-9300aa828339>:26: FutureWarning: The frame.append method is deprecated and will be removed from pandas in a future version. Use pandas.concat instead.\n",
            "  merged_df = merged_df.append(df)\n",
            "<ipython-input-135-9300aa828339>:26: FutureWarning: The frame.append method is deprecated and will be removed from pandas in a future version. Use pandas.concat instead.\n",
            "  merged_df = merged_df.append(df)\n",
            "<ipython-input-135-9300aa828339>:26: FutureWarning: The frame.append method is deprecated and will be removed from pandas in a future version. Use pandas.concat instead.\n",
            "  merged_df = merged_df.append(df)\n",
            "<ipython-input-135-9300aa828339>:26: FutureWarning: The frame.append method is deprecated and will be removed from pandas in a future version. Use pandas.concat instead.\n",
            "  merged_df = merged_df.append(df)\n",
            "<ipython-input-135-9300aa828339>:26: FutureWarning: The frame.append method is deprecated and will be removed from pandas in a future version. Use pandas.concat instead.\n",
            "  merged_df = merged_df.append(df)\n",
            "<ipython-input-135-9300aa828339>:26: FutureWarning: The frame.append method is deprecated and will be removed from pandas in a future version. Use pandas.concat instead.\n",
            "  merged_df = merged_df.append(df)\n",
            "<ipython-input-135-9300aa828339>:26: FutureWarning: The frame.append method is deprecated and will be removed from pandas in a future version. Use pandas.concat instead.\n",
            "  merged_df = merged_df.append(df)\n",
            "<ipython-input-135-9300aa828339>:26: FutureWarning: The frame.append method is deprecated and will be removed from pandas in a future version. Use pandas.concat instead.\n",
            "  merged_df = merged_df.append(df)\n",
            "<ipython-input-135-9300aa828339>:26: FutureWarning: The frame.append method is deprecated and will be removed from pandas in a future version. Use pandas.concat instead.\n",
            "  merged_df = merged_df.append(df)\n",
            "<ipython-input-135-9300aa828339>:26: FutureWarning: The frame.append method is deprecated and will be removed from pandas in a future version. Use pandas.concat instead.\n",
            "  merged_df = merged_df.append(df)\n",
            "<ipython-input-135-9300aa828339>:26: FutureWarning: The frame.append method is deprecated and will be removed from pandas in a future version. Use pandas.concat instead.\n",
            "  merged_df = merged_df.append(df)\n",
            "<ipython-input-135-9300aa828339>:26: FutureWarning: The frame.append method is deprecated and will be removed from pandas in a future version. Use pandas.concat instead.\n",
            "  merged_df = merged_df.append(df)\n",
            "<ipython-input-135-9300aa828339>:26: FutureWarning: The frame.append method is deprecated and will be removed from pandas in a future version. Use pandas.concat instead.\n",
            "  merged_df = merged_df.append(df)\n",
            "<ipython-input-135-9300aa828339>:26: FutureWarning: The frame.append method is deprecated and will be removed from pandas in a future version. Use pandas.concat instead.\n",
            "  merged_df = merged_df.append(df)\n",
            "<ipython-input-135-9300aa828339>:26: FutureWarning: The frame.append method is deprecated and will be removed from pandas in a future version. Use pandas.concat instead.\n",
            "  merged_df = merged_df.append(df)\n",
            "<ipython-input-135-9300aa828339>:26: FutureWarning: The frame.append method is deprecated and will be removed from pandas in a future version. Use pandas.concat instead.\n",
            "  merged_df = merged_df.append(df)\n",
            "<ipython-input-135-9300aa828339>:26: FutureWarning: The frame.append method is deprecated and will be removed from pandas in a future version. Use pandas.concat instead.\n",
            "  merged_df = merged_df.append(df)\n",
            "<ipython-input-135-9300aa828339>:26: FutureWarning: The frame.append method is deprecated and will be removed from pandas in a future version. Use pandas.concat instead.\n",
            "  merged_df = merged_df.append(df)\n",
            "<ipython-input-135-9300aa828339>:26: FutureWarning: The frame.append method is deprecated and will be removed from pandas in a future version. Use pandas.concat instead.\n",
            "  merged_df = merged_df.append(df)\n",
            "<ipython-input-135-9300aa828339>:26: FutureWarning: The frame.append method is deprecated and will be removed from pandas in a future version. Use pandas.concat instead.\n",
            "  merged_df = merged_df.append(df)\n",
            "<ipython-input-135-9300aa828339>:26: FutureWarning: The frame.append method is deprecated and will be removed from pandas in a future version. Use pandas.concat instead.\n",
            "  merged_df = merged_df.append(df)\n",
            "<ipython-input-135-9300aa828339>:26: FutureWarning: The frame.append method is deprecated and will be removed from pandas in a future version. Use pandas.concat instead.\n",
            "  merged_df = merged_df.append(df)\n",
            "<ipython-input-135-9300aa828339>:26: FutureWarning: The frame.append method is deprecated and will be removed from pandas in a future version. Use pandas.concat instead.\n",
            "  merged_df = merged_df.append(df)\n",
            "<ipython-input-135-9300aa828339>:26: FutureWarning: The frame.append method is deprecated and will be removed from pandas in a future version. Use pandas.concat instead.\n",
            "  merged_df = merged_df.append(df)\n",
            "<ipython-input-135-9300aa828339>:26: FutureWarning: The frame.append method is deprecated and will be removed from pandas in a future version. Use pandas.concat instead.\n",
            "  merged_df = merged_df.append(df)\n",
            "<ipython-input-135-9300aa828339>:26: FutureWarning: The frame.append method is deprecated and will be removed from pandas in a future version. Use pandas.concat instead.\n",
            "  merged_df = merged_df.append(df)\n",
            "<ipython-input-135-9300aa828339>:26: FutureWarning: The frame.append method is deprecated and will be removed from pandas in a future version. Use pandas.concat instead.\n",
            "  merged_df = merged_df.append(df)\n",
            "<ipython-input-135-9300aa828339>:26: FutureWarning: The frame.append method is deprecated and will be removed from pandas in a future version. Use pandas.concat instead.\n",
            "  merged_df = merged_df.append(df)\n",
            "<ipython-input-135-9300aa828339>:26: FutureWarning: The frame.append method is deprecated and will be removed from pandas in a future version. Use pandas.concat instead.\n",
            "  merged_df = merged_df.append(df)\n",
            "<ipython-input-135-9300aa828339>:26: FutureWarning: The frame.append method is deprecated and will be removed from pandas in a future version. Use pandas.concat instead.\n",
            "  merged_df = merged_df.append(df)\n",
            "<ipython-input-135-9300aa828339>:26: FutureWarning: The frame.append method is deprecated and will be removed from pandas in a future version. Use pandas.concat instead.\n",
            "  merged_df = merged_df.append(df)\n",
            "<ipython-input-135-9300aa828339>:26: FutureWarning: The frame.append method is deprecated and will be removed from pandas in a future version. Use pandas.concat instead.\n",
            "  merged_df = merged_df.append(df)\n",
            "<ipython-input-135-9300aa828339>:26: FutureWarning: The frame.append method is deprecated and will be removed from pandas in a future version. Use pandas.concat instead.\n",
            "  merged_df = merged_df.append(df)\n"
          ]
        },
        {
          "name": "stdout",
          "output_type": "stream",
          "text": [
            "Error: File 2109.csv is empty. Skipping...\n",
            "Error: File 2104.csv is empty. Skipping...\n",
            "Error: File 2102.csv is empty. Skipping...\n",
            "Error: File 2006.csv is empty. Skipping...\n",
            "Error: File 2008.csv is empty. Skipping...\n",
            "Error: File 2010.csv is empty. Skipping...\n",
            "Error: File 1912.csv is empty. Skipping...\n"
          ]
        },
        {
          "name": "stderr",
          "output_type": "stream",
          "text": [
            "<ipython-input-135-9300aa828339>:26: FutureWarning: The frame.append method is deprecated and will be removed from pandas in a future version. Use pandas.concat instead.\n",
            "  merged_df = merged_df.append(df)\n",
            "<ipython-input-135-9300aa828339>:26: FutureWarning: The frame.append method is deprecated and will be removed from pandas in a future version. Use pandas.concat instead.\n",
            "  merged_df = merged_df.append(df)\n",
            "<ipython-input-135-9300aa828339>:26: FutureWarning: The frame.append method is deprecated and will be removed from pandas in a future version. Use pandas.concat instead.\n",
            "  merged_df = merged_df.append(df)\n",
            "<ipython-input-135-9300aa828339>:26: FutureWarning: The frame.append method is deprecated and will be removed from pandas in a future version. Use pandas.concat instead.\n",
            "  merged_df = merged_df.append(df)\n",
            "<ipython-input-135-9300aa828339>:26: FutureWarning: The frame.append method is deprecated and will be removed from pandas in a future version. Use pandas.concat instead.\n",
            "  merged_df = merged_df.append(df)\n",
            "<ipython-input-135-9300aa828339>:26: FutureWarning: The frame.append method is deprecated and will be removed from pandas in a future version. Use pandas.concat instead.\n",
            "  merged_df = merged_df.append(df)\n",
            "<ipython-input-135-9300aa828339>:26: FutureWarning: The frame.append method is deprecated and will be removed from pandas in a future version. Use pandas.concat instead.\n",
            "  merged_df = merged_df.append(df)\n",
            "<ipython-input-135-9300aa828339>:26: FutureWarning: The frame.append method is deprecated and will be removed from pandas in a future version. Use pandas.concat instead.\n",
            "  merged_df = merged_df.append(df)\n",
            "<ipython-input-135-9300aa828339>:26: FutureWarning: The frame.append method is deprecated and will be removed from pandas in a future version. Use pandas.concat instead.\n",
            "  merged_df = merged_df.append(df)\n",
            "<ipython-input-135-9300aa828339>:26: FutureWarning: The frame.append method is deprecated and will be removed from pandas in a future version. Use pandas.concat instead.\n",
            "  merged_df = merged_df.append(df)\n",
            "<ipython-input-135-9300aa828339>:26: FutureWarning: The frame.append method is deprecated and will be removed from pandas in a future version. Use pandas.concat instead.\n",
            "  merged_df = merged_df.append(df)\n",
            "<ipython-input-135-9300aa828339>:26: FutureWarning: The frame.append method is deprecated and will be removed from pandas in a future version. Use pandas.concat instead.\n",
            "  merged_df = merged_df.append(df)\n",
            "<ipython-input-135-9300aa828339>:26: FutureWarning: The frame.append method is deprecated and will be removed from pandas in a future version. Use pandas.concat instead.\n",
            "  merged_df = merged_df.append(df)\n"
          ]
        },
        {
          "name": "stdout",
          "output_type": "stream",
          "text": [
            "                                               Title        Date  \\\n",
            "0  As Biden touts US economy, Americans strugglin...  2023-01-23   \n",
            "1  Despite falling unemployment claims, housing m...  2023-01-19   \n",
            "2  NY manufacturing down significantly in January...  2023-01-17   \n",
            "3  US dollar slides in value after rate hikes, wh...  2023-01-19   \n",
            "4  Rising political stars on the right and left: ...  2023-01-02   \n",
            "\n",
            "                                            Contents  \n",
            "0  The Bahnsen Group founder David Bahnsen foreca...  \n",
            "1  Fox News Flash top headlines are here. Check o...  \n",
            "2  Fox News Flash top headlines are here. Check o...  \n",
            "3  Fox News Flash top headlines are here. Check o...  \n",
            "4  FOX Business correspondent Grady Trimble provi...  \n",
            "Merged DataFrame Shape: (331, 3)\n"
          ]
        }
      ],
      "source": [
        "import pandas as pd\n",
        "import os\n",
        "\n",
        "# 엑셀 파일 병합하기\n",
        "filepath = '/content/drive/MyDrive/Colab Notebooks/unclock-watchers/data/months/'\n",
        "\n",
        "# 파일 경로\n",
        "file_list = os.listdir(filepath)\n",
        "# 경로에 있는 모든 csv 파일 리스트 불러오기\n",
        "file_list_csv = [file for file in file_list if file.endswith('.csv')]\n",
        "\n",
        "# 저장할 dataframe\n",
        "merged_df = pd.DataFrame()\n",
        "\n",
        "for file in file_list_csv:\n",
        "    # 파일의 경로\n",
        "    file_path = os.path.join(filepath, file)\n",
        "\n",
        "    try:\n",
        "        # read_csv 기능으로 파일 읽음\n",
        "        df = pd.read_csv(file_path, dtype='object')\n",
        "\n",
        "        # 파일이 비어있는지 확인\n",
        "        if not df.empty:\n",
        "            # 병합된 데이터프레임에 추가\n",
        "            merged_df = merged_df.append(df)\n",
        "        else:\n",
        "            print(f\"Warning: File {file} is empty. Skipping...\")\n",
        "            # 비어있는 파일 삭제\n",
        "            os.remove(file_path)\n",
        "    except pd.errors.EmptyDataError:\n",
        "        print(f\"Error: File {file} is empty. Skipping...\")\n",
        "        # 비어있는 파일 삭제\n",
        "        os.remove(file_path)\n",
        "\n",
        "# 병합 엑셀 파일 저장\n",
        "output_filepath = \"/content/drive/MyDrive/Colab Notebooks/unclock-watchers/data/2019_2023_merge_news_data.csv\"\n",
        "merged_df.to_csv(output_filepath, index=False, encoding='utf-8-sig', mode='w')\n",
        "\n",
        "# 병합된 데이터프레임 출력\n",
        "print(merged_df.head())\n",
        "\n",
        "# 병합된 데이터프레임의 크기 출력\n",
        "print(\"Merged DataFrame Shape:\", merged_df.shape)"
      ]
    },
    {
      "cell_type": "code",
      "execution_count": null,
      "metadata": {
        "colab": {
          "base_uri": "https://localhost:8080/",
          "height": 423
        },
        "id": "4cuLzXcHoQ7l",
        "outputId": "dfdcf758-627a-4020-bd42-fc21d26dcf37"
      },
      "outputs": [
        {
          "data": {
            "text/html": [
              "\n",
              "  <div id=\"df-8aa97cc3-5099-4b39-9e1f-edcbb7c3c82d\" class=\"colab-df-container\">\n",
              "    <div>\n",
              "<style scoped>\n",
              "    .dataframe tbody tr th:only-of-type {\n",
              "        vertical-align: middle;\n",
              "    }\n",
              "\n",
              "    .dataframe tbody tr th {\n",
              "        vertical-align: top;\n",
              "    }\n",
              "\n",
              "    .dataframe thead th {\n",
              "        text-align: right;\n",
              "    }\n",
              "</style>\n",
              "<table border=\"1\" class=\"dataframe\">\n",
              "  <thead>\n",
              "    <tr style=\"text-align: right;\">\n",
              "      <th></th>\n",
              "      <th>Title</th>\n",
              "      <th>Date</th>\n",
              "      <th>Contents</th>\n",
              "    </tr>\n",
              "  </thead>\n",
              "  <tbody>\n",
              "    <tr>\n",
              "      <th>1</th>\n",
              "      <td>US new-vehicle sales in 2018 rise slightly to ...</td>\n",
              "      <td>2019-01-03</td>\n",
              "      <td>FILE - In this Sept. 8, 2010 file photo, auto ...</td>\n",
              "    </tr>\n",
              "    <tr>\n",
              "      <th>2</th>\n",
              "      <td>Economists: Buyers face tougher housing market...</td>\n",
              "      <td>2019-01-04</td>\n",
              "      <td>Americans' path to homeownership is likely to ...</td>\n",
              "    </tr>\n",
              "    <tr>\n",
              "      <th>0</th>\n",
              "      <td>Avenatti runs law firm like 'Ponzi scheme,' fo...</td>\n",
              "      <td>2019-01-23</td>\n",
              "      <td>Michael Avenatti, attorney for porn actress St...</td>\n",
              "    </tr>\n",
              "    <tr>\n",
              "      <th>3</th>\n",
              "      <td>Man who repeatedly scammed veterans out of ret...</td>\n",
              "      <td>2019-01-31</td>\n",
              "      <td>Mark Corbett, who is accused of swindling vete...</td>\n",
              "    </tr>\n",
              "    <tr>\n",
              "      <th>0</th>\n",
              "      <td>Fox News poll: Voters want a border compromise</td>\n",
              "      <td>2019-02-13</td>\n",
              "      <td>The president in no rush to sign off on a bord...</td>\n",
              "    </tr>\n",
              "    <tr>\n",
              "      <th>...</th>\n",
              "      <td>...</td>\n",
              "      <td>...</td>\n",
              "      <td>...</td>\n",
              "    </tr>\n",
              "    <tr>\n",
              "      <th>9</th>\n",
              "      <td>Student loan repayments are back. Will college...</td>\n",
              "      <td>2023-10-06</td>\n",
              "      <td>Fox News Flash top headlines are here. Check o...</td>\n",
              "    </tr>\n",
              "    <tr>\n",
              "      <th>7</th>\n",
              "      <td>Yellen and rest of Bidenomics team ignore midd...</td>\n",
              "      <td>2023-10-10</td>\n",
              "      <td>Patrice Onwuka of the Independent Women's Foru...</td>\n",
              "    </tr>\n",
              "    <tr>\n",
              "      <th>6</th>\n",
              "      <td>Fox News Poll: 72% dissatisfied with direction...</td>\n",
              "      <td>2023-10-12</td>\n",
              "      <td>‘FOX &amp; Friends’ co-host Lawrence Jones discuss...</td>\n",
              "    </tr>\n",
              "    <tr>\n",
              "      <th>8</th>\n",
              "      <td>We can still save the American Dream. Here's t...</td>\n",
              "      <td>2023-10-26</td>\n",
              "      <td>Fox News contributor Jason Chaffetz details ho...</td>\n",
              "    </tr>\n",
              "    <tr>\n",
              "      <th>1</th>\n",
              "      <td>Russia raises interest rates for fourth time i...</td>\n",
              "      <td>2023-10-27</td>\n",
              "      <td>Fox News Flash top headlines are here. Check o...</td>\n",
              "    </tr>\n",
              "  </tbody>\n",
              "</table>\n",
              "<p>331 rows × 3 columns</p>\n",
              "</div>\n",
              "    <div class=\"colab-df-buttons\">\n",
              "\n",
              "  <div class=\"colab-df-container\">\n",
              "    <button class=\"colab-df-convert\" onclick=\"convertToInteractive('df-8aa97cc3-5099-4b39-9e1f-edcbb7c3c82d')\"\n",
              "            title=\"Convert this dataframe to an interactive table.\"\n",
              "            style=\"display:none;\">\n",
              "\n",
              "  <svg xmlns=\"http://www.w3.org/2000/svg\" height=\"24px\" viewBox=\"0 -960 960 960\">\n",
              "    <path d=\"M120-120v-720h720v720H120Zm60-500h600v-160H180v160Zm220 220h160v-160H400v160Zm0 220h160v-160H400v160ZM180-400h160v-160H180v160Zm440 0h160v-160H620v160ZM180-180h160v-160H180v160Zm440 0h160v-160H620v160Z\"/>\n",
              "  </svg>\n",
              "    </button>\n",
              "\n",
              "  <style>\n",
              "    .colab-df-container {\n",
              "      display:flex;\n",
              "      gap: 12px;\n",
              "    }\n",
              "\n",
              "    .colab-df-convert {\n",
              "      background-color: #E8F0FE;\n",
              "      border: none;\n",
              "      border-radius: 50%;\n",
              "      cursor: pointer;\n",
              "      display: none;\n",
              "      fill: #1967D2;\n",
              "      height: 32px;\n",
              "      padding: 0 0 0 0;\n",
              "      width: 32px;\n",
              "    }\n",
              "\n",
              "    .colab-df-convert:hover {\n",
              "      background-color: #E2EBFA;\n",
              "      box-shadow: 0px 1px 2px rgba(60, 64, 67, 0.3), 0px 1px 3px 1px rgba(60, 64, 67, 0.15);\n",
              "      fill: #174EA6;\n",
              "    }\n",
              "\n",
              "    .colab-df-buttons div {\n",
              "      margin-bottom: 4px;\n",
              "    }\n",
              "\n",
              "    [theme=dark] .colab-df-convert {\n",
              "      background-color: #3B4455;\n",
              "      fill: #D2E3FC;\n",
              "    }\n",
              "\n",
              "    [theme=dark] .colab-df-convert:hover {\n",
              "      background-color: #434B5C;\n",
              "      box-shadow: 0px 1px 3px 1px rgba(0, 0, 0, 0.15);\n",
              "      filter: drop-shadow(0px 1px 2px rgba(0, 0, 0, 0.3));\n",
              "      fill: #FFFFFF;\n",
              "    }\n",
              "  </style>\n",
              "\n",
              "    <script>\n",
              "      const buttonEl =\n",
              "        document.querySelector('#df-8aa97cc3-5099-4b39-9e1f-edcbb7c3c82d button.colab-df-convert');\n",
              "      buttonEl.style.display =\n",
              "        google.colab.kernel.accessAllowed ? 'block' : 'none';\n",
              "\n",
              "      async function convertToInteractive(key) {\n",
              "        const element = document.querySelector('#df-8aa97cc3-5099-4b39-9e1f-edcbb7c3c82d');\n",
              "        const dataTable =\n",
              "          await google.colab.kernel.invokeFunction('convertToInteractive',\n",
              "                                                    [key], {});\n",
              "        if (!dataTable) return;\n",
              "\n",
              "        const docLinkHtml = 'Like what you see? Visit the ' +\n",
              "          '<a target=\"_blank\" href=https://colab.research.google.com/notebooks/data_table.ipynb>data table notebook</a>'\n",
              "          + ' to learn more about interactive tables.';\n",
              "        element.innerHTML = '';\n",
              "        dataTable['output_type'] = 'display_data';\n",
              "        await google.colab.output.renderOutput(dataTable, element);\n",
              "        const docLink = document.createElement('div');\n",
              "        docLink.innerHTML = docLinkHtml;\n",
              "        element.appendChild(docLink);\n",
              "      }\n",
              "    </script>\n",
              "  </div>\n",
              "\n",
              "\n",
              "<div id=\"df-c05fe6bb-f0f4-46a9-bc95-57ff5d40dfc1\">\n",
              "  <button class=\"colab-df-quickchart\" onclick=\"quickchart('df-c05fe6bb-f0f4-46a9-bc95-57ff5d40dfc1')\"\n",
              "            title=\"Suggest charts\"\n",
              "            style=\"display:none;\">\n",
              "\n",
              "<svg xmlns=\"http://www.w3.org/2000/svg\" height=\"24px\"viewBox=\"0 0 24 24\"\n",
              "     width=\"24px\">\n",
              "    <g>\n",
              "        <path d=\"M19 3H5c-1.1 0-2 .9-2 2v14c0 1.1.9 2 2 2h14c1.1 0 2-.9 2-2V5c0-1.1-.9-2-2-2zM9 17H7v-7h2v7zm4 0h-2V7h2v10zm4 0h-2v-4h2v4z\"/>\n",
              "    </g>\n",
              "</svg>\n",
              "  </button>\n",
              "\n",
              "<style>\n",
              "  .colab-df-quickchart {\n",
              "      --bg-color: #E8F0FE;\n",
              "      --fill-color: #1967D2;\n",
              "      --hover-bg-color: #E2EBFA;\n",
              "      --hover-fill-color: #174EA6;\n",
              "      --disabled-fill-color: #AAA;\n",
              "      --disabled-bg-color: #DDD;\n",
              "  }\n",
              "\n",
              "  [theme=dark] .colab-df-quickchart {\n",
              "      --bg-color: #3B4455;\n",
              "      --fill-color: #D2E3FC;\n",
              "      --hover-bg-color: #434B5C;\n",
              "      --hover-fill-color: #FFFFFF;\n",
              "      --disabled-bg-color: #3B4455;\n",
              "      --disabled-fill-color: #666;\n",
              "  }\n",
              "\n",
              "  .colab-df-quickchart {\n",
              "    background-color: var(--bg-color);\n",
              "    border: none;\n",
              "    border-radius: 50%;\n",
              "    cursor: pointer;\n",
              "    display: none;\n",
              "    fill: var(--fill-color);\n",
              "    height: 32px;\n",
              "    padding: 0;\n",
              "    width: 32px;\n",
              "  }\n",
              "\n",
              "  .colab-df-quickchart:hover {\n",
              "    background-color: var(--hover-bg-color);\n",
              "    box-shadow: 0 1px 2px rgba(60, 64, 67, 0.3), 0 1px 3px 1px rgba(60, 64, 67, 0.15);\n",
              "    fill: var(--button-hover-fill-color);\n",
              "  }\n",
              "\n",
              "  .colab-df-quickchart-complete:disabled,\n",
              "  .colab-df-quickchart-complete:disabled:hover {\n",
              "    background-color: var(--disabled-bg-color);\n",
              "    fill: var(--disabled-fill-color);\n",
              "    box-shadow: none;\n",
              "  }\n",
              "\n",
              "  .colab-df-spinner {\n",
              "    border: 2px solid var(--fill-color);\n",
              "    border-color: transparent;\n",
              "    border-bottom-color: var(--fill-color);\n",
              "    animation:\n",
              "      spin 1s steps(1) infinite;\n",
              "  }\n",
              "\n",
              "  @keyframes spin {\n",
              "    0% {\n",
              "      border-color: transparent;\n",
              "      border-bottom-color: var(--fill-color);\n",
              "      border-left-color: var(--fill-color);\n",
              "    }\n",
              "    20% {\n",
              "      border-color: transparent;\n",
              "      border-left-color: var(--fill-color);\n",
              "      border-top-color: var(--fill-color);\n",
              "    }\n",
              "    30% {\n",
              "      border-color: transparent;\n",
              "      border-left-color: var(--fill-color);\n",
              "      border-top-color: var(--fill-color);\n",
              "      border-right-color: var(--fill-color);\n",
              "    }\n",
              "    40% {\n",
              "      border-color: transparent;\n",
              "      border-right-color: var(--fill-color);\n",
              "      border-top-color: var(--fill-color);\n",
              "    }\n",
              "    60% {\n",
              "      border-color: transparent;\n",
              "      border-right-color: var(--fill-color);\n",
              "    }\n",
              "    80% {\n",
              "      border-color: transparent;\n",
              "      border-right-color: var(--fill-color);\n",
              "      border-bottom-color: var(--fill-color);\n",
              "    }\n",
              "    90% {\n",
              "      border-color: transparent;\n",
              "      border-bottom-color: var(--fill-color);\n",
              "    }\n",
              "  }\n",
              "</style>\n",
              "\n",
              "  <script>\n",
              "    async function quickchart(key) {\n",
              "      const quickchartButtonEl =\n",
              "        document.querySelector('#' + key + ' button');\n",
              "      quickchartButtonEl.disabled = true;  // To prevent multiple clicks.\n",
              "      quickchartButtonEl.classList.add('colab-df-spinner');\n",
              "      try {\n",
              "        const charts = await google.colab.kernel.invokeFunction(\n",
              "            'suggestCharts', [key], {});\n",
              "      } catch (error) {\n",
              "        console.error('Error during call to suggestCharts:', error);\n",
              "      }\n",
              "      quickchartButtonEl.classList.remove('colab-df-spinner');\n",
              "      quickchartButtonEl.classList.add('colab-df-quickchart-complete');\n",
              "    }\n",
              "    (() => {\n",
              "      let quickchartButtonEl =\n",
              "        document.querySelector('#df-c05fe6bb-f0f4-46a9-bc95-57ff5d40dfc1 button');\n",
              "      quickchartButtonEl.style.display =\n",
              "        google.colab.kernel.accessAllowed ? 'block' : 'none';\n",
              "    })();\n",
              "  </script>\n",
              "</div>\n",
              "    </div>\n",
              "  </div>\n"
            ],
            "text/plain": [
              "                                                Title        Date  \\\n",
              "1   US new-vehicle sales in 2018 rise slightly to ...  2019-01-03   \n",
              "2   Economists: Buyers face tougher housing market...  2019-01-04   \n",
              "0   Avenatti runs law firm like 'Ponzi scheme,' fo...  2019-01-23   \n",
              "3   Man who repeatedly scammed veterans out of ret...  2019-01-31   \n",
              "0      Fox News poll: Voters want a border compromise  2019-02-13   \n",
              "..                                                ...         ...   \n",
              "9   Student loan repayments are back. Will college...  2023-10-06   \n",
              "7   Yellen and rest of Bidenomics team ignore midd...  2023-10-10   \n",
              "6   Fox News Poll: 72% dissatisfied with direction...  2023-10-12   \n",
              "8   We can still save the American Dream. Here's t...  2023-10-26   \n",
              "1   Russia raises interest rates for fourth time i...  2023-10-27   \n",
              "\n",
              "                                             Contents  \n",
              "1   FILE - In this Sept. 8, 2010 file photo, auto ...  \n",
              "2   Americans' path to homeownership is likely to ...  \n",
              "0   Michael Avenatti, attorney for porn actress St...  \n",
              "3   Mark Corbett, who is accused of swindling vete...  \n",
              "0   The president in no rush to sign off on a bord...  \n",
              "..                                                ...  \n",
              "9   Fox News Flash top headlines are here. Check o...  \n",
              "7   Patrice Onwuka of the Independent Women's Foru...  \n",
              "6   ‘FOX & Friends’ co-host Lawrence Jones discuss...  \n",
              "8   Fox News contributor Jason Chaffetz details ho...  \n",
              "1   Fox News Flash top headlines are here. Check o...  \n",
              "\n",
              "[331 rows x 3 columns]"
            ]
          },
          "execution_count": 136,
          "metadata": {},
          "output_type": "execute_result"
        }
      ],
      "source": [
        "# 날짜 정렬\n",
        "\n",
        "merged_df.sort_values(by = 'Date', inplace = True)\n",
        "merged_df"
      ]
    },
    {
      "cell_type": "code",
      "execution_count": null,
      "metadata": {
        "colab": {
          "base_uri": "https://localhost:8080/",
          "height": 1000
        },
        "id": "D4mBkaBboQ48",
        "outputId": "5760cc3e-9ce5-451c-f6fe-d98563e521e5"
      },
      "outputs": [
        {
          "name": "stderr",
          "output_type": "stream",
          "text": [
            "<ipython-input-134-738bca287109>:19: FutureWarning: The frame.append method is deprecated and will be removed from pandas in a future version. Use pandas.concat instead.\n",
            "  merged_df = merged_df.append(df)\n",
            "<ipython-input-134-738bca287109>:19: FutureWarning: The frame.append method is deprecated and will be removed from pandas in a future version. Use pandas.concat instead.\n",
            "  merged_df = merged_df.append(df)\n",
            "<ipython-input-134-738bca287109>:19: FutureWarning: The frame.append method is deprecated and will be removed from pandas in a future version. Use pandas.concat instead.\n",
            "  merged_df = merged_df.append(df)\n",
            "<ipython-input-134-738bca287109>:19: FutureWarning: The frame.append method is deprecated and will be removed from pandas in a future version. Use pandas.concat instead.\n",
            "  merged_df = merged_df.append(df)\n",
            "<ipython-input-134-738bca287109>:19: FutureWarning: The frame.append method is deprecated and will be removed from pandas in a future version. Use pandas.concat instead.\n",
            "  merged_df = merged_df.append(df)\n",
            "<ipython-input-134-738bca287109>:19: FutureWarning: The frame.append method is deprecated and will be removed from pandas in a future version. Use pandas.concat instead.\n",
            "  merged_df = merged_df.append(df)\n",
            "<ipython-input-134-738bca287109>:19: FutureWarning: The frame.append method is deprecated and will be removed from pandas in a future version. Use pandas.concat instead.\n",
            "  merged_df = merged_df.append(df)\n",
            "<ipython-input-134-738bca287109>:19: FutureWarning: The frame.append method is deprecated and will be removed from pandas in a future version. Use pandas.concat instead.\n",
            "  merged_df = merged_df.append(df)\n",
            "<ipython-input-134-738bca287109>:19: FutureWarning: The frame.append method is deprecated and will be removed from pandas in a future version. Use pandas.concat instead.\n",
            "  merged_df = merged_df.append(df)\n",
            "<ipython-input-134-738bca287109>:19: FutureWarning: The frame.append method is deprecated and will be removed from pandas in a future version. Use pandas.concat instead.\n",
            "  merged_df = merged_df.append(df)\n",
            "<ipython-input-134-738bca287109>:19: FutureWarning: The frame.append method is deprecated and will be removed from pandas in a future version. Use pandas.concat instead.\n",
            "  merged_df = merged_df.append(df)\n",
            "<ipython-input-134-738bca287109>:19: FutureWarning: The frame.append method is deprecated and will be removed from pandas in a future version. Use pandas.concat instead.\n",
            "  merged_df = merged_df.append(df)\n",
            "<ipython-input-134-738bca287109>:19: FutureWarning: The frame.append method is deprecated and will be removed from pandas in a future version. Use pandas.concat instead.\n",
            "  merged_df = merged_df.append(df)\n",
            "<ipython-input-134-738bca287109>:19: FutureWarning: The frame.append method is deprecated and will be removed from pandas in a future version. Use pandas.concat instead.\n",
            "  merged_df = merged_df.append(df)\n",
            "<ipython-input-134-738bca287109>:19: FutureWarning: The frame.append method is deprecated and will be removed from pandas in a future version. Use pandas.concat instead.\n",
            "  merged_df = merged_df.append(df)\n",
            "<ipython-input-134-738bca287109>:19: FutureWarning: The frame.append method is deprecated and will be removed from pandas in a future version. Use pandas.concat instead.\n",
            "  merged_df = merged_df.append(df)\n",
            "<ipython-input-134-738bca287109>:19: FutureWarning: The frame.append method is deprecated and will be removed from pandas in a future version. Use pandas.concat instead.\n",
            "  merged_df = merged_df.append(df)\n",
            "<ipython-input-134-738bca287109>:19: FutureWarning: The frame.append method is deprecated and will be removed from pandas in a future version. Use pandas.concat instead.\n",
            "  merged_df = merged_df.append(df)\n",
            "<ipython-input-134-738bca287109>:19: FutureWarning: The frame.append method is deprecated and will be removed from pandas in a future version. Use pandas.concat instead.\n",
            "  merged_df = merged_df.append(df)\n",
            "<ipython-input-134-738bca287109>:19: FutureWarning: The frame.append method is deprecated and will be removed from pandas in a future version. Use pandas.concat instead.\n",
            "  merged_df = merged_df.append(df)\n",
            "<ipython-input-134-738bca287109>:19: FutureWarning: The frame.append method is deprecated and will be removed from pandas in a future version. Use pandas.concat instead.\n",
            "  merged_df = merged_df.append(df)\n",
            "<ipython-input-134-738bca287109>:19: FutureWarning: The frame.append method is deprecated and will be removed from pandas in a future version. Use pandas.concat instead.\n",
            "  merged_df = merged_df.append(df)\n",
            "<ipython-input-134-738bca287109>:19: FutureWarning: The frame.append method is deprecated and will be removed from pandas in a future version. Use pandas.concat instead.\n",
            "  merged_df = merged_df.append(df)\n",
            "<ipython-input-134-738bca287109>:19: FutureWarning: The frame.append method is deprecated and will be removed from pandas in a future version. Use pandas.concat instead.\n",
            "  merged_df = merged_df.append(df)\n",
            "<ipython-input-134-738bca287109>:19: FutureWarning: The frame.append method is deprecated and will be removed from pandas in a future version. Use pandas.concat instead.\n",
            "  merged_df = merged_df.append(df)\n"
          ]
        },
        {
          "ename": "EmptyDataError",
          "evalue": "ignored",
          "output_type": "error",
          "traceback": [
            "\u001b[0;31m---------------------------------------------------------------------------\u001b[0m",
            "\u001b[0;31mEmptyDataError\u001b[0m                            Traceback (most recent call last)",
            "\u001b[0;32m<ipython-input-134-738bca287109>\u001b[0m in \u001b[0;36m<cell line: 16>\u001b[0;34m()\u001b[0m\n\u001b[1;32m     16\u001b[0m \u001b[0;32mfor\u001b[0m \u001b[0mfile\u001b[0m \u001b[0;32min\u001b[0m \u001b[0mfile_list_csv\u001b[0m\u001b[0;34m:\u001b[0m\u001b[0;34m\u001b[0m\u001b[0;34m\u001b[0m\u001b[0m\n\u001b[1;32m     17\u001b[0m   \u001b[0;31m#read_excel기능으로 파일 읽음\u001b[0m\u001b[0;34m\u001b[0m\u001b[0;34m\u001b[0m\u001b[0m\n\u001b[0;32m---> 18\u001b[0;31m   \u001b[0mdf\u001b[0m \u001b[0;34m=\u001b[0m \u001b[0mpd\u001b[0m\u001b[0;34m.\u001b[0m\u001b[0mread_csv\u001b[0m\u001b[0;34m(\u001b[0m\u001b[0mfilepath\u001b[0m \u001b[0;34m+\u001b[0m \u001b[0mfile\u001b[0m\u001b[0;34m,\u001b[0m \u001b[0mdtype\u001b[0m\u001b[0;34m=\u001b[0m\u001b[0;34m'object'\u001b[0m\u001b[0;34m)\u001b[0m\u001b[0;34m\u001b[0m\u001b[0;34m\u001b[0m\u001b[0m\n\u001b[0m\u001b[1;32m     19\u001b[0m   \u001b[0mmerged_df\u001b[0m \u001b[0;34m=\u001b[0m \u001b[0mmerged_df\u001b[0m\u001b[0;34m.\u001b[0m\u001b[0mappend\u001b[0m\u001b[0;34m(\u001b[0m\u001b[0mdf\u001b[0m\u001b[0;34m)\u001b[0m\u001b[0;34m\u001b[0m\u001b[0;34m\u001b[0m\u001b[0m\n\u001b[1;32m     20\u001b[0m \u001b[0;34m\u001b[0m\u001b[0m\n",
            "\u001b[0;32m/usr/local/lib/python3.10/dist-packages/pandas/util/_decorators.py\u001b[0m in \u001b[0;36mwrapper\u001b[0;34m(*args, **kwargs)\u001b[0m\n\u001b[1;32m    209\u001b[0m                 \u001b[0;32melse\u001b[0m\u001b[0;34m:\u001b[0m\u001b[0;34m\u001b[0m\u001b[0;34m\u001b[0m\u001b[0m\n\u001b[1;32m    210\u001b[0m                     \u001b[0mkwargs\u001b[0m\u001b[0;34m[\u001b[0m\u001b[0mnew_arg_name\u001b[0m\u001b[0;34m]\u001b[0m \u001b[0;34m=\u001b[0m \u001b[0mnew_arg_value\u001b[0m\u001b[0;34m\u001b[0m\u001b[0;34m\u001b[0m\u001b[0m\n\u001b[0;32m--> 211\u001b[0;31m             \u001b[0;32mreturn\u001b[0m \u001b[0mfunc\u001b[0m\u001b[0;34m(\u001b[0m\u001b[0;34m*\u001b[0m\u001b[0margs\u001b[0m\u001b[0;34m,\u001b[0m \u001b[0;34m**\u001b[0m\u001b[0mkwargs\u001b[0m\u001b[0;34m)\u001b[0m\u001b[0;34m\u001b[0m\u001b[0;34m\u001b[0m\u001b[0m\n\u001b[0m\u001b[1;32m    212\u001b[0m \u001b[0;34m\u001b[0m\u001b[0m\n\u001b[1;32m    213\u001b[0m         \u001b[0;32mreturn\u001b[0m \u001b[0mcast\u001b[0m\u001b[0;34m(\u001b[0m\u001b[0mF\u001b[0m\u001b[0;34m,\u001b[0m \u001b[0mwrapper\u001b[0m\u001b[0;34m)\u001b[0m\u001b[0;34m\u001b[0m\u001b[0;34m\u001b[0m\u001b[0m\n",
            "\u001b[0;32m/usr/local/lib/python3.10/dist-packages/pandas/util/_decorators.py\u001b[0m in \u001b[0;36mwrapper\u001b[0;34m(*args, **kwargs)\u001b[0m\n\u001b[1;32m    329\u001b[0m                     \u001b[0mstacklevel\u001b[0m\u001b[0;34m=\u001b[0m\u001b[0mfind_stack_level\u001b[0m\u001b[0;34m(\u001b[0m\u001b[0;34m)\u001b[0m\u001b[0;34m,\u001b[0m\u001b[0;34m\u001b[0m\u001b[0;34m\u001b[0m\u001b[0m\n\u001b[1;32m    330\u001b[0m                 )\n\u001b[0;32m--> 331\u001b[0;31m             \u001b[0;32mreturn\u001b[0m \u001b[0mfunc\u001b[0m\u001b[0;34m(\u001b[0m\u001b[0;34m*\u001b[0m\u001b[0margs\u001b[0m\u001b[0;34m,\u001b[0m \u001b[0;34m**\u001b[0m\u001b[0mkwargs\u001b[0m\u001b[0;34m)\u001b[0m\u001b[0;34m\u001b[0m\u001b[0;34m\u001b[0m\u001b[0m\n\u001b[0m\u001b[1;32m    332\u001b[0m \u001b[0;34m\u001b[0m\u001b[0m\n\u001b[1;32m    333\u001b[0m         \u001b[0;31m# error: \"Callable[[VarArg(Any), KwArg(Any)], Any]\" has no\u001b[0m\u001b[0;34m\u001b[0m\u001b[0;34m\u001b[0m\u001b[0m\n",
            "\u001b[0;32m/usr/local/lib/python3.10/dist-packages/pandas/io/parsers/readers.py\u001b[0m in \u001b[0;36mread_csv\u001b[0;34m(filepath_or_buffer, sep, delimiter, header, names, index_col, usecols, squeeze, prefix, mangle_dupe_cols, dtype, engine, converters, true_values, false_values, skipinitialspace, skiprows, skipfooter, nrows, na_values, keep_default_na, na_filter, verbose, skip_blank_lines, parse_dates, infer_datetime_format, keep_date_col, date_parser, dayfirst, cache_dates, iterator, chunksize, compression, thousands, decimal, lineterminator, quotechar, quoting, doublequote, escapechar, comment, encoding, encoding_errors, dialect, error_bad_lines, warn_bad_lines, on_bad_lines, delim_whitespace, low_memory, memory_map, float_precision, storage_options)\u001b[0m\n\u001b[1;32m    948\u001b[0m     \u001b[0mkwds\u001b[0m\u001b[0;34m.\u001b[0m\u001b[0mupdate\u001b[0m\u001b[0;34m(\u001b[0m\u001b[0mkwds_defaults\u001b[0m\u001b[0;34m)\u001b[0m\u001b[0;34m\u001b[0m\u001b[0;34m\u001b[0m\u001b[0m\n\u001b[1;32m    949\u001b[0m \u001b[0;34m\u001b[0m\u001b[0m\n\u001b[0;32m--> 950\u001b[0;31m     \u001b[0;32mreturn\u001b[0m \u001b[0m_read\u001b[0m\u001b[0;34m(\u001b[0m\u001b[0mfilepath_or_buffer\u001b[0m\u001b[0;34m,\u001b[0m \u001b[0mkwds\u001b[0m\u001b[0;34m)\u001b[0m\u001b[0;34m\u001b[0m\u001b[0;34m\u001b[0m\u001b[0m\n\u001b[0m\u001b[1;32m    951\u001b[0m \u001b[0;34m\u001b[0m\u001b[0m\n\u001b[1;32m    952\u001b[0m \u001b[0;34m\u001b[0m\u001b[0m\n",
            "\u001b[0;32m/usr/local/lib/python3.10/dist-packages/pandas/io/parsers/readers.py\u001b[0m in \u001b[0;36m_read\u001b[0;34m(filepath_or_buffer, kwds)\u001b[0m\n\u001b[1;32m    603\u001b[0m \u001b[0;34m\u001b[0m\u001b[0m\n\u001b[1;32m    604\u001b[0m     \u001b[0;31m# Create the parser.\u001b[0m\u001b[0;34m\u001b[0m\u001b[0;34m\u001b[0m\u001b[0m\n\u001b[0;32m--> 605\u001b[0;31m     \u001b[0mparser\u001b[0m \u001b[0;34m=\u001b[0m \u001b[0mTextFileReader\u001b[0m\u001b[0;34m(\u001b[0m\u001b[0mfilepath_or_buffer\u001b[0m\u001b[0;34m,\u001b[0m \u001b[0;34m**\u001b[0m\u001b[0mkwds\u001b[0m\u001b[0;34m)\u001b[0m\u001b[0;34m\u001b[0m\u001b[0;34m\u001b[0m\u001b[0m\n\u001b[0m\u001b[1;32m    606\u001b[0m \u001b[0;34m\u001b[0m\u001b[0m\n\u001b[1;32m    607\u001b[0m     \u001b[0;32mif\u001b[0m \u001b[0mchunksize\u001b[0m \u001b[0;32mor\u001b[0m \u001b[0miterator\u001b[0m\u001b[0;34m:\u001b[0m\u001b[0;34m\u001b[0m\u001b[0;34m\u001b[0m\u001b[0m\n",
            "\u001b[0;32m/usr/local/lib/python3.10/dist-packages/pandas/io/parsers/readers.py\u001b[0m in \u001b[0;36m__init__\u001b[0;34m(self, f, engine, **kwds)\u001b[0m\n\u001b[1;32m   1440\u001b[0m \u001b[0;34m\u001b[0m\u001b[0m\n\u001b[1;32m   1441\u001b[0m         \u001b[0mself\u001b[0m\u001b[0;34m.\u001b[0m\u001b[0mhandles\u001b[0m\u001b[0;34m:\u001b[0m \u001b[0mIOHandles\u001b[0m \u001b[0;34m|\u001b[0m \u001b[0;32mNone\u001b[0m \u001b[0;34m=\u001b[0m \u001b[0;32mNone\u001b[0m\u001b[0;34m\u001b[0m\u001b[0;34m\u001b[0m\u001b[0m\n\u001b[0;32m-> 1442\u001b[0;31m         \u001b[0mself\u001b[0m\u001b[0;34m.\u001b[0m\u001b[0m_engine\u001b[0m \u001b[0;34m=\u001b[0m \u001b[0mself\u001b[0m\u001b[0;34m.\u001b[0m\u001b[0m_make_engine\u001b[0m\u001b[0;34m(\u001b[0m\u001b[0mf\u001b[0m\u001b[0;34m,\u001b[0m \u001b[0mself\u001b[0m\u001b[0;34m.\u001b[0m\u001b[0mengine\u001b[0m\u001b[0;34m)\u001b[0m\u001b[0;34m\u001b[0m\u001b[0;34m\u001b[0m\u001b[0m\n\u001b[0m\u001b[1;32m   1443\u001b[0m \u001b[0;34m\u001b[0m\u001b[0m\n\u001b[1;32m   1444\u001b[0m     \u001b[0;32mdef\u001b[0m \u001b[0mclose\u001b[0m\u001b[0;34m(\u001b[0m\u001b[0mself\u001b[0m\u001b[0;34m)\u001b[0m \u001b[0;34m->\u001b[0m \u001b[0;32mNone\u001b[0m\u001b[0;34m:\u001b[0m\u001b[0;34m\u001b[0m\u001b[0;34m\u001b[0m\u001b[0m\n",
            "\u001b[0;32m/usr/local/lib/python3.10/dist-packages/pandas/io/parsers/readers.py\u001b[0m in \u001b[0;36m_make_engine\u001b[0;34m(self, f, engine)\u001b[0m\n\u001b[1;32m   1751\u001b[0m \u001b[0;34m\u001b[0m\u001b[0m\n\u001b[1;32m   1752\u001b[0m         \u001b[0;32mtry\u001b[0m\u001b[0;34m:\u001b[0m\u001b[0;34m\u001b[0m\u001b[0;34m\u001b[0m\u001b[0m\n\u001b[0;32m-> 1753\u001b[0;31m             \u001b[0;32mreturn\u001b[0m \u001b[0mmapping\u001b[0m\u001b[0;34m[\u001b[0m\u001b[0mengine\u001b[0m\u001b[0;34m]\u001b[0m\u001b[0;34m(\u001b[0m\u001b[0mf\u001b[0m\u001b[0;34m,\u001b[0m \u001b[0;34m**\u001b[0m\u001b[0mself\u001b[0m\u001b[0;34m.\u001b[0m\u001b[0moptions\u001b[0m\u001b[0;34m)\u001b[0m\u001b[0;34m\u001b[0m\u001b[0;34m\u001b[0m\u001b[0m\n\u001b[0m\u001b[1;32m   1754\u001b[0m         \u001b[0;32mexcept\u001b[0m \u001b[0mException\u001b[0m\u001b[0;34m:\u001b[0m\u001b[0;34m\u001b[0m\u001b[0;34m\u001b[0m\u001b[0m\n\u001b[1;32m   1755\u001b[0m             \u001b[0;32mif\u001b[0m \u001b[0mself\u001b[0m\u001b[0;34m.\u001b[0m\u001b[0mhandles\u001b[0m \u001b[0;32mis\u001b[0m \u001b[0;32mnot\u001b[0m \u001b[0;32mNone\u001b[0m\u001b[0;34m:\u001b[0m\u001b[0;34m\u001b[0m\u001b[0;34m\u001b[0m\u001b[0m\n",
            "\u001b[0;32m/usr/local/lib/python3.10/dist-packages/pandas/io/parsers/c_parser_wrapper.py\u001b[0m in \u001b[0;36m__init__\u001b[0;34m(self, src, **kwds)\u001b[0m\n\u001b[1;32m     77\u001b[0m \u001b[0;34m\u001b[0m\u001b[0m\n\u001b[1;32m     78\u001b[0m         \u001b[0mkwds\u001b[0m\u001b[0;34m[\u001b[0m\u001b[0;34m\"dtype\"\u001b[0m\u001b[0;34m]\u001b[0m \u001b[0;34m=\u001b[0m \u001b[0mensure_dtype_objs\u001b[0m\u001b[0;34m(\u001b[0m\u001b[0mkwds\u001b[0m\u001b[0;34m.\u001b[0m\u001b[0mget\u001b[0m\u001b[0;34m(\u001b[0m\u001b[0;34m\"dtype\"\u001b[0m\u001b[0;34m,\u001b[0m \u001b[0;32mNone\u001b[0m\u001b[0;34m)\u001b[0m\u001b[0;34m)\u001b[0m\u001b[0;34m\u001b[0m\u001b[0;34m\u001b[0m\u001b[0m\n\u001b[0;32m---> 79\u001b[0;31m         \u001b[0mself\u001b[0m\u001b[0;34m.\u001b[0m\u001b[0m_reader\u001b[0m \u001b[0;34m=\u001b[0m \u001b[0mparsers\u001b[0m\u001b[0;34m.\u001b[0m\u001b[0mTextReader\u001b[0m\u001b[0;34m(\u001b[0m\u001b[0msrc\u001b[0m\u001b[0;34m,\u001b[0m \u001b[0;34m**\u001b[0m\u001b[0mkwds\u001b[0m\u001b[0;34m)\u001b[0m\u001b[0;34m\u001b[0m\u001b[0;34m\u001b[0m\u001b[0m\n\u001b[0m\u001b[1;32m     80\u001b[0m \u001b[0;34m\u001b[0m\u001b[0m\n\u001b[1;32m     81\u001b[0m         \u001b[0mself\u001b[0m\u001b[0;34m.\u001b[0m\u001b[0munnamed_cols\u001b[0m \u001b[0;34m=\u001b[0m \u001b[0mself\u001b[0m\u001b[0;34m.\u001b[0m\u001b[0m_reader\u001b[0m\u001b[0;34m.\u001b[0m\u001b[0munnamed_cols\u001b[0m\u001b[0;34m\u001b[0m\u001b[0;34m\u001b[0m\u001b[0m\n",
            "\u001b[0;32m/usr/local/lib/python3.10/dist-packages/pandas/_libs/parsers.pyx\u001b[0m in \u001b[0;36mpandas._libs.parsers.TextReader.__cinit__\u001b[0;34m()\u001b[0m\n",
            "\u001b[0;31mEmptyDataError\u001b[0m: No columns to parse from file"
          ]
        }
      ],
      "source": [
        "import pandas as pd\n",
        "import numpy as np\n",
        "import os\n",
        "\n",
        "#엑셀 파일 병합하기\n",
        "filepath = f'/content/drive/MyDrive/Colab Notebooks/unclock-watchers/data/months/'\n",
        "\n",
        "#파일 경로\n",
        "file_list = os.listdir(filepath)\n",
        "#경로에 있는 모든 csv파일 리스트 불려오기\n",
        "file_list_csv = [file for file in file_list if file.endswith('csv')]\n",
        "\n",
        "#저장할 dataframe\n",
        "merged_df = pd.DataFrame()\n",
        "\n",
        "for file in file_list_csv:\n",
        "  #read_excel기능으로 파일 읽음\n",
        "  df = pd.read_csv(filepath + file, dtype='object')\n",
        "  merged_df = merged_df.append(df)\n",
        "\n",
        "#병합엑셀 파일 저장\n",
        "merged_df.to_csv(\"/content/drive/MyDrive/Colab Notebooks/unclock-watchers/data/2019_2023_merge_news_data.csv\",index=False, encoding='utf-8-sig',mode ='w')\n",
        "merged_df.shape"
      ]
    },
    {
      "cell_type": "markdown",
      "metadata": {
        "id": "3U1aDLYE2-nH"
      },
      "source": [
        "#### Date"
      ]
    },
    {
      "cell_type": "code",
      "execution_count": null,
      "metadata": {
        "colab": {
          "base_uri": "https://localhost:8080/"
        },
        "id": "d2YTkJlSqYDR",
        "outputId": "3dfd3f17-458a-40ea-d11b-86d2a9c5b0c5"
      },
      "outputs": [
        {
          "data": {
            "text/plain": [
              "array([datetime.date(2012, 1, 31), datetime.date(2012, 2, 29),\n",
              "       datetime.date(2012, 3, 31), datetime.date(2012, 4, 30),\n",
              "       datetime.date(2012, 5, 31), datetime.date(2012, 6, 30),\n",
              "       datetime.date(2012, 7, 31), datetime.date(2012, 8, 31),\n",
              "       datetime.date(2012, 9, 30), datetime.date(2012, 10, 31),\n",
              "       datetime.date(2012, 11, 30), datetime.date(2012, 12, 31),\n",
              "       datetime.date(2013, 1, 31), datetime.date(2013, 2, 28),\n",
              "       datetime.date(2013, 3, 31), datetime.date(2013, 4, 30),\n",
              "       datetime.date(2013, 5, 31), datetime.date(2013, 6, 30),\n",
              "       datetime.date(2013, 7, 31), datetime.date(2013, 8, 31),\n",
              "       datetime.date(2013, 9, 30), datetime.date(2013, 10, 31),\n",
              "       datetime.date(2013, 11, 30), datetime.date(2013, 12, 31),\n",
              "       datetime.date(2014, 1, 31), datetime.date(2014, 2, 28),\n",
              "       datetime.date(2014, 3, 31), datetime.date(2014, 4, 30),\n",
              "       datetime.date(2014, 5, 31), datetime.date(2014, 6, 30),\n",
              "       datetime.date(2014, 7, 31), datetime.date(2014, 8, 31),\n",
              "       datetime.date(2014, 9, 30), datetime.date(2014, 10, 31),\n",
              "       datetime.date(2014, 11, 30), datetime.date(2014, 12, 31),\n",
              "       datetime.date(2015, 1, 31), datetime.date(2015, 2, 28),\n",
              "       datetime.date(2015, 3, 31), datetime.date(2015, 4, 30),\n",
              "       datetime.date(2015, 5, 31), datetime.date(2015, 6, 30),\n",
              "       datetime.date(2015, 7, 31), datetime.date(2015, 8, 31),\n",
              "       datetime.date(2015, 9, 30), datetime.date(2015, 10, 31),\n",
              "       datetime.date(2015, 11, 30), datetime.date(2015, 12, 31),\n",
              "       datetime.date(2016, 1, 31), datetime.date(2016, 2, 29),\n",
              "       datetime.date(2016, 3, 31), datetime.date(2016, 4, 30),\n",
              "       datetime.date(2016, 5, 31), datetime.date(2016, 6, 30),\n",
              "       datetime.date(2016, 7, 31), datetime.date(2016, 8, 31),\n",
              "       datetime.date(2016, 9, 30), datetime.date(2016, 10, 31),\n",
              "       datetime.date(2016, 11, 30), datetime.date(2016, 12, 31),\n",
              "       datetime.date(2017, 1, 31), datetime.date(2017, 2, 28),\n",
              "       datetime.date(2017, 3, 31), datetime.date(2017, 4, 30),\n",
              "       datetime.date(2017, 5, 31), datetime.date(2017, 6, 30),\n",
              "       datetime.date(2017, 7, 31), datetime.date(2017, 8, 31),\n",
              "       datetime.date(2017, 9, 30), datetime.date(2017, 10, 31),\n",
              "       datetime.date(2017, 11, 30), datetime.date(2017, 12, 31),\n",
              "       datetime.date(2018, 1, 31), datetime.date(2018, 2, 28),\n",
              "       datetime.date(2018, 3, 31), datetime.date(2018, 4, 30),\n",
              "       datetime.date(2018, 5, 31), datetime.date(2018, 6, 30),\n",
              "       datetime.date(2018, 7, 31), datetime.date(2018, 8, 31),\n",
              "       datetime.date(2018, 9, 30), datetime.date(2018, 10, 31),\n",
              "       datetime.date(2018, 11, 30), datetime.date(2018, 12, 31),\n",
              "       datetime.date(2019, 1, 31), datetime.date(2019, 2, 28),\n",
              "       datetime.date(2019, 3, 31), datetime.date(2019, 4, 30),\n",
              "       datetime.date(2019, 5, 31), datetime.date(2019, 6, 30),\n",
              "       datetime.date(2019, 7, 31), datetime.date(2019, 8, 31),\n",
              "       datetime.date(2019, 9, 30), datetime.date(2019, 10, 31),\n",
              "       datetime.date(2019, 11, 30), datetime.date(2019, 12, 31),\n",
              "       datetime.date(2020, 1, 31), datetime.date(2020, 2, 29),\n",
              "       datetime.date(2020, 3, 31), datetime.date(2020, 4, 30),\n",
              "       datetime.date(2020, 5, 31), datetime.date(2020, 6, 30),\n",
              "       datetime.date(2020, 7, 31), datetime.date(2020, 8, 31),\n",
              "       datetime.date(2020, 9, 30), datetime.date(2020, 10, 31),\n",
              "       datetime.date(2020, 11, 30), datetime.date(2020, 12, 31),\n",
              "       datetime.date(2021, 1, 31), datetime.date(2021, 2, 28),\n",
              "       datetime.date(2021, 3, 31), datetime.date(2021, 4, 30),\n",
              "       datetime.date(2021, 5, 31), datetime.date(2021, 6, 30),\n",
              "       datetime.date(2021, 7, 31), datetime.date(2021, 8, 31),\n",
              "       datetime.date(2021, 9, 30), datetime.date(2021, 10, 31),\n",
              "       datetime.date(2021, 11, 30), datetime.date(2021, 12, 31),\n",
              "       datetime.date(2022, 1, 31), datetime.date(2022, 2, 28),\n",
              "       datetime.date(2022, 3, 31), datetime.date(2022, 4, 30),\n",
              "       datetime.date(2022, 5, 31), datetime.date(2022, 6, 30),\n",
              "       datetime.date(2022, 7, 31), datetime.date(2022, 8, 31),\n",
              "       datetime.date(2022, 9, 30), datetime.date(2022, 10, 31),\n",
              "       datetime.date(2022, 11, 30), datetime.date(2022, 12, 31),\n",
              "       datetime.date(2023, 1, 31), datetime.date(2023, 2, 28),\n",
              "       datetime.date(2023, 3, 31), datetime.date(2023, 4, 30),\n",
              "       datetime.date(2023, 5, 31), datetime.date(2023, 6, 30),\n",
              "       datetime.date(2023, 7, 31), datetime.date(2023, 8, 31),\n",
              "       datetime.date(2023, 9, 30), datetime.date(2023, 10, 31)],\n",
              "      dtype=object)"
            ]
          },
          "execution_count": 94,
          "metadata": {},
          "output_type": "execute_result"
        }
      ],
      "source": [
        "date_range = pd.date_range(start='2012-01-01', periods=142, freq='M')\n",
        "date_range.date"
      ]
    },
    {
      "cell_type": "code",
      "execution_count": null,
      "metadata": {
        "colab": {
          "base_uri": "https://localhost:8080/"
        },
        "id": "4Jg-ZX6q1XEb",
        "outputId": "504f4ffc-a593-4286-8473-f1316850df78"
      },
      "outputs": [
        {
          "name": "stdout",
          "output_type": "stream",
          "text": [
            "2012-01-31\n",
            "2012-02-29\n",
            "2012-03-31\n",
            "2012-04-30\n",
            "2012-05-31\n",
            "2012-06-30\n",
            "2012-07-31\n",
            "2012-08-31\n",
            "2012-09-30\n",
            "2012-10-31\n",
            "2012-11-30\n",
            "2012-12-31\n",
            "2013-01-31\n",
            "2013-02-28\n",
            "2013-03-31\n",
            "2013-04-30\n",
            "2013-05-31\n",
            "2013-06-30\n",
            "2013-07-31\n",
            "2013-08-31\n",
            "2013-09-30\n",
            "2013-10-31\n",
            "2013-11-30\n",
            "2013-12-31\n",
            "2014-01-31\n",
            "2014-02-28\n",
            "2014-03-31\n",
            "2014-04-30\n",
            "2014-05-31\n",
            "2014-06-30\n",
            "2014-07-31\n",
            "2014-08-31\n",
            "2014-09-30\n",
            "2014-10-31\n",
            "2014-11-30\n",
            "2014-12-31\n",
            "2015-01-31\n",
            "2015-02-28\n",
            "2015-03-31\n",
            "2015-04-30\n",
            "2015-05-31\n",
            "2015-06-30\n",
            "2015-07-31\n",
            "2015-08-31\n",
            "2015-09-30\n",
            "2015-10-31\n",
            "2015-11-30\n",
            "2015-12-31\n",
            "2016-01-31\n",
            "2016-02-29\n",
            "2016-03-31\n",
            "2016-04-30\n",
            "2016-05-31\n",
            "2016-06-30\n",
            "2016-07-31\n",
            "2016-08-31\n",
            "2016-09-30\n",
            "2016-10-31\n",
            "2016-11-30\n",
            "2016-12-31\n",
            "2017-01-31\n",
            "2017-02-28\n",
            "2017-03-31\n",
            "2017-04-30\n",
            "2017-05-31\n",
            "2017-06-30\n",
            "2017-07-31\n",
            "2017-08-31\n",
            "2017-09-30\n",
            "2017-10-31\n",
            "2017-11-30\n",
            "2017-12-31\n",
            "2018-01-31\n",
            "2018-02-28\n",
            "2018-03-31\n",
            "2018-04-30\n",
            "2018-05-31\n",
            "2018-06-30\n",
            "2018-07-31\n",
            "2018-08-31\n",
            "2018-09-30\n",
            "2018-10-31\n",
            "2018-11-30\n",
            "2018-12-31\n",
            "2019-01-31\n",
            "2019-02-28\n",
            "2019-03-31\n",
            "2019-04-30\n",
            "2019-05-31\n",
            "2019-06-30\n",
            "2019-07-31\n",
            "2019-08-31\n",
            "2019-09-30\n",
            "2019-10-31\n",
            "2019-11-30\n",
            "2019-12-31\n",
            "2020-01-31\n",
            "2020-02-29\n",
            "2020-03-31\n",
            "2020-04-30\n",
            "2020-05-31\n",
            "2020-06-30\n",
            "2020-07-31\n",
            "2020-08-31\n",
            "2020-09-30\n",
            "2020-10-31\n",
            "2020-11-30\n",
            "2020-12-31\n",
            "2021-01-31\n",
            "2021-02-28\n",
            "2021-03-31\n",
            "2021-04-30\n",
            "2021-05-31\n",
            "2021-06-30\n",
            "2021-07-31\n",
            "2021-08-31\n",
            "2021-09-30\n",
            "2021-10-31\n",
            "2021-11-30\n",
            "2021-12-31\n",
            "2022-01-31\n",
            "2022-02-28\n",
            "2022-03-31\n",
            "2022-04-30\n",
            "2022-05-31\n",
            "2022-06-30\n",
            "2022-07-31\n",
            "2022-08-31\n",
            "2022-09-30\n",
            "2022-10-31\n",
            "2022-11-30\n",
            "2022-12-31\n",
            "2023-01-31\n",
            "2023-02-28\n",
            "2023-03-31\n",
            "2023-04-30\n",
            "2023-05-31\n",
            "2023-06-30\n",
            "2023-07-31\n",
            "2023-08-31\n",
            "2023-09-30\n",
            "2023-10-31\n"
          ]
        }
      ],
      "source": [
        "for i in date_range.date:\n",
        "  print(i)"
      ]
    },
    {
      "cell_type": "code",
      "execution_count": null,
      "metadata": {
        "colab": {
          "base_uri": "https://localhost:8080/"
        },
        "id": "sGvPyHT175S4",
        "outputId": "510c09d2-4965-4251-a4f7-5dbbdf3b6e27"
      },
      "outputs": [
        {
          "name": "stdout",
          "output_type": "stream",
          "text": [
            "시작 날짜: 20120101, 종료 날짜: 20120131\n",
            "시작 날짜: 20120201, 종료 날짜: 20120229\n",
            "시작 날짜: 20120301, 종료 날짜: 20120331\n",
            "시작 날짜: 20120401, 종료 날짜: 20120430\n",
            "시작 날짜: 20120501, 종료 날짜: 20120531\n",
            "시작 날짜: 20120601, 종료 날짜: 20120630\n",
            "시작 날짜: 20120701, 종료 날짜: 20120731\n",
            "시작 날짜: 20120801, 종료 날짜: 20120831\n",
            "시작 날짜: 20120901, 종료 날짜: 20120930\n",
            "시작 날짜: 20121001, 종료 날짜: 20121031\n",
            "시작 날짜: 20121101, 종료 날짜: 20121130\n",
            "시작 날짜: 20121201, 종료 날짜: 20121231\n",
            "시작 날짜: 20130101, 종료 날짜: 20130131\n",
            "시작 날짜: 20130201, 종료 날짜: 20130228\n",
            "시작 날짜: 20130301, 종료 날짜: 20130331\n",
            "시작 날짜: 20130401, 종료 날짜: 20130430\n",
            "시작 날짜: 20130501, 종료 날짜: 20130531\n",
            "시작 날짜: 20130601, 종료 날짜: 20130630\n",
            "시작 날짜: 20130701, 종료 날짜: 20130731\n",
            "시작 날짜: 20130801, 종료 날짜: 20130831\n",
            "시작 날짜: 20130901, 종료 날짜: 20130930\n",
            "시작 날짜: 20131001, 종료 날짜: 20131031\n",
            "시작 날짜: 20131101, 종료 날짜: 20131130\n",
            "시작 날짜: 20131201, 종료 날짜: 20131231\n",
            "시작 날짜: 20140101, 종료 날짜: 20140131\n",
            "시작 날짜: 20140201, 종료 날짜: 20140228\n",
            "시작 날짜: 20140301, 종료 날짜: 20140331\n",
            "시작 날짜: 20140401, 종료 날짜: 20140430\n",
            "시작 날짜: 20140501, 종료 날짜: 20140531\n",
            "시작 날짜: 20140601, 종료 날짜: 20140630\n",
            "시작 날짜: 20140701, 종료 날짜: 20140731\n",
            "시작 날짜: 20140801, 종료 날짜: 20140831\n",
            "시작 날짜: 20140901, 종료 날짜: 20140930\n",
            "시작 날짜: 20141001, 종료 날짜: 20141031\n",
            "시작 날짜: 20141101, 종료 날짜: 20141130\n",
            "시작 날짜: 20141201, 종료 날짜: 20141231\n",
            "시작 날짜: 20150101, 종료 날짜: 20150131\n",
            "시작 날짜: 20150201, 종료 날짜: 20150228\n",
            "시작 날짜: 20150301, 종료 날짜: 20150331\n",
            "시작 날짜: 20150401, 종료 날짜: 20150430\n",
            "시작 날짜: 20150501, 종료 날짜: 20150531\n",
            "시작 날짜: 20150601, 종료 날짜: 20150630\n",
            "시작 날짜: 20150701, 종료 날짜: 20150731\n",
            "시작 날짜: 20150801, 종료 날짜: 20150831\n",
            "시작 날짜: 20150901, 종료 날짜: 20150930\n",
            "시작 날짜: 20151001, 종료 날짜: 20151031\n",
            "시작 날짜: 20151101, 종료 날짜: 20151130\n",
            "시작 날짜: 20151201, 종료 날짜: 20151231\n",
            "시작 날짜: 20160101, 종료 날짜: 20160131\n",
            "시작 날짜: 20160201, 종료 날짜: 20160229\n",
            "시작 날짜: 20160301, 종료 날짜: 20160331\n",
            "시작 날짜: 20160401, 종료 날짜: 20160430\n",
            "시작 날짜: 20160501, 종료 날짜: 20160531\n",
            "시작 날짜: 20160601, 종료 날짜: 20160630\n",
            "시작 날짜: 20160701, 종료 날짜: 20160731\n",
            "시작 날짜: 20160801, 종료 날짜: 20160831\n",
            "시작 날짜: 20160901, 종료 날짜: 20160930\n",
            "시작 날짜: 20161001, 종료 날짜: 20161031\n",
            "시작 날짜: 20161101, 종료 날짜: 20161130\n",
            "시작 날짜: 20161201, 종료 날짜: 20161231\n",
            "시작 날짜: 20170101, 종료 날짜: 20170131\n",
            "시작 날짜: 20170201, 종료 날짜: 20170228\n",
            "시작 날짜: 20170301, 종료 날짜: 20170331\n",
            "시작 날짜: 20170401, 종료 날짜: 20170430\n",
            "시작 날짜: 20170501, 종료 날짜: 20170531\n",
            "시작 날짜: 20170601, 종료 날짜: 20170630\n",
            "시작 날짜: 20170701, 종료 날짜: 20170731\n",
            "시작 날짜: 20170801, 종료 날짜: 20170831\n",
            "시작 날짜: 20170901, 종료 날짜: 20170930\n",
            "시작 날짜: 20171001, 종료 날짜: 20171031\n",
            "시작 날짜: 20171101, 종료 날짜: 20171130\n",
            "시작 날짜: 20171201, 종료 날짜: 20171231\n",
            "시작 날짜: 20180101, 종료 날짜: 20180131\n",
            "시작 날짜: 20180201, 종료 날짜: 20180228\n",
            "시작 날짜: 20180301, 종료 날짜: 20180331\n",
            "시작 날짜: 20180401, 종료 날짜: 20180430\n",
            "시작 날짜: 20180501, 종료 날짜: 20180531\n",
            "시작 날짜: 20180601, 종료 날짜: 20180630\n",
            "시작 날짜: 20180701, 종료 날짜: 20180731\n",
            "시작 날짜: 20180801, 종료 날짜: 20180831\n",
            "시작 날짜: 20180901, 종료 날짜: 20180930\n",
            "시작 날짜: 20181001, 종료 날짜: 20181031\n",
            "시작 날짜: 20181101, 종료 날짜: 20181130\n",
            "시작 날짜: 20181201, 종료 날짜: 20181231\n",
            "시작 날짜: 20190101, 종료 날짜: 20190131\n",
            "시작 날짜: 20190201, 종료 날짜: 20190228\n",
            "시작 날짜: 20190301, 종료 날짜: 20190331\n",
            "시작 날짜: 20190401, 종료 날짜: 20190430\n",
            "시작 날짜: 20190501, 종료 날짜: 20190531\n",
            "시작 날짜: 20190601, 종료 날짜: 20190630\n",
            "시작 날짜: 20190701, 종료 날짜: 20190731\n",
            "시작 날짜: 20190801, 종료 날짜: 20190831\n",
            "시작 날짜: 20190901, 종료 날짜: 20190930\n",
            "시작 날짜: 20191001, 종료 날짜: 20191031\n",
            "시작 날짜: 20191101, 종료 날짜: 20191130\n",
            "시작 날짜: 20191201, 종료 날짜: 20191231\n",
            "시작 날짜: 20200101, 종료 날짜: 20200131\n",
            "시작 날짜: 20200201, 종료 날짜: 20200229\n",
            "시작 날짜: 20200301, 종료 날짜: 20200331\n",
            "시작 날짜: 20200401, 종료 날짜: 20200430\n",
            "시작 날짜: 20200501, 종료 날짜: 20200531\n",
            "시작 날짜: 20200601, 종료 날짜: 20200630\n",
            "시작 날짜: 20200701, 종료 날짜: 20200731\n",
            "시작 날짜: 20200801, 종료 날짜: 20200831\n",
            "시작 날짜: 20200901, 종료 날짜: 20200930\n",
            "시작 날짜: 20201001, 종료 날짜: 20201031\n",
            "시작 날짜: 20201101, 종료 날짜: 20201130\n",
            "시작 날짜: 20201201, 종료 날짜: 20201231\n",
            "시작 날짜: 20210101, 종료 날짜: 20210131\n",
            "시작 날짜: 20210201, 종료 날짜: 20210228\n",
            "시작 날짜: 20210301, 종료 날짜: 20210331\n",
            "시작 날짜: 20210401, 종료 날짜: 20210430\n",
            "시작 날짜: 20210501, 종료 날짜: 20210531\n",
            "시작 날짜: 20210601, 종료 날짜: 20210630\n",
            "시작 날짜: 20210701, 종료 날짜: 20210731\n",
            "시작 날짜: 20210801, 종료 날짜: 20210831\n",
            "시작 날짜: 20210901, 종료 날짜: 20210930\n",
            "시작 날짜: 20211001, 종료 날짜: 20211031\n",
            "시작 날짜: 20211101, 종료 날짜: 20211130\n",
            "시작 날짜: 20211201, 종료 날짜: 20211231\n",
            "시작 날짜: 20220101, 종료 날짜: 20220131\n",
            "시작 날짜: 20220201, 종료 날짜: 20220228\n",
            "시작 날짜: 20220301, 종료 날짜: 20220331\n",
            "시작 날짜: 20220401, 종료 날짜: 20220430\n",
            "시작 날짜: 20220501, 종료 날짜: 20220531\n",
            "시작 날짜: 20220601, 종료 날짜: 20220630\n",
            "시작 날짜: 20220701, 종료 날짜: 20220731\n",
            "시작 날짜: 20220801, 종료 날짜: 20220831\n",
            "시작 날짜: 20220901, 종료 날짜: 20220930\n",
            "시작 날짜: 20221001, 종료 날짜: 20221031\n",
            "시작 날짜: 20221101, 종료 날짜: 20221130\n",
            "시작 날짜: 20221201, 종료 날짜: 20221231\n",
            "시작 날짜: 20230101, 종료 날짜: 20230131\n",
            "시작 날짜: 20230201, 종료 날짜: 20230228\n",
            "시작 날짜: 20230301, 종료 날짜: 20230331\n",
            "시작 날짜: 20230401, 종료 날짜: 20230430\n",
            "시작 날짜: 20230501, 종료 날짜: 20230531\n",
            "시작 날짜: 20230601, 종료 날짜: 20230630\n",
            "시작 날짜: 20230701, 종료 날짜: 20230731\n",
            "시작 날짜: 20230801, 종료 날짜: 20230831\n",
            "시작 날짜: 20230901, 종료 날짜: 20230930\n",
            "시작 날짜: 20231001, 종료 날짜: 20231031\n",
            "시작 날짜: 20231101, 종료 날짜: 20231130\n",
            "시작 날짜: 20231201, 종료 날짜: 20231231\n"
          ]
        }
      ],
      "source": [
        "start_date = '2012-01-01'\n",
        "end_date = '2023-12-31'\n",
        "\n",
        "date_range = pd.date_range(start=start_date, end=end_date, freq='MS')\n",
        "\n",
        "for date in date_range:\n",
        "    start_date = date\n",
        "    end_date = date + pd.DateOffset(months=1) - pd.DateOffset(days=1)\n",
        "    print(f\"시작 날짜: {start_date.strftime('%Y%m%d')}, 종료 날짜: {end_date.strftime('%Y%m%d')}\")\n"
      ]
    },
    {
      "cell_type": "markdown",
      "metadata": {
        "id": "qVwtVHXq3CoV"
      },
      "source": [
        "#### 2012-01-01 2023-10-31 -> 해결 중 😊"
      ]
    },
    {
      "cell_type": "markdown",
      "metadata": {
        "id": "XDBLZpdMaXVu"
      },
      "source": [
        "231116 기준\n",
        "- 2002 ~ 202303까지 진행\n",
        "- 2001년 데이터가 나옴\n",
        "- 엑셀로 데이터 확인해보니 중간에 무엇인지 모르는 데이터가 나와있음\n",
        "- 20230419일 데이터에 (https://api.foxnews.com/search/web?q=interest%20rate+-filetype:amp+-filetype:xml+more:pagemap:metatags-prism.section+more:pagemap:metatags-pagetype:article+more:pagemap:metatags-dc.type:Text.Article&siteSearch=foxnews.com&siteSearchFilter=i&sort=date:r:20230419:20230419&callback=__jp1)\n",
        "\"snippet\": \"Interest rates for mortgages have roughly doubled over the past year. By Michael Lee Fox News. Published April 19, 2023 5:11pm EDT.\",\n",
        "날짜 뽑아내는 코드 부분 수정 필요"
      ]
    },
    {
      "cell_type": "code",
      "execution_count": 32,
      "metadata": {
        "colab": {
          "base_uri": "https://localhost:8080/"
        },
        "id": "FxLppART2jbI",
        "outputId": "b35b51b2-6d63-4905-d380-692b62477538"
      },
      "outputs": [
        {
          "name": "stdout",
          "output_type": "stream",
          "text": [
            "시작 날짜: 20020101, 종료 날짜: 20020131\n"
          ]
        },
        {
          "name": "stderr",
          "output_type": "stream",
          "text": [
            "/usr/local/lib/python3.10/dist-packages/dateutil/parser/_parser.py:1207: UnknownTimezoneWarning: tzname EST identified but not understood.  Pass `tzinfos` argument in order to correctly return a timezone-aware datetime.  In a future version, this will raise an exception.\n",
            "  warnings.warn(\"tzname {tzname} identified but not understood.  \"\n"
          ]
        },
        {
          "name": "stdout",
          "output_type": "stream",
          "text": [
            "시작 날짜: 20020201, 종료 날짜: 20020228\n"
          ]
        },
        {
          "name": "stderr",
          "output_type": "stream",
          "text": [
            "/usr/local/lib/python3.10/dist-packages/dateutil/parser/_parser.py:1207: UnknownTimezoneWarning: tzname EST identified but not understood.  Pass `tzinfos` argument in order to correctly return a timezone-aware datetime.  In a future version, this will raise an exception.\n",
            "  warnings.warn(\"tzname {tzname} identified but not understood.  \"\n"
          ]
        },
        {
          "name": "stdout",
          "output_type": "stream",
          "text": [
            "시작 날짜: 20020301, 종료 날짜: 20020331\n"
          ]
        },
        {
          "name": "stderr",
          "output_type": "stream",
          "text": [
            "/usr/local/lib/python3.10/dist-packages/dateutil/parser/_parser.py:1207: UnknownTimezoneWarning: tzname EST identified but not understood.  Pass `tzinfos` argument in order to correctly return a timezone-aware datetime.  In a future version, this will raise an exception.\n",
            "  warnings.warn(\"tzname {tzname} identified but not understood.  \"\n"
          ]
        },
        {
          "name": "stdout",
          "output_type": "stream",
          "text": [
            "시작 날짜: 20020401, 종료 날짜: 20020430\n"
          ]
        },
        {
          "name": "stderr",
          "output_type": "stream",
          "text": [
            "/usr/local/lib/python3.10/dist-packages/dateutil/parser/_parser.py:1207: UnknownTimezoneWarning: tzname EDT identified but not understood.  Pass `tzinfos` argument in order to correctly return a timezone-aware datetime.  In a future version, this will raise an exception.\n",
            "  warnings.warn(\"tzname {tzname} identified but not understood.  \"\n",
            "/usr/local/lib/python3.10/dist-packages/dateutil/parser/_parser.py:1207: UnknownTimezoneWarning: tzname EST identified but not understood.  Pass `tzinfos` argument in order to correctly return a timezone-aware datetime.  In a future version, this will raise an exception.\n",
            "  warnings.warn(\"tzname {tzname} identified but not understood.  \"\n"
          ]
        },
        {
          "name": "stdout",
          "output_type": "stream",
          "text": [
            "시작 날짜: 20020501, 종료 날짜: 20020531\n"
          ]
        },
        {
          "name": "stderr",
          "output_type": "stream",
          "text": [
            "/usr/local/lib/python3.10/dist-packages/dateutil/parser/_parser.py:1207: UnknownTimezoneWarning: tzname EDT identified but not understood.  Pass `tzinfos` argument in order to correctly return a timezone-aware datetime.  In a future version, this will raise an exception.\n",
            "  warnings.warn(\"tzname {tzname} identified but not understood.  \"\n"
          ]
        },
        {
          "name": "stdout",
          "output_type": "stream",
          "text": [
            "시작 날짜: 20020601, 종료 날짜: 20020630\n"
          ]
        },
        {
          "name": "stderr",
          "output_type": "stream",
          "text": [
            "/usr/local/lib/python3.10/dist-packages/dateutil/parser/_parser.py:1207: UnknownTimezoneWarning: tzname EDT identified but not understood.  Pass `tzinfos` argument in order to correctly return a timezone-aware datetime.  In a future version, this will raise an exception.\n",
            "  warnings.warn(\"tzname {tzname} identified but not understood.  \"\n"
          ]
        },
        {
          "name": "stdout",
          "output_type": "stream",
          "text": [
            "시작 날짜: 20020701, 종료 날짜: 20020731\n"
          ]
        },
        {
          "name": "stderr",
          "output_type": "stream",
          "text": [
            "/usr/local/lib/python3.10/dist-packages/dateutil/parser/_parser.py:1207: UnknownTimezoneWarning: tzname EDT identified but not understood.  Pass `tzinfos` argument in order to correctly return a timezone-aware datetime.  In a future version, this will raise an exception.\n",
            "  warnings.warn(\"tzname {tzname} identified but not understood.  \"\n"
          ]
        },
        {
          "name": "stdout",
          "output_type": "stream",
          "text": [
            "시작 날짜: 20020801, 종료 날짜: 20020831\n"
          ]
        },
        {
          "name": "stderr",
          "output_type": "stream",
          "text": [
            "/usr/local/lib/python3.10/dist-packages/dateutil/parser/_parser.py:1207: UnknownTimezoneWarning: tzname EDT identified but not understood.  Pass `tzinfos` argument in order to correctly return a timezone-aware datetime.  In a future version, this will raise an exception.\n",
            "  warnings.warn(\"tzname {tzname} identified but not understood.  \"\n"
          ]
        },
        {
          "name": "stdout",
          "output_type": "stream",
          "text": [
            "시작 날짜: 20020901, 종료 날짜: 20020930\n"
          ]
        },
        {
          "name": "stderr",
          "output_type": "stream",
          "text": [
            "/usr/local/lib/python3.10/dist-packages/dateutil/parser/_parser.py:1207: UnknownTimezoneWarning: tzname EDT identified but not understood.  Pass `tzinfos` argument in order to correctly return a timezone-aware datetime.  In a future version, this will raise an exception.\n",
            "  warnings.warn(\"tzname {tzname} identified but not understood.  \"\n"
          ]
        },
        {
          "name": "stdout",
          "output_type": "stream",
          "text": [
            "시작 날짜: 20021001, 종료 날짜: 20021031\n"
          ]
        },
        {
          "name": "stderr",
          "output_type": "stream",
          "text": [
            "/usr/local/lib/python3.10/dist-packages/dateutil/parser/_parser.py:1207: UnknownTimezoneWarning: tzname EST identified but not understood.  Pass `tzinfos` argument in order to correctly return a timezone-aware datetime.  In a future version, this will raise an exception.\n",
            "  warnings.warn(\"tzname {tzname} identified but not understood.  \"\n"
          ]
        },
        {
          "name": "stdout",
          "output_type": "stream",
          "text": [
            "시작 날짜: 20021101, 종료 날짜: 20021130\n"
          ]
        },
        {
          "name": "stderr",
          "output_type": "stream",
          "text": [
            "/usr/local/lib/python3.10/dist-packages/dateutil/parser/_parser.py:1207: UnknownTimezoneWarning: tzname EST identified but not understood.  Pass `tzinfos` argument in order to correctly return a timezone-aware datetime.  In a future version, this will raise an exception.\n",
            "  warnings.warn(\"tzname {tzname} identified but not understood.  \"\n"
          ]
        },
        {
          "name": "stdout",
          "output_type": "stream",
          "text": [
            "시작 날짜: 20021201, 종료 날짜: 20021231\n"
          ]
        },
        {
          "name": "stderr",
          "output_type": "stream",
          "text": [
            "/usr/local/lib/python3.10/dist-packages/dateutil/parser/_parser.py:1207: UnknownTimezoneWarning: tzname EST identified but not understood.  Pass `tzinfos` argument in order to correctly return a timezone-aware datetime.  In a future version, this will raise an exception.\n",
            "  warnings.warn(\"tzname {tzname} identified but not understood.  \"\n"
          ]
        },
        {
          "name": "stdout",
          "output_type": "stream",
          "text": [
            "시작 날짜: 20030101, 종료 날짜: 20030131\n"
          ]
        },
        {
          "name": "stderr",
          "output_type": "stream",
          "text": [
            "/usr/local/lib/python3.10/dist-packages/dateutil/parser/_parser.py:1207: UnknownTimezoneWarning: tzname EST identified but not understood.  Pass `tzinfos` argument in order to correctly return a timezone-aware datetime.  In a future version, this will raise an exception.\n",
            "  warnings.warn(\"tzname {tzname} identified but not understood.  \"\n"
          ]
        },
        {
          "name": "stdout",
          "output_type": "stream",
          "text": [
            "시작 날짜: 20030201, 종료 날짜: 20030228\n"
          ]
        },
        {
          "name": "stderr",
          "output_type": "stream",
          "text": [
            "/usr/local/lib/python3.10/dist-packages/dateutil/parser/_parser.py:1207: UnknownTimezoneWarning: tzname EST identified but not understood.  Pass `tzinfos` argument in order to correctly return a timezone-aware datetime.  In a future version, this will raise an exception.\n",
            "  warnings.warn(\"tzname {tzname} identified but not understood.  \"\n"
          ]
        },
        {
          "name": "stdout",
          "output_type": "stream",
          "text": [
            "시작 날짜: 20030301, 종료 날짜: 20030331\n"
          ]
        },
        {
          "name": "stderr",
          "output_type": "stream",
          "text": [
            "/usr/local/lib/python3.10/dist-packages/dateutil/parser/_parser.py:1207: UnknownTimezoneWarning: tzname EST identified but not understood.  Pass `tzinfos` argument in order to correctly return a timezone-aware datetime.  In a future version, this will raise an exception.\n",
            "  warnings.warn(\"tzname {tzname} identified but not understood.  \"\n"
          ]
        },
        {
          "name": "stdout",
          "output_type": "stream",
          "text": [
            "시작 날짜: 20030401, 종료 날짜: 20030430\n"
          ]
        },
        {
          "name": "stderr",
          "output_type": "stream",
          "text": [
            "/usr/local/lib/python3.10/dist-packages/dateutil/parser/_parser.py:1207: UnknownTimezoneWarning: tzname EDT identified but not understood.  Pass `tzinfos` argument in order to correctly return a timezone-aware datetime.  In a future version, this will raise an exception.\n",
            "  warnings.warn(\"tzname {tzname} identified but not understood.  \"\n"
          ]
        },
        {
          "name": "stdout",
          "output_type": "stream",
          "text": [
            "시작 날짜: 20030501, 종료 날짜: 20030531\n"
          ]
        },
        {
          "name": "stderr",
          "output_type": "stream",
          "text": [
            "/usr/local/lib/python3.10/dist-packages/dateutil/parser/_parser.py:1207: UnknownTimezoneWarning: tzname EDT identified but not understood.  Pass `tzinfos` argument in order to correctly return a timezone-aware datetime.  In a future version, this will raise an exception.\n",
            "  warnings.warn(\"tzname {tzname} identified but not understood.  \"\n"
          ]
        },
        {
          "name": "stdout",
          "output_type": "stream",
          "text": [
            "시작 날짜: 20030601, 종료 날짜: 20030630\n"
          ]
        },
        {
          "name": "stderr",
          "output_type": "stream",
          "text": [
            "/usr/local/lib/python3.10/dist-packages/dateutil/parser/_parser.py:1207: UnknownTimezoneWarning: tzname EDT identified but not understood.  Pass `tzinfos` argument in order to correctly return a timezone-aware datetime.  In a future version, this will raise an exception.\n",
            "  warnings.warn(\"tzname {tzname} identified but not understood.  \"\n"
          ]
        },
        {
          "name": "stdout",
          "output_type": "stream",
          "text": [
            "시작 날짜: 20030701, 종료 날짜: 20030731\n"
          ]
        },
        {
          "name": "stderr",
          "output_type": "stream",
          "text": [
            "/usr/local/lib/python3.10/dist-packages/dateutil/parser/_parser.py:1207: UnknownTimezoneWarning: tzname EDT identified but not understood.  Pass `tzinfos` argument in order to correctly return a timezone-aware datetime.  In a future version, this will raise an exception.\n",
            "  warnings.warn(\"tzname {tzname} identified but not understood.  \"\n"
          ]
        },
        {
          "name": "stdout",
          "output_type": "stream",
          "text": [
            "시작 날짜: 20030801, 종료 날짜: 20030831\n"
          ]
        },
        {
          "name": "stderr",
          "output_type": "stream",
          "text": [
            "/usr/local/lib/python3.10/dist-packages/dateutil/parser/_parser.py:1207: UnknownTimezoneWarning: tzname EDT identified but not understood.  Pass `tzinfos` argument in order to correctly return a timezone-aware datetime.  In a future version, this will raise an exception.\n",
            "  warnings.warn(\"tzname {tzname} identified but not understood.  \"\n"
          ]
        },
        {
          "name": "stdout",
          "output_type": "stream",
          "text": [
            "시작 날짜: 20030901, 종료 날짜: 20030930\n"
          ]
        },
        {
          "name": "stderr",
          "output_type": "stream",
          "text": [
            "/usr/local/lib/python3.10/dist-packages/dateutil/parser/_parser.py:1207: UnknownTimezoneWarning: tzname EDT identified but not understood.  Pass `tzinfos` argument in order to correctly return a timezone-aware datetime.  In a future version, this will raise an exception.\n",
            "  warnings.warn(\"tzname {tzname} identified but not understood.  \"\n"
          ]
        },
        {
          "name": "stdout",
          "output_type": "stream",
          "text": [
            "시작 날짜: 20031001, 종료 날짜: 20031031\n"
          ]
        },
        {
          "name": "stderr",
          "output_type": "stream",
          "text": [
            "/usr/local/lib/python3.10/dist-packages/dateutil/parser/_parser.py:1207: UnknownTimezoneWarning: tzname EST identified but not understood.  Pass `tzinfos` argument in order to correctly return a timezone-aware datetime.  In a future version, this will raise an exception.\n",
            "  warnings.warn(\"tzname {tzname} identified but not understood.  \"\n",
            "/usr/local/lib/python3.10/dist-packages/dateutil/parser/_parser.py:1207: UnknownTimezoneWarning: tzname EDT identified but not understood.  Pass `tzinfos` argument in order to correctly return a timezone-aware datetime.  In a future version, this will raise an exception.\n",
            "  warnings.warn(\"tzname {tzname} identified but not understood.  \"\n"
          ]
        },
        {
          "name": "stdout",
          "output_type": "stream",
          "text": [
            "시작 날짜: 20031101, 종료 날짜: 20031130\n"
          ]
        },
        {
          "name": "stderr",
          "output_type": "stream",
          "text": [
            "/usr/local/lib/python3.10/dist-packages/dateutil/parser/_parser.py:1207: UnknownTimezoneWarning: tzname EST identified but not understood.  Pass `tzinfos` argument in order to correctly return a timezone-aware datetime.  In a future version, this will raise an exception.\n",
            "  warnings.warn(\"tzname {tzname} identified but not understood.  \"\n"
          ]
        },
        {
          "name": "stdout",
          "output_type": "stream",
          "text": [
            "시작 날짜: 20031201, 종료 날짜: 20031231\n"
          ]
        },
        {
          "name": "stderr",
          "output_type": "stream",
          "text": [
            "/usr/local/lib/python3.10/dist-packages/dateutil/parser/_parser.py:1207: UnknownTimezoneWarning: tzname EST identified but not understood.  Pass `tzinfos` argument in order to correctly return a timezone-aware datetime.  In a future version, this will raise an exception.\n",
            "  warnings.warn(\"tzname {tzname} identified but not understood.  \"\n"
          ]
        },
        {
          "name": "stdout",
          "output_type": "stream",
          "text": [
            "시작 날짜: 20040101, 종료 날짜: 20040131\n"
          ]
        },
        {
          "name": "stderr",
          "output_type": "stream",
          "text": [
            "/usr/local/lib/python3.10/dist-packages/dateutil/parser/_parser.py:1207: UnknownTimezoneWarning: tzname EST identified but not understood.  Pass `tzinfos` argument in order to correctly return a timezone-aware datetime.  In a future version, this will raise an exception.\n",
            "  warnings.warn(\"tzname {tzname} identified but not understood.  \"\n"
          ]
        },
        {
          "name": "stdout",
          "output_type": "stream",
          "text": [
            "시작 날짜: 20040201, 종료 날짜: 20040229\n",
            "시작 날짜: 20040301, 종료 날짜: 20040331\n",
            "시작 날짜: 20040401, 종료 날짜: 20040430\n"
          ]
        },
        {
          "name": "stderr",
          "output_type": "stream",
          "text": [
            "/usr/local/lib/python3.10/dist-packages/dateutil/parser/_parser.py:1207: UnknownTimezoneWarning: tzname EDT identified but not understood.  Pass `tzinfos` argument in order to correctly return a timezone-aware datetime.  In a future version, this will raise an exception.\n",
            "  warnings.warn(\"tzname {tzname} identified but not understood.  \"\n"
          ]
        },
        {
          "name": "stdout",
          "output_type": "stream",
          "text": [
            "시작 날짜: 20040501, 종료 날짜: 20040531\n"
          ]
        },
        {
          "name": "stderr",
          "output_type": "stream",
          "text": [
            "/usr/local/lib/python3.10/dist-packages/dateutil/parser/_parser.py:1207: UnknownTimezoneWarning: tzname EDT identified but not understood.  Pass `tzinfos` argument in order to correctly return a timezone-aware datetime.  In a future version, this will raise an exception.\n",
            "  warnings.warn(\"tzname {tzname} identified but not understood.  \"\n"
          ]
        },
        {
          "name": "stdout",
          "output_type": "stream",
          "text": [
            "시작 날짜: 20040601, 종료 날짜: 20040630\n"
          ]
        },
        {
          "name": "stderr",
          "output_type": "stream",
          "text": [
            "/usr/local/lib/python3.10/dist-packages/dateutil/parser/_parser.py:1207: UnknownTimezoneWarning: tzname EDT identified but not understood.  Pass `tzinfos` argument in order to correctly return a timezone-aware datetime.  In a future version, this will raise an exception.\n",
            "  warnings.warn(\"tzname {tzname} identified but not understood.  \"\n"
          ]
        },
        {
          "name": "stdout",
          "output_type": "stream",
          "text": [
            "시작 날짜: 20040701, 종료 날짜: 20040731\n"
          ]
        },
        {
          "name": "stderr",
          "output_type": "stream",
          "text": [
            "/usr/local/lib/python3.10/dist-packages/dateutil/parser/_parser.py:1207: UnknownTimezoneWarning: tzname EDT identified but not understood.  Pass `tzinfos` argument in order to correctly return a timezone-aware datetime.  In a future version, this will raise an exception.\n",
            "  warnings.warn(\"tzname {tzname} identified but not understood.  \"\n"
          ]
        },
        {
          "name": "stdout",
          "output_type": "stream",
          "text": [
            "시작 날짜: 20040801, 종료 날짜: 20040831\n"
          ]
        },
        {
          "name": "stderr",
          "output_type": "stream",
          "text": [
            "/usr/local/lib/python3.10/dist-packages/dateutil/parser/_parser.py:1207: UnknownTimezoneWarning: tzname EDT identified but not understood.  Pass `tzinfos` argument in order to correctly return a timezone-aware datetime.  In a future version, this will raise an exception.\n",
            "  warnings.warn(\"tzname {tzname} identified but not understood.  \"\n"
          ]
        },
        {
          "name": "stdout",
          "output_type": "stream",
          "text": [
            "시작 날짜: 20040901, 종료 날짜: 20040930\n"
          ]
        },
        {
          "name": "stderr",
          "output_type": "stream",
          "text": [
            "/usr/local/lib/python3.10/dist-packages/dateutil/parser/_parser.py:1207: UnknownTimezoneWarning: tzname EDT identified but not understood.  Pass `tzinfos` argument in order to correctly return a timezone-aware datetime.  In a future version, this will raise an exception.\n",
            "  warnings.warn(\"tzname {tzname} identified but not understood.  \"\n"
          ]
        },
        {
          "name": "stdout",
          "output_type": "stream",
          "text": [
            "시작 날짜: 20041001, 종료 날짜: 20041031\n"
          ]
        },
        {
          "name": "stderr",
          "output_type": "stream",
          "text": [
            "/usr/local/lib/python3.10/dist-packages/dateutil/parser/_parser.py:1207: UnknownTimezoneWarning: tzname EDT identified but not understood.  Pass `tzinfos` argument in order to correctly return a timezone-aware datetime.  In a future version, this will raise an exception.\n",
            "  warnings.warn(\"tzname {tzname} identified but not understood.  \"\n"
          ]
        },
        {
          "name": "stdout",
          "output_type": "stream",
          "text": [
            "시작 날짜: 20041101, 종료 날짜: 20041130\n"
          ]
        },
        {
          "name": "stderr",
          "output_type": "stream",
          "text": [
            "/usr/local/lib/python3.10/dist-packages/dateutil/parser/_parser.py:1207: UnknownTimezoneWarning: tzname EST identified but not understood.  Pass `tzinfos` argument in order to correctly return a timezone-aware datetime.  In a future version, this will raise an exception.\n",
            "  warnings.warn(\"tzname {tzname} identified but not understood.  \"\n"
          ]
        },
        {
          "name": "stdout",
          "output_type": "stream",
          "text": [
            "시작 날짜: 20041201, 종료 날짜: 20041231\n"
          ]
        },
        {
          "name": "stderr",
          "output_type": "stream",
          "text": [
            "/usr/local/lib/python3.10/dist-packages/dateutil/parser/_parser.py:1207: UnknownTimezoneWarning: tzname EST identified but not understood.  Pass `tzinfos` argument in order to correctly return a timezone-aware datetime.  In a future version, this will raise an exception.\n",
            "  warnings.warn(\"tzname {tzname} identified but not understood.  \"\n"
          ]
        },
        {
          "name": "stdout",
          "output_type": "stream",
          "text": [
            "시작 날짜: 20050101, 종료 날짜: 20050131\n"
          ]
        },
        {
          "name": "stderr",
          "output_type": "stream",
          "text": [
            "/usr/local/lib/python3.10/dist-packages/dateutil/parser/_parser.py:1207: UnknownTimezoneWarning: tzname EST identified but not understood.  Pass `tzinfos` argument in order to correctly return a timezone-aware datetime.  In a future version, this will raise an exception.\n",
            "  warnings.warn(\"tzname {tzname} identified but not understood.  \"\n"
          ]
        },
        {
          "name": "stdout",
          "output_type": "stream",
          "text": [
            "시작 날짜: 20050201, 종료 날짜: 20050228\n"
          ]
        },
        {
          "name": "stderr",
          "output_type": "stream",
          "text": [
            "/usr/local/lib/python3.10/dist-packages/dateutil/parser/_parser.py:1207: UnknownTimezoneWarning: tzname EST identified but not understood.  Pass `tzinfos` argument in order to correctly return a timezone-aware datetime.  In a future version, this will raise an exception.\n",
            "  warnings.warn(\"tzname {tzname} identified but not understood.  \"\n"
          ]
        },
        {
          "name": "stdout",
          "output_type": "stream",
          "text": [
            "시작 날짜: 20050301, 종료 날짜: 20050331\n"
          ]
        },
        {
          "name": "stderr",
          "output_type": "stream",
          "text": [
            "/usr/local/lib/python3.10/dist-packages/dateutil/parser/_parser.py:1207: UnknownTimezoneWarning: tzname EST identified but not understood.  Pass `tzinfos` argument in order to correctly return a timezone-aware datetime.  In a future version, this will raise an exception.\n",
            "  warnings.warn(\"tzname {tzname} identified but not understood.  \"\n"
          ]
        },
        {
          "name": "stdout",
          "output_type": "stream",
          "text": [
            "시작 날짜: 20050401, 종료 날짜: 20050430\n"
          ]
        },
        {
          "name": "stderr",
          "output_type": "stream",
          "text": [
            "/usr/local/lib/python3.10/dist-packages/dateutil/parser/_parser.py:1207: UnknownTimezoneWarning: tzname EDT identified but not understood.  Pass `tzinfos` argument in order to correctly return a timezone-aware datetime.  In a future version, this will raise an exception.\n",
            "  warnings.warn(\"tzname {tzname} identified but not understood.  \"\n"
          ]
        },
        {
          "name": "stdout",
          "output_type": "stream",
          "text": [
            "시작 날짜: 20050501, 종료 날짜: 20050531\n"
          ]
        },
        {
          "name": "stderr",
          "output_type": "stream",
          "text": [
            "/usr/local/lib/python3.10/dist-packages/dateutil/parser/_parser.py:1207: UnknownTimezoneWarning: tzname EDT identified but not understood.  Pass `tzinfos` argument in order to correctly return a timezone-aware datetime.  In a future version, this will raise an exception.\n",
            "  warnings.warn(\"tzname {tzname} identified but not understood.  \"\n"
          ]
        },
        {
          "name": "stdout",
          "output_type": "stream",
          "text": [
            "시작 날짜: 20050601, 종료 날짜: 20050630\n"
          ]
        },
        {
          "name": "stderr",
          "output_type": "stream",
          "text": [
            "/usr/local/lib/python3.10/dist-packages/dateutil/parser/_parser.py:1207: UnknownTimezoneWarning: tzname EDT identified but not understood.  Pass `tzinfos` argument in order to correctly return a timezone-aware datetime.  In a future version, this will raise an exception.\n",
            "  warnings.warn(\"tzname {tzname} identified but not understood.  \"\n"
          ]
        },
        {
          "name": "stdout",
          "output_type": "stream",
          "text": [
            "시작 날짜: 20050701, 종료 날짜: 20050731\n"
          ]
        },
        {
          "name": "stderr",
          "output_type": "stream",
          "text": [
            "/usr/local/lib/python3.10/dist-packages/dateutil/parser/_parser.py:1207: UnknownTimezoneWarning: tzname EDT identified but not understood.  Pass `tzinfos` argument in order to correctly return a timezone-aware datetime.  In a future version, this will raise an exception.\n",
            "  warnings.warn(\"tzname {tzname} identified but not understood.  \"\n"
          ]
        },
        {
          "name": "stdout",
          "output_type": "stream",
          "text": [
            "시작 날짜: 20050801, 종료 날짜: 20050831\n"
          ]
        },
        {
          "name": "stderr",
          "output_type": "stream",
          "text": [
            "/usr/local/lib/python3.10/dist-packages/dateutil/parser/_parser.py:1207: UnknownTimezoneWarning: tzname EDT identified but not understood.  Pass `tzinfos` argument in order to correctly return a timezone-aware datetime.  In a future version, this will raise an exception.\n",
            "  warnings.warn(\"tzname {tzname} identified but not understood.  \"\n"
          ]
        },
        {
          "name": "stdout",
          "output_type": "stream",
          "text": [
            "시작 날짜: 20050901, 종료 날짜: 20050930\n"
          ]
        },
        {
          "name": "stderr",
          "output_type": "stream",
          "text": [
            "/usr/local/lib/python3.10/dist-packages/dateutil/parser/_parser.py:1207: UnknownTimezoneWarning: tzname EDT identified but not understood.  Pass `tzinfos` argument in order to correctly return a timezone-aware datetime.  In a future version, this will raise an exception.\n",
            "  warnings.warn(\"tzname {tzname} identified but not understood.  \"\n"
          ]
        },
        {
          "name": "stdout",
          "output_type": "stream",
          "text": [
            "시작 날짜: 20051001, 종료 날짜: 20051031\n"
          ]
        },
        {
          "name": "stderr",
          "output_type": "stream",
          "text": [
            "/usr/local/lib/python3.10/dist-packages/dateutil/parser/_parser.py:1207: UnknownTimezoneWarning: tzname EDT identified but not understood.  Pass `tzinfos` argument in order to correctly return a timezone-aware datetime.  In a future version, this will raise an exception.\n",
            "  warnings.warn(\"tzname {tzname} identified but not understood.  \"\n"
          ]
        },
        {
          "name": "stdout",
          "output_type": "stream",
          "text": [
            "시작 날짜: 20051101, 종료 날짜: 20051130\n"
          ]
        },
        {
          "name": "stderr",
          "output_type": "stream",
          "text": [
            "/usr/local/lib/python3.10/dist-packages/dateutil/parser/_parser.py:1207: UnknownTimezoneWarning: tzname EST identified but not understood.  Pass `tzinfos` argument in order to correctly return a timezone-aware datetime.  In a future version, this will raise an exception.\n",
            "  warnings.warn(\"tzname {tzname} identified but not understood.  \"\n"
          ]
        },
        {
          "name": "stdout",
          "output_type": "stream",
          "text": [
            "시작 날짜: 20051201, 종료 날짜: 20051231\n"
          ]
        },
        {
          "name": "stderr",
          "output_type": "stream",
          "text": [
            "/usr/local/lib/python3.10/dist-packages/dateutil/parser/_parser.py:1207: UnknownTimezoneWarning: tzname EST identified but not understood.  Pass `tzinfos` argument in order to correctly return a timezone-aware datetime.  In a future version, this will raise an exception.\n",
            "  warnings.warn(\"tzname {tzname} identified but not understood.  \"\n"
          ]
        },
        {
          "name": "stdout",
          "output_type": "stream",
          "text": [
            "시작 날짜: 20060101, 종료 날짜: 20060131\n"
          ]
        },
        {
          "name": "stderr",
          "output_type": "stream",
          "text": [
            "/usr/local/lib/python3.10/dist-packages/dateutil/parser/_parser.py:1207: UnknownTimezoneWarning: tzname EST identified but not understood.  Pass `tzinfos` argument in order to correctly return a timezone-aware datetime.  In a future version, this will raise an exception.\n",
            "  warnings.warn(\"tzname {tzname} identified but not understood.  \"\n"
          ]
        },
        {
          "name": "stdout",
          "output_type": "stream",
          "text": [
            "시작 날짜: 20060201, 종료 날짜: 20060228\n"
          ]
        },
        {
          "name": "stderr",
          "output_type": "stream",
          "text": [
            "/usr/local/lib/python3.10/dist-packages/dateutil/parser/_parser.py:1207: UnknownTimezoneWarning: tzname EST identified but not understood.  Pass `tzinfos` argument in order to correctly return a timezone-aware datetime.  In a future version, this will raise an exception.\n",
            "  warnings.warn(\"tzname {tzname} identified but not understood.  \"\n"
          ]
        },
        {
          "name": "stdout",
          "output_type": "stream",
          "text": [
            "시작 날짜: 20060301, 종료 날짜: 20060331\n"
          ]
        },
        {
          "name": "stderr",
          "output_type": "stream",
          "text": [
            "/usr/local/lib/python3.10/dist-packages/dateutil/parser/_parser.py:1207: UnknownTimezoneWarning: tzname EST identified but not understood.  Pass `tzinfos` argument in order to correctly return a timezone-aware datetime.  In a future version, this will raise an exception.\n",
            "  warnings.warn(\"tzname {tzname} identified but not understood.  \"\n"
          ]
        },
        {
          "name": "stdout",
          "output_type": "stream",
          "text": [
            "시작 날짜: 20060401, 종료 날짜: 20060430\n"
          ]
        },
        {
          "name": "stderr",
          "output_type": "stream",
          "text": [
            "/usr/local/lib/python3.10/dist-packages/dateutil/parser/_parser.py:1207: UnknownTimezoneWarning: tzname EDT identified but not understood.  Pass `tzinfos` argument in order to correctly return a timezone-aware datetime.  In a future version, this will raise an exception.\n",
            "  warnings.warn(\"tzname {tzname} identified but not understood.  \"\n",
            "/usr/local/lib/python3.10/dist-packages/dateutil/parser/_parser.py:1207: UnknownTimezoneWarning: tzname EST identified but not understood.  Pass `tzinfos` argument in order to correctly return a timezone-aware datetime.  In a future version, this will raise an exception.\n",
            "  warnings.warn(\"tzname {tzname} identified but not understood.  \"\n"
          ]
        },
        {
          "name": "stdout",
          "output_type": "stream",
          "text": [
            "시작 날짜: 20060501, 종료 날짜: 20060531\n"
          ]
        },
        {
          "name": "stderr",
          "output_type": "stream",
          "text": [
            "/usr/local/lib/python3.10/dist-packages/dateutil/parser/_parser.py:1207: UnknownTimezoneWarning: tzname EDT identified but not understood.  Pass `tzinfos` argument in order to correctly return a timezone-aware datetime.  In a future version, this will raise an exception.\n",
            "  warnings.warn(\"tzname {tzname} identified but not understood.  \"\n"
          ]
        },
        {
          "name": "stdout",
          "output_type": "stream",
          "text": [
            "시작 날짜: 20060601, 종료 날짜: 20060630\n"
          ]
        },
        {
          "name": "stderr",
          "output_type": "stream",
          "text": [
            "/usr/local/lib/python3.10/dist-packages/dateutil/parser/_parser.py:1207: UnknownTimezoneWarning: tzname EDT identified but not understood.  Pass `tzinfos` argument in order to correctly return a timezone-aware datetime.  In a future version, this will raise an exception.\n",
            "  warnings.warn(\"tzname {tzname} identified but not understood.  \"\n"
          ]
        },
        {
          "name": "stdout",
          "output_type": "stream",
          "text": [
            "시작 날짜: 20060701, 종료 날짜: 20060731\n"
          ]
        },
        {
          "name": "stderr",
          "output_type": "stream",
          "text": [
            "/usr/local/lib/python3.10/dist-packages/dateutil/parser/_parser.py:1207: UnknownTimezoneWarning: tzname EDT identified but not understood.  Pass `tzinfos` argument in order to correctly return a timezone-aware datetime.  In a future version, this will raise an exception.\n",
            "  warnings.warn(\"tzname {tzname} identified but not understood.  \"\n"
          ]
        },
        {
          "name": "stdout",
          "output_type": "stream",
          "text": [
            "시작 날짜: 20060801, 종료 날짜: 20060831\n"
          ]
        },
        {
          "name": "stderr",
          "output_type": "stream",
          "text": [
            "/usr/local/lib/python3.10/dist-packages/dateutil/parser/_parser.py:1207: UnknownTimezoneWarning: tzname EDT identified but not understood.  Pass `tzinfos` argument in order to correctly return a timezone-aware datetime.  In a future version, this will raise an exception.\n",
            "  warnings.warn(\"tzname {tzname} identified but not understood.  \"\n"
          ]
        },
        {
          "name": "stdout",
          "output_type": "stream",
          "text": [
            "시작 날짜: 20060901, 종료 날짜: 20060930\n"
          ]
        },
        {
          "name": "stderr",
          "output_type": "stream",
          "text": [
            "/usr/local/lib/python3.10/dist-packages/dateutil/parser/_parser.py:1207: UnknownTimezoneWarning: tzname EDT identified but not understood.  Pass `tzinfos` argument in order to correctly return a timezone-aware datetime.  In a future version, this will raise an exception.\n",
            "  warnings.warn(\"tzname {tzname} identified but not understood.  \"\n"
          ]
        },
        {
          "name": "stdout",
          "output_type": "stream",
          "text": [
            "시작 날짜: 20061001, 종료 날짜: 20061031\n"
          ]
        },
        {
          "name": "stderr",
          "output_type": "stream",
          "text": [
            "/usr/local/lib/python3.10/dist-packages/dateutil/parser/_parser.py:1207: UnknownTimezoneWarning: tzname EDT identified but not understood.  Pass `tzinfos` argument in order to correctly return a timezone-aware datetime.  In a future version, this will raise an exception.\n",
            "  warnings.warn(\"tzname {tzname} identified but not understood.  \"\n"
          ]
        },
        {
          "name": "stdout",
          "output_type": "stream",
          "text": [
            "시작 날짜: 20061101, 종료 날짜: 20061130\n"
          ]
        },
        {
          "name": "stderr",
          "output_type": "stream",
          "text": [
            "/usr/local/lib/python3.10/dist-packages/dateutil/parser/_parser.py:1207: UnknownTimezoneWarning: tzname EST identified but not understood.  Pass `tzinfos` argument in order to correctly return a timezone-aware datetime.  In a future version, this will raise an exception.\n",
            "  warnings.warn(\"tzname {tzname} identified but not understood.  \"\n"
          ]
        },
        {
          "name": "stdout",
          "output_type": "stream",
          "text": [
            "시작 날짜: 20061201, 종료 날짜: 20061231\n"
          ]
        },
        {
          "name": "stderr",
          "output_type": "stream",
          "text": [
            "/usr/local/lib/python3.10/dist-packages/dateutil/parser/_parser.py:1207: UnknownTimezoneWarning: tzname EST identified but not understood.  Pass `tzinfos` argument in order to correctly return a timezone-aware datetime.  In a future version, this will raise an exception.\n",
            "  warnings.warn(\"tzname {tzname} identified but not understood.  \"\n"
          ]
        },
        {
          "name": "stdout",
          "output_type": "stream",
          "text": [
            "시작 날짜: 20070101, 종료 날짜: 20070131\n"
          ]
        },
        {
          "name": "stderr",
          "output_type": "stream",
          "text": [
            "/usr/local/lib/python3.10/dist-packages/dateutil/parser/_parser.py:1207: UnknownTimezoneWarning: tzname EST identified but not understood.  Pass `tzinfos` argument in order to correctly return a timezone-aware datetime.  In a future version, this will raise an exception.\n",
            "  warnings.warn(\"tzname {tzname} identified but not understood.  \"\n"
          ]
        },
        {
          "name": "stdout",
          "output_type": "stream",
          "text": [
            "시작 날짜: 20070201, 종료 날짜: 20070228\n"
          ]
        },
        {
          "name": "stderr",
          "output_type": "stream",
          "text": [
            "/usr/local/lib/python3.10/dist-packages/dateutil/parser/_parser.py:1207: UnknownTimezoneWarning: tzname EST identified but not understood.  Pass `tzinfos` argument in order to correctly return a timezone-aware datetime.  In a future version, this will raise an exception.\n",
            "  warnings.warn(\"tzname {tzname} identified but not understood.  \"\n"
          ]
        },
        {
          "name": "stdout",
          "output_type": "stream",
          "text": [
            "시작 날짜: 20070301, 종료 날짜: 20070331\n"
          ]
        },
        {
          "name": "stderr",
          "output_type": "stream",
          "text": [
            "/usr/local/lib/python3.10/dist-packages/dateutil/parser/_parser.py:1207: UnknownTimezoneWarning: tzname EDT identified but not understood.  Pass `tzinfos` argument in order to correctly return a timezone-aware datetime.  In a future version, this will raise an exception.\n",
            "  warnings.warn(\"tzname {tzname} identified but not understood.  \"\n",
            "/usr/local/lib/python3.10/dist-packages/dateutil/parser/_parser.py:1207: UnknownTimezoneWarning: tzname EST identified but not understood.  Pass `tzinfos` argument in order to correctly return a timezone-aware datetime.  In a future version, this will raise an exception.\n",
            "  warnings.warn(\"tzname {tzname} identified but not understood.  \"\n"
          ]
        },
        {
          "name": "stdout",
          "output_type": "stream",
          "text": [
            "시작 날짜: 20070401, 종료 날짜: 20070430\n"
          ]
        },
        {
          "name": "stderr",
          "output_type": "stream",
          "text": [
            "/usr/local/lib/python3.10/dist-packages/dateutil/parser/_parser.py:1207: UnknownTimezoneWarning: tzname EDT identified but not understood.  Pass `tzinfos` argument in order to correctly return a timezone-aware datetime.  In a future version, this will raise an exception.\n",
            "  warnings.warn(\"tzname {tzname} identified but not understood.  \"\n"
          ]
        },
        {
          "name": "stdout",
          "output_type": "stream",
          "text": [
            "시작 날짜: 20070501, 종료 날짜: 20070531\n"
          ]
        },
        {
          "name": "stderr",
          "output_type": "stream",
          "text": [
            "/usr/local/lib/python3.10/dist-packages/dateutil/parser/_parser.py:1207: UnknownTimezoneWarning: tzname EDT identified but not understood.  Pass `tzinfos` argument in order to correctly return a timezone-aware datetime.  In a future version, this will raise an exception.\n",
            "  warnings.warn(\"tzname {tzname} identified but not understood.  \"\n"
          ]
        },
        {
          "name": "stdout",
          "output_type": "stream",
          "text": [
            "시작 날짜: 20070601, 종료 날짜: 20070630\n"
          ]
        },
        {
          "name": "stderr",
          "output_type": "stream",
          "text": [
            "/usr/local/lib/python3.10/dist-packages/dateutil/parser/_parser.py:1207: UnknownTimezoneWarning: tzname EDT identified but not understood.  Pass `tzinfos` argument in order to correctly return a timezone-aware datetime.  In a future version, this will raise an exception.\n",
            "  warnings.warn(\"tzname {tzname} identified but not understood.  \"\n"
          ]
        },
        {
          "name": "stdout",
          "output_type": "stream",
          "text": [
            "시작 날짜: 20070701, 종료 날짜: 20070731\n"
          ]
        },
        {
          "name": "stderr",
          "output_type": "stream",
          "text": [
            "/usr/local/lib/python3.10/dist-packages/dateutil/parser/_parser.py:1207: UnknownTimezoneWarning: tzname EDT identified but not understood.  Pass `tzinfos` argument in order to correctly return a timezone-aware datetime.  In a future version, this will raise an exception.\n",
            "  warnings.warn(\"tzname {tzname} identified but not understood.  \"\n"
          ]
        },
        {
          "name": "stdout",
          "output_type": "stream",
          "text": [
            "시작 날짜: 20070801, 종료 날짜: 20070831\n"
          ]
        },
        {
          "name": "stderr",
          "output_type": "stream",
          "text": [
            "/usr/local/lib/python3.10/dist-packages/dateutil/parser/_parser.py:1207: UnknownTimezoneWarning: tzname EDT identified but not understood.  Pass `tzinfos` argument in order to correctly return a timezone-aware datetime.  In a future version, this will raise an exception.\n",
            "  warnings.warn(\"tzname {tzname} identified but not understood.  \"\n"
          ]
        },
        {
          "name": "stdout",
          "output_type": "stream",
          "text": [
            "시작 날짜: 20070901, 종료 날짜: 20070930\n"
          ]
        },
        {
          "name": "stderr",
          "output_type": "stream",
          "text": [
            "/usr/local/lib/python3.10/dist-packages/dateutil/parser/_parser.py:1207: UnknownTimezoneWarning: tzname EDT identified but not understood.  Pass `tzinfos` argument in order to correctly return a timezone-aware datetime.  In a future version, this will raise an exception.\n",
            "  warnings.warn(\"tzname {tzname} identified but not understood.  \"\n"
          ]
        },
        {
          "name": "stdout",
          "output_type": "stream",
          "text": [
            "시작 날짜: 20071001, 종료 날짜: 20071031\n"
          ]
        },
        {
          "name": "stderr",
          "output_type": "stream",
          "text": [
            "/usr/local/lib/python3.10/dist-packages/dateutil/parser/_parser.py:1207: UnknownTimezoneWarning: tzname EDT identified but not understood.  Pass `tzinfos` argument in order to correctly return a timezone-aware datetime.  In a future version, this will raise an exception.\n",
            "  warnings.warn(\"tzname {tzname} identified but not understood.  \"\n"
          ]
        },
        {
          "name": "stdout",
          "output_type": "stream",
          "text": [
            "시작 날짜: 20071101, 종료 날짜: 20071130\n"
          ]
        },
        {
          "name": "stderr",
          "output_type": "stream",
          "text": [
            "/usr/local/lib/python3.10/dist-packages/dateutil/parser/_parser.py:1207: UnknownTimezoneWarning: tzname EST identified but not understood.  Pass `tzinfos` argument in order to correctly return a timezone-aware datetime.  In a future version, this will raise an exception.\n",
            "  warnings.warn(\"tzname {tzname} identified but not understood.  \"\n"
          ]
        },
        {
          "name": "stdout",
          "output_type": "stream",
          "text": [
            "시작 날짜: 20071201, 종료 날짜: 20071231\n",
            "시작 날짜: 20080101, 종료 날짜: 20080131\n"
          ]
        },
        {
          "name": "stderr",
          "output_type": "stream",
          "text": [
            "/usr/local/lib/python3.10/dist-packages/dateutil/parser/_parser.py:1207: UnknownTimezoneWarning: tzname EST identified but not understood.  Pass `tzinfos` argument in order to correctly return a timezone-aware datetime.  In a future version, this will raise an exception.\n",
            "  warnings.warn(\"tzname {tzname} identified but not understood.  \"\n"
          ]
        },
        {
          "name": "stdout",
          "output_type": "stream",
          "text": [
            "시작 날짜: 20080201, 종료 날짜: 20080229\n"
          ]
        },
        {
          "name": "stderr",
          "output_type": "stream",
          "text": [
            "/usr/local/lib/python3.10/dist-packages/dateutil/parser/_parser.py:1207: UnknownTimezoneWarning: tzname EST identified but not understood.  Pass `tzinfos` argument in order to correctly return a timezone-aware datetime.  In a future version, this will raise an exception.\n",
            "  warnings.warn(\"tzname {tzname} identified but not understood.  \"\n"
          ]
        },
        {
          "name": "stdout",
          "output_type": "stream",
          "text": [
            "시작 날짜: 20080301, 종료 날짜: 20080331\n"
          ]
        },
        {
          "name": "stderr",
          "output_type": "stream",
          "text": [
            "/usr/local/lib/python3.10/dist-packages/dateutil/parser/_parser.py:1207: UnknownTimezoneWarning: tzname EDT identified but not understood.  Pass `tzinfos` argument in order to correctly return a timezone-aware datetime.  In a future version, this will raise an exception.\n",
            "  warnings.warn(\"tzname {tzname} identified but not understood.  \"\n",
            "/usr/local/lib/python3.10/dist-packages/dateutil/parser/_parser.py:1207: UnknownTimezoneWarning: tzname EST identified but not understood.  Pass `tzinfos` argument in order to correctly return a timezone-aware datetime.  In a future version, this will raise an exception.\n",
            "  warnings.warn(\"tzname {tzname} identified but not understood.  \"\n"
          ]
        },
        {
          "name": "stdout",
          "output_type": "stream",
          "text": [
            "시작 날짜: 20080401, 종료 날짜: 20080430\n"
          ]
        },
        {
          "name": "stderr",
          "output_type": "stream",
          "text": [
            "/usr/local/lib/python3.10/dist-packages/dateutil/parser/_parser.py:1207: UnknownTimezoneWarning: tzname EDT identified but not understood.  Pass `tzinfos` argument in order to correctly return a timezone-aware datetime.  In a future version, this will raise an exception.\n",
            "  warnings.warn(\"tzname {tzname} identified but not understood.  \"\n"
          ]
        },
        {
          "name": "stdout",
          "output_type": "stream",
          "text": [
            "시작 날짜: 20080501, 종료 날짜: 20080531\n"
          ]
        },
        {
          "name": "stderr",
          "output_type": "stream",
          "text": [
            "/usr/local/lib/python3.10/dist-packages/dateutil/parser/_parser.py:1207: UnknownTimezoneWarning: tzname EDT identified but not understood.  Pass `tzinfos` argument in order to correctly return a timezone-aware datetime.  In a future version, this will raise an exception.\n",
            "  warnings.warn(\"tzname {tzname} identified but not understood.  \"\n"
          ]
        },
        {
          "name": "stdout",
          "output_type": "stream",
          "text": [
            "시작 날짜: 20080601, 종료 날짜: 20080630\n"
          ]
        },
        {
          "name": "stderr",
          "output_type": "stream",
          "text": [
            "/usr/local/lib/python3.10/dist-packages/dateutil/parser/_parser.py:1207: UnknownTimezoneWarning: tzname EDT identified but not understood.  Pass `tzinfos` argument in order to correctly return a timezone-aware datetime.  In a future version, this will raise an exception.\n",
            "  warnings.warn(\"tzname {tzname} identified but not understood.  \"\n"
          ]
        },
        {
          "name": "stdout",
          "output_type": "stream",
          "text": [
            "시작 날짜: 20080701, 종료 날짜: 20080731\n"
          ]
        },
        {
          "name": "stderr",
          "output_type": "stream",
          "text": [
            "/usr/local/lib/python3.10/dist-packages/dateutil/parser/_parser.py:1207: UnknownTimezoneWarning: tzname EDT identified but not understood.  Pass `tzinfos` argument in order to correctly return a timezone-aware datetime.  In a future version, this will raise an exception.\n",
            "  warnings.warn(\"tzname {tzname} identified but not understood.  \"\n"
          ]
        },
        {
          "name": "stdout",
          "output_type": "stream",
          "text": [
            "시작 날짜: 20080801, 종료 날짜: 20080831\n",
            "시작 날짜: 20080901, 종료 날짜: 20080930\n"
          ]
        },
        {
          "name": "stderr",
          "output_type": "stream",
          "text": [
            "/usr/local/lib/python3.10/dist-packages/dateutil/parser/_parser.py:1207: UnknownTimezoneWarning: tzname EDT identified but not understood.  Pass `tzinfos` argument in order to correctly return a timezone-aware datetime.  In a future version, this will raise an exception.\n",
            "  warnings.warn(\"tzname {tzname} identified but not understood.  \"\n"
          ]
        },
        {
          "name": "stdout",
          "output_type": "stream",
          "text": [
            "시작 날짜: 20081001, 종료 날짜: 20081031\n"
          ]
        },
        {
          "name": "stderr",
          "output_type": "stream",
          "text": [
            "/usr/local/lib/python3.10/dist-packages/dateutil/parser/_parser.py:1207: UnknownTimezoneWarning: tzname EDT identified but not understood.  Pass `tzinfos` argument in order to correctly return a timezone-aware datetime.  In a future version, this will raise an exception.\n",
            "  warnings.warn(\"tzname {tzname} identified but not understood.  \"\n"
          ]
        },
        {
          "name": "stdout",
          "output_type": "stream",
          "text": [
            "시작 날짜: 20081101, 종료 날짜: 20081130\n"
          ]
        },
        {
          "name": "stderr",
          "output_type": "stream",
          "text": [
            "/usr/local/lib/python3.10/dist-packages/dateutil/parser/_parser.py:1207: UnknownTimezoneWarning: tzname EST identified but not understood.  Pass `tzinfos` argument in order to correctly return a timezone-aware datetime.  In a future version, this will raise an exception.\n",
            "  warnings.warn(\"tzname {tzname} identified but not understood.  \"\n"
          ]
        },
        {
          "name": "stdout",
          "output_type": "stream",
          "text": [
            "시작 날짜: 20081201, 종료 날짜: 20081231\n"
          ]
        },
        {
          "name": "stderr",
          "output_type": "stream",
          "text": [
            "/usr/local/lib/python3.10/dist-packages/dateutil/parser/_parser.py:1207: UnknownTimezoneWarning: tzname EST identified but not understood.  Pass `tzinfos` argument in order to correctly return a timezone-aware datetime.  In a future version, this will raise an exception.\n",
            "  warnings.warn(\"tzname {tzname} identified but not understood.  \"\n"
          ]
        },
        {
          "name": "stdout",
          "output_type": "stream",
          "text": [
            "시작 날짜: 20090101, 종료 날짜: 20090131\n"
          ]
        },
        {
          "name": "stderr",
          "output_type": "stream",
          "text": [
            "/usr/local/lib/python3.10/dist-packages/dateutil/parser/_parser.py:1207: UnknownTimezoneWarning: tzname EST identified but not understood.  Pass `tzinfos` argument in order to correctly return a timezone-aware datetime.  In a future version, this will raise an exception.\n",
            "  warnings.warn(\"tzname {tzname} identified but not understood.  \"\n"
          ]
        },
        {
          "name": "stdout",
          "output_type": "stream",
          "text": [
            "시작 날짜: 20090201, 종료 날짜: 20090228\n"
          ]
        },
        {
          "name": "stderr",
          "output_type": "stream",
          "text": [
            "/usr/local/lib/python3.10/dist-packages/dateutil/parser/_parser.py:1207: UnknownTimezoneWarning: tzname EST identified but not understood.  Pass `tzinfos` argument in order to correctly return a timezone-aware datetime.  In a future version, this will raise an exception.\n",
            "  warnings.warn(\"tzname {tzname} identified but not understood.  \"\n"
          ]
        },
        {
          "name": "stdout",
          "output_type": "stream",
          "text": [
            "시작 날짜: 20090301, 종료 날짜: 20090331\n"
          ]
        },
        {
          "name": "stderr",
          "output_type": "stream",
          "text": [
            "/usr/local/lib/python3.10/dist-packages/dateutil/parser/_parser.py:1207: UnknownTimezoneWarning: tzname EDT identified but not understood.  Pass `tzinfos` argument in order to correctly return a timezone-aware datetime.  In a future version, this will raise an exception.\n",
            "  warnings.warn(\"tzname {tzname} identified but not understood.  \"\n",
            "/usr/local/lib/python3.10/dist-packages/dateutil/parser/_parser.py:1207: UnknownTimezoneWarning: tzname EST identified but not understood.  Pass `tzinfos` argument in order to correctly return a timezone-aware datetime.  In a future version, this will raise an exception.\n",
            "  warnings.warn(\"tzname {tzname} identified but not understood.  \"\n"
          ]
        },
        {
          "name": "stdout",
          "output_type": "stream",
          "text": [
            "시작 날짜: 20090401, 종료 날짜: 20090430\n"
          ]
        },
        {
          "name": "stderr",
          "output_type": "stream",
          "text": [
            "/usr/local/lib/python3.10/dist-packages/dateutil/parser/_parser.py:1207: UnknownTimezoneWarning: tzname EDT identified but not understood.  Pass `tzinfos` argument in order to correctly return a timezone-aware datetime.  In a future version, this will raise an exception.\n",
            "  warnings.warn(\"tzname {tzname} identified but not understood.  \"\n"
          ]
        },
        {
          "name": "stdout",
          "output_type": "stream",
          "text": [
            "시작 날짜: 20090501, 종료 날짜: 20090531\n"
          ]
        },
        {
          "name": "stderr",
          "output_type": "stream",
          "text": [
            "/usr/local/lib/python3.10/dist-packages/dateutil/parser/_parser.py:1207: UnknownTimezoneWarning: tzname EDT identified but not understood.  Pass `tzinfos` argument in order to correctly return a timezone-aware datetime.  In a future version, this will raise an exception.\n",
            "  warnings.warn(\"tzname {tzname} identified but not understood.  \"\n"
          ]
        },
        {
          "name": "stdout",
          "output_type": "stream",
          "text": [
            "시작 날짜: 20090601, 종료 날짜: 20090630\n"
          ]
        },
        {
          "name": "stderr",
          "output_type": "stream",
          "text": [
            "/usr/local/lib/python3.10/dist-packages/dateutil/parser/_parser.py:1207: UnknownTimezoneWarning: tzname EDT identified but not understood.  Pass `tzinfos` argument in order to correctly return a timezone-aware datetime.  In a future version, this will raise an exception.\n",
            "  warnings.warn(\"tzname {tzname} identified but not understood.  \"\n"
          ]
        },
        {
          "name": "stdout",
          "output_type": "stream",
          "text": [
            "시작 날짜: 20090701, 종료 날짜: 20090731\n",
            "시작 날짜: 20090801, 종료 날짜: 20090831\n",
            "시작 날짜: 20090901, 종료 날짜: 20090930\n",
            "시작 날짜: 20091001, 종료 날짜: 20091031\n",
            "시작 날짜: 20091101, 종료 날짜: 20091130\n",
            "시작 날짜: 20091201, 종료 날짜: 20091231\n"
          ]
        },
        {
          "name": "stderr",
          "output_type": "stream",
          "text": [
            "/usr/local/lib/python3.10/dist-packages/dateutil/parser/_parser.py:1207: UnknownTimezoneWarning: tzname EST identified but not understood.  Pass `tzinfos` argument in order to correctly return a timezone-aware datetime.  In a future version, this will raise an exception.\n",
            "  warnings.warn(\"tzname {tzname} identified but not understood.  \"\n"
          ]
        },
        {
          "name": "stdout",
          "output_type": "stream",
          "text": [
            "시작 날짜: 20100101, 종료 날짜: 20100131\n",
            "시작 날짜: 20100201, 종료 날짜: 20100228\n"
          ]
        },
        {
          "name": "stderr",
          "output_type": "stream",
          "text": [
            "/usr/local/lib/python3.10/dist-packages/dateutil/parser/_parser.py:1207: UnknownTimezoneWarning: tzname EST identified but not understood.  Pass `tzinfos` argument in order to correctly return a timezone-aware datetime.  In a future version, this will raise an exception.\n",
            "  warnings.warn(\"tzname {tzname} identified but not understood.  \"\n"
          ]
        },
        {
          "name": "stdout",
          "output_type": "stream",
          "text": [
            "시작 날짜: 20100301, 종료 날짜: 20100331\n"
          ]
        },
        {
          "name": "stderr",
          "output_type": "stream",
          "text": [
            "/usr/local/lib/python3.10/dist-packages/dateutil/parser/_parser.py:1207: UnknownTimezoneWarning: tzname EST identified but not understood.  Pass `tzinfos` argument in order to correctly return a timezone-aware datetime.  In a future version, this will raise an exception.\n",
            "  warnings.warn(\"tzname {tzname} identified but not understood.  \"\n"
          ]
        },
        {
          "name": "stdout",
          "output_type": "stream",
          "text": [
            "시작 날짜: 20100401, 종료 날짜: 20100430\n"
          ]
        },
        {
          "name": "stderr",
          "output_type": "stream",
          "text": [
            "/usr/local/lib/python3.10/dist-packages/dateutil/parser/_parser.py:1207: UnknownTimezoneWarning: tzname EDT identified but not understood.  Pass `tzinfos` argument in order to correctly return a timezone-aware datetime.  In a future version, this will raise an exception.\n",
            "  warnings.warn(\"tzname {tzname} identified but not understood.  \"\n"
          ]
        },
        {
          "name": "stdout",
          "output_type": "stream",
          "text": [
            "시작 날짜: 20100501, 종료 날짜: 20100531\n"
          ]
        },
        {
          "name": "stderr",
          "output_type": "stream",
          "text": [
            "/usr/local/lib/python3.10/dist-packages/dateutil/parser/_parser.py:1207: UnknownTimezoneWarning: tzname EDT identified but not understood.  Pass `tzinfos` argument in order to correctly return a timezone-aware datetime.  In a future version, this will raise an exception.\n",
            "  warnings.warn(\"tzname {tzname} identified but not understood.  \"\n"
          ]
        },
        {
          "name": "stdout",
          "output_type": "stream",
          "text": [
            "시작 날짜: 20100601, 종료 날짜: 20100630\n"
          ]
        },
        {
          "name": "stderr",
          "output_type": "stream",
          "text": [
            "/usr/local/lib/python3.10/dist-packages/dateutil/parser/_parser.py:1207: UnknownTimezoneWarning: tzname EDT identified but not understood.  Pass `tzinfos` argument in order to correctly return a timezone-aware datetime.  In a future version, this will raise an exception.\n",
            "  warnings.warn(\"tzname {tzname} identified but not understood.  \"\n"
          ]
        },
        {
          "name": "stdout",
          "output_type": "stream",
          "text": [
            "시작 날짜: 20100701, 종료 날짜: 20100731\n"
          ]
        },
        {
          "name": "stderr",
          "output_type": "stream",
          "text": [
            "/usr/local/lib/python3.10/dist-packages/dateutil/parser/_parser.py:1207: UnknownTimezoneWarning: tzname EDT identified but not understood.  Pass `tzinfos` argument in order to correctly return a timezone-aware datetime.  In a future version, this will raise an exception.\n",
            "  warnings.warn(\"tzname {tzname} identified but not understood.  \"\n"
          ]
        },
        {
          "name": "stdout",
          "output_type": "stream",
          "text": [
            "시작 날짜: 20100801, 종료 날짜: 20100831\n"
          ]
        },
        {
          "name": "stderr",
          "output_type": "stream",
          "text": [
            "/usr/local/lib/python3.10/dist-packages/dateutil/parser/_parser.py:1207: UnknownTimezoneWarning: tzname EDT identified but not understood.  Pass `tzinfos` argument in order to correctly return a timezone-aware datetime.  In a future version, this will raise an exception.\n",
            "  warnings.warn(\"tzname {tzname} identified but not understood.  \"\n"
          ]
        },
        {
          "name": "stdout",
          "output_type": "stream",
          "text": [
            "시작 날짜: 20100901, 종료 날짜: 20100930\n"
          ]
        },
        {
          "name": "stderr",
          "output_type": "stream",
          "text": [
            "/usr/local/lib/python3.10/dist-packages/dateutil/parser/_parser.py:1207: UnknownTimezoneWarning: tzname EDT identified but not understood.  Pass `tzinfos` argument in order to correctly return a timezone-aware datetime.  In a future version, this will raise an exception.\n",
            "  warnings.warn(\"tzname {tzname} identified but not understood.  \"\n"
          ]
        },
        {
          "name": "stdout",
          "output_type": "stream",
          "text": [
            "시작 날짜: 20101001, 종료 날짜: 20101031\n"
          ]
        },
        {
          "name": "stderr",
          "output_type": "stream",
          "text": [
            "/usr/local/lib/python3.10/dist-packages/dateutil/parser/_parser.py:1207: UnknownTimezoneWarning: tzname EDT identified but not understood.  Pass `tzinfos` argument in order to correctly return a timezone-aware datetime.  In a future version, this will raise an exception.\n",
            "  warnings.warn(\"tzname {tzname} identified but not understood.  \"\n"
          ]
        },
        {
          "name": "stdout",
          "output_type": "stream",
          "text": [
            "시작 날짜: 20101101, 종료 날짜: 20101130\n"
          ]
        },
        {
          "name": "stderr",
          "output_type": "stream",
          "text": [
            "/usr/local/lib/python3.10/dist-packages/dateutil/parser/_parser.py:1207: UnknownTimezoneWarning: tzname EST identified but not understood.  Pass `tzinfos` argument in order to correctly return a timezone-aware datetime.  In a future version, this will raise an exception.\n",
            "  warnings.warn(\"tzname {tzname} identified but not understood.  \"\n",
            "/usr/local/lib/python3.10/dist-packages/dateutil/parser/_parser.py:1207: UnknownTimezoneWarning: tzname EDT identified but not understood.  Pass `tzinfos` argument in order to correctly return a timezone-aware datetime.  In a future version, this will raise an exception.\n",
            "  warnings.warn(\"tzname {tzname} identified but not understood.  \"\n"
          ]
        },
        {
          "name": "stdout",
          "output_type": "stream",
          "text": [
            "시작 날짜: 20101201, 종료 날짜: 20101231\n"
          ]
        },
        {
          "name": "stderr",
          "output_type": "stream",
          "text": [
            "/usr/local/lib/python3.10/dist-packages/dateutil/parser/_parser.py:1207: UnknownTimezoneWarning: tzname EST identified but not understood.  Pass `tzinfos` argument in order to correctly return a timezone-aware datetime.  In a future version, this will raise an exception.\n",
            "  warnings.warn(\"tzname {tzname} identified but not understood.  \"\n"
          ]
        },
        {
          "name": "stdout",
          "output_type": "stream",
          "text": [
            "시작 날짜: 20110101, 종료 날짜: 20110131\n"
          ]
        },
        {
          "name": "stderr",
          "output_type": "stream",
          "text": [
            "/usr/local/lib/python3.10/dist-packages/dateutil/parser/_parser.py:1207: UnknownTimezoneWarning: tzname EST identified but not understood.  Pass `tzinfos` argument in order to correctly return a timezone-aware datetime.  In a future version, this will raise an exception.\n",
            "  warnings.warn(\"tzname {tzname} identified but not understood.  \"\n"
          ]
        },
        {
          "name": "stdout",
          "output_type": "stream",
          "text": [
            "시작 날짜: 20110201, 종료 날짜: 20110228\n"
          ]
        },
        {
          "name": "stderr",
          "output_type": "stream",
          "text": [
            "/usr/local/lib/python3.10/dist-packages/dateutil/parser/_parser.py:1207: UnknownTimezoneWarning: tzname EST identified but not understood.  Pass `tzinfos` argument in order to correctly return a timezone-aware datetime.  In a future version, this will raise an exception.\n",
            "  warnings.warn(\"tzname {tzname} identified but not understood.  \"\n"
          ]
        },
        {
          "name": "stdout",
          "output_type": "stream",
          "text": [
            "시작 날짜: 20110301, 종료 날짜: 20110331\n"
          ]
        },
        {
          "name": "stderr",
          "output_type": "stream",
          "text": [
            "/usr/local/lib/python3.10/dist-packages/dateutil/parser/_parser.py:1207: UnknownTimezoneWarning: tzname EDT identified but not understood.  Pass `tzinfos` argument in order to correctly return a timezone-aware datetime.  In a future version, this will raise an exception.\n",
            "  warnings.warn(\"tzname {tzname} identified but not understood.  \"\n",
            "/usr/local/lib/python3.10/dist-packages/dateutil/parser/_parser.py:1207: UnknownTimezoneWarning: tzname EST identified but not understood.  Pass `tzinfos` argument in order to correctly return a timezone-aware datetime.  In a future version, this will raise an exception.\n",
            "  warnings.warn(\"tzname {tzname} identified but not understood.  \"\n"
          ]
        },
        {
          "name": "stdout",
          "output_type": "stream",
          "text": [
            "시작 날짜: 20110401, 종료 날짜: 20110430\n"
          ]
        },
        {
          "name": "stderr",
          "output_type": "stream",
          "text": [
            "/usr/local/lib/python3.10/dist-packages/dateutil/parser/_parser.py:1207: UnknownTimezoneWarning: tzname EDT identified but not understood.  Pass `tzinfos` argument in order to correctly return a timezone-aware datetime.  In a future version, this will raise an exception.\n",
            "  warnings.warn(\"tzname {tzname} identified but not understood.  \"\n"
          ]
        },
        {
          "name": "stdout",
          "output_type": "stream",
          "text": [
            "시작 날짜: 20110501, 종료 날짜: 20110531\n"
          ]
        },
        {
          "name": "stderr",
          "output_type": "stream",
          "text": [
            "/usr/local/lib/python3.10/dist-packages/dateutil/parser/_parser.py:1207: UnknownTimezoneWarning: tzname EDT identified but not understood.  Pass `tzinfos` argument in order to correctly return a timezone-aware datetime.  In a future version, this will raise an exception.\n",
            "  warnings.warn(\"tzname {tzname} identified but not understood.  \"\n"
          ]
        },
        {
          "name": "stdout",
          "output_type": "stream",
          "text": [
            "시작 날짜: 20110601, 종료 날짜: 20110630\n"
          ]
        },
        {
          "name": "stderr",
          "output_type": "stream",
          "text": [
            "/usr/local/lib/python3.10/dist-packages/dateutil/parser/_parser.py:1207: UnknownTimezoneWarning: tzname EDT identified but not understood.  Pass `tzinfos` argument in order to correctly return a timezone-aware datetime.  In a future version, this will raise an exception.\n",
            "  warnings.warn(\"tzname {tzname} identified but not understood.  \"\n"
          ]
        },
        {
          "name": "stdout",
          "output_type": "stream",
          "text": [
            "시작 날짜: 20110701, 종료 날짜: 20110731\n"
          ]
        },
        {
          "name": "stderr",
          "output_type": "stream",
          "text": [
            "/usr/local/lib/python3.10/dist-packages/dateutil/parser/_parser.py:1207: UnknownTimezoneWarning: tzname EDT identified but not understood.  Pass `tzinfos` argument in order to correctly return a timezone-aware datetime.  In a future version, this will raise an exception.\n",
            "  warnings.warn(\"tzname {tzname} identified but not understood.  \"\n"
          ]
        },
        {
          "name": "stdout",
          "output_type": "stream",
          "text": [
            "시작 날짜: 20110801, 종료 날짜: 20110831\n"
          ]
        },
        {
          "name": "stderr",
          "output_type": "stream",
          "text": [
            "/usr/local/lib/python3.10/dist-packages/dateutil/parser/_parser.py:1207: UnknownTimezoneWarning: tzname EDT identified but not understood.  Pass `tzinfos` argument in order to correctly return a timezone-aware datetime.  In a future version, this will raise an exception.\n",
            "  warnings.warn(\"tzname {tzname} identified but not understood.  \"\n"
          ]
        },
        {
          "name": "stdout",
          "output_type": "stream",
          "text": [
            "시작 날짜: 20110901, 종료 날짜: 20110930\n"
          ]
        },
        {
          "name": "stderr",
          "output_type": "stream",
          "text": [
            "/usr/local/lib/python3.10/dist-packages/dateutil/parser/_parser.py:1207: UnknownTimezoneWarning: tzname EDT identified but not understood.  Pass `tzinfos` argument in order to correctly return a timezone-aware datetime.  In a future version, this will raise an exception.\n",
            "  warnings.warn(\"tzname {tzname} identified but not understood.  \"\n"
          ]
        },
        {
          "name": "stdout",
          "output_type": "stream",
          "text": [
            "시작 날짜: 20111001, 종료 날짜: 20111031\n"
          ]
        },
        {
          "name": "stderr",
          "output_type": "stream",
          "text": [
            "/usr/local/lib/python3.10/dist-packages/dateutil/parser/_parser.py:1207: UnknownTimezoneWarning: tzname EDT identified but not understood.  Pass `tzinfos` argument in order to correctly return a timezone-aware datetime.  In a future version, this will raise an exception.\n",
            "  warnings.warn(\"tzname {tzname} identified but not understood.  \"\n"
          ]
        },
        {
          "name": "stdout",
          "output_type": "stream",
          "text": [
            "시작 날짜: 20111101, 종료 날짜: 20111130\n"
          ]
        },
        {
          "name": "stderr",
          "output_type": "stream",
          "text": [
            "/usr/local/lib/python3.10/dist-packages/dateutil/parser/_parser.py:1207: UnknownTimezoneWarning: tzname EDT identified but not understood.  Pass `tzinfos` argument in order to correctly return a timezone-aware datetime.  In a future version, this will raise an exception.\n",
            "  warnings.warn(\"tzname {tzname} identified but not understood.  \"\n",
            "/usr/local/lib/python3.10/dist-packages/dateutil/parser/_parser.py:1207: UnknownTimezoneWarning: tzname EST identified but not understood.  Pass `tzinfos` argument in order to correctly return a timezone-aware datetime.  In a future version, this will raise an exception.\n",
            "  warnings.warn(\"tzname {tzname} identified but not understood.  \"\n"
          ]
        },
        {
          "name": "stdout",
          "output_type": "stream",
          "text": [
            "시작 날짜: 20111201, 종료 날짜: 20111231\n"
          ]
        },
        {
          "name": "stderr",
          "output_type": "stream",
          "text": [
            "/usr/local/lib/python3.10/dist-packages/dateutil/parser/_parser.py:1207: UnknownTimezoneWarning: tzname EST identified but not understood.  Pass `tzinfos` argument in order to correctly return a timezone-aware datetime.  In a future version, this will raise an exception.\n",
            "  warnings.warn(\"tzname {tzname} identified but not understood.  \"\n"
          ]
        },
        {
          "name": "stdout",
          "output_type": "stream",
          "text": [
            "시작 날짜: 20120101, 종료 날짜: 20120131\n"
          ]
        },
        {
          "name": "stderr",
          "output_type": "stream",
          "text": [
            "/usr/local/lib/python3.10/dist-packages/dateutil/parser/_parser.py:1207: UnknownTimezoneWarning: tzname EST identified but not understood.  Pass `tzinfos` argument in order to correctly return a timezone-aware datetime.  In a future version, this will raise an exception.\n",
            "  warnings.warn(\"tzname {tzname} identified but not understood.  \"\n"
          ]
        },
        {
          "name": "stdout",
          "output_type": "stream",
          "text": [
            "시작 날짜: 20120201, 종료 날짜: 20120229\n"
          ]
        },
        {
          "name": "stderr",
          "output_type": "stream",
          "text": [
            "/usr/local/lib/python3.10/dist-packages/dateutil/parser/_parser.py:1207: UnknownTimezoneWarning: tzname EST identified but not understood.  Pass `tzinfos` argument in order to correctly return a timezone-aware datetime.  In a future version, this will raise an exception.\n",
            "  warnings.warn(\"tzname {tzname} identified but not understood.  \"\n"
          ]
        },
        {
          "name": "stdout",
          "output_type": "stream",
          "text": [
            "시작 날짜: 20120301, 종료 날짜: 20120331\n"
          ]
        },
        {
          "name": "stderr",
          "output_type": "stream",
          "text": [
            "/usr/local/lib/python3.10/dist-packages/dateutil/parser/_parser.py:1207: UnknownTimezoneWarning: tzname EST identified but not understood.  Pass `tzinfos` argument in order to correctly return a timezone-aware datetime.  In a future version, this will raise an exception.\n",
            "  warnings.warn(\"tzname {tzname} identified but not understood.  \"\n",
            "/usr/local/lib/python3.10/dist-packages/dateutil/parser/_parser.py:1207: UnknownTimezoneWarning: tzname EDT identified but not understood.  Pass `tzinfos` argument in order to correctly return a timezone-aware datetime.  In a future version, this will raise an exception.\n",
            "  warnings.warn(\"tzname {tzname} identified but not understood.  \"\n"
          ]
        },
        {
          "name": "stdout",
          "output_type": "stream",
          "text": [
            "시작 날짜: 20120401, 종료 날짜: 20120430\n"
          ]
        },
        {
          "name": "stderr",
          "output_type": "stream",
          "text": [
            "/usr/local/lib/python3.10/dist-packages/dateutil/parser/_parser.py:1207: UnknownTimezoneWarning: tzname EDT identified but not understood.  Pass `tzinfos` argument in order to correctly return a timezone-aware datetime.  In a future version, this will raise an exception.\n",
            "  warnings.warn(\"tzname {tzname} identified but not understood.  \"\n"
          ]
        },
        {
          "name": "stdout",
          "output_type": "stream",
          "text": [
            "시작 날짜: 20120501, 종료 날짜: 20120531\n"
          ]
        },
        {
          "name": "stderr",
          "output_type": "stream",
          "text": [
            "/usr/local/lib/python3.10/dist-packages/dateutil/parser/_parser.py:1207: UnknownTimezoneWarning: tzname EDT identified but not understood.  Pass `tzinfos` argument in order to correctly return a timezone-aware datetime.  In a future version, this will raise an exception.\n",
            "  warnings.warn(\"tzname {tzname} identified but not understood.  \"\n"
          ]
        },
        {
          "name": "stdout",
          "output_type": "stream",
          "text": [
            "시작 날짜: 20120601, 종료 날짜: 20120630\n"
          ]
        },
        {
          "name": "stderr",
          "output_type": "stream",
          "text": [
            "/usr/local/lib/python3.10/dist-packages/dateutil/parser/_parser.py:1207: UnknownTimezoneWarning: tzname EDT identified but not understood.  Pass `tzinfos` argument in order to correctly return a timezone-aware datetime.  In a future version, this will raise an exception.\n",
            "  warnings.warn(\"tzname {tzname} identified but not understood.  \"\n"
          ]
        },
        {
          "name": "stdout",
          "output_type": "stream",
          "text": [
            "시작 날짜: 20120701, 종료 날짜: 20120731\n"
          ]
        },
        {
          "name": "stderr",
          "output_type": "stream",
          "text": [
            "/usr/local/lib/python3.10/dist-packages/dateutil/parser/_parser.py:1207: UnknownTimezoneWarning: tzname EDT identified but not understood.  Pass `tzinfos` argument in order to correctly return a timezone-aware datetime.  In a future version, this will raise an exception.\n",
            "  warnings.warn(\"tzname {tzname} identified but not understood.  \"\n"
          ]
        },
        {
          "name": "stdout",
          "output_type": "stream",
          "text": [
            "시작 날짜: 20120801, 종료 날짜: 20120831\n"
          ]
        },
        {
          "name": "stderr",
          "output_type": "stream",
          "text": [
            "/usr/local/lib/python3.10/dist-packages/dateutil/parser/_parser.py:1207: UnknownTimezoneWarning: tzname EDT identified but not understood.  Pass `tzinfos` argument in order to correctly return a timezone-aware datetime.  In a future version, this will raise an exception.\n",
            "  warnings.warn(\"tzname {tzname} identified but not understood.  \"\n"
          ]
        },
        {
          "name": "stdout",
          "output_type": "stream",
          "text": [
            "시작 날짜: 20120901, 종료 날짜: 20120930\n"
          ]
        },
        {
          "name": "stderr",
          "output_type": "stream",
          "text": [
            "/usr/local/lib/python3.10/dist-packages/dateutil/parser/_parser.py:1207: UnknownTimezoneWarning: tzname EDT identified but not understood.  Pass `tzinfos` argument in order to correctly return a timezone-aware datetime.  In a future version, this will raise an exception.\n",
            "  warnings.warn(\"tzname {tzname} identified but not understood.  \"\n"
          ]
        },
        {
          "name": "stdout",
          "output_type": "stream",
          "text": [
            "시작 날짜: 20121001, 종료 날짜: 20121031\n"
          ]
        },
        {
          "name": "stderr",
          "output_type": "stream",
          "text": [
            "/usr/local/lib/python3.10/dist-packages/dateutil/parser/_parser.py:1207: UnknownTimezoneWarning: tzname EDT identified but not understood.  Pass `tzinfos` argument in order to correctly return a timezone-aware datetime.  In a future version, this will raise an exception.\n",
            "  warnings.warn(\"tzname {tzname} identified but not understood.  \"\n"
          ]
        },
        {
          "name": "stdout",
          "output_type": "stream",
          "text": [
            "시작 날짜: 20121101, 종료 날짜: 20121130\n"
          ]
        },
        {
          "name": "stderr",
          "output_type": "stream",
          "text": [
            "/usr/local/lib/python3.10/dist-packages/dateutil/parser/_parser.py:1207: UnknownTimezoneWarning: tzname EST identified but not understood.  Pass `tzinfos` argument in order to correctly return a timezone-aware datetime.  In a future version, this will raise an exception.\n",
            "  warnings.warn(\"tzname {tzname} identified but not understood.  \"\n"
          ]
        },
        {
          "name": "stdout",
          "output_type": "stream",
          "text": [
            "시작 날짜: 20121201, 종료 날짜: 20121231\n"
          ]
        },
        {
          "name": "stderr",
          "output_type": "stream",
          "text": [
            "/usr/local/lib/python3.10/dist-packages/dateutil/parser/_parser.py:1207: UnknownTimezoneWarning: tzname EST identified but not understood.  Pass `tzinfos` argument in order to correctly return a timezone-aware datetime.  In a future version, this will raise an exception.\n",
            "  warnings.warn(\"tzname {tzname} identified but not understood.  \"\n"
          ]
        },
        {
          "name": "stdout",
          "output_type": "stream",
          "text": [
            "시작 날짜: 20130101, 종료 날짜: 20130131\n"
          ]
        },
        {
          "name": "stderr",
          "output_type": "stream",
          "text": [
            "/usr/local/lib/python3.10/dist-packages/dateutil/parser/_parser.py:1207: UnknownTimezoneWarning: tzname EST identified but not understood.  Pass `tzinfos` argument in order to correctly return a timezone-aware datetime.  In a future version, this will raise an exception.\n",
            "  warnings.warn(\"tzname {tzname} identified but not understood.  \"\n"
          ]
        },
        {
          "name": "stdout",
          "output_type": "stream",
          "text": [
            "시작 날짜: 20130201, 종료 날짜: 20130228\n"
          ]
        },
        {
          "name": "stderr",
          "output_type": "stream",
          "text": [
            "/usr/local/lib/python3.10/dist-packages/dateutil/parser/_parser.py:1207: UnknownTimezoneWarning: tzname EST identified but not understood.  Pass `tzinfos` argument in order to correctly return a timezone-aware datetime.  In a future version, this will raise an exception.\n",
            "  warnings.warn(\"tzname {tzname} identified but not understood.  \"\n"
          ]
        },
        {
          "name": "stdout",
          "output_type": "stream",
          "text": [
            "시작 날짜: 20130301, 종료 날짜: 20130331\n"
          ]
        },
        {
          "name": "stderr",
          "output_type": "stream",
          "text": [
            "/usr/local/lib/python3.10/dist-packages/dateutil/parser/_parser.py:1207: UnknownTimezoneWarning: tzname EDT identified but not understood.  Pass `tzinfos` argument in order to correctly return a timezone-aware datetime.  In a future version, this will raise an exception.\n",
            "  warnings.warn(\"tzname {tzname} identified but not understood.  \"\n",
            "/usr/local/lib/python3.10/dist-packages/dateutil/parser/_parser.py:1207: UnknownTimezoneWarning: tzname EST identified but not understood.  Pass `tzinfos` argument in order to correctly return a timezone-aware datetime.  In a future version, this will raise an exception.\n",
            "  warnings.warn(\"tzname {tzname} identified but not understood.  \"\n"
          ]
        },
        {
          "name": "stdout",
          "output_type": "stream",
          "text": [
            "시작 날짜: 20130401, 종료 날짜: 20130430\n"
          ]
        },
        {
          "name": "stderr",
          "output_type": "stream",
          "text": [
            "/usr/local/lib/python3.10/dist-packages/dateutil/parser/_parser.py:1207: UnknownTimezoneWarning: tzname EDT identified but not understood.  Pass `tzinfos` argument in order to correctly return a timezone-aware datetime.  In a future version, this will raise an exception.\n",
            "  warnings.warn(\"tzname {tzname} identified but not understood.  \"\n"
          ]
        },
        {
          "name": "stdout",
          "output_type": "stream",
          "text": [
            "시작 날짜: 20130501, 종료 날짜: 20130531\n"
          ]
        },
        {
          "name": "stderr",
          "output_type": "stream",
          "text": [
            "/usr/local/lib/python3.10/dist-packages/dateutil/parser/_parser.py:1207: UnknownTimezoneWarning: tzname EDT identified but not understood.  Pass `tzinfos` argument in order to correctly return a timezone-aware datetime.  In a future version, this will raise an exception.\n",
            "  warnings.warn(\"tzname {tzname} identified but not understood.  \"\n"
          ]
        },
        {
          "name": "stdout",
          "output_type": "stream",
          "text": [
            "시작 날짜: 20130601, 종료 날짜: 20130630\n"
          ]
        },
        {
          "name": "stderr",
          "output_type": "stream",
          "text": [
            "/usr/local/lib/python3.10/dist-packages/dateutil/parser/_parser.py:1207: UnknownTimezoneWarning: tzname EDT identified but not understood.  Pass `tzinfos` argument in order to correctly return a timezone-aware datetime.  In a future version, this will raise an exception.\n",
            "  warnings.warn(\"tzname {tzname} identified but not understood.  \"\n"
          ]
        },
        {
          "name": "stdout",
          "output_type": "stream",
          "text": [
            "시작 날짜: 20130701, 종료 날짜: 20130731\n"
          ]
        },
        {
          "name": "stderr",
          "output_type": "stream",
          "text": [
            "/usr/local/lib/python3.10/dist-packages/dateutil/parser/_parser.py:1207: UnknownTimezoneWarning: tzname EDT identified but not understood.  Pass `tzinfos` argument in order to correctly return a timezone-aware datetime.  In a future version, this will raise an exception.\n",
            "  warnings.warn(\"tzname {tzname} identified but not understood.  \"\n"
          ]
        },
        {
          "name": "stdout",
          "output_type": "stream",
          "text": [
            "시작 날짜: 20130801, 종료 날짜: 20130831\n"
          ]
        },
        {
          "name": "stderr",
          "output_type": "stream",
          "text": [
            "/usr/local/lib/python3.10/dist-packages/dateutil/parser/_parser.py:1207: UnknownTimezoneWarning: tzname EDT identified but not understood.  Pass `tzinfos` argument in order to correctly return a timezone-aware datetime.  In a future version, this will raise an exception.\n",
            "  warnings.warn(\"tzname {tzname} identified but not understood.  \"\n"
          ]
        },
        {
          "name": "stdout",
          "output_type": "stream",
          "text": [
            "시작 날짜: 20130901, 종료 날짜: 20130930\n"
          ]
        },
        {
          "name": "stderr",
          "output_type": "stream",
          "text": [
            "/usr/local/lib/python3.10/dist-packages/dateutil/parser/_parser.py:1207: UnknownTimezoneWarning: tzname EDT identified but not understood.  Pass `tzinfos` argument in order to correctly return a timezone-aware datetime.  In a future version, this will raise an exception.\n",
            "  warnings.warn(\"tzname {tzname} identified but not understood.  \"\n"
          ]
        },
        {
          "name": "stdout",
          "output_type": "stream",
          "text": [
            "시작 날짜: 20131001, 종료 날짜: 20131031\n"
          ]
        },
        {
          "name": "stderr",
          "output_type": "stream",
          "text": [
            "/usr/local/lib/python3.10/dist-packages/dateutil/parser/_parser.py:1207: UnknownTimezoneWarning: tzname EDT identified but not understood.  Pass `tzinfos` argument in order to correctly return a timezone-aware datetime.  In a future version, this will raise an exception.\n",
            "  warnings.warn(\"tzname {tzname} identified but not understood.  \"\n"
          ]
        },
        {
          "name": "stdout",
          "output_type": "stream",
          "text": [
            "시작 날짜: 20131101, 종료 날짜: 20131130\n"
          ]
        },
        {
          "name": "stderr",
          "output_type": "stream",
          "text": [
            "/usr/local/lib/python3.10/dist-packages/dateutil/parser/_parser.py:1207: UnknownTimezoneWarning: tzname EST identified but not understood.  Pass `tzinfos` argument in order to correctly return a timezone-aware datetime.  In a future version, this will raise an exception.\n",
            "  warnings.warn(\"tzname {tzname} identified but not understood.  \"\n",
            "/usr/local/lib/python3.10/dist-packages/dateutil/parser/_parser.py:1207: UnknownTimezoneWarning: tzname EDT identified but not understood.  Pass `tzinfos` argument in order to correctly return a timezone-aware datetime.  In a future version, this will raise an exception.\n",
            "  warnings.warn(\"tzname {tzname} identified but not understood.  \"\n"
          ]
        },
        {
          "name": "stdout",
          "output_type": "stream",
          "text": [
            "시작 날짜: 20131201, 종료 날짜: 20131231\n"
          ]
        },
        {
          "name": "stderr",
          "output_type": "stream",
          "text": [
            "/usr/local/lib/python3.10/dist-packages/dateutil/parser/_parser.py:1207: UnknownTimezoneWarning: tzname EST identified but not understood.  Pass `tzinfos` argument in order to correctly return a timezone-aware datetime.  In a future version, this will raise an exception.\n",
            "  warnings.warn(\"tzname {tzname} identified but not understood.  \"\n"
          ]
        },
        {
          "name": "stdout",
          "output_type": "stream",
          "text": [
            "시작 날짜: 20140101, 종료 날짜: 20140131\n"
          ]
        },
        {
          "name": "stderr",
          "output_type": "stream",
          "text": [
            "/usr/local/lib/python3.10/dist-packages/dateutil/parser/_parser.py:1207: UnknownTimezoneWarning: tzname EST identified but not understood.  Pass `tzinfos` argument in order to correctly return a timezone-aware datetime.  In a future version, this will raise an exception.\n",
            "  warnings.warn(\"tzname {tzname} identified but not understood.  \"\n"
          ]
        },
        {
          "name": "stdout",
          "output_type": "stream",
          "text": [
            "시작 날짜: 20140201, 종료 날짜: 20140228\n"
          ]
        },
        {
          "name": "stderr",
          "output_type": "stream",
          "text": [
            "/usr/local/lib/python3.10/dist-packages/dateutil/parser/_parser.py:1207: UnknownTimezoneWarning: tzname EST identified but not understood.  Pass `tzinfos` argument in order to correctly return a timezone-aware datetime.  In a future version, this will raise an exception.\n",
            "  warnings.warn(\"tzname {tzname} identified but not understood.  \"\n"
          ]
        },
        {
          "name": "stdout",
          "output_type": "stream",
          "text": [
            "시작 날짜: 20140301, 종료 날짜: 20140331\n"
          ]
        },
        {
          "name": "stderr",
          "output_type": "stream",
          "text": [
            "/usr/local/lib/python3.10/dist-packages/dateutil/parser/_parser.py:1207: UnknownTimezoneWarning: tzname EDT identified but not understood.  Pass `tzinfos` argument in order to correctly return a timezone-aware datetime.  In a future version, this will raise an exception.\n",
            "  warnings.warn(\"tzname {tzname} identified but not understood.  \"\n",
            "/usr/local/lib/python3.10/dist-packages/dateutil/parser/_parser.py:1207: UnknownTimezoneWarning: tzname EST identified but not understood.  Pass `tzinfos` argument in order to correctly return a timezone-aware datetime.  In a future version, this will raise an exception.\n",
            "  warnings.warn(\"tzname {tzname} identified but not understood.  \"\n"
          ]
        },
        {
          "name": "stdout",
          "output_type": "stream",
          "text": [
            "시작 날짜: 20140401, 종료 날짜: 20140430\n"
          ]
        },
        {
          "name": "stderr",
          "output_type": "stream",
          "text": [
            "/usr/local/lib/python3.10/dist-packages/dateutil/parser/_parser.py:1207: UnknownTimezoneWarning: tzname EDT identified but not understood.  Pass `tzinfos` argument in order to correctly return a timezone-aware datetime.  In a future version, this will raise an exception.\n",
            "  warnings.warn(\"tzname {tzname} identified but not understood.  \"\n"
          ]
        },
        {
          "name": "stdout",
          "output_type": "stream",
          "text": [
            "시작 날짜: 20140501, 종료 날짜: 20140531\n"
          ]
        },
        {
          "name": "stderr",
          "output_type": "stream",
          "text": [
            "/usr/local/lib/python3.10/dist-packages/dateutil/parser/_parser.py:1207: UnknownTimezoneWarning: tzname EDT identified but not understood.  Pass `tzinfos` argument in order to correctly return a timezone-aware datetime.  In a future version, this will raise an exception.\n",
            "  warnings.warn(\"tzname {tzname} identified but not understood.  \"\n"
          ]
        },
        {
          "name": "stdout",
          "output_type": "stream",
          "text": [
            "시작 날짜: 20140601, 종료 날짜: 20140630\n"
          ]
        },
        {
          "name": "stderr",
          "output_type": "stream",
          "text": [
            "/usr/local/lib/python3.10/dist-packages/dateutil/parser/_parser.py:1207: UnknownTimezoneWarning: tzname EDT identified but not understood.  Pass `tzinfos` argument in order to correctly return a timezone-aware datetime.  In a future version, this will raise an exception.\n",
            "  warnings.warn(\"tzname {tzname} identified but not understood.  \"\n"
          ]
        },
        {
          "name": "stdout",
          "output_type": "stream",
          "text": [
            "시작 날짜: 20140701, 종료 날짜: 20140731\n"
          ]
        },
        {
          "name": "stderr",
          "output_type": "stream",
          "text": [
            "/usr/local/lib/python3.10/dist-packages/dateutil/parser/_parser.py:1207: UnknownTimezoneWarning: tzname EDT identified but not understood.  Pass `tzinfos` argument in order to correctly return a timezone-aware datetime.  In a future version, this will raise an exception.\n",
            "  warnings.warn(\"tzname {tzname} identified but not understood.  \"\n"
          ]
        },
        {
          "name": "stdout",
          "output_type": "stream",
          "text": [
            "시작 날짜: 20140801, 종료 날짜: 20140831\n"
          ]
        },
        {
          "name": "stderr",
          "output_type": "stream",
          "text": [
            "/usr/local/lib/python3.10/dist-packages/dateutil/parser/_parser.py:1207: UnknownTimezoneWarning: tzname EDT identified but not understood.  Pass `tzinfos` argument in order to correctly return a timezone-aware datetime.  In a future version, this will raise an exception.\n",
            "  warnings.warn(\"tzname {tzname} identified but not understood.  \"\n"
          ]
        },
        {
          "name": "stdout",
          "output_type": "stream",
          "text": [
            "시작 날짜: 20140901, 종료 날짜: 20140930\n"
          ]
        },
        {
          "name": "stderr",
          "output_type": "stream",
          "text": [
            "/usr/local/lib/python3.10/dist-packages/dateutil/parser/_parser.py:1207: UnknownTimezoneWarning: tzname EDT identified but not understood.  Pass `tzinfos` argument in order to correctly return a timezone-aware datetime.  In a future version, this will raise an exception.\n",
            "  warnings.warn(\"tzname {tzname} identified but not understood.  \"\n"
          ]
        },
        {
          "name": "stdout",
          "output_type": "stream",
          "text": [
            "시작 날짜: 20141001, 종료 날짜: 20141031\n"
          ]
        },
        {
          "name": "stderr",
          "output_type": "stream",
          "text": [
            "/usr/local/lib/python3.10/dist-packages/dateutil/parser/_parser.py:1207: UnknownTimezoneWarning: tzname EDT identified but not understood.  Pass `tzinfos` argument in order to correctly return a timezone-aware datetime.  In a future version, this will raise an exception.\n",
            "  warnings.warn(\"tzname {tzname} identified but not understood.  \"\n"
          ]
        },
        {
          "name": "stdout",
          "output_type": "stream",
          "text": [
            "시작 날짜: 20141101, 종료 날짜: 20141130\n"
          ]
        },
        {
          "name": "stderr",
          "output_type": "stream",
          "text": [
            "/usr/local/lib/python3.10/dist-packages/dateutil/parser/_parser.py:1207: UnknownTimezoneWarning: tzname EST identified but not understood.  Pass `tzinfos` argument in order to correctly return a timezone-aware datetime.  In a future version, this will raise an exception.\n",
            "  warnings.warn(\"tzname {tzname} identified but not understood.  \"\n"
          ]
        },
        {
          "name": "stdout",
          "output_type": "stream",
          "text": [
            "시작 날짜: 20141201, 종료 날짜: 20141231\n"
          ]
        },
        {
          "name": "stderr",
          "output_type": "stream",
          "text": [
            "/usr/local/lib/python3.10/dist-packages/dateutil/parser/_parser.py:1207: UnknownTimezoneWarning: tzname EST identified but not understood.  Pass `tzinfos` argument in order to correctly return a timezone-aware datetime.  In a future version, this will raise an exception.\n",
            "  warnings.warn(\"tzname {tzname} identified but not understood.  \"\n"
          ]
        },
        {
          "name": "stdout",
          "output_type": "stream",
          "text": [
            "시작 날짜: 20150101, 종료 날짜: 20150131\n"
          ]
        },
        {
          "name": "stderr",
          "output_type": "stream",
          "text": [
            "/usr/local/lib/python3.10/dist-packages/dateutil/parser/_parser.py:1207: UnknownTimezoneWarning: tzname EDT identified but not understood.  Pass `tzinfos` argument in order to correctly return a timezone-aware datetime.  In a future version, this will raise an exception.\n",
            "  warnings.warn(\"tzname {tzname} identified but not understood.  \"\n",
            "/usr/local/lib/python3.10/dist-packages/dateutil/parser/_parser.py:1207: UnknownTimezoneWarning: tzname EST identified but not understood.  Pass `tzinfos` argument in order to correctly return a timezone-aware datetime.  In a future version, this will raise an exception.\n",
            "  warnings.warn(\"tzname {tzname} identified but not understood.  \"\n"
          ]
        },
        {
          "name": "stdout",
          "output_type": "stream",
          "text": [
            "시작 날짜: 20150201, 종료 날짜: 20150228\n"
          ]
        },
        {
          "name": "stderr",
          "output_type": "stream",
          "text": [
            "/usr/local/lib/python3.10/dist-packages/dateutil/parser/_parser.py:1207: UnknownTimezoneWarning: tzname EST identified but not understood.  Pass `tzinfos` argument in order to correctly return a timezone-aware datetime.  In a future version, this will raise an exception.\n",
            "  warnings.warn(\"tzname {tzname} identified but not understood.  \"\n"
          ]
        },
        {
          "name": "stdout",
          "output_type": "stream",
          "text": [
            "시작 날짜: 20150301, 종료 날짜: 20150331\n"
          ]
        },
        {
          "name": "stderr",
          "output_type": "stream",
          "text": [
            "/usr/local/lib/python3.10/dist-packages/dateutil/parser/_parser.py:1207: UnknownTimezoneWarning: tzname EDT identified but not understood.  Pass `tzinfos` argument in order to correctly return a timezone-aware datetime.  In a future version, this will raise an exception.\n",
            "  warnings.warn(\"tzname {tzname} identified but not understood.  \"\n",
            "/usr/local/lib/python3.10/dist-packages/dateutil/parser/_parser.py:1207: UnknownTimezoneWarning: tzname EST identified but not understood.  Pass `tzinfos` argument in order to correctly return a timezone-aware datetime.  In a future version, this will raise an exception.\n",
            "  warnings.warn(\"tzname {tzname} identified but not understood.  \"\n"
          ]
        },
        {
          "name": "stdout",
          "output_type": "stream",
          "text": [
            "시작 날짜: 20150401, 종료 날짜: 20150430\n"
          ]
        },
        {
          "name": "stderr",
          "output_type": "stream",
          "text": [
            "/usr/local/lib/python3.10/dist-packages/dateutil/parser/_parser.py:1207: UnknownTimezoneWarning: tzname EDT identified but not understood.  Pass `tzinfos` argument in order to correctly return a timezone-aware datetime.  In a future version, this will raise an exception.\n",
            "  warnings.warn(\"tzname {tzname} identified but not understood.  \"\n"
          ]
        },
        {
          "name": "stdout",
          "output_type": "stream",
          "text": [
            "시작 날짜: 20150501, 종료 날짜: 20150531\n"
          ]
        },
        {
          "name": "stderr",
          "output_type": "stream",
          "text": [
            "/usr/local/lib/python3.10/dist-packages/dateutil/parser/_parser.py:1207: UnknownTimezoneWarning: tzname EDT identified but not understood.  Pass `tzinfos` argument in order to correctly return a timezone-aware datetime.  In a future version, this will raise an exception.\n",
            "  warnings.warn(\"tzname {tzname} identified but not understood.  \"\n"
          ]
        },
        {
          "name": "stdout",
          "output_type": "stream",
          "text": [
            "시작 날짜: 20150601, 종료 날짜: 20150630\n"
          ]
        },
        {
          "name": "stderr",
          "output_type": "stream",
          "text": [
            "/usr/local/lib/python3.10/dist-packages/dateutil/parser/_parser.py:1207: UnknownTimezoneWarning: tzname EDT identified but not understood.  Pass `tzinfos` argument in order to correctly return a timezone-aware datetime.  In a future version, this will raise an exception.\n",
            "  warnings.warn(\"tzname {tzname} identified but not understood.  \"\n"
          ]
        },
        {
          "name": "stdout",
          "output_type": "stream",
          "text": [
            "시작 날짜: 20150701, 종료 날짜: 20150731\n"
          ]
        },
        {
          "name": "stderr",
          "output_type": "stream",
          "text": [
            "/usr/local/lib/python3.10/dist-packages/dateutil/parser/_parser.py:1207: UnknownTimezoneWarning: tzname EDT identified but not understood.  Pass `tzinfos` argument in order to correctly return a timezone-aware datetime.  In a future version, this will raise an exception.\n",
            "  warnings.warn(\"tzname {tzname} identified but not understood.  \"\n"
          ]
        },
        {
          "name": "stdout",
          "output_type": "stream",
          "text": [
            "시작 날짜: 20150801, 종료 날짜: 20150831\n"
          ]
        },
        {
          "name": "stderr",
          "output_type": "stream",
          "text": [
            "/usr/local/lib/python3.10/dist-packages/dateutil/parser/_parser.py:1207: UnknownTimezoneWarning: tzname EDT identified but not understood.  Pass `tzinfos` argument in order to correctly return a timezone-aware datetime.  In a future version, this will raise an exception.\n",
            "  warnings.warn(\"tzname {tzname} identified but not understood.  \"\n"
          ]
        },
        {
          "name": "stdout",
          "output_type": "stream",
          "text": [
            "시작 날짜: 20150901, 종료 날짜: 20150930\n"
          ]
        },
        {
          "name": "stderr",
          "output_type": "stream",
          "text": [
            "/usr/local/lib/python3.10/dist-packages/dateutil/parser/_parser.py:1207: UnknownTimezoneWarning: tzname EDT identified but not understood.  Pass `tzinfos` argument in order to correctly return a timezone-aware datetime.  In a future version, this will raise an exception.\n",
            "  warnings.warn(\"tzname {tzname} identified but not understood.  \"\n"
          ]
        },
        {
          "name": "stdout",
          "output_type": "stream",
          "text": [
            "시작 날짜: 20151001, 종료 날짜: 20151031\n"
          ]
        },
        {
          "name": "stderr",
          "output_type": "stream",
          "text": [
            "/usr/local/lib/python3.10/dist-packages/dateutil/parser/_parser.py:1207: UnknownTimezoneWarning: tzname EDT identified but not understood.  Pass `tzinfos` argument in order to correctly return a timezone-aware datetime.  In a future version, this will raise an exception.\n",
            "  warnings.warn(\"tzname {tzname} identified but not understood.  \"\n"
          ]
        },
        {
          "name": "stdout",
          "output_type": "stream",
          "text": [
            "시작 날짜: 20151101, 종료 날짜: 20151130\n"
          ]
        },
        {
          "name": "stderr",
          "output_type": "stream",
          "text": [
            "/usr/local/lib/python3.10/dist-packages/dateutil/parser/_parser.py:1207: UnknownTimezoneWarning: tzname EST identified but not understood.  Pass `tzinfos` argument in order to correctly return a timezone-aware datetime.  In a future version, this will raise an exception.\n",
            "  warnings.warn(\"tzname {tzname} identified but not understood.  \"\n"
          ]
        },
        {
          "name": "stdout",
          "output_type": "stream",
          "text": [
            "시작 날짜: 20151201, 종료 날짜: 20151231\n"
          ]
        },
        {
          "name": "stderr",
          "output_type": "stream",
          "text": [
            "/usr/local/lib/python3.10/dist-packages/dateutil/parser/_parser.py:1207: UnknownTimezoneWarning: tzname EST identified but not understood.  Pass `tzinfos` argument in order to correctly return a timezone-aware datetime.  In a future version, this will raise an exception.\n",
            "  warnings.warn(\"tzname {tzname} identified but not understood.  \"\n"
          ]
        },
        {
          "name": "stdout",
          "output_type": "stream",
          "text": [
            "시작 날짜: 20160101, 종료 날짜: 20160131\n"
          ]
        },
        {
          "name": "stderr",
          "output_type": "stream",
          "text": [
            "/usr/local/lib/python3.10/dist-packages/dateutil/parser/_parser.py:1207: UnknownTimezoneWarning: tzname EST identified but not understood.  Pass `tzinfos` argument in order to correctly return a timezone-aware datetime.  In a future version, this will raise an exception.\n",
            "  warnings.warn(\"tzname {tzname} identified but not understood.  \"\n"
          ]
        },
        {
          "name": "stdout",
          "output_type": "stream",
          "text": [
            "시작 날짜: 20160201, 종료 날짜: 20160229\n"
          ]
        },
        {
          "name": "stderr",
          "output_type": "stream",
          "text": [
            "/usr/local/lib/python3.10/dist-packages/dateutil/parser/_parser.py:1207: UnknownTimezoneWarning: tzname EST identified but not understood.  Pass `tzinfos` argument in order to correctly return a timezone-aware datetime.  In a future version, this will raise an exception.\n",
            "  warnings.warn(\"tzname {tzname} identified but not understood.  \"\n"
          ]
        },
        {
          "name": "stdout",
          "output_type": "stream",
          "text": [
            "시작 날짜: 20160301, 종료 날짜: 20160331\n"
          ]
        },
        {
          "name": "stderr",
          "output_type": "stream",
          "text": [
            "/usr/local/lib/python3.10/dist-packages/dateutil/parser/_parser.py:1207: UnknownTimezoneWarning: tzname EDT identified but not understood.  Pass `tzinfos` argument in order to correctly return a timezone-aware datetime.  In a future version, this will raise an exception.\n",
            "  warnings.warn(\"tzname {tzname} identified but not understood.  \"\n",
            "/usr/local/lib/python3.10/dist-packages/dateutil/parser/_parser.py:1207: UnknownTimezoneWarning: tzname EST identified but not understood.  Pass `tzinfos` argument in order to correctly return a timezone-aware datetime.  In a future version, this will raise an exception.\n",
            "  warnings.warn(\"tzname {tzname} identified but not understood.  \"\n"
          ]
        },
        {
          "name": "stdout",
          "output_type": "stream",
          "text": [
            "시작 날짜: 20160401, 종료 날짜: 20160430\n"
          ]
        },
        {
          "name": "stderr",
          "output_type": "stream",
          "text": [
            "/usr/local/lib/python3.10/dist-packages/dateutil/parser/_parser.py:1207: UnknownTimezoneWarning: tzname EDT identified but not understood.  Pass `tzinfos` argument in order to correctly return a timezone-aware datetime.  In a future version, this will raise an exception.\n",
            "  warnings.warn(\"tzname {tzname} identified but not understood.  \"\n"
          ]
        },
        {
          "name": "stdout",
          "output_type": "stream",
          "text": [
            "시작 날짜: 20160501, 종료 날짜: 20160531\n"
          ]
        },
        {
          "name": "stderr",
          "output_type": "stream",
          "text": [
            "/usr/local/lib/python3.10/dist-packages/dateutil/parser/_parser.py:1207: UnknownTimezoneWarning: tzname EDT identified but not understood.  Pass `tzinfos` argument in order to correctly return a timezone-aware datetime.  In a future version, this will raise an exception.\n",
            "  warnings.warn(\"tzname {tzname} identified but not understood.  \"\n"
          ]
        },
        {
          "name": "stdout",
          "output_type": "stream",
          "text": [
            "시작 날짜: 20160601, 종료 날짜: 20160630\n"
          ]
        },
        {
          "name": "stderr",
          "output_type": "stream",
          "text": [
            "/usr/local/lib/python3.10/dist-packages/dateutil/parser/_parser.py:1207: UnknownTimezoneWarning: tzname EDT identified but not understood.  Pass `tzinfos` argument in order to correctly return a timezone-aware datetime.  In a future version, this will raise an exception.\n",
            "  warnings.warn(\"tzname {tzname} identified but not understood.  \"\n"
          ]
        },
        {
          "name": "stdout",
          "output_type": "stream",
          "text": [
            "시작 날짜: 20160701, 종료 날짜: 20160731\n"
          ]
        },
        {
          "name": "stderr",
          "output_type": "stream",
          "text": [
            "/usr/local/lib/python3.10/dist-packages/dateutil/parser/_parser.py:1207: UnknownTimezoneWarning: tzname EDT identified but not understood.  Pass `tzinfos` argument in order to correctly return a timezone-aware datetime.  In a future version, this will raise an exception.\n",
            "  warnings.warn(\"tzname {tzname} identified but not understood.  \"\n"
          ]
        },
        {
          "name": "stdout",
          "output_type": "stream",
          "text": [
            "시작 날짜: 20160801, 종료 날짜: 20160831\n"
          ]
        },
        {
          "name": "stderr",
          "output_type": "stream",
          "text": [
            "/usr/local/lib/python3.10/dist-packages/dateutil/parser/_parser.py:1207: UnknownTimezoneWarning: tzname EDT identified but not understood.  Pass `tzinfos` argument in order to correctly return a timezone-aware datetime.  In a future version, this will raise an exception.\n",
            "  warnings.warn(\"tzname {tzname} identified but not understood.  \"\n"
          ]
        },
        {
          "name": "stdout",
          "output_type": "stream",
          "text": [
            "시작 날짜: 20160901, 종료 날짜: 20160930\n"
          ]
        },
        {
          "name": "stderr",
          "output_type": "stream",
          "text": [
            "/usr/local/lib/python3.10/dist-packages/dateutil/parser/_parser.py:1207: UnknownTimezoneWarning: tzname EDT identified but not understood.  Pass `tzinfos` argument in order to correctly return a timezone-aware datetime.  In a future version, this will raise an exception.\n",
            "  warnings.warn(\"tzname {tzname} identified but not understood.  \"\n"
          ]
        },
        {
          "name": "stdout",
          "output_type": "stream",
          "text": [
            "시작 날짜: 20161001, 종료 날짜: 20161031\n"
          ]
        },
        {
          "name": "stderr",
          "output_type": "stream",
          "text": [
            "/usr/local/lib/python3.10/dist-packages/dateutil/parser/_parser.py:1207: UnknownTimezoneWarning: tzname EDT identified but not understood.  Pass `tzinfos` argument in order to correctly return a timezone-aware datetime.  In a future version, this will raise an exception.\n",
            "  warnings.warn(\"tzname {tzname} identified but not understood.  \"\n"
          ]
        },
        {
          "name": "stdout",
          "output_type": "stream",
          "text": [
            "시작 날짜: 20161101, 종료 날짜: 20161130\n"
          ]
        },
        {
          "name": "stderr",
          "output_type": "stream",
          "text": [
            "/usr/local/lib/python3.10/dist-packages/dateutil/parser/_parser.py:1207: UnknownTimezoneWarning: tzname EST identified but not understood.  Pass `tzinfos` argument in order to correctly return a timezone-aware datetime.  In a future version, this will raise an exception.\n",
            "  warnings.warn(\"tzname {tzname} identified but not understood.  \"\n"
          ]
        },
        {
          "name": "stdout",
          "output_type": "stream",
          "text": [
            "시작 날짜: 20161201, 종료 날짜: 20161231\n"
          ]
        },
        {
          "name": "stderr",
          "output_type": "stream",
          "text": [
            "/usr/local/lib/python3.10/dist-packages/dateutil/parser/_parser.py:1207: UnknownTimezoneWarning: tzname EST identified but not understood.  Pass `tzinfos` argument in order to correctly return a timezone-aware datetime.  In a future version, this will raise an exception.\n",
            "  warnings.warn(\"tzname {tzname} identified but not understood.  \"\n"
          ]
        },
        {
          "name": "stdout",
          "output_type": "stream",
          "text": [
            "시작 날짜: 20170101, 종료 날짜: 20170131\n"
          ]
        },
        {
          "name": "stderr",
          "output_type": "stream",
          "text": [
            "/usr/local/lib/python3.10/dist-packages/dateutil/parser/_parser.py:1207: UnknownTimezoneWarning: tzname EST identified but not understood.  Pass `tzinfos` argument in order to correctly return a timezone-aware datetime.  In a future version, this will raise an exception.\n",
            "  warnings.warn(\"tzname {tzname} identified but not understood.  \"\n",
            "/usr/local/lib/python3.10/dist-packages/dateutil/parser/_parser.py:1207: UnknownTimezoneWarning: tzname EDT identified but not understood.  Pass `tzinfos` argument in order to correctly return a timezone-aware datetime.  In a future version, this will raise an exception.\n",
            "  warnings.warn(\"tzname {tzname} identified but not understood.  \"\n"
          ]
        },
        {
          "name": "stdout",
          "output_type": "stream",
          "text": [
            "시작 날짜: 20170201, 종료 날짜: 20170228\n"
          ]
        },
        {
          "name": "stderr",
          "output_type": "stream",
          "text": [
            "/usr/local/lib/python3.10/dist-packages/dateutil/parser/_parser.py:1207: UnknownTimezoneWarning: tzname EST identified but not understood.  Pass `tzinfos` argument in order to correctly return a timezone-aware datetime.  In a future version, this will raise an exception.\n",
            "  warnings.warn(\"tzname {tzname} identified but not understood.  \"\n"
          ]
        },
        {
          "name": "stdout",
          "output_type": "stream",
          "text": [
            "시작 날짜: 20170301, 종료 날짜: 20170331\n"
          ]
        },
        {
          "name": "stderr",
          "output_type": "stream",
          "text": [
            "/usr/local/lib/python3.10/dist-packages/dateutil/parser/_parser.py:1207: UnknownTimezoneWarning: tzname EDT identified but not understood.  Pass `tzinfos` argument in order to correctly return a timezone-aware datetime.  In a future version, this will raise an exception.\n",
            "  warnings.warn(\"tzname {tzname} identified but not understood.  \"\n",
            "/usr/local/lib/python3.10/dist-packages/dateutil/parser/_parser.py:1207: UnknownTimezoneWarning: tzname EST identified but not understood.  Pass `tzinfos` argument in order to correctly return a timezone-aware datetime.  In a future version, this will raise an exception.\n",
            "  warnings.warn(\"tzname {tzname} identified but not understood.  \"\n"
          ]
        },
        {
          "name": "stdout",
          "output_type": "stream",
          "text": [
            "시작 날짜: 20170401, 종료 날짜: 20170430\n"
          ]
        },
        {
          "name": "stderr",
          "output_type": "stream",
          "text": [
            "/usr/local/lib/python3.10/dist-packages/dateutil/parser/_parser.py:1207: UnknownTimezoneWarning: tzname EDT identified but not understood.  Pass `tzinfos` argument in order to correctly return a timezone-aware datetime.  In a future version, this will raise an exception.\n",
            "  warnings.warn(\"tzname {tzname} identified but not understood.  \"\n"
          ]
        },
        {
          "name": "stdout",
          "output_type": "stream",
          "text": [
            "시작 날짜: 20170501, 종료 날짜: 20170531\n"
          ]
        },
        {
          "name": "stderr",
          "output_type": "stream",
          "text": [
            "/usr/local/lib/python3.10/dist-packages/dateutil/parser/_parser.py:1207: UnknownTimezoneWarning: tzname EDT identified but not understood.  Pass `tzinfos` argument in order to correctly return a timezone-aware datetime.  In a future version, this will raise an exception.\n",
            "  warnings.warn(\"tzname {tzname} identified but not understood.  \"\n"
          ]
        },
        {
          "name": "stdout",
          "output_type": "stream",
          "text": [
            "시작 날짜: 20170601, 종료 날짜: 20170630\n"
          ]
        },
        {
          "name": "stderr",
          "output_type": "stream",
          "text": [
            "/usr/local/lib/python3.10/dist-packages/dateutil/parser/_parser.py:1207: UnknownTimezoneWarning: tzname EDT identified but not understood.  Pass `tzinfos` argument in order to correctly return a timezone-aware datetime.  In a future version, this will raise an exception.\n",
            "  warnings.warn(\"tzname {tzname} identified but not understood.  \"\n"
          ]
        },
        {
          "name": "stdout",
          "output_type": "stream",
          "text": [
            "시작 날짜: 20170701, 종료 날짜: 20170731\n"
          ]
        },
        {
          "name": "stderr",
          "output_type": "stream",
          "text": [
            "/usr/local/lib/python3.10/dist-packages/dateutil/parser/_parser.py:1207: UnknownTimezoneWarning: tzname EDT identified but not understood.  Pass `tzinfos` argument in order to correctly return a timezone-aware datetime.  In a future version, this will raise an exception.\n",
            "  warnings.warn(\"tzname {tzname} identified but not understood.  \"\n"
          ]
        },
        {
          "name": "stdout",
          "output_type": "stream",
          "text": [
            "시작 날짜: 20170801, 종료 날짜: 20170831\n"
          ]
        },
        {
          "name": "stderr",
          "output_type": "stream",
          "text": [
            "/usr/local/lib/python3.10/dist-packages/dateutil/parser/_parser.py:1207: UnknownTimezoneWarning: tzname EDT identified but not understood.  Pass `tzinfos` argument in order to correctly return a timezone-aware datetime.  In a future version, this will raise an exception.\n",
            "  warnings.warn(\"tzname {tzname} identified but not understood.  \"\n"
          ]
        },
        {
          "name": "stdout",
          "output_type": "stream",
          "text": [
            "시작 날짜: 20170901, 종료 날짜: 20170930\n"
          ]
        },
        {
          "name": "stderr",
          "output_type": "stream",
          "text": [
            "/usr/local/lib/python3.10/dist-packages/dateutil/parser/_parser.py:1207: UnknownTimezoneWarning: tzname EDT identified but not understood.  Pass `tzinfos` argument in order to correctly return a timezone-aware datetime.  In a future version, this will raise an exception.\n",
            "  warnings.warn(\"tzname {tzname} identified but not understood.  \"\n"
          ]
        },
        {
          "name": "stdout",
          "output_type": "stream",
          "text": [
            "시작 날짜: 20171001, 종료 날짜: 20171031\n"
          ]
        },
        {
          "name": "stderr",
          "output_type": "stream",
          "text": [
            "/usr/local/lib/python3.10/dist-packages/dateutil/parser/_parser.py:1207: UnknownTimezoneWarning: tzname EDT identified but not understood.  Pass `tzinfos` argument in order to correctly return a timezone-aware datetime.  In a future version, this will raise an exception.\n",
            "  warnings.warn(\"tzname {tzname} identified but not understood.  \"\n"
          ]
        },
        {
          "name": "stdout",
          "output_type": "stream",
          "text": [
            "시작 날짜: 20171101, 종료 날짜: 20171130\n"
          ]
        },
        {
          "name": "stderr",
          "output_type": "stream",
          "text": [
            "/usr/local/lib/python3.10/dist-packages/dateutil/parser/_parser.py:1207: UnknownTimezoneWarning: tzname EDT identified but not understood.  Pass `tzinfos` argument in order to correctly return a timezone-aware datetime.  In a future version, this will raise an exception.\n",
            "  warnings.warn(\"tzname {tzname} identified but not understood.  \"\n"
          ]
        },
        {
          "name": "stdout",
          "output_type": "stream",
          "text": [
            "시작 날짜: 20171201, 종료 날짜: 20171231\n"
          ]
        },
        {
          "name": "stderr",
          "output_type": "stream",
          "text": [
            "/usr/local/lib/python3.10/dist-packages/dateutil/parser/_parser.py:1207: UnknownTimezoneWarning: tzname EST identified but not understood.  Pass `tzinfos` argument in order to correctly return a timezone-aware datetime.  In a future version, this will raise an exception.\n",
            "  warnings.warn(\"tzname {tzname} identified but not understood.  \"\n"
          ]
        },
        {
          "name": "stdout",
          "output_type": "stream",
          "text": [
            "시작 날짜: 20180101, 종료 날짜: 20180131\n"
          ]
        },
        {
          "name": "stderr",
          "output_type": "stream",
          "text": [
            "/usr/local/lib/python3.10/dist-packages/dateutil/parser/_parser.py:1207: UnknownTimezoneWarning: tzname EST identified but not understood.  Pass `tzinfos` argument in order to correctly return a timezone-aware datetime.  In a future version, this will raise an exception.\n",
            "  warnings.warn(\"tzname {tzname} identified but not understood.  \"\n"
          ]
        },
        {
          "name": "stdout",
          "output_type": "stream",
          "text": [
            "시작 날짜: 20180201, 종료 날짜: 20180228\n"
          ]
        },
        {
          "name": "stderr",
          "output_type": "stream",
          "text": [
            "/usr/local/lib/python3.10/dist-packages/dateutil/parser/_parser.py:1207: UnknownTimezoneWarning: tzname EST identified but not understood.  Pass `tzinfos` argument in order to correctly return a timezone-aware datetime.  In a future version, this will raise an exception.\n",
            "  warnings.warn(\"tzname {tzname} identified but not understood.  \"\n"
          ]
        },
        {
          "name": "stdout",
          "output_type": "stream",
          "text": [
            "시작 날짜: 20180301, 종료 날짜: 20180331\n"
          ]
        },
        {
          "name": "stderr",
          "output_type": "stream",
          "text": [
            "/usr/local/lib/python3.10/dist-packages/dateutil/parser/_parser.py:1207: UnknownTimezoneWarning: tzname EDT identified but not understood.  Pass `tzinfos` argument in order to correctly return a timezone-aware datetime.  In a future version, this will raise an exception.\n",
            "  warnings.warn(\"tzname {tzname} identified but not understood.  \"\n"
          ]
        },
        {
          "name": "stdout",
          "output_type": "stream",
          "text": [
            "시작 날짜: 20180401, 종료 날짜: 20180430\n"
          ]
        },
        {
          "name": "stderr",
          "output_type": "stream",
          "text": [
            "/usr/local/lib/python3.10/dist-packages/dateutil/parser/_parser.py:1207: UnknownTimezoneWarning: tzname EDT identified but not understood.  Pass `tzinfos` argument in order to correctly return a timezone-aware datetime.  In a future version, this will raise an exception.\n",
            "  warnings.warn(\"tzname {tzname} identified but not understood.  \"\n"
          ]
        },
        {
          "name": "stdout",
          "output_type": "stream",
          "text": [
            "시작 날짜: 20180501, 종료 날짜: 20180531\n"
          ]
        },
        {
          "name": "stderr",
          "output_type": "stream",
          "text": [
            "/usr/local/lib/python3.10/dist-packages/dateutil/parser/_parser.py:1207: UnknownTimezoneWarning: tzname EDT identified but not understood.  Pass `tzinfos` argument in order to correctly return a timezone-aware datetime.  In a future version, this will raise an exception.\n",
            "  warnings.warn(\"tzname {tzname} identified but not understood.  \"\n"
          ]
        },
        {
          "name": "stdout",
          "output_type": "stream",
          "text": [
            "시작 날짜: 20180601, 종료 날짜: 20180630\n"
          ]
        },
        {
          "name": "stderr",
          "output_type": "stream",
          "text": [
            "/usr/local/lib/python3.10/dist-packages/dateutil/parser/_parser.py:1207: UnknownTimezoneWarning: tzname EDT identified but not understood.  Pass `tzinfos` argument in order to correctly return a timezone-aware datetime.  In a future version, this will raise an exception.\n",
            "  warnings.warn(\"tzname {tzname} identified but not understood.  \"\n"
          ]
        },
        {
          "name": "stdout",
          "output_type": "stream",
          "text": [
            "시작 날짜: 20180701, 종료 날짜: 20180731\n"
          ]
        },
        {
          "name": "stderr",
          "output_type": "stream",
          "text": [
            "/usr/local/lib/python3.10/dist-packages/dateutil/parser/_parser.py:1207: UnknownTimezoneWarning: tzname EDT identified but not understood.  Pass `tzinfos` argument in order to correctly return a timezone-aware datetime.  In a future version, this will raise an exception.\n",
            "  warnings.warn(\"tzname {tzname} identified but not understood.  \"\n"
          ]
        },
        {
          "name": "stdout",
          "output_type": "stream",
          "text": [
            "시작 날짜: 20180801, 종료 날짜: 20180831\n",
            "시작 날짜: 20180901, 종료 날짜: 20180930\n"
          ]
        },
        {
          "name": "stderr",
          "output_type": "stream",
          "text": [
            "/usr/local/lib/python3.10/dist-packages/dateutil/parser/_parser.py:1207: UnknownTimezoneWarning: tzname EDT identified but not understood.  Pass `tzinfos` argument in order to correctly return a timezone-aware datetime.  In a future version, this will raise an exception.\n",
            "  warnings.warn(\"tzname {tzname} identified but not understood.  \"\n"
          ]
        },
        {
          "name": "stdout",
          "output_type": "stream",
          "text": [
            "시작 날짜: 20181001, 종료 날짜: 20181031\n"
          ]
        },
        {
          "name": "stderr",
          "output_type": "stream",
          "text": [
            "/usr/local/lib/python3.10/dist-packages/dateutil/parser/_parser.py:1207: UnknownTimezoneWarning: tzname EDT identified but not understood.  Pass `tzinfos` argument in order to correctly return a timezone-aware datetime.  In a future version, this will raise an exception.\n",
            "  warnings.warn(\"tzname {tzname} identified but not understood.  \"\n"
          ]
        },
        {
          "name": "stdout",
          "output_type": "stream",
          "text": [
            "시작 날짜: 20181101, 종료 날짜: 20181130\n"
          ]
        },
        {
          "name": "stderr",
          "output_type": "stream",
          "text": [
            "/usr/local/lib/python3.10/dist-packages/dateutil/parser/_parser.py:1207: UnknownTimezoneWarning: tzname EDT identified but not understood.  Pass `tzinfos` argument in order to correctly return a timezone-aware datetime.  In a future version, this will raise an exception.\n",
            "  warnings.warn(\"tzname {tzname} identified but not understood.  \"\n",
            "/usr/local/lib/python3.10/dist-packages/dateutil/parser/_parser.py:1207: UnknownTimezoneWarning: tzname EST identified but not understood.  Pass `tzinfos` argument in order to correctly return a timezone-aware datetime.  In a future version, this will raise an exception.\n",
            "  warnings.warn(\"tzname {tzname} identified but not understood.  \"\n"
          ]
        },
        {
          "name": "stdout",
          "output_type": "stream",
          "text": [
            "시작 날짜: 20181201, 종료 날짜: 20181231\n"
          ]
        },
        {
          "name": "stderr",
          "output_type": "stream",
          "text": [
            "/usr/local/lib/python3.10/dist-packages/dateutil/parser/_parser.py:1207: UnknownTimezoneWarning: tzname EST identified but not understood.  Pass `tzinfos` argument in order to correctly return a timezone-aware datetime.  In a future version, this will raise an exception.\n",
            "  warnings.warn(\"tzname {tzname} identified but not understood.  \"\n"
          ]
        },
        {
          "name": "stdout",
          "output_type": "stream",
          "text": [
            "시작 날짜: 20190101, 종료 날짜: 20190131\n"
          ]
        },
        {
          "name": "stderr",
          "output_type": "stream",
          "text": [
            "/usr/local/lib/python3.10/dist-packages/dateutil/parser/_parser.py:1207: UnknownTimezoneWarning: tzname EST identified but not understood.  Pass `tzinfos` argument in order to correctly return a timezone-aware datetime.  In a future version, this will raise an exception.\n",
            "  warnings.warn(\"tzname {tzname} identified but not understood.  \"\n"
          ]
        },
        {
          "name": "stdout",
          "output_type": "stream",
          "text": [
            "시작 날짜: 20190201, 종료 날짜: 20190228\n"
          ]
        },
        {
          "name": "stderr",
          "output_type": "stream",
          "text": [
            "/usr/local/lib/python3.10/dist-packages/dateutil/parser/_parser.py:1207: UnknownTimezoneWarning: tzname EST identified but not understood.  Pass `tzinfos` argument in order to correctly return a timezone-aware datetime.  In a future version, this will raise an exception.\n",
            "  warnings.warn(\"tzname {tzname} identified but not understood.  \"\n"
          ]
        },
        {
          "name": "stdout",
          "output_type": "stream",
          "text": [
            "시작 날짜: 20190301, 종료 날짜: 20190331\n"
          ]
        },
        {
          "name": "stderr",
          "output_type": "stream",
          "text": [
            "/usr/local/lib/python3.10/dist-packages/dateutil/parser/_parser.py:1207: UnknownTimezoneWarning: tzname EDT identified but not understood.  Pass `tzinfos` argument in order to correctly return a timezone-aware datetime.  In a future version, this will raise an exception.\n",
            "  warnings.warn(\"tzname {tzname} identified but not understood.  \"\n"
          ]
        },
        {
          "name": "stdout",
          "output_type": "stream",
          "text": [
            "시작 날짜: 20190401, 종료 날짜: 20190430\n"
          ]
        },
        {
          "name": "stderr",
          "output_type": "stream",
          "text": [
            "/usr/local/lib/python3.10/dist-packages/dateutil/parser/_parser.py:1207: UnknownTimezoneWarning: tzname EDT identified but not understood.  Pass `tzinfos` argument in order to correctly return a timezone-aware datetime.  In a future version, this will raise an exception.\n",
            "  warnings.warn(\"tzname {tzname} identified but not understood.  \"\n"
          ]
        },
        {
          "name": "stdout",
          "output_type": "stream",
          "text": [
            "시작 날짜: 20190501, 종료 날짜: 20190531\n"
          ]
        },
        {
          "name": "stderr",
          "output_type": "stream",
          "text": [
            "/usr/local/lib/python3.10/dist-packages/dateutil/parser/_parser.py:1207: UnknownTimezoneWarning: tzname EDT identified but not understood.  Pass `tzinfos` argument in order to correctly return a timezone-aware datetime.  In a future version, this will raise an exception.\n",
            "  warnings.warn(\"tzname {tzname} identified but not understood.  \"\n"
          ]
        },
        {
          "name": "stdout",
          "output_type": "stream",
          "text": [
            "시작 날짜: 20190601, 종료 날짜: 20190630\n"
          ]
        },
        {
          "name": "stderr",
          "output_type": "stream",
          "text": [
            "/usr/local/lib/python3.10/dist-packages/dateutil/parser/_parser.py:1207: UnknownTimezoneWarning: tzname EDT identified but not understood.  Pass `tzinfos` argument in order to correctly return a timezone-aware datetime.  In a future version, this will raise an exception.\n",
            "  warnings.warn(\"tzname {tzname} identified but not understood.  \"\n"
          ]
        },
        {
          "name": "stdout",
          "output_type": "stream",
          "text": [
            "시작 날짜: 20190701, 종료 날짜: 20190731\n"
          ]
        },
        {
          "name": "stderr",
          "output_type": "stream",
          "text": [
            "/usr/local/lib/python3.10/dist-packages/dateutil/parser/_parser.py:1207: UnknownTimezoneWarning: tzname EDT identified but not understood.  Pass `tzinfos` argument in order to correctly return a timezone-aware datetime.  In a future version, this will raise an exception.\n",
            "  warnings.warn(\"tzname {tzname} identified but not understood.  \"\n"
          ]
        },
        {
          "name": "stdout",
          "output_type": "stream",
          "text": [
            "시작 날짜: 20190801, 종료 날짜: 20190831\n"
          ]
        },
        {
          "name": "stderr",
          "output_type": "stream",
          "text": [
            "/usr/local/lib/python3.10/dist-packages/dateutil/parser/_parser.py:1207: UnknownTimezoneWarning: tzname EDT identified but not understood.  Pass `tzinfos` argument in order to correctly return a timezone-aware datetime.  In a future version, this will raise an exception.\n",
            "  warnings.warn(\"tzname {tzname} identified but not understood.  \"\n"
          ]
        },
        {
          "name": "stdout",
          "output_type": "stream",
          "text": [
            "시작 날짜: 20190901, 종료 날짜: 20190930\n"
          ]
        },
        {
          "name": "stderr",
          "output_type": "stream",
          "text": [
            "/usr/local/lib/python3.10/dist-packages/dateutil/parser/_parser.py:1207: UnknownTimezoneWarning: tzname EDT identified but not understood.  Pass `tzinfos` argument in order to correctly return a timezone-aware datetime.  In a future version, this will raise an exception.\n",
            "  warnings.warn(\"tzname {tzname} identified but not understood.  \"\n"
          ]
        },
        {
          "name": "stdout",
          "output_type": "stream",
          "text": [
            "시작 날짜: 20191001, 종료 날짜: 20191031\n"
          ]
        },
        {
          "name": "stderr",
          "output_type": "stream",
          "text": [
            "/usr/local/lib/python3.10/dist-packages/dateutil/parser/_parser.py:1207: UnknownTimezoneWarning: tzname EDT identified but not understood.  Pass `tzinfos` argument in order to correctly return a timezone-aware datetime.  In a future version, this will raise an exception.\n",
            "  warnings.warn(\"tzname {tzname} identified but not understood.  \"\n"
          ]
        },
        {
          "name": "stdout",
          "output_type": "stream",
          "text": [
            "시작 날짜: 20191101, 종료 날짜: 20191130\n"
          ]
        },
        {
          "name": "stderr",
          "output_type": "stream",
          "text": [
            "/usr/local/lib/python3.10/dist-packages/dateutil/parser/_parser.py:1207: UnknownTimezoneWarning: tzname EST identified but not understood.  Pass `tzinfos` argument in order to correctly return a timezone-aware datetime.  In a future version, this will raise an exception.\n",
            "  warnings.warn(\"tzname {tzname} identified but not understood.  \"\n"
          ]
        },
        {
          "name": "stdout",
          "output_type": "stream",
          "text": [
            "시작 날짜: 20191201, 종료 날짜: 20191231\n",
            "시작 날짜: 20200101, 종료 날짜: 20200131\n"
          ]
        },
        {
          "name": "stderr",
          "output_type": "stream",
          "text": [
            "/usr/local/lib/python3.10/dist-packages/dateutil/parser/_parser.py:1207: UnknownTimezoneWarning: tzname EST identified but not understood.  Pass `tzinfos` argument in order to correctly return a timezone-aware datetime.  In a future version, this will raise an exception.\n",
            "  warnings.warn(\"tzname {tzname} identified but not understood.  \"\n"
          ]
        },
        {
          "name": "stdout",
          "output_type": "stream",
          "text": [
            "시작 날짜: 20200201, 종료 날짜: 20200229\n"
          ]
        },
        {
          "name": "stderr",
          "output_type": "stream",
          "text": [
            "/usr/local/lib/python3.10/dist-packages/dateutil/parser/_parser.py:1207: UnknownTimezoneWarning: tzname EST identified but not understood.  Pass `tzinfos` argument in order to correctly return a timezone-aware datetime.  In a future version, this will raise an exception.\n",
            "  warnings.warn(\"tzname {tzname} identified but not understood.  \"\n"
          ]
        },
        {
          "name": "stdout",
          "output_type": "stream",
          "text": [
            "시작 날짜: 20200301, 종료 날짜: 20200331\n"
          ]
        },
        {
          "name": "stderr",
          "output_type": "stream",
          "text": [
            "/usr/local/lib/python3.10/dist-packages/dateutil/parser/_parser.py:1207: UnknownTimezoneWarning: tzname EST identified but not understood.  Pass `tzinfos` argument in order to correctly return a timezone-aware datetime.  In a future version, this will raise an exception.\n",
            "  warnings.warn(\"tzname {tzname} identified but not understood.  \"\n",
            "/usr/local/lib/python3.10/dist-packages/dateutil/parser/_parser.py:1207: UnknownTimezoneWarning: tzname EDT identified but not understood.  Pass `tzinfos` argument in order to correctly return a timezone-aware datetime.  In a future version, this will raise an exception.\n",
            "  warnings.warn(\"tzname {tzname} identified but not understood.  \"\n"
          ]
        },
        {
          "name": "stdout",
          "output_type": "stream",
          "text": [
            "시작 날짜: 20200401, 종료 날짜: 20200430\n"
          ]
        },
        {
          "name": "stderr",
          "output_type": "stream",
          "text": [
            "/usr/local/lib/python3.10/dist-packages/dateutil/parser/_parser.py:1207: UnknownTimezoneWarning: tzname EDT identified but not understood.  Pass `tzinfos` argument in order to correctly return a timezone-aware datetime.  In a future version, this will raise an exception.\n",
            "  warnings.warn(\"tzname {tzname} identified but not understood.  \"\n"
          ]
        },
        {
          "name": "stdout",
          "output_type": "stream",
          "text": [
            "시작 날짜: 20200501, 종료 날짜: 20200531\n"
          ]
        },
        {
          "name": "stderr",
          "output_type": "stream",
          "text": [
            "/usr/local/lib/python3.10/dist-packages/dateutil/parser/_parser.py:1207: UnknownTimezoneWarning: tzname EDT identified but not understood.  Pass `tzinfos` argument in order to correctly return a timezone-aware datetime.  In a future version, this will raise an exception.\n",
            "  warnings.warn(\"tzname {tzname} identified but not understood.  \"\n"
          ]
        },
        {
          "name": "stdout",
          "output_type": "stream",
          "text": [
            "시작 날짜: 20200601, 종료 날짜: 20200630\n",
            "시작 날짜: 20200701, 종료 날짜: 20200731\n"
          ]
        },
        {
          "name": "stderr",
          "output_type": "stream",
          "text": [
            "/usr/local/lib/python3.10/dist-packages/dateutil/parser/_parser.py:1207: UnknownTimezoneWarning: tzname EDT identified but not understood.  Pass `tzinfos` argument in order to correctly return a timezone-aware datetime.  In a future version, this will raise an exception.\n",
            "  warnings.warn(\"tzname {tzname} identified but not understood.  \"\n"
          ]
        },
        {
          "name": "stdout",
          "output_type": "stream",
          "text": [
            "시작 날짜: 20200801, 종료 날짜: 20200831\n",
            "시작 날짜: 20200901, 종료 날짜: 20200930\n"
          ]
        },
        {
          "name": "stderr",
          "output_type": "stream",
          "text": [
            "/usr/local/lib/python3.10/dist-packages/dateutil/parser/_parser.py:1207: UnknownTimezoneWarning: tzname EDT identified but not understood.  Pass `tzinfos` argument in order to correctly return a timezone-aware datetime.  In a future version, this will raise an exception.\n",
            "  warnings.warn(\"tzname {tzname} identified but not understood.  \"\n"
          ]
        },
        {
          "name": "stdout",
          "output_type": "stream",
          "text": [
            "시작 날짜: 20201001, 종료 날짜: 20201031\n"
          ]
        },
        {
          "name": "stderr",
          "output_type": "stream",
          "text": [
            "/usr/local/lib/python3.10/dist-packages/dateutil/parser/_parser.py:1207: UnknownTimezoneWarning: tzname EDT identified but not understood.  Pass `tzinfos` argument in order to correctly return a timezone-aware datetime.  In a future version, this will raise an exception.\n",
            "  warnings.warn(\"tzname {tzname} identified but not understood.  \"\n"
          ]
        },
        {
          "name": "stdout",
          "output_type": "stream",
          "text": [
            "시작 날짜: 20201101, 종료 날짜: 20201130\n"
          ]
        },
        {
          "name": "stderr",
          "output_type": "stream",
          "text": [
            "/usr/local/lib/python3.10/dist-packages/dateutil/parser/_parser.py:1207: UnknownTimezoneWarning: tzname EST identified but not understood.  Pass `tzinfos` argument in order to correctly return a timezone-aware datetime.  In a future version, this will raise an exception.\n",
            "  warnings.warn(\"tzname {tzname} identified but not understood.  \"\n"
          ]
        },
        {
          "name": "stdout",
          "output_type": "stream",
          "text": [
            "시작 날짜: 20201201, 종료 날짜: 20201231\n",
            "시작 날짜: 20210101, 종료 날짜: 20210131\n"
          ]
        },
        {
          "name": "stderr",
          "output_type": "stream",
          "text": [
            "/usr/local/lib/python3.10/dist-packages/dateutil/parser/_parser.py:1207: UnknownTimezoneWarning: tzname EST identified but not understood.  Pass `tzinfos` argument in order to correctly return a timezone-aware datetime.  In a future version, this will raise an exception.\n",
            "  warnings.warn(\"tzname {tzname} identified but not understood.  \"\n"
          ]
        },
        {
          "name": "stdout",
          "output_type": "stream",
          "text": [
            "시작 날짜: 20210201, 종료 날짜: 20210228\n",
            "시작 날짜: 20210301, 종료 날짜: 20210331\n"
          ]
        },
        {
          "name": "stderr",
          "output_type": "stream",
          "text": [
            "/usr/local/lib/python3.10/dist-packages/dateutil/parser/_parser.py:1207: UnknownTimezoneWarning: tzname EST identified but not understood.  Pass `tzinfos` argument in order to correctly return a timezone-aware datetime.  In a future version, this will raise an exception.\n",
            "  warnings.warn(\"tzname {tzname} identified but not understood.  \"\n"
          ]
        },
        {
          "name": "stdout",
          "output_type": "stream",
          "text": [
            "시작 날짜: 20210401, 종료 날짜: 20210430\n",
            "시작 날짜: 20210501, 종료 날짜: 20210531\n"
          ]
        },
        {
          "name": "stderr",
          "output_type": "stream",
          "text": [
            "/usr/local/lib/python3.10/dist-packages/dateutil/parser/_parser.py:1207: UnknownTimezoneWarning: tzname EDT identified but not understood.  Pass `tzinfos` argument in order to correctly return a timezone-aware datetime.  In a future version, this will raise an exception.\n",
            "  warnings.warn(\"tzname {tzname} identified but not understood.  \"\n"
          ]
        },
        {
          "name": "stdout",
          "output_type": "stream",
          "text": [
            "시작 날짜: 20210601, 종료 날짜: 20210630\n"
          ]
        },
        {
          "name": "stderr",
          "output_type": "stream",
          "text": [
            "/usr/local/lib/python3.10/dist-packages/dateutil/parser/_parser.py:1207: UnknownTimezoneWarning: tzname EDT identified but not understood.  Pass `tzinfos` argument in order to correctly return a timezone-aware datetime.  In a future version, this will raise an exception.\n",
            "  warnings.warn(\"tzname {tzname} identified but not understood.  \"\n"
          ]
        },
        {
          "name": "stdout",
          "output_type": "stream",
          "text": [
            "시작 날짜: 20210701, 종료 날짜: 20210731\n"
          ]
        },
        {
          "name": "stderr",
          "output_type": "stream",
          "text": [
            "/usr/local/lib/python3.10/dist-packages/dateutil/parser/_parser.py:1207: UnknownTimezoneWarning: tzname EDT identified but not understood.  Pass `tzinfos` argument in order to correctly return a timezone-aware datetime.  In a future version, this will raise an exception.\n",
            "  warnings.warn(\"tzname {tzname} identified but not understood.  \"\n"
          ]
        },
        {
          "name": "stdout",
          "output_type": "stream",
          "text": [
            "시작 날짜: 20210801, 종료 날짜: 20210831\n"
          ]
        },
        {
          "name": "stderr",
          "output_type": "stream",
          "text": [
            "/usr/local/lib/python3.10/dist-packages/dateutil/parser/_parser.py:1207: UnknownTimezoneWarning: tzname EDT identified but not understood.  Pass `tzinfos` argument in order to correctly return a timezone-aware datetime.  In a future version, this will raise an exception.\n",
            "  warnings.warn(\"tzname {tzname} identified but not understood.  \"\n"
          ]
        },
        {
          "name": "stdout",
          "output_type": "stream",
          "text": [
            "시작 날짜: 20210901, 종료 날짜: 20210930\n",
            "시작 날짜: 20211001, 종료 날짜: 20211031\n"
          ]
        },
        {
          "name": "stderr",
          "output_type": "stream",
          "text": [
            "/usr/local/lib/python3.10/dist-packages/dateutil/parser/_parser.py:1207: UnknownTimezoneWarning: tzname EDT identified but not understood.  Pass `tzinfos` argument in order to correctly return a timezone-aware datetime.  In a future version, this will raise an exception.\n",
            "  warnings.warn(\"tzname {tzname} identified but not understood.  \"\n"
          ]
        },
        {
          "name": "stdout",
          "output_type": "stream",
          "text": [
            "시작 날짜: 20211101, 종료 날짜: 20211130\n"
          ]
        },
        {
          "name": "stderr",
          "output_type": "stream",
          "text": [
            "/usr/local/lib/python3.10/dist-packages/dateutil/parser/_parser.py:1207: UnknownTimezoneWarning: tzname EST identified but not understood.  Pass `tzinfos` argument in order to correctly return a timezone-aware datetime.  In a future version, this will raise an exception.\n",
            "  warnings.warn(\"tzname {tzname} identified but not understood.  \"\n"
          ]
        },
        {
          "name": "stdout",
          "output_type": "stream",
          "text": [
            "시작 날짜: 20211201, 종료 날짜: 20211231\n"
          ]
        },
        {
          "name": "stderr",
          "output_type": "stream",
          "text": [
            "/usr/local/lib/python3.10/dist-packages/dateutil/parser/_parser.py:1207: UnknownTimezoneWarning: tzname EST identified but not understood.  Pass `tzinfos` argument in order to correctly return a timezone-aware datetime.  In a future version, this will raise an exception.\n",
            "  warnings.warn(\"tzname {tzname} identified but not understood.  \"\n"
          ]
        },
        {
          "name": "stdout",
          "output_type": "stream",
          "text": [
            "시작 날짜: 20220101, 종료 날짜: 20220131\n"
          ]
        },
        {
          "name": "stderr",
          "output_type": "stream",
          "text": [
            "/usr/local/lib/python3.10/dist-packages/dateutil/parser/_parser.py:1207: UnknownTimezoneWarning: tzname EST identified but not understood.  Pass `tzinfos` argument in order to correctly return a timezone-aware datetime.  In a future version, this will raise an exception.\n",
            "  warnings.warn(\"tzname {tzname} identified but not understood.  \"\n"
          ]
        },
        {
          "name": "stdout",
          "output_type": "stream",
          "text": [
            "시작 날짜: 20220201, 종료 날짜: 20220228\n"
          ]
        },
        {
          "name": "stderr",
          "output_type": "stream",
          "text": [
            "/usr/local/lib/python3.10/dist-packages/dateutil/parser/_parser.py:1207: UnknownTimezoneWarning: tzname EST identified but not understood.  Pass `tzinfos` argument in order to correctly return a timezone-aware datetime.  In a future version, this will raise an exception.\n",
            "  warnings.warn(\"tzname {tzname} identified but not understood.  \"\n"
          ]
        },
        {
          "name": "stdout",
          "output_type": "stream",
          "text": [
            "시작 날짜: 20220301, 종료 날짜: 20220331\n"
          ]
        },
        {
          "name": "stderr",
          "output_type": "stream",
          "text": [
            "/usr/local/lib/python3.10/dist-packages/dateutil/parser/_parser.py:1207: UnknownTimezoneWarning: tzname EDT identified but not understood.  Pass `tzinfos` argument in order to correctly return a timezone-aware datetime.  In a future version, this will raise an exception.\n",
            "  warnings.warn(\"tzname {tzname} identified but not understood.  \"\n",
            "/usr/local/lib/python3.10/dist-packages/dateutil/parser/_parser.py:1207: UnknownTimezoneWarning: tzname EST identified but not understood.  Pass `tzinfos` argument in order to correctly return a timezone-aware datetime.  In a future version, this will raise an exception.\n",
            "  warnings.warn(\"tzname {tzname} identified but not understood.  \"\n"
          ]
        },
        {
          "name": "stdout",
          "output_type": "stream",
          "text": [
            "시작 날짜: 20220401, 종료 날짜: 20220430\n"
          ]
        },
        {
          "name": "stderr",
          "output_type": "stream",
          "text": [
            "/usr/local/lib/python3.10/dist-packages/dateutil/parser/_parser.py:1207: UnknownTimezoneWarning: tzname EDT identified but not understood.  Pass `tzinfos` argument in order to correctly return a timezone-aware datetime.  In a future version, this will raise an exception.\n",
            "  warnings.warn(\"tzname {tzname} identified but not understood.  \"\n"
          ]
        },
        {
          "name": "stdout",
          "output_type": "stream",
          "text": [
            "시작 날짜: 20220501, 종료 날짜: 20220531\n"
          ]
        },
        {
          "name": "stderr",
          "output_type": "stream",
          "text": [
            "/usr/local/lib/python3.10/dist-packages/dateutil/parser/_parser.py:1207: UnknownTimezoneWarning: tzname EDT identified but not understood.  Pass `tzinfos` argument in order to correctly return a timezone-aware datetime.  In a future version, this will raise an exception.\n",
            "  warnings.warn(\"tzname {tzname} identified but not understood.  \"\n"
          ]
        },
        {
          "name": "stdout",
          "output_type": "stream",
          "text": [
            "시작 날짜: 20220601, 종료 날짜: 20220630\n"
          ]
        },
        {
          "name": "stderr",
          "output_type": "stream",
          "text": [
            "/usr/local/lib/python3.10/dist-packages/dateutil/parser/_parser.py:1207: UnknownTimezoneWarning: tzname EDT identified but not understood.  Pass `tzinfos` argument in order to correctly return a timezone-aware datetime.  In a future version, this will raise an exception.\n",
            "  warnings.warn(\"tzname {tzname} identified but not understood.  \"\n"
          ]
        },
        {
          "name": "stdout",
          "output_type": "stream",
          "text": [
            "시작 날짜: 20220701, 종료 날짜: 20220731\n"
          ]
        },
        {
          "name": "stderr",
          "output_type": "stream",
          "text": [
            "/usr/local/lib/python3.10/dist-packages/dateutil/parser/_parser.py:1207: UnknownTimezoneWarning: tzname EDT identified but not understood.  Pass `tzinfos` argument in order to correctly return a timezone-aware datetime.  In a future version, this will raise an exception.\n",
            "  warnings.warn(\"tzname {tzname} identified but not understood.  \"\n"
          ]
        },
        {
          "name": "stdout",
          "output_type": "stream",
          "text": [
            "시작 날짜: 20220801, 종료 날짜: 20220831\n"
          ]
        },
        {
          "name": "stderr",
          "output_type": "stream",
          "text": [
            "/usr/local/lib/python3.10/dist-packages/dateutil/parser/_parser.py:1207: UnknownTimezoneWarning: tzname EDT identified but not understood.  Pass `tzinfos` argument in order to correctly return a timezone-aware datetime.  In a future version, this will raise an exception.\n",
            "  warnings.warn(\"tzname {tzname} identified but not understood.  \"\n"
          ]
        },
        {
          "name": "stdout",
          "output_type": "stream",
          "text": [
            "시작 날짜: 20220901, 종료 날짜: 20220930\n"
          ]
        },
        {
          "name": "stderr",
          "output_type": "stream",
          "text": [
            "/usr/local/lib/python3.10/dist-packages/dateutil/parser/_parser.py:1207: UnknownTimezoneWarning: tzname EDT identified but not understood.  Pass `tzinfos` argument in order to correctly return a timezone-aware datetime.  In a future version, this will raise an exception.\n",
            "  warnings.warn(\"tzname {tzname} identified but not understood.  \"\n"
          ]
        },
        {
          "name": "stdout",
          "output_type": "stream",
          "text": [
            "시작 날짜: 20221001, 종료 날짜: 20221031\n"
          ]
        },
        {
          "name": "stderr",
          "output_type": "stream",
          "text": [
            "/usr/local/lib/python3.10/dist-packages/dateutil/parser/_parser.py:1207: UnknownTimezoneWarning: tzname EDT identified but not understood.  Pass `tzinfos` argument in order to correctly return a timezone-aware datetime.  In a future version, this will raise an exception.\n",
            "  warnings.warn(\"tzname {tzname} identified but not understood.  \"\n"
          ]
        },
        {
          "name": "stdout",
          "output_type": "stream",
          "text": [
            "시작 날짜: 20221101, 종료 날짜: 20221130\n"
          ]
        },
        {
          "name": "stderr",
          "output_type": "stream",
          "text": [
            "/usr/local/lib/python3.10/dist-packages/dateutil/parser/_parser.py:1207: UnknownTimezoneWarning: tzname EST identified but not understood.  Pass `tzinfos` argument in order to correctly return a timezone-aware datetime.  In a future version, this will raise an exception.\n",
            "  warnings.warn(\"tzname {tzname} identified but not understood.  \"\n",
            "/usr/local/lib/python3.10/dist-packages/dateutil/parser/_parser.py:1207: UnknownTimezoneWarning: tzname EDT identified but not understood.  Pass `tzinfos` argument in order to correctly return a timezone-aware datetime.  In a future version, this will raise an exception.\n",
            "  warnings.warn(\"tzname {tzname} identified but not understood.  \"\n"
          ]
        },
        {
          "name": "stdout",
          "output_type": "stream",
          "text": [
            "시작 날짜: 20221201, 종료 날짜: 20221231\n"
          ]
        },
        {
          "name": "stderr",
          "output_type": "stream",
          "text": [
            "/usr/local/lib/python3.10/dist-packages/dateutil/parser/_parser.py:1207: UnknownTimezoneWarning: tzname EST identified but not understood.  Pass `tzinfos` argument in order to correctly return a timezone-aware datetime.  In a future version, this will raise an exception.\n",
            "  warnings.warn(\"tzname {tzname} identified but not understood.  \"\n"
          ]
        },
        {
          "name": "stdout",
          "output_type": "stream",
          "text": [
            "시작 날짜: 20230101, 종료 날짜: 20230131\n"
          ]
        },
        {
          "name": "stderr",
          "output_type": "stream",
          "text": [
            "/usr/local/lib/python3.10/dist-packages/dateutil/parser/_parser.py:1207: UnknownTimezoneWarning: tzname EST identified but not understood.  Pass `tzinfos` argument in order to correctly return a timezone-aware datetime.  In a future version, this will raise an exception.\n",
            "  warnings.warn(\"tzname {tzname} identified but not understood.  \"\n"
          ]
        },
        {
          "name": "stdout",
          "output_type": "stream",
          "text": [
            "시작 날짜: 20230201, 종료 날짜: 20230228\n"
          ]
        },
        {
          "name": "stderr",
          "output_type": "stream",
          "text": [
            "/usr/local/lib/python3.10/dist-packages/dateutil/parser/_parser.py:1207: UnknownTimezoneWarning: tzname EST identified but not understood.  Pass `tzinfos` argument in order to correctly return a timezone-aware datetime.  In a future version, this will raise an exception.\n",
            "  warnings.warn(\"tzname {tzname} identified but not understood.  \"\n"
          ]
        },
        {
          "name": "stdout",
          "output_type": "stream",
          "text": [
            "시작 날짜: 20230301, 종료 날짜: 20230331\n"
          ]
        },
        {
          "name": "stderr",
          "output_type": "stream",
          "text": [
            "/usr/local/lib/python3.10/dist-packages/dateutil/parser/_parser.py:1207: UnknownTimezoneWarning: tzname EDT identified but not understood.  Pass `tzinfos` argument in order to correctly return a timezone-aware datetime.  In a future version, this will raise an exception.\n",
            "  warnings.warn(\"tzname {tzname} identified but not understood.  \"\n",
            "/usr/local/lib/python3.10/dist-packages/dateutil/parser/_parser.py:1207: UnknownTimezoneWarning: tzname EST identified but not understood.  Pass `tzinfos` argument in order to correctly return a timezone-aware datetime.  In a future version, this will raise an exception.\n",
            "  warnings.warn(\"tzname {tzname} identified but not understood.  \"\n"
          ]
        }
      ],
      "source": [
        "import requests\n",
        "from bs4 import BeautifulSoup\n",
        "import pandas as pd\n",
        "from datetime import datetime\n",
        "from dateutil import parser\n",
        "\n",
        "def get_foxnews_data(start_date, end_date, keyword):\n",
        "    url_template = 'https://api.foxnews.com/search/web?q={}+-filetype:amp+-filetype:xml+more:pagemap:metatags-prism.section+more:pagemap:metatags-pagetype:article+more:pagemap:metatags-dc.type:Text.Article&siteSearch=foxnews.com&siteSearchFilter=i&sort=date:r:{}:{}&start={}'\n",
        "\n",
        "    start = 1\n",
        "    result_list = []\n",
        "\n",
        "    while True:\n",
        "        url = url_template.format(keyword, start_date.strftime('%Y%m%d'), end_date.strftime('%Y%m%d'), start)\n",
        "        # print(url)\n",
        "\n",
        "        response = requests.get(url)\n",
        "\n",
        "        if response.status_code == 200:\n",
        "            data = response.json()\n",
        "            items = data.get('items', [])\n",
        "\n",
        "            if not items:\n",
        "                break\n",
        "\n",
        "            for result in items:\n",
        "                title = result.get(\"title\", \"N/A\")\n",
        "                date_str = result.get('snippet', \"N/A\")\n",
        "                # 'May 2, 2023' 형식의 문자열에서 실제 날짜 부분 추출\n",
        "                date_str = date_str.split('...')[0].strip()\n",
        "                # 추출된 날짜 문자열을 파싱하여 '2023-05-02' 형식으로 변환\n",
        "                if ',' in date_str:\n",
        "                    try:\n",
        "                        date_parsed = datetime.strptime(date_str, '%b %d, %Y')\n",
        "                    except ValueError:\n",
        "                        # 다른 형식 시도\n",
        "                        date_parsed = datetime.strptime(date_str, '%B %d, %Y')\n",
        "\n",
        "                    formatted_date = date_parsed.strftime('%Y-%m-%d')\n",
        "                else:\n",
        "                    formatted_date = date_str\n",
        "                # formatted_date = date_parsed.strftime('%Y-%m-%d')\n",
        "                description = result[\"pagemap\"][\"metatags\"][0].get(\"og:description\", \"N/A\")\n",
        "                link = result.get(\"link\", \"N/A\")\n",
        "\n",
        "                result_dict = {\n",
        "                    \"Title\": title,\n",
        "                    \"Date\": formatted_date,\n",
        "                    \"Description\": description,\n",
        "                    \"URL\": link\n",
        "                }\n",
        "                result_list.append(result_dict)\n",
        "\n",
        "            start += 10\n",
        "            # print(date)\n",
        "        else:\n",
        "            print(f\"에러: {response.status_code}\")\n",
        "            print(f\"에러 메시지: {response.text}\")\n",
        "            break\n",
        "\n",
        "    return result_list\n",
        "\n",
        "def get_article_content(article_url):\n",
        "    response = requests.get(article_url)\n",
        "\n",
        "    if response.status_code == 200:\n",
        "        html = response.text\n",
        "        soup = BeautifulSoup(html, 'html.parser')\n",
        "\n",
        "        title = soup.find('h1', class_='headline')\n",
        "        if title:\n",
        "            title_text = title.text.strip()\n",
        "\n",
        "        date_span = soup.find('span', class_='article-date')\n",
        "        if date_span:\n",
        "            time_tag = date_span.find('time')\n",
        "\n",
        "            if time_tag:\n",
        "                time_text = time_tag.text.strip()\n",
        "                published_datetime = parser.parse(time_text)\n",
        "                formatted_date = published_datetime.strftime('%Y-%m-%d')\n",
        "\n",
        "        article_content = soup.find('div', class_='article-body')\n",
        "        if article_content:\n",
        "            paragraphs = article_content.find_all('p')\n",
        "            article_text = \"\\n\".join(paragraph.get_text() for paragraph in paragraphs)\n",
        "        else:\n",
        "            article_text = \"기사 내용을 찾을 수 없습니다.\"\n",
        "\n",
        "        return {\n",
        "            \"Title\": title_text,\n",
        "            \"Date\": formatted_date,\n",
        "            \"Contents\": article_text\n",
        "        }\n",
        "    else:\n",
        "        return None\n",
        "\n",
        "\n",
        "start_date = '2002-01-01'\n",
        "end_date = '2023-03-31'\n",
        "keyword = 'interest rate'\n",
        "\n",
        "# '2012-01-01'부터 현재까지 한 달씩 빈도로 날짜 범위 생성\n",
        "date_range = pd.date_range(start=start_date, end=end_date, freq='MS')\n",
        "article_content_list = []\n",
        "\n",
        "for date in date_range:\n",
        "    start_date = date\n",
        "    end_date = date + pd.DateOffset(months=1) - pd.DateOffset(days=1)\n",
        "    # print(start_date)\n",
        "    print(f\"시작 날짜: {start_date.strftime('%Y%m%d')}, 종료 날짜: {end_date.strftime('%Y%m%d')}\")\n",
        "\n",
        "    # 현재 날짜 범위로 get_foxnews_data 함수 호출\n",
        "    result_list = get_foxnews_data(start_date, end_date, keyword)\n",
        "\n",
        "    # result_list를 데이터프레임으로 변환\n",
        "    df = pd.DataFrame(result_list)\n",
        "\n",
        "    # 각 기사의 내용을 출력\n",
        "    for idx, row in df.iterrows():\n",
        "        # print(f\"\\n[Article {idx + 1}]\")\n",
        "        article_url = row[\"URL\"]\n",
        "        if article_url:\n",
        "            article_content = get_article_content(article_url)\n",
        "            if article_content:\n",
        "                article_content_list.append(get_article_content(article_url))\n",
        "                # print(\"Title:\", article_content[\"Title\"])\n",
        "                # print(\"Date:\", article_content[\"Date\"])\n",
        "                # print(\"Contents:\", article_content[\"Contents\"])\n",
        "\n",
        "start_date_str = start_date.strftime('%Y-%m-%d')\n",
        "end_date_str = end_date.strftime('%Y-%m-%d')\n",
        "\n",
        "Fox_df = pd.DataFrame(article_content_list)\n",
        "Fox_df.sort_values(by = 'Date', inplace = True)\n",
        "Fox_df.to_csv(f'/content/drive/MyDrive/Colab Notebooks/unclock-watchers/data/foxnews_data_{start_date_str}_{end_date_str}:{keyword}.csv', index=False, encoding='utf-8-sig')"
      ]
    }
  ],
  "metadata": {
    "colab": {
      "collapsed_sections": [
        "Mr6d8NKTDSUB",
        "Qq8jAYiIDY8S",
        "a2FinsZlDhho",
        "rLbqUrPoDuOB",
        "KjsdhlaCB4PR",
        "GVGERexli2K8",
        "eX5WiTIjpIFw",
        "3NGXSHIci5-4",
        "xZkG5zFzjAf-",
        "TheAbzRMjCib",
        "izuk8NT_oJZz",
        "3U1aDLYE2-nH"
      ],
      "provenance": [],
      "toc_visible": true
    },
    "kernelspec": {
      "display_name": "Python 3",
      "name": "python3"
    },
    "language_info": {
      "name": "python"
    }
  },
  "nbformat": 4,
  "nbformat_minor": 0
}
